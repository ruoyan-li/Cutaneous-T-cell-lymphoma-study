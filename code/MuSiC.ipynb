{
 "cells": [
  {
   "cell_type": "code",
   "execution_count": 1,
   "id": "moving-scanning",
   "metadata": {},
   "outputs": [
    {
     "name": "stderr",
     "output_type": "stream",
     "text": [
      "Warning message in system(\"timedatectl\", intern = TRUE):\n",
      "“running command 'timedatectl' had status 1”\n",
      "── \u001b[1mAttaching packages\u001b[22m ─────────────────────────────────────── tidyverse 1.3.0 ──\n",
      "\n",
      "\u001b[32m✔\u001b[39m \u001b[34mggplot2\u001b[39m 3.3.3     \u001b[32m✔\u001b[39m \u001b[34mpurrr  \u001b[39m 0.3.4\n",
      "\u001b[32m✔\u001b[39m \u001b[34mtibble \u001b[39m 3.1.0     \u001b[32m✔\u001b[39m \u001b[34mdplyr  \u001b[39m 1.0.5\n",
      "\u001b[32m✔\u001b[39m \u001b[34mtidyr  \u001b[39m 1.1.3     \u001b[32m✔\u001b[39m \u001b[34mstringr\u001b[39m 1.4.0\n",
      "\u001b[32m✔\u001b[39m \u001b[34mreadr  \u001b[39m 1.4.0     \u001b[32m✔\u001b[39m \u001b[34mforcats\u001b[39m 0.5.1\n",
      "\n",
      "── \u001b[1mConflicts\u001b[22m ────────────────────────────────────────── tidyverse_conflicts() ──\n",
      "\u001b[31m✖\u001b[39m \u001b[34mdplyr\u001b[39m::\u001b[32mfilter()\u001b[39m masks \u001b[34mstats\u001b[39m::filter()\n",
      "\u001b[31m✖\u001b[39m \u001b[34mdplyr\u001b[39m::\u001b[32mlag()\u001b[39m    masks \u001b[34mstats\u001b[39m::lag()\n",
      "\n",
      "Loading required package: SummarizedExperiment\n",
      "\n",
      "Loading required package: MatrixGenerics\n",
      "\n",
      "Loading required package: matrixStats\n",
      "\n",
      "\n",
      "Attaching package: ‘matrixStats’\n",
      "\n",
      "\n",
      "The following object is masked from ‘package:dplyr’:\n",
      "\n",
      "    count\n",
      "\n",
      "\n",
      "\n",
      "Attaching package: ‘MatrixGenerics’\n",
      "\n",
      "\n",
      "The following objects are masked from ‘package:matrixStats’:\n",
      "\n",
      "    colAlls, colAnyNAs, colAnys, colAvgsPerRowSet, colCollapse,\n",
      "    colCounts, colCummaxs, colCummins, colCumprods, colCumsums,\n",
      "    colDiffs, colIQRDiffs, colIQRs, colLogSumExps, colMadDiffs,\n",
      "    colMads, colMaxs, colMeans2, colMedians, colMins, colOrderStats,\n",
      "    colProds, colQuantiles, colRanges, colRanks, colSdDiffs, colSds,\n",
      "    colSums2, colTabulates, colVarDiffs, colVars, colWeightedMads,\n",
      "    colWeightedMeans, colWeightedMedians, colWeightedSds,\n",
      "    colWeightedVars, rowAlls, rowAnyNAs, rowAnys, rowAvgsPerColSet,\n",
      "    rowCollapse, rowCounts, rowCummaxs, rowCummins, rowCumprods,\n",
      "    rowCumsums, rowDiffs, rowIQRDiffs, rowIQRs, rowLogSumExps,\n",
      "    rowMadDiffs, rowMads, rowMaxs, rowMeans2, rowMedians, rowMins,\n",
      "    rowOrderStats, rowProds, rowQuantiles, rowRanges, rowRanks,\n",
      "    rowSdDiffs, rowSds, rowSums2, rowTabulates, rowVarDiffs, rowVars,\n",
      "    rowWeightedMads, rowWeightedMeans, rowWeightedMedians,\n",
      "    rowWeightedSds, rowWeightedVars\n",
      "\n",
      "\n",
      "Loading required package: GenomicRanges\n",
      "\n",
      "Loading required package: stats4\n",
      "\n",
      "Loading required package: BiocGenerics\n",
      "\n",
      "Loading required package: parallel\n",
      "\n",
      "\n",
      "Attaching package: ‘BiocGenerics’\n",
      "\n",
      "\n",
      "The following objects are masked from ‘package:parallel’:\n",
      "\n",
      "    clusterApply, clusterApplyLB, clusterCall, clusterEvalQ,\n",
      "    clusterExport, clusterMap, parApply, parCapply, parLapply,\n",
      "    parLapplyLB, parRapply, parSapply, parSapplyLB\n",
      "\n",
      "\n",
      "The following objects are masked from ‘package:dplyr’:\n",
      "\n",
      "    combine, intersect, setdiff, union\n",
      "\n",
      "\n",
      "The following objects are masked from ‘package:stats’:\n",
      "\n",
      "    IQR, mad, sd, var, xtabs\n",
      "\n",
      "\n",
      "The following objects are masked from ‘package:base’:\n",
      "\n",
      "    anyDuplicated, append, as.data.frame, basename, cbind, colnames,\n",
      "    dirname, do.call, duplicated, eval, evalq, Filter, Find, get, grep,\n",
      "    grepl, intersect, is.unsorted, lapply, Map, mapply, match, mget,\n",
      "    order, paste, pmax, pmax.int, pmin, pmin.int, Position, rank,\n",
      "    rbind, Reduce, rownames, sapply, setdiff, sort, table, tapply,\n",
      "    union, unique, unsplit, which.max, which.min\n",
      "\n",
      "\n",
      "Loading required package: S4Vectors\n",
      "\n",
      "\n",
      "Attaching package: ‘S4Vectors’\n",
      "\n",
      "\n",
      "The following objects are masked from ‘package:dplyr’:\n",
      "\n",
      "    first, rename\n",
      "\n",
      "\n",
      "The following object is masked from ‘package:tidyr’:\n",
      "\n",
      "    expand\n",
      "\n",
      "\n",
      "The following object is masked from ‘package:base’:\n",
      "\n",
      "    expand.grid\n",
      "\n",
      "\n",
      "Loading required package: IRanges\n",
      "\n",
      "\n",
      "Attaching package: ‘IRanges’\n",
      "\n",
      "\n",
      "The following objects are masked from ‘package:dplyr’:\n",
      "\n",
      "    collapse, desc, slice\n",
      "\n",
      "\n",
      "The following object is masked from ‘package:purrr’:\n",
      "\n",
      "    reduce\n",
      "\n",
      "\n",
      "Loading required package: GenomeInfoDb\n",
      "\n",
      "Loading required package: Biobase\n",
      "\n",
      "Welcome to Bioconductor\n",
      "\n",
      "    Vignettes contain introductory material; view with\n",
      "    'browseVignettes()'. To cite Bioconductor, see\n",
      "    'citation(\"Biobase\")', and for packages 'citation(\"pkgname\")'.\n",
      "\n",
      "\n",
      "\n",
      "Attaching package: ‘Biobase’\n",
      "\n",
      "\n",
      "The following object is masked from ‘package:MatrixGenerics’:\n",
      "\n",
      "    rowMedians\n",
      "\n",
      "\n",
      "The following objects are masked from ‘package:matrixStats’:\n",
      "\n",
      "    anyMissing, rowMedians\n",
      "\n",
      "\n",
      "Loading required package: nnls\n",
      "\n",
      "Warning message in .recacheSubclasses(def@className, def, env):\n",
      "“undefined subclass \"numericVector\" of class \"Mnumeric\"; definition not updated”\n",
      "Registered S3 method overwritten by 'spatstat':\n",
      "  method     from\n",
      "  print.boxx cli \n",
      "\n",
      "Attaching SeuratObject\n",
      "\n",
      "\n",
      "Attaching package: ‘Seurat’\n",
      "\n",
      "\n",
      "The following object is masked from ‘package:SummarizedExperiment’:\n",
      "\n",
      "    Assays\n",
      "\n",
      "\n"
     ]
    }
   ],
   "source": [
    "library(tidyverse)\n",
    "library(ggbeeswarm)\n",
    "library(ggpubr)\n",
    "library(SingleCellExperiment)\n",
    "#library(xbioc)\n",
    "library(MuSiC)\n",
    "library(Seurat)"
   ]
  },
  {
   "cell_type": "code",
   "execution_count": 19,
   "id": "brutal-frontier",
   "metadata": {},
   "outputs": [
    {
     "data": {
      "text/plain": [
       "ExpressionSet (storageMode: lockedEnvironment)\n",
       "assayData: 27457 features, 55814 samples \n",
       "  element names: exprs \n",
       "protocolData: none\n",
       "phenoData\n",
       "  sampleNames: AAACCTGCATGTAAGA-1 AAACGGGAGTTTAGGA-1 ...\n",
       "    TTTGTCATCACGCGGT-1-40 (55814 total)\n",
       "  varLabels: donor_id broad_cell_type anno\n",
       "  varMetadata: labelDescription\n",
       "featureData: none\n",
       "experimentData: use 'experimentData(object)'\n",
       "Annotation:  "
      ]
     },
     "metadata": {},
     "output_type": "display_data"
    }
   ],
   "source": [
    "SC.eset <- readRDS('/lustre/scratch117/cellgen/team205/rl20/CTCL/object-new/CTCL1-8_ExpressionSet_for_deconv.rds')\n",
    "SC.eset"
   ]
  },
  {
   "cell_type": "code",
   "execution_count": 20,
   "id": "labeled-welcome",
   "metadata": {},
   "outputs": [
    {
     "data": {
      "text/plain": [
       "\n",
       "       APC   B/plasma      Fibro         KC     L-Endo       Mast Melanocyte \n",
       "      6652       1218       4709       7563        425        422       1188 \n",
       "  Pericyte     T-cell     V-Endo \n",
       "      1840      28489       3308 "
      ]
     },
     "metadata": {},
     "output_type": "display_data"
    }
   ],
   "source": [
    "table(phenoData(SC.eset)$broad_cell_type)\n",
    "#T-cell includes T, ILC and NK"
   ]
  },
  {
   "cell_type": "code",
   "execution_count": 21,
   "id": "planned-frontier",
   "metadata": {},
   "outputs": [
    {
     "data": {
      "text/plain": [
       "ExpressionSet (storageMode: lockedEnvironment)\n",
       "assayData: 33216 features, 49 samples \n",
       "  element names: exprs \n",
       "protocolData: none\n",
       "phenoData\n",
       "  sampleNames: B266 B355 ... N69 (49 total)\n",
       "  varLabels: condition\n",
       "  varMetadata: labelDescription\n",
       "featureData\n",
       "  featureNames: METTL25 LINC01742 ... INVS (33216 total)\n",
       "  fvarLabels: gene_name\n",
       "  fvarMetadata: labelDescription\n",
       "experimentData: use 'experimentData(object)'\n",
       "Annotation:  "
      ]
     },
     "metadata": {},
     "output_type": "display_data"
    }
   ],
   "source": [
    "#Bulk.eset <- readRDS('/lustre/scratch117/cellgen/team205/rl20/CTCL/deconvolution/GSE121212_readcount_ExpressionSet.rds') ## healthy skin, AD and psoriasis\n",
    "Bulk.eset <- readRDS('/home/jovyan/farm/CTCL/deconvolution/CTCL-PKU_ExpressionSet.rds')\n",
    "Bulk.eset"
   ]
  },
  {
   "cell_type": "code",
   "execution_count": 22,
   "id": "micro-manitoba",
   "metadata": {},
   "outputs": [
    {
     "name": "stderr",
     "output_type": "stream",
     "text": [
      "Creating Relative Abundance Matrix...\n",
      "\n",
      "Creating Variance Matrix...\n",
      "\n",
      "Creating Library Size Matrix...\n",
      "\n"
     ]
    }
   ],
   "source": [
    "SC.basis <- music_basis(SC.eset, clusters = 'broad_cell_type', samples = 'donor_id')"
   ]
  },
  {
   "cell_type": "code",
   "execution_count": 23,
   "id": "oriental-supervisor",
   "metadata": {},
   "outputs": [
    {
     "data": {
      "image/png": "[encoded data removed]",
      "text/plain": [
       "Plot with title “Cluster log(Mean of RA)”"
      ]
     },
     "metadata": {
      "image/png": {
       "height": 420,
       "width": 420
      }
     },
     "output_type": "display_data"
    }
   ],
   "source": [
    "par(mfrow = c(1, 2))\n",
    "d <- dist(t(log(SC.basis$Disgn.mtx + 1e-6)), method = \"euclidean\")\n",
    "# Hierarchical clustering using Complete Linkage\n",
    "hc1 <- hclust(d, method = \"complete\" )\n",
    "# Plot the obtained dendrogram\n",
    "plot(hc1, cex = 0.6, hang = -1, main = 'Cluster log(Design Matrix)')\n",
    "d <- dist(t(log(SC.basis$M.theta + 1e-8)), method = \"euclidean\")\n",
    "# Hierarchical clustering using Complete Linkage\n",
    "# hc2 <- hclust(d, method = \"complete\" )\n",
    "hc2 <- hclust(d, method = \"complete\")\n",
    "# Plot the obtained dendrogram\n",
    "plot(hc2, cex = 0.6, hang = -1, main = 'Cluster log(Mean of RA)')"
   ]
  },
  {
   "cell_type": "code",
   "execution_count": 24,
   "id": "restricted-southeast",
   "metadata": {},
   "outputs": [
    {
     "data": {
      "text/html": [
       "<style>\n",
       ".dl-inline {width: auto; margin:0; padding: 0}\n",
       ".dl-inline>dt, .dl-inline>dd {float: none; width: auto; display: inline-block}\n",
       ".dl-inline>dt::after {content: \":\\0020\"; padding-right: .5ex}\n",
       ".dl-inline>dt:not(:first-of-type) {padding-left: .5ex}\n",
       "</style><dl class=dl-inline><dt>C11</dt><dd>'B/plasma'</dd><dt>C12</dt><dd>'Mast'</dd><dt>C13</dt><dd>'T-cell'</dd><dt>C14</dt><dd>'APC'</dd><dt>C21</dt><dd>'KC'</dd><dt>C22</dt><dd>'L-Endo'</dd><dt>C23</dt><dd>'V-Endo'</dd><dt>C24</dt><dd>'Fibro'</dd><dt>C25</dt><dd>'Pericyte'</dd><dt>C26</dt><dd>'Melanocyte'</dd></dl>\n"
      ],
      "text/latex": [
       "\\begin{description*}\n",
       "\\item[C11] 'B/plasma'\n",
       "\\item[C12] 'Mast'\n",
       "\\item[C13] 'T-cell'\n",
       "\\item[C14] 'APC'\n",
       "\\item[C21] 'KC'\n",
       "\\item[C22] 'L-Endo'\n",
       "\\item[C23] 'V-Endo'\n",
       "\\item[C24] 'Fibro'\n",
       "\\item[C25] 'Pericyte'\n",
       "\\item[C26] 'Melanocyte'\n",
       "\\end{description*}\n"
      ],
      "text/markdown": [
       "C11\n",
       ":   'B/plasma'C12\n",
       ":   'Mast'C13\n",
       ":   'T-cell'C14\n",
       ":   'APC'C21\n",
       ":   'KC'C22\n",
       ":   'L-Endo'C23\n",
       ":   'V-Endo'C24\n",
       ":   'Fibro'C25\n",
       ":   'Pericyte'C26\n",
       ":   'Melanocyte'\n",
       "\n"
      ],
      "text/plain": [
       "         C11          C12          C13          C14          C21          C22 \n",
       "  \"B/plasma\"       \"Mast\"     \"T-cell\"        \"APC\"         \"KC\"     \"L-Endo\" \n",
       "         C23          C24          C25          C26 \n",
       "    \"V-Endo\"      \"Fibro\"   \"Pericyte\" \"Melanocyte\" "
      ]
     },
     "metadata": {},
     "output_type": "display_data"
    }
   ],
   "source": [
    "clusters.type = list(C1 = c('B/plasma', 'Mast', 'T-cell', 'APC'), \n",
    "                     C2 = c('KC', 'L-Endo', 'V-Endo','Fibro','Pericyte','Melanocyte'))\n",
    "\n",
    "#clusters.type = list(C1 = c('Treg','T-cell'), \n",
    "#                     C2 = c('APC', 'B/plasma','Mast'),\n",
    "#                     C3 = c('KC', 'L-Endo', 'V-Endo','Fibro','Pericyte','Melanocyte'))\n",
    "\n",
    "cl.type = as.character(SC.eset$broad_cell_type)\n",
    "\n",
    "\n",
    "for(cl in 1:length(clusters.type)){\n",
    "  cl.type[cl.type %in% clusters.type[[cl]]] = names(clusters.type)[cl]\n",
    "}\n",
    "pData(SC.eset)$clusterType = factor(cl.type, levels = c(names(clusters.type)))\n",
    "\n",
    "# 13 selected cell types\n",
    "s.SC <- unlist(clusters.type)\n",
    "s.SC"
   ]
  },
  {
   "cell_type": "code",
   "execution_count": 25,
   "id": "separate-mileage",
   "metadata": {},
   "outputs": [
    {
     "data": {
      "text/plain": [
       "An object of class Seurat \n",
       "33538 features across 55815 samples within 1 assay \n",
       "Active assay: RNA (33538 features, 0 variable features)"
      ]
     },
     "metadata": {},
     "output_type": "display_data"
    }
   ],
   "source": [
    "seurat_object <- readRDS(\"/lustre/scratch117/cellgen/team205/rl20/CTCL/object-new/CTCL1-8_raw_downsample0.2_anno_for_deconv.rds\")\n",
    "seurat_object"
   ]
  },
  {
   "cell_type": "code",
   "execution_count": 26,
   "id": "nutritional-breach",
   "metadata": {},
   "outputs": [],
   "source": [
    "seurat_object <- NormalizeData(seurat_object, normalization.method = \"LogNormalize\", scale.factor = 10000)"
   ]
  },
  {
   "cell_type": "code",
   "execution_count": 27,
   "id": "explicit-edward",
   "metadata": {},
   "outputs": [
    {
     "data": {
      "text/html": [
       "<style>\n",
       ".list-inline {list-style: none; margin:0; padding: 0}\n",
       ".list-inline>li {display: inline-block}\n",
       ".list-inline>li:not(:last-child)::after {content: \"\\00b7\"; padding: 0 .5ex}\n",
       "</style>\n",
       "<ol class=list-inline><li>'C1'</li><li>'C2'</li></ol>\n"
      ],
      "text/latex": [
       "\\begin{enumerate*}\n",
       "\\item 'C1'\n",
       "\\item 'C2'\n",
       "\\end{enumerate*}\n"
      ],
      "text/markdown": [
       "1. 'C1'\n",
       "2. 'C2'\n",
       "\n",
       "\n"
      ],
      "text/plain": [
       "[1] \"C1\" \"C2\""
      ]
     },
     "metadata": {},
     "output_type": "display_data"
    }
   ],
   "source": [
    "names(clusters.type)"
   ]
  },
  {
   "cell_type": "code",
   "execution_count": 18,
   "id": "tested-hotel",
   "metadata": {},
   "outputs": [
    {
     "name": "stderr",
     "output_type": "stream",
     "text": [
      "Calculating cluster APC\n",
      "\n",
      "Calculating cluster T-cell\n",
      "\n",
      "Calculating cluster B/plasma\n",
      "\n",
      "Calculating cluster Mast\n",
      "\n",
      "Calculating cluster KC\n",
      "\n",
      "Calculating cluster Fibro\n",
      "\n",
      "Calculating cluster Melanocyte\n",
      "\n",
      "Calculating cluster V-Endo\n",
      "\n",
      "Calculating cluster L-Endo\n",
      "\n",
      "Calculating cluster Pericyte\n",
      "\n"
     ]
    }
   ],
   "source": [
    "Idents(seurat_object) <- 'broad_cell_type'\n",
    "\n",
    "temp <- subset(seurat_object, id = clusters.type$C1)\n",
    "C1_genes <- FindAllMarkers(temp, only.pos = TRUE, min.pct = 0.25, logfc.threshold = 0.25, min.diff.pct = 0.25)\n",
    "temp <- subset(seurat_object, id = clusters.type$C2)\n",
    "C2_genes <- FindAllMarkers(temp, only.pos = TRUE, min.pct = 0.25, logfc.threshold = 0.25, min.diff.pct = 0.25)\n",
    "#temp <- subset(seurat_object, id = clusters.type$C3)\n",
    "#C3_genes <- FindAllMarkers(temp, only.pos = TRUE, min.pct = 0.25, logfc.threshold = 0.25, min.diff.pct = 0.25)\n",
    "#temp <- subset(seurat_object, id = clusters.type$C4)\n",
    "#C4_genes <- FindAllMarkers(temp, only.pos = TRUE, min.pct = 0.25, logfc.threshold = 0.25, min.diff.pct = 0.25)\n"
   ]
  },
  {
   "cell_type": "code",
   "execution_count": 19,
   "id": "immune-favor",
   "metadata": {},
   "outputs": [],
   "source": [
    "#diff_genes<-list((C1_genes %>% group_by(cluster) %>% slice_max(order_by = avg_log2FC, n = 20))$gene,\n",
    "#                 (C2_genes %>% group_by(cluster) %>% slice_max(order_by = avg_log2FC, n = 20))$gene,\n",
    "#                 (C3_genes %>% group_by(cluster) %>% slice_max(order_by = avg_log2FC, n = 20))$gene,\n",
    "#                 (C4_genes %>% group_by(cluster) %>% slice_max(order_by = avg_log2FC, n = 20))$gene)\n",
    "diff_genes <- list((C1_genes %>% group_by(cluster) %>% slice_max(order_by = avg_log2FC, n = 20))$gene,\n",
    "                   (C2_genes %>% group_by(cluster) %>% slice_max(order_by = avg_log2FC, n = 20))$gene)\n",
    "names(diff_genes)<-c('C1', 'C2')"
   ]
  },
  {
   "cell_type": "code",
   "execution_count": 20,
   "id": "golden-saskatchewan",
   "metadata": {},
   "outputs": [],
   "source": [
    "saveRDS(diff_genes, file = \"/home/jovyan/farm/CTCL/deconvolution_new/deconv_DEGs_donw0.2.rds\")"
   ]
  },
  {
   "cell_type": "code",
   "execution_count": 28,
   "id": "continental-legislature",
   "metadata": {},
   "outputs": [
    {
     "data": {
      "text/html": [
       "<dl>\n",
       "\t<dt>$C1</dt>\n",
       "\t\t<dd><style>\n",
       ".list-inline {list-style: none; margin:0; padding: 0}\n",
       ".list-inline>li {display: inline-block}\n",
       ".list-inline>li:not(:last-child)::after {content: \"\\00b7\"; padding: 0 .5ex}\n",
       "</style>\n",
       "<ol class=list-inline><li>'CCL22'</li><li>'CST3'</li><li>'HLA-DRA'</li><li>'TXN'</li><li>'CXCL8'</li><li>'HLA-DPB1'</li><li>'HLA-DPA1'</li><li>'HLA-DRB1'</li><li>'C15orf48'</li><li>'TYROBP'</li><li>'IDO1'</li><li>'HLA-DRB5'</li><li>'HLA-DQA1'</li><li>'LYZ'</li><li>'CCL17'</li><li>'G0S2'</li><li>'HLA-DQB1'</li><li>'SAT1'</li><li>'CD83'</li><li>'TIMP1'</li><li>'IL32'</li><li>'CD7'</li><li>'ZFP36L2'</li><li>'CD3E'</li><li>'PTPRC'</li><li>'IFITM1'</li><li>'TRBC2'</li><li>'LEPROTL1'</li><li>'BATF'</li><li>'EML4'</li><li>'CD3D'</li><li>'SPOCK2'</li><li>'FYN'</li><li>'CD2'</li><li>'LCK'</li><li>'CD247'</li><li>'FYB1'</li><li>'ARHGDIB'</li><li>'IL7R'</li><li>'TSC22D3'</li><li>'IGLV3-21'</li><li>'IGKC'</li><li>'IGKV3-20'</li><li>'IGHG1'</li><li>'IGHG4'</li><li>'IGLC2'</li><li>'IGLV3-1'</li><li>'IGHG2'</li><li>'IGHA1'</li><li>'IGHG3'</li><li>'IGLC3'</li><li>'IGLL5'</li><li>'MZB1'</li><li>'CD79A'</li><li>'JCHAIN'</li><li>'MS4A1'</li><li>'DERL3'</li><li>'GNG7'</li><li>'PRDX4'</li><li>'MEF2C'</li><li>'TPSAB1'</li><li>'TPSB2'</li><li>'HPGD'</li><li>'CPA3'</li><li>'GLUL'</li><li>'HPGDS'</li><li>'KIT'</li><li>'IL1RL1'</li><li>'FCER1G'</li><li>'CST3'</li><li>'ATP6V1G1'</li><li>'COX7A2'</li><li>'NDUFA4'</li><li>'UQCRH'</li><li>'DAZAP2'</li><li>'SEPT7'</li><li>'ELOB'</li><li>'COX8A'</li><li>'EIF3K'</li><li>'TMEM50A'</li></ol>\n",
       "</dd>\n",
       "\t<dt>$C2</dt>\n",
       "\t\t<dd><style>\n",
       ".list-inline {list-style: none; margin:0; padding: 0}\n",
       ".list-inline>li {display: inline-block}\n",
       ".list-inline>li:not(:last-child)::after {content: \"\\00b7\"; padding: 0 .5ex}\n",
       "</style>\n",
       "<ol class=list-inline><li>'S100A2'</li><li>'KRT14'</li><li>'S100A8'</li><li>'KRT17'</li><li>'KRT16'</li><li>'SFN'</li><li>'KRT6A'</li><li>'KRT5'</li><li>'S100A9'</li><li>'SBSN'</li><li>'KRTDAP'</li><li>'S100A14'</li><li>'S100A7'</li><li>'LGALS7B'</li><li>'PERP'</li><li>'TACSTD2'</li><li>'DMKN'</li><li>'KRT6B'</li><li>'LY6D'</li><li>'LGALS7'</li><li>'CFD'</li><li>'DCN'</li><li>'TNFAIP6'</li><li>'CCL19'</li><li>'CXCL14'</li><li>'COL1A1'</li><li>'LUM'</li><li>'G0S2'</li><li>'APOD'</li><li>'COL3A1'</li><li>'COL1A2'</li><li>'SFRP2'</li><li>'C1S'</li><li>'COL6A2'</li><li>'MMP2'</li><li>'CLU'</li><li>'CCDC80'</li><li>'C3'</li><li>'MFAP4'</li><li>'SERPINF1'</li><li>'PMEL'</li><li>'TYRP1'</li><li>'DCT'</li><li>'MLANA'</li><li>'NOV'</li><li>'QPCT'</li><li>'CYB561A3'</li><li>'TYR'</li><li>'FRZB'</li><li>'CAPN3'</li><li>'CDC42EP3'</li><li>'TRPM1'</li><li>'KIT'</li><li>'PLP1'</li><li>'MFSD12'</li><li>'GPR143'</li><li>'C4orf48'</li><li>'MITF'</li><li>'OSTM1'</li><li>'RAB32'</li><li>'TM4SF1'</li><li>'SERPINE1'</li><li>'PLVAP'</li><li>'DEPP1'</li><li>'SPARCL1'</li><li>'RCAN1'</li><li>'PECAM1'</li><li>'CLDN5'</li><li>'SELE'</li><li>'ENG'</li><li>'HMOX1'</li><li>'PRSS23'</li><li>'CALCRL'</li><li>'ESAM'</li><li>'GNG11'</li><li>'TSC22D1'</li><li>'PNP'</li><li>'ADGRL4'</li><li>'EGFL7'</li><li>'EMCN'</li><li>'CCL21'</li><li>'TFF3'</li><li>'FABP4'</li><li>'MMRN1'</li><li>'ANGPT2'</li><li>'CCL2'</li><li>'TFPI'</li><li>'PPFIBP1'</li><li>'C2CD4B'</li><li>'CLDN5'</li><li>'RAMP2'</li><li>'LAPTM5'</li><li>'CD200'</li><li>'LYVE1'</li><li>'GNG11'</li><li>'PDPN'</li><li>'EGFL7'</li><li>'SNCG'</li><li>'CAVIN2'</li><li>'PLA1A'</li><li>'RGS5'</li><li>'TAGLN'</li><li>'ACTA2'</li><li>'TPM2'</li><li>'MYL9'</li><li>'NDUFA4L2'</li><li>'CPE'</li><li>'ADIRF'</li><li>'GJA4'</li><li>'TFPI'</li><li>'CALD1'</li><li>'MGP'</li><li>'KCNE4'</li><li>'ADAMTS1'</li><li>'NR2F2'</li><li>'MYH11'</li><li>'ADAMTS4'</li><li>'MFGE8'</li><li>'C11orf96'</li><li>'MCAM'</li></ol>\n",
       "</dd>\n",
       "</dl>\n"
      ],
      "text/latex": [
       "\\begin{description}\n",
       "\\item[\\$C1] \\begin{enumerate*}\n",
       "\\item 'CCL22'\n",
       "\\item 'CST3'\n",
       "\\item 'HLA-DRA'\n",
       "\\item 'TXN'\n",
       "\\item 'CXCL8'\n",
       "\\item 'HLA-DPB1'\n",
       "\\item 'HLA-DPA1'\n",
       "\\item 'HLA-DRB1'\n",
       "\\item 'C15orf48'\n",
       "\\item 'TYROBP'\n",
       "\\item 'IDO1'\n",
       "\\item 'HLA-DRB5'\n",
       "\\item 'HLA-DQA1'\n",
       "\\item 'LYZ'\n",
       "\\item 'CCL17'\n",
       "\\item 'G0S2'\n",
       "\\item 'HLA-DQB1'\n",
       "\\item 'SAT1'\n",
       "\\item 'CD83'\n",
       "\\item 'TIMP1'\n",
       "\\item 'IL32'\n",
       "\\item 'CD7'\n",
       "\\item 'ZFP36L2'\n",
       "\\item 'CD3E'\n",
       "\\item 'PTPRC'\n",
       "\\item 'IFITM1'\n",
       "\\item 'TRBC2'\n",
       "\\item 'LEPROTL1'\n",
       "\\item 'BATF'\n",
       "\\item 'EML4'\n",
       "\\item 'CD3D'\n",
       "\\item 'SPOCK2'\n",
       "\\item 'FYN'\n",
       "\\item 'CD2'\n",
       "\\item 'LCK'\n",
       "\\item 'CD247'\n",
       "\\item 'FYB1'\n",
       "\\item 'ARHGDIB'\n",
       "\\item 'IL7R'\n",
       "\\item 'TSC22D3'\n",
       "\\item 'IGLV3-21'\n",
       "\\item 'IGKC'\n",
       "\\item 'IGKV3-20'\n",
       "\\item 'IGHG1'\n",
       "\\item 'IGHG4'\n",
       "\\item 'IGLC2'\n",
       "\\item 'IGLV3-1'\n",
       "\\item 'IGHG2'\n",
       "\\item 'IGHA1'\n",
       "\\item 'IGHG3'\n",
       "\\item 'IGLC3'\n",
       "\\item 'IGLL5'\n",
       "\\item 'MZB1'\n",
       "\\item 'CD79A'\n",
       "\\item 'JCHAIN'\n",
       "\\item 'MS4A1'\n",
       "\\item 'DERL3'\n",
       "\\item 'GNG7'\n",
       "\\item 'PRDX4'\n",
       "\\item 'MEF2C'\n",
       "\\item 'TPSAB1'\n",
       "\\item 'TPSB2'\n",
       "\\item 'HPGD'\n",
       "\\item 'CPA3'\n",
       "\\item 'GLUL'\n",
       "\\item 'HPGDS'\n",
       "\\item 'KIT'\n",
       "\\item 'IL1RL1'\n",
       "\\item 'FCER1G'\n",
       "\\item 'CST3'\n",
       "\\item 'ATP6V1G1'\n",
       "\\item 'COX7A2'\n",
       "\\item 'NDUFA4'\n",
       "\\item 'UQCRH'\n",
       "\\item 'DAZAP2'\n",
       "\\item 'SEPT7'\n",
       "\\item 'ELOB'\n",
       "\\item 'COX8A'\n",
       "\\item 'EIF3K'\n",
       "\\item 'TMEM50A'\n",
       "\\end{enumerate*}\n",
       "\n",
       "\\item[\\$C2] \\begin{enumerate*}\n",
       "\\item 'S100A2'\n",
       "\\item 'KRT14'\n",
       "\\item 'S100A8'\n",
       "\\item 'KRT17'\n",
       "\\item 'KRT16'\n",
       "\\item 'SFN'\n",
       "\\item 'KRT6A'\n",
       "\\item 'KRT5'\n",
       "\\item 'S100A9'\n",
       "\\item 'SBSN'\n",
       "\\item 'KRTDAP'\n",
       "\\item 'S100A14'\n",
       "\\item 'S100A7'\n",
       "\\item 'LGALS7B'\n",
       "\\item 'PERP'\n",
       "\\item 'TACSTD2'\n",
       "\\item 'DMKN'\n",
       "\\item 'KRT6B'\n",
       "\\item 'LY6D'\n",
       "\\item 'LGALS7'\n",
       "\\item 'CFD'\n",
       "\\item 'DCN'\n",
       "\\item 'TNFAIP6'\n",
       "\\item 'CCL19'\n",
       "\\item 'CXCL14'\n",
       "\\item 'COL1A1'\n",
       "\\item 'LUM'\n",
       "\\item 'G0S2'\n",
       "\\item 'APOD'\n",
       "\\item 'COL3A1'\n",
       "\\item 'COL1A2'\n",
       "\\item 'SFRP2'\n",
       "\\item 'C1S'\n",
       "\\item 'COL6A2'\n",
       "\\item 'MMP2'\n",
       "\\item 'CLU'\n",
       "\\item 'CCDC80'\n",
       "\\item 'C3'\n",
       "\\item 'MFAP4'\n",
       "\\item 'SERPINF1'\n",
       "\\item 'PMEL'\n",
       "\\item 'TYRP1'\n",
       "\\item 'DCT'\n",
       "\\item 'MLANA'\n",
       "\\item 'NOV'\n",
       "\\item 'QPCT'\n",
       "\\item 'CYB561A3'\n",
       "\\item 'TYR'\n",
       "\\item 'FRZB'\n",
       "\\item 'CAPN3'\n",
       "\\item 'CDC42EP3'\n",
       "\\item 'TRPM1'\n",
       "\\item 'KIT'\n",
       "\\item 'PLP1'\n",
       "\\item 'MFSD12'\n",
       "\\item 'GPR143'\n",
       "\\item 'C4orf48'\n",
       "\\item 'MITF'\n",
       "\\item 'OSTM1'\n",
       "\\item 'RAB32'\n",
       "\\item 'TM4SF1'\n",
       "\\item 'SERPINE1'\n",
       "\\item 'PLVAP'\n",
       "\\item 'DEPP1'\n",
       "\\item 'SPARCL1'\n",
       "\\item 'RCAN1'\n",
       "\\item 'PECAM1'\n",
       "\\item 'CLDN5'\n",
       "\\item 'SELE'\n",
       "\\item 'ENG'\n",
       "\\item 'HMOX1'\n",
       "\\item 'PRSS23'\n",
       "\\item 'CALCRL'\n",
       "\\item 'ESAM'\n",
       "\\item 'GNG11'\n",
       "\\item 'TSC22D1'\n",
       "\\item 'PNP'\n",
       "\\item 'ADGRL4'\n",
       "\\item 'EGFL7'\n",
       "\\item 'EMCN'\n",
       "\\item 'CCL21'\n",
       "\\item 'TFF3'\n",
       "\\item 'FABP4'\n",
       "\\item 'MMRN1'\n",
       "\\item 'ANGPT2'\n",
       "\\item 'CCL2'\n",
       "\\item 'TFPI'\n",
       "\\item 'PPFIBP1'\n",
       "\\item 'C2CD4B'\n",
       "\\item 'CLDN5'\n",
       "\\item 'RAMP2'\n",
       "\\item 'LAPTM5'\n",
       "\\item 'CD200'\n",
       "\\item 'LYVE1'\n",
       "\\item 'GNG11'\n",
       "\\item 'PDPN'\n",
       "\\item 'EGFL7'\n",
       "\\item 'SNCG'\n",
       "\\item 'CAVIN2'\n",
       "\\item 'PLA1A'\n",
       "\\item 'RGS5'\n",
       "\\item 'TAGLN'\n",
       "\\item 'ACTA2'\n",
       "\\item 'TPM2'\n",
       "\\item 'MYL9'\n",
       "\\item 'NDUFA4L2'\n",
       "\\item 'CPE'\n",
       "\\item 'ADIRF'\n",
       "\\item 'GJA4'\n",
       "\\item 'TFPI'\n",
       "\\item 'CALD1'\n",
       "\\item 'MGP'\n",
       "\\item 'KCNE4'\n",
       "\\item 'ADAMTS1'\n",
       "\\item 'NR2F2'\n",
       "\\item 'MYH11'\n",
       "\\item 'ADAMTS4'\n",
       "\\item 'MFGE8'\n",
       "\\item 'C11orf96'\n",
       "\\item 'MCAM'\n",
       "\\end{enumerate*}\n",
       "\n",
       "\\end{description}\n"
      ],
      "text/markdown": [
       "$C1\n",
       ":   1. 'CCL22'\n",
       "2. 'CST3'\n",
       "3. 'HLA-DRA'\n",
       "4. 'TXN'\n",
       "5. 'CXCL8'\n",
       "6. 'HLA-DPB1'\n",
       "7. 'HLA-DPA1'\n",
       "8. 'HLA-DRB1'\n",
       "9. 'C15orf48'\n",
       "10. 'TYROBP'\n",
       "11. 'IDO1'\n",
       "12. 'HLA-DRB5'\n",
       "13. 'HLA-DQA1'\n",
       "14. 'LYZ'\n",
       "15. 'CCL17'\n",
       "16. 'G0S2'\n",
       "17. 'HLA-DQB1'\n",
       "18. 'SAT1'\n",
       "19. 'CD83'\n",
       "20. 'TIMP1'\n",
       "21. 'IL32'\n",
       "22. 'CD7'\n",
       "23. 'ZFP36L2'\n",
       "24. 'CD3E'\n",
       "25. 'PTPRC'\n",
       "26. 'IFITM1'\n",
       "27. 'TRBC2'\n",
       "28. 'LEPROTL1'\n",
       "29. 'BATF'\n",
       "30. 'EML4'\n",
       "31. 'CD3D'\n",
       "32. 'SPOCK2'\n",
       "33. 'FYN'\n",
       "34. 'CD2'\n",
       "35. 'LCK'\n",
       "36. 'CD247'\n",
       "37. 'FYB1'\n",
       "38. 'ARHGDIB'\n",
       "39. 'IL7R'\n",
       "40. 'TSC22D3'\n",
       "41. 'IGLV3-21'\n",
       "42. 'IGKC'\n",
       "43. 'IGKV3-20'\n",
       "44. 'IGHG1'\n",
       "45. 'IGHG4'\n",
       "46. 'IGLC2'\n",
       "47. 'IGLV3-1'\n",
       "48. 'IGHG2'\n",
       "49. 'IGHA1'\n",
       "50. 'IGHG3'\n",
       "51. 'IGLC3'\n",
       "52. 'IGLL5'\n",
       "53. 'MZB1'\n",
       "54. 'CD79A'\n",
       "55. 'JCHAIN'\n",
       "56. 'MS4A1'\n",
       "57. 'DERL3'\n",
       "58. 'GNG7'\n",
       "59. 'PRDX4'\n",
       "60. 'MEF2C'\n",
       "61. 'TPSAB1'\n",
       "62. 'TPSB2'\n",
       "63. 'HPGD'\n",
       "64. 'CPA3'\n",
       "65. 'GLUL'\n",
       "66. 'HPGDS'\n",
       "67. 'KIT'\n",
       "68. 'IL1RL1'\n",
       "69. 'FCER1G'\n",
       "70. 'CST3'\n",
       "71. 'ATP6V1G1'\n",
       "72. 'COX7A2'\n",
       "73. 'NDUFA4'\n",
       "74. 'UQCRH'\n",
       "75. 'DAZAP2'\n",
       "76. 'SEPT7'\n",
       "77. 'ELOB'\n",
       "78. 'COX8A'\n",
       "79. 'EIF3K'\n",
       "80. 'TMEM50A'\n",
       "\n",
       "\n",
       "\n",
       "$C2\n",
       ":   1. 'S100A2'\n",
       "2. 'KRT14'\n",
       "3. 'S100A8'\n",
       "4. 'KRT17'\n",
       "5. 'KRT16'\n",
       "6. 'SFN'\n",
       "7. 'KRT6A'\n",
       "8. 'KRT5'\n",
       "9. 'S100A9'\n",
       "10. 'SBSN'\n",
       "11. 'KRTDAP'\n",
       "12. 'S100A14'\n",
       "13. 'S100A7'\n",
       "14. 'LGALS7B'\n",
       "15. 'PERP'\n",
       "16. 'TACSTD2'\n",
       "17. 'DMKN'\n",
       "18. 'KRT6B'\n",
       "19. 'LY6D'\n",
       "20. 'LGALS7'\n",
       "21. 'CFD'\n",
       "22. 'DCN'\n",
       "23. 'TNFAIP6'\n",
       "24. 'CCL19'\n",
       "25. 'CXCL14'\n",
       "26. 'COL1A1'\n",
       "27. 'LUM'\n",
       "28. 'G0S2'\n",
       "29. 'APOD'\n",
       "30. 'COL3A1'\n",
       "31. 'COL1A2'\n",
       "32. 'SFRP2'\n",
       "33. 'C1S'\n",
       "34. 'COL6A2'\n",
       "35. 'MMP2'\n",
       "36. 'CLU'\n",
       "37. 'CCDC80'\n",
       "38. 'C3'\n",
       "39. 'MFAP4'\n",
       "40. 'SERPINF1'\n",
       "41. 'PMEL'\n",
       "42. 'TYRP1'\n",
       "43. 'DCT'\n",
       "44. 'MLANA'\n",
       "45. 'NOV'\n",
       "46. 'QPCT'\n",
       "47. 'CYB561A3'\n",
       "48. 'TYR'\n",
       "49. 'FRZB'\n",
       "50. 'CAPN3'\n",
       "51. 'CDC42EP3'\n",
       "52. 'TRPM1'\n",
       "53. 'KIT'\n",
       "54. 'PLP1'\n",
       "55. 'MFSD12'\n",
       "56. 'GPR143'\n",
       "57. 'C4orf48'\n",
       "58. 'MITF'\n",
       "59. 'OSTM1'\n",
       "60. 'RAB32'\n",
       "61. 'TM4SF1'\n",
       "62. 'SERPINE1'\n",
       "63. 'PLVAP'\n",
       "64. 'DEPP1'\n",
       "65. 'SPARCL1'\n",
       "66. 'RCAN1'\n",
       "67. 'PECAM1'\n",
       "68. 'CLDN5'\n",
       "69. 'SELE'\n",
       "70. 'ENG'\n",
       "71. 'HMOX1'\n",
       "72. 'PRSS23'\n",
       "73. 'CALCRL'\n",
       "74. 'ESAM'\n",
       "75. 'GNG11'\n",
       "76. 'TSC22D1'\n",
       "77. 'PNP'\n",
       "78. 'ADGRL4'\n",
       "79. 'EGFL7'\n",
       "80. 'EMCN'\n",
       "81. 'CCL21'\n",
       "82. 'TFF3'\n",
       "83. 'FABP4'\n",
       "84. 'MMRN1'\n",
       "85. 'ANGPT2'\n",
       "86. 'CCL2'\n",
       "87. 'TFPI'\n",
       "88. 'PPFIBP1'\n",
       "89. 'C2CD4B'\n",
       "90. 'CLDN5'\n",
       "91. 'RAMP2'\n",
       "92. 'LAPTM5'\n",
       "93. 'CD200'\n",
       "94. 'LYVE1'\n",
       "95. 'GNG11'\n",
       "96. 'PDPN'\n",
       "97. 'EGFL7'\n",
       "98. 'SNCG'\n",
       "99. 'CAVIN2'\n",
       "100. 'PLA1A'\n",
       "101. 'RGS5'\n",
       "102. 'TAGLN'\n",
       "103. 'ACTA2'\n",
       "104. 'TPM2'\n",
       "105. 'MYL9'\n",
       "106. 'NDUFA4L2'\n",
       "107. 'CPE'\n",
       "108. 'ADIRF'\n",
       "109. 'GJA4'\n",
       "110. 'TFPI'\n",
       "111. 'CALD1'\n",
       "112. 'MGP'\n",
       "113. 'KCNE4'\n",
       "114. 'ADAMTS1'\n",
       "115. 'NR2F2'\n",
       "116. 'MYH11'\n",
       "117. 'ADAMTS4'\n",
       "118. 'MFGE8'\n",
       "119. 'C11orf96'\n",
       "120. 'MCAM'\n",
       "\n",
       "\n",
       "\n",
       "\n",
       "\n"
      ],
      "text/plain": [
       "$C1\n",
       " [1] \"CCL22\"    \"CST3\"     \"HLA-DRA\"  \"TXN\"      \"CXCL8\"    \"HLA-DPB1\"\n",
       " [7] \"HLA-DPA1\" \"HLA-DRB1\" \"C15orf48\" \"TYROBP\"   \"IDO1\"     \"HLA-DRB5\"\n",
       "[13] \"HLA-DQA1\" \"LYZ\"      \"CCL17\"    \"G0S2\"     \"HLA-DQB1\" \"SAT1\"    \n",
       "[19] \"CD83\"     \"TIMP1\"    \"IL32\"     \"CD7\"      \"ZFP36L2\"  \"CD3E\"    \n",
       "[25] \"PTPRC\"    \"IFITM1\"   \"TRBC2\"    \"LEPROTL1\" \"BATF\"     \"EML4\"    \n",
       "[31] \"CD3D\"     \"SPOCK2\"   \"FYN\"      \"CD2\"      \"LCK\"      \"CD247\"   \n",
       "[37] \"FYB1\"     \"ARHGDIB\"  \"IL7R\"     \"TSC22D3\"  \"IGLV3-21\" \"IGKC\"    \n",
       "[43] \"IGKV3-20\" \"IGHG1\"    \"IGHG4\"    \"IGLC2\"    \"IGLV3-1\"  \"IGHG2\"   \n",
       "[49] \"IGHA1\"    \"IGHG3\"    \"IGLC3\"    \"IGLL5\"    \"MZB1\"     \"CD79A\"   \n",
       "[55] \"JCHAIN\"   \"MS4A1\"    \"DERL3\"    \"GNG7\"     \"PRDX4\"    \"MEF2C\"   \n",
       "[61] \"TPSAB1\"   \"TPSB2\"    \"HPGD\"     \"CPA3\"     \"GLUL\"     \"HPGDS\"   \n",
       "[67] \"KIT\"      \"IL1RL1\"   \"FCER1G\"   \"CST3\"     \"ATP6V1G1\" \"COX7A2\"  \n",
       "[73] \"NDUFA4\"   \"UQCRH\"    \"DAZAP2\"   \"SEPT7\"    \"ELOB\"     \"COX8A\"   \n",
       "[79] \"EIF3K\"    \"TMEM50A\" \n",
       "\n",
       "$C2\n",
       "  [1] \"S100A2\"   \"KRT14\"    \"S100A8\"   \"KRT17\"    \"KRT16\"    \"SFN\"     \n",
       "  [7] \"KRT6A\"    \"KRT5\"     \"S100A9\"   \"SBSN\"     \"KRTDAP\"   \"S100A14\" \n",
       " [13] \"S100A7\"   \"LGALS7B\"  \"PERP\"     \"TACSTD2\"  \"DMKN\"     \"KRT6B\"   \n",
       " [19] \"LY6D\"     \"LGALS7\"   \"CFD\"      \"DCN\"      \"TNFAIP6\"  \"CCL19\"   \n",
       " [25] \"CXCL14\"   \"COL1A1\"   \"LUM\"      \"G0S2\"     \"APOD\"     \"COL3A1\"  \n",
       " [31] \"COL1A2\"   \"SFRP2\"    \"C1S\"      \"COL6A2\"   \"MMP2\"     \"CLU\"     \n",
       " [37] \"CCDC80\"   \"C3\"       \"MFAP4\"    \"SERPINF1\" \"PMEL\"     \"TYRP1\"   \n",
       " [43] \"DCT\"      \"MLANA\"    \"NOV\"      \"QPCT\"     \"CYB561A3\" \"TYR\"     \n",
       " [49] \"FRZB\"     \"CAPN3\"    \"CDC42EP3\" \"TRPM1\"    \"KIT\"      \"PLP1\"    \n",
       " [55] \"MFSD12\"   \"GPR143\"   \"C4orf48\"  \"MITF\"     \"OSTM1\"    \"RAB32\"   \n",
       " [61] \"TM4SF1\"   \"SERPINE1\" \"PLVAP\"    \"DEPP1\"    \"SPARCL1\"  \"RCAN1\"   \n",
       " [67] \"PECAM1\"   \"CLDN5\"    \"SELE\"     \"ENG\"      \"HMOX1\"    \"PRSS23\"  \n",
       " [73] \"CALCRL\"   \"ESAM\"     \"GNG11\"    \"TSC22D1\"  \"PNP\"      \"ADGRL4\"  \n",
       " [79] \"EGFL7\"    \"EMCN\"     \"CCL21\"    \"TFF3\"     \"FABP4\"    \"MMRN1\"   \n",
       " [85] \"ANGPT2\"   \"CCL2\"     \"TFPI\"     \"PPFIBP1\"  \"C2CD4B\"   \"CLDN5\"   \n",
       " [91] \"RAMP2\"    \"LAPTM5\"   \"CD200\"    \"LYVE1\"    \"GNG11\"    \"PDPN\"    \n",
       " [97] \"EGFL7\"    \"SNCG\"     \"CAVIN2\"   \"PLA1A\"    \"RGS5\"     \"TAGLN\"   \n",
       "[103] \"ACTA2\"    \"TPM2\"     \"MYL9\"     \"NDUFA4L2\" \"CPE\"      \"ADIRF\"   \n",
       "[109] \"GJA4\"     \"TFPI\"     \"CALD1\"    \"MGP\"      \"KCNE4\"    \"ADAMTS1\" \n",
       "[115] \"NR2F2\"    \"MYH11\"    \"ADAMTS4\"  \"MFGE8\"    \"C11orf96\" \"MCAM\"    \n"
      ]
     },
     "metadata": {},
     "output_type": "display_data"
    }
   ],
   "source": [
    "diff_genes <- readRDS('/home/jovyan/farm/CTCL/deconvolution_new/deconv_DEGs_donw0.2.rds')\n",
    "diff_genes"
   ]
  },
  {
   "cell_type": "code",
   "execution_count": 29,
   "id": "worldwide-folder",
   "metadata": {},
   "outputs": [
    {
     "name": "stderr",
     "output_type": "stream",
     "text": [
      "Start: cluster estimations...\n",
      "\n",
      "Creating Relative Abundance Matrix...\n",
      "\n",
      "Creating Variance Matrix...\n",
      "\n",
      "Creating Library Size Matrix...\n",
      "\n",
      "Start: cell type estimations...\n",
      "\n",
      "Creating Relative Abundance Matrix...\n",
      "\n",
      "Creating Variance Matrix...\n",
      "\n",
      "Creating Library Size Matrix...\n",
      "\n",
      "Used 26382 common genes...\n",
      "\n",
      "B266 has common genes 22514 ...\n",
      "\n",
      "B355 has common genes 22594 ...\n",
      "\n",
      "B470 has common genes 22192 ...\n",
      "\n",
      "B520-2 has common genes 22607 ...\n",
      "\n",
      "L107 has common genes 20943 ...\n",
      "\n",
      "L112 has common genes 22066 ...\n",
      "\n",
      "L149 has common genes 22951 ...\n",
      "\n",
      "L168 has common genes 22538 ...\n",
      "\n",
      "L176 has common genes 22694 ...\n",
      "\n",
      "L236 has common genes 22189 ...\n",
      "\n",
      "L25 has common genes 22418 ...\n",
      "\n",
      "L260 has common genes 22072 ...\n",
      "\n",
      "L262 has common genes 20927 ...\n",
      "\n",
      "L268 has common genes 21700 ...\n",
      "\n",
      "L284 has common genes 22142 ...\n",
      "\n",
      "L314 has common genes 23234 ...\n",
      "\n",
      "L318 has common genes 22310 ...\n",
      "\n",
      "L321 has common genes 22096 ...\n",
      "\n",
      "L381 has common genes 21916 ...\n",
      "\n",
      "L407 has common genes 22348 ...\n",
      "\n",
      "L40 has common genes 22125 ...\n",
      "\n",
      "L431 has common genes 22900 ...\n",
      "\n",
      "L446 has common genes 22077 ...\n",
      "\n",
      "L457 has common genes 21994 ...\n",
      "\n",
      "L487 has common genes 22178 ...\n",
      "\n",
      "L492 has common genes 22239 ...\n",
      "\n",
      "L520 has common genes 21893 ...\n",
      "\n",
      "L529 has common genes 22110 ...\n",
      "\n",
      "L5 has common genes 23068 ...\n",
      "\n",
      "N103 has common genes 22459 ...\n",
      "\n",
      "N104 has common genes 21664 ...\n",
      "\n",
      "N139 has common genes 22693 ...\n",
      "\n",
      "N141 has common genes 23262 ...\n",
      "\n",
      "N178 has common genes 22925 ...\n",
      "\n",
      "N235 has common genes 22146 ...\n",
      "\n",
      "N251 has common genes 22495 ...\n",
      "\n",
      "N28 has common genes 22883 ...\n",
      "\n",
      "N292 has common genes 22847 ...\n",
      "\n",
      "N295 has common genes 23263 ...\n",
      "\n",
      "N30 has common genes 21950 ...\n",
      "\n",
      "N325 has common genes 21585 ...\n",
      "\n",
      "N42 has common genes 22151 ...\n",
      "\n",
      "N458 has common genes 22309 ...\n",
      "\n",
      "N526 has common genes 22351 ...\n",
      "\n",
      "N531 has common genes 22378 ...\n",
      "\n",
      "N559 has common genes 22437 ...\n",
      "\n",
      "N58 has common genes 22454 ...\n",
      "\n",
      "N67 has common genes 22186 ...\n",
      "\n",
      "N69 has common genes 22171 ...\n",
      "\n"
     ]
    }
   ],
   "source": [
    "Est.prop.precluster  <- music_prop.cluster(bulk.eset = Bulk.eset, \n",
    "                                           sc.eset = SC.eset, \n",
    "                                           group.markers = diff_genes,\n",
    "                                           clusters = 'broad_cell_type', groups = 'clusterType', \n",
    "                                           samples = 'donor_id', clusters.type = clusters.type)"
   ]
  },
  {
   "cell_type": "code",
   "execution_count": 10,
   "id": "hollywood-title",
   "metadata": {},
   "outputs": [],
   "source": [
    "saveRDS(Est.prop.precluster, '/home/jovyan/farm/CTCL/deconvolution_new/Deconv_PKU_CTCLsc_precluster_0.2.rds')\n"
   ]
  },
  {
   "cell_type": "code",
   "execution_count": 17,
   "id": "going-cloud",
   "metadata": {},
   "outputs": [],
   "source": [
    "Est_2 <- readRDS('/home/jovyan/farm/CTCL/deconvolution_new/Deconv_PKU_CTCLsc_precluster_0.2.rds')"
   ]
  },
  {
   "cell_type": "code",
   "execution_count": 15,
   "id": "central-protocol",
   "metadata": {},
   "outputs": [
    {
     "data": {
      "image/png": "[encoded data removed]",
      "text/plain": [
       "plot without title"
      ]
     },
     "metadata": {
      "image/png": {
       "height": 420,
       "width": 420
      }
     },
     "output_type": "display_data"
    }
   ],
   "source": [
    "Est_1 <- readRDS('/home/jovyan/farm/CTCL/deconvolution_new/Deconv_GSE121212_CTCLsc_precluster.rds')\n",
    "Est_2 <- readRDS('/home/jovyan/farm/CTCL/deconvolution_new/Deconv_PKU_CTCLsc_precluster_0.2.rds')\n",
    "\n",
    "celltype <- \"B/plasma\"\n",
    "Est_1_B <- data.frame(prop = Est_1$Est.prop.weighted.cluster[, celltype], sample = \"Healthy\")\n",
    "Est_1_B[grep('^AD.*non-lesional$', rownames(Est_1_B)), 'sample'] <- 'AD_nonlesion'\n",
    "Est_1_B[grep('^AD.*_lesional$', rownames(Est_1_B)), 'sample'] <- 'AD_lesion'\n",
    "Est_1_B[grep('^AD.*_chronic_lesion$', rownames(Est_1_B)), 'sample'] <- 'AD_lesion'\n",
    "Est_1_B[grep('^PSO.*non-lesional$', rownames(Est_1_B)), 'sample'] <- 'PS_nonlesion'\n",
    "Est_1_B[grep('^PSO.*_lesional$', rownames(Est_1_B)), 'sample'] <- 'PS_lesion'\n",
    "\n",
    "\n",
    "#celltype <- \"B/plasma\"\n",
    "Est_2_B <- data.frame(prop = Est_2$Est.prop.weighted.cluster[, celltype], sample = \"CTCL\")\n",
    "\n",
    "Est <- rbind(Est_1_B, Est_2_B)\n",
    "Est$sample <- factor(Est$sample, levels = c('Healthy', 'AD_nonlesion', 'AD_lesion',\n",
    "                                            'PS_nonlesion', 'PS_lesion','CTCL'))\n",
    "\n",
    "ggplot(data = Est,aes(x = sample, y = prop, fill = sample))+\n",
    "  geom_boxplot(aes(group=sample), width=0.5, outlier.colour = \"white\", outlier.size = 0.5)+\n",
    "  geom_point(position=position_jitter(width = 0.15,height = 0),alpha=0.8,shape=19, color = 'grey60', size = 1)+\n",
    "  #geom_quasirandom(method = \"quasirandom\", dodge.width=0.8, size=1.2, shape=20, alpha=1) +\n",
    "  scale_fill_manual(values = c(\"#E07469\",\"#97B2DD\", \"#A1C15F\",\"#1CB4B8\", \"#6692CC\",\"#A46DA6\")) +\n",
    "theme_bw()"
   ]
  },
  {
   "cell_type": "markdown",
   "id": "searching-first",
   "metadata": {},
   "source": [
    "#### Prognosis data"
   ]
  },
  {
   "cell_type": "code",
   "execution_count": 2,
   "id": "rough-tuning",
   "metadata": {},
   "outputs": [],
   "source": [
    "data <- read.table(\"/home/jovyan/farm/CTCL/deconvolution/PKU_metadata_PFS_OS.xls\", header = T)\n",
    "data <- data[,1:9]"
   ]
  },
  {
   "cell_type": "code",
   "execution_count": 3,
   "id": "brazilian-isaac",
   "metadata": {},
   "outputs": [
    {
     "data": {
      "text/html": [
       "<table class=\"dataframe\">\n",
       "<caption>A data.frame: 6 × 9</caption>\n",
       "<thead>\n",
       "\t<tr><th></th><th scope=col>Patient</th><th scope=col>Sex</th><th scope=col>Age</th><th scope=col>LCT</th><th scope=col>Stage</th><th scope=col>PFS_time</th><th scope=col>PFS</th><th scope=col>OS_time</th><th scope=col>OS</th></tr>\n",
       "\t<tr><th></th><th scope=col>&lt;chr&gt;</th><th scope=col>&lt;chr&gt;</th><th scope=col>&lt;int&gt;</th><th scope=col>&lt;chr&gt;</th><th scope=col>&lt;chr&gt;</th><th scope=col>&lt;int&gt;</th><th scope=col>&lt;int&gt;</th><th scope=col>&lt;int&gt;</th><th scope=col>&lt;int&gt;</th></tr>\n",
       "</thead>\n",
       "<tbody>\n",
       "\t<tr><th scope=row>1</th><td>B266</td><td>F</td><td>70</td><td>no </td><td>IIB</td><td>55</td><td>1</td><td>56</td><td>1</td></tr>\n",
       "\t<tr><th scope=row>2</th><td>B355</td><td>M</td><td>55</td><td>LCT</td><td>IIB</td><td>10</td><td>1</td><td>10</td><td>1</td></tr>\n",
       "\t<tr><th scope=row>3</th><td>B470</td><td>M</td><td>45</td><td>no </td><td>IIB</td><td>32</td><td>0</td><td>32</td><td>0</td></tr>\n",
       "\t<tr><th scope=row>4</th><td>L107</td><td>M</td><td>52</td><td>LCT</td><td>IIB</td><td>12</td><td>0</td><td>12</td><td>0</td></tr>\n",
       "\t<tr><th scope=row>5</th><td>L112</td><td>M</td><td>21</td><td>LCT</td><td>IIB</td><td> 4</td><td>1</td><td>22</td><td>1</td></tr>\n",
       "\t<tr><th scope=row>6</th><td>L149</td><td>F</td><td>15</td><td>LCT</td><td>IIB</td><td>24</td><td>1</td><td>54</td><td>1</td></tr>\n",
       "</tbody>\n",
       "</table>\n"
      ],
      "text/latex": [
       "A data.frame: 6 × 9\n",
       "\\begin{tabular}{r|lllllllll}\n",
       "  & Patient & Sex & Age & LCT & Stage & PFS\\_time & PFS & OS\\_time & OS\\\\\n",
       "  & <chr> & <chr> & <int> & <chr> & <chr> & <int> & <int> & <int> & <int>\\\\\n",
       "\\hline\n",
       "\t1 & B266 & F & 70 & no  & IIB & 55 & 1 & 56 & 1\\\\\n",
       "\t2 & B355 & M & 55 & LCT & IIB & 10 & 1 & 10 & 1\\\\\n",
       "\t3 & B470 & M & 45 & no  & IIB & 32 & 0 & 32 & 0\\\\\n",
       "\t4 & L107 & M & 52 & LCT & IIB & 12 & 0 & 12 & 0\\\\\n",
       "\t5 & L112 & M & 21 & LCT & IIB &  4 & 1 & 22 & 1\\\\\n",
       "\t6 & L149 & F & 15 & LCT & IIB & 24 & 1 & 54 & 1\\\\\n",
       "\\end{tabular}\n"
      ],
      "text/markdown": [
       "\n",
       "A data.frame: 6 × 9\n",
       "\n",
       "| <!--/--> | Patient &lt;chr&gt; | Sex &lt;chr&gt; | Age &lt;int&gt; | LCT &lt;chr&gt; | Stage &lt;chr&gt; | PFS_time &lt;int&gt; | PFS &lt;int&gt; | OS_time &lt;int&gt; | OS &lt;int&gt; |\n",
       "|---|---|---|---|---|---|---|---|---|---|\n",
       "| 1 | B266 | F | 70 | no  | IIB | 55 | 1 | 56 | 1 |\n",
       "| 2 | B355 | M | 55 | LCT | IIB | 10 | 1 | 10 | 1 |\n",
       "| 3 | B470 | M | 45 | no  | IIB | 32 | 0 | 32 | 0 |\n",
       "| 4 | L107 | M | 52 | LCT | IIB | 12 | 0 | 12 | 0 |\n",
       "| 5 | L112 | M | 21 | LCT | IIB |  4 | 1 | 22 | 1 |\n",
       "| 6 | L149 | F | 15 | LCT | IIB | 24 | 1 | 54 | 1 |\n",
       "\n"
      ],
      "text/plain": [
       "  Patient Sex Age LCT Stage PFS_time PFS OS_time OS\n",
       "1 B266    F   70  no  IIB   55       1   56      1 \n",
       "2 B355    M   55  LCT IIB   10       1   10      1 \n",
       "3 B470    M   45  no  IIB   32       0   32      0 \n",
       "4 L107    M   52  LCT IIB   12       0   12      0 \n",
       "5 L112    M   21  LCT IIB    4       1   22      1 \n",
       "6 L149    F   15  LCT IIB   24       1   54      1 "
      ]
     },
     "metadata": {},
     "output_type": "display_data"
    }
   ],
   "source": [
    "data %>% head()"
   ]
  },
  {
   "cell_type": "code",
   "execution_count": 4,
   "id": "baking-signature",
   "metadata": {},
   "outputs": [
    {
     "data": {
      "text/html": [
       "<table class=\"dataframe\">\n",
       "<caption>A matrix: 6 × 10 of type dbl</caption>\n",
       "<thead>\n",
       "\t<tr><th></th><th scope=col>B/plasma</th><th scope=col>Mast</th><th scope=col>T-cell</th><th scope=col>APC</th><th scope=col>KC</th><th scope=col>L-Endo</th><th scope=col>V-Endo</th><th scope=col>Fibro</th><th scope=col>Pericyte</th><th scope=col>Melanocyte</th></tr>\n",
       "</thead>\n",
       "<tbody>\n",
       "\t<tr><th scope=row>B266</th><td>0.03267274</td><td>0.006290670</td><td>0.2981468</td><td>0.07975009</td><td>0.24109682</td><td>0.013626401</td><td>0.09575007</td><td>0.14193839</td><td>0.05267313</td><td>0.03805486</td></tr>\n",
       "\t<tr><th scope=row>B355</th><td>0.05659856</td><td>0.010472601</td><td>0.4971731</td><td>0.13285841</td><td>0.12527323</td><td>0.007073884</td><td>0.04973246</td><td>0.07371274</td><td>0.02733360</td><td>0.01977137</td></tr>\n",
       "\t<tr><th scope=row>B470</th><td>0.04769366</td><td>0.008920078</td><td>0.4218401</td><td>0.11276148</td><td>0.16897653</td><td>0.009551941</td><td>0.06711907</td><td>0.09952323</td><td>0.03694115</td><td>0.02667279</td></tr>\n",
       "\t<tr><th scope=row>L107</th><td>0.06369207</td><td>0.011652302</td><td>0.5541895</td><td>0.14808824</td><td>0.09203555</td><td>0.005187040</td><td>0.03650510</td><td>0.05409523</td><td>0.02003212</td><td>0.01452288</td></tr>\n",
       "\t<tr><th scope=row>L112</th><td>0.06111063</td><td>0.011113733</td><td>0.5275993</td><td>0.14089140</td><td>0.10729048</td><td>0.006051982</td><td>0.04257591</td><td>0.06310916</td><td>0.02338467</td><td>0.01687269</td></tr>\n",
       "\t<tr><th scope=row>L149</th><td>0.05941017</td><td>0.011038481</td><td>0.5195103</td><td>0.13884022</td><td>0.11218122</td><td>0.006330495</td><td>0.04452348</td><td>0.06600181</td><td>0.02445939</td><td>0.01770446</td></tr>\n",
       "</tbody>\n",
       "</table>\n"
      ],
      "text/latex": [
       "A matrix: 6 × 10 of type dbl\n",
       "\\begin{tabular}{r|llllllllll}\n",
       "  & B/plasma & Mast & T-cell & APC & KC & L-Endo & V-Endo & Fibro & Pericyte & Melanocyte\\\\\n",
       "\\hline\n",
       "\tB266 & 0.03267274 & 0.006290670 & 0.2981468 & 0.07975009 & 0.24109682 & 0.013626401 & 0.09575007 & 0.14193839 & 0.05267313 & 0.03805486\\\\\n",
       "\tB355 & 0.05659856 & 0.010472601 & 0.4971731 & 0.13285841 & 0.12527323 & 0.007073884 & 0.04973246 & 0.07371274 & 0.02733360 & 0.01977137\\\\\n",
       "\tB470 & 0.04769366 & 0.008920078 & 0.4218401 & 0.11276148 & 0.16897653 & 0.009551941 & 0.06711907 & 0.09952323 & 0.03694115 & 0.02667279\\\\\n",
       "\tL107 & 0.06369207 & 0.011652302 & 0.5541895 & 0.14808824 & 0.09203555 & 0.005187040 & 0.03650510 & 0.05409523 & 0.02003212 & 0.01452288\\\\\n",
       "\tL112 & 0.06111063 & 0.011113733 & 0.5275993 & 0.14089140 & 0.10729048 & 0.006051982 & 0.04257591 & 0.06310916 & 0.02338467 & 0.01687269\\\\\n",
       "\tL149 & 0.05941017 & 0.011038481 & 0.5195103 & 0.13884022 & 0.11218122 & 0.006330495 & 0.04452348 & 0.06600181 & 0.02445939 & 0.01770446\\\\\n",
       "\\end{tabular}\n"
      ],
      "text/markdown": [
       "\n",
       "A matrix: 6 × 10 of type dbl\n",
       "\n",
       "| <!--/--> | B/plasma | Mast | T-cell | APC | KC | L-Endo | V-Endo | Fibro | Pericyte | Melanocyte |\n",
       "|---|---|---|---|---|---|---|---|---|---|---|\n",
       "| B266 | 0.03267274 | 0.006290670 | 0.2981468 | 0.07975009 | 0.24109682 | 0.013626401 | 0.09575007 | 0.14193839 | 0.05267313 | 0.03805486 |\n",
       "| B355 | 0.05659856 | 0.010472601 | 0.4971731 | 0.13285841 | 0.12527323 | 0.007073884 | 0.04973246 | 0.07371274 | 0.02733360 | 0.01977137 |\n",
       "| B470 | 0.04769366 | 0.008920078 | 0.4218401 | 0.11276148 | 0.16897653 | 0.009551941 | 0.06711907 | 0.09952323 | 0.03694115 | 0.02667279 |\n",
       "| L107 | 0.06369207 | 0.011652302 | 0.5541895 | 0.14808824 | 0.09203555 | 0.005187040 | 0.03650510 | 0.05409523 | 0.02003212 | 0.01452288 |\n",
       "| L112 | 0.06111063 | 0.011113733 | 0.5275993 | 0.14089140 | 0.10729048 | 0.006051982 | 0.04257591 | 0.06310916 | 0.02338467 | 0.01687269 |\n",
       "| L149 | 0.05941017 | 0.011038481 | 0.5195103 | 0.13884022 | 0.11218122 | 0.006330495 | 0.04452348 | 0.06600181 | 0.02445939 | 0.01770446 |\n",
       "\n"
      ],
      "text/plain": [
       "     B/plasma   Mast        T-cell    APC        KC         L-Endo     \n",
       "B266 0.03267274 0.006290670 0.2981468 0.07975009 0.24109682 0.013626401\n",
       "B355 0.05659856 0.010472601 0.4971731 0.13285841 0.12527323 0.007073884\n",
       "B470 0.04769366 0.008920078 0.4218401 0.11276148 0.16897653 0.009551941\n",
       "L107 0.06369207 0.011652302 0.5541895 0.14808824 0.09203555 0.005187040\n",
       "L112 0.06111063 0.011113733 0.5275993 0.14089140 0.10729048 0.006051982\n",
       "L149 0.05941017 0.011038481 0.5195103 0.13884022 0.11218122 0.006330495\n",
       "     V-Endo     Fibro      Pericyte   Melanocyte\n",
       "B266 0.09575007 0.14193839 0.05267313 0.03805486\n",
       "B355 0.04973246 0.07371274 0.02733360 0.01977137\n",
       "B470 0.06711907 0.09952323 0.03694115 0.02667279\n",
       "L107 0.03650510 0.05409523 0.02003212 0.01452288\n",
       "L112 0.04257591 0.06310916 0.02338467 0.01687269\n",
       "L149 0.04452348 0.06600181 0.02445939 0.01770446"
      ]
     },
     "metadata": {},
     "output_type": "display_data"
    }
   ],
   "source": [
    "Est <- readRDS('/home/jovyan/farm/CTCL/deconvolution_new/Deconv_PKU_CTCLsc_precluster_0.2.rds')\n",
    "Est_prop <- Est$Est.prop.weighted.cluster\n",
    "Est_prop <- Est_prop[-which(rownames(Est_prop)==\"B520-2\"), ]\n",
    "Est_prop %>% head()"
   ]
  },
  {
   "cell_type": "code",
   "execution_count": 5,
   "id": "israeli-jordan",
   "metadata": {},
   "outputs": [],
   "source": [
    "Est_prop <- Est_prop[data$Patient, ]"
   ]
  },
  {
   "cell_type": "code",
   "execution_count": 6,
   "id": "stock-router",
   "metadata": {},
   "outputs": [
    {
     "data": {
      "text/html": [
       "<table class=\"dataframe\">\n",
       "<caption>A data.frame: 6 × 19</caption>\n",
       "<thead>\n",
       "\t<tr><th></th><th scope=col>Patient</th><th scope=col>Sex</th><th scope=col>Age</th><th scope=col>LCT</th><th scope=col>Stage</th><th scope=col>PFS_time</th><th scope=col>PFS</th><th scope=col>OS_time</th><th scope=col>OS</th><th scope=col>B/plasma</th><th scope=col>Mast</th><th scope=col>T-cell</th><th scope=col>APC</th><th scope=col>KC</th><th scope=col>L-Endo</th><th scope=col>V-Endo</th><th scope=col>Fibro</th><th scope=col>Pericyte</th><th scope=col>Melanocyte</th></tr>\n",
       "\t<tr><th></th><th scope=col>&lt;chr&gt;</th><th scope=col>&lt;chr&gt;</th><th scope=col>&lt;int&gt;</th><th scope=col>&lt;chr&gt;</th><th scope=col>&lt;chr&gt;</th><th scope=col>&lt;int&gt;</th><th scope=col>&lt;int&gt;</th><th scope=col>&lt;int&gt;</th><th scope=col>&lt;int&gt;</th><th scope=col>&lt;dbl&gt;</th><th scope=col>&lt;dbl&gt;</th><th scope=col>&lt;dbl&gt;</th><th scope=col>&lt;dbl&gt;</th><th scope=col>&lt;dbl&gt;</th><th scope=col>&lt;dbl&gt;</th><th scope=col>&lt;dbl&gt;</th><th scope=col>&lt;dbl&gt;</th><th scope=col>&lt;dbl&gt;</th><th scope=col>&lt;dbl&gt;</th></tr>\n",
       "</thead>\n",
       "<tbody>\n",
       "\t<tr><th scope=row>B266</th><td>B266</td><td>F</td><td>70</td><td>no </td><td>IIB</td><td>55</td><td>1</td><td>56</td><td>1</td><td>0.03267274</td><td>0.006290670</td><td>0.2981468</td><td>0.07975009</td><td>0.24109682</td><td>0.013626401</td><td>0.09575007</td><td>0.14193839</td><td>0.05267313</td><td>0.03805486</td></tr>\n",
       "\t<tr><th scope=row>B355</th><td>B355</td><td>M</td><td>55</td><td>LCT</td><td>IIB</td><td>10</td><td>1</td><td>10</td><td>1</td><td>0.05659856</td><td>0.010472601</td><td>0.4971731</td><td>0.13285841</td><td>0.12527323</td><td>0.007073884</td><td>0.04973246</td><td>0.07371274</td><td>0.02733360</td><td>0.01977137</td></tr>\n",
       "\t<tr><th scope=row>B470</th><td>B470</td><td>M</td><td>45</td><td>no </td><td>IIB</td><td>32</td><td>0</td><td>32</td><td>0</td><td>0.04769366</td><td>0.008920078</td><td>0.4218401</td><td>0.11276148</td><td>0.16897653</td><td>0.009551941</td><td>0.06711907</td><td>0.09952323</td><td>0.03694115</td><td>0.02667279</td></tr>\n",
       "\t<tr><th scope=row>L107</th><td>L107</td><td>M</td><td>52</td><td>LCT</td><td>IIB</td><td>12</td><td>0</td><td>12</td><td>0</td><td>0.06369207</td><td>0.011652302</td><td>0.5541895</td><td>0.14808824</td><td>0.09203555</td><td>0.005187040</td><td>0.03650510</td><td>0.05409523</td><td>0.02003212</td><td>0.01452288</td></tr>\n",
       "\t<tr><th scope=row>L112</th><td>L112</td><td>M</td><td>21</td><td>LCT</td><td>IIB</td><td> 4</td><td>1</td><td>22</td><td>1</td><td>0.06111063</td><td>0.011113733</td><td>0.5275993</td><td>0.14089140</td><td>0.10729048</td><td>0.006051982</td><td>0.04257591</td><td>0.06310916</td><td>0.02338467</td><td>0.01687269</td></tr>\n",
       "\t<tr><th scope=row>L149</th><td>L149</td><td>F</td><td>15</td><td>LCT</td><td>IIB</td><td>24</td><td>1</td><td>54</td><td>1</td><td>0.05941017</td><td>0.011038481</td><td>0.5195103</td><td>0.13884022</td><td>0.11218122</td><td>0.006330495</td><td>0.04452348</td><td>0.06600181</td><td>0.02445939</td><td>0.01770446</td></tr>\n",
       "</tbody>\n",
       "</table>\n"
      ],
      "text/latex": [
       "A data.frame: 6 × 19\n",
       "\\begin{tabular}{r|lllllllllllllllllll}\n",
       "  & Patient & Sex & Age & LCT & Stage & PFS\\_time & PFS & OS\\_time & OS & B/plasma & Mast & T-cell & APC & KC & L-Endo & V-Endo & Fibro & Pericyte & Melanocyte\\\\\n",
       "  & <chr> & <chr> & <int> & <chr> & <chr> & <int> & <int> & <int> & <int> & <dbl> & <dbl> & <dbl> & <dbl> & <dbl> & <dbl> & <dbl> & <dbl> & <dbl> & <dbl>\\\\\n",
       "\\hline\n",
       "\tB266 & B266 & F & 70 & no  & IIB & 55 & 1 & 56 & 1 & 0.03267274 & 0.006290670 & 0.2981468 & 0.07975009 & 0.24109682 & 0.013626401 & 0.09575007 & 0.14193839 & 0.05267313 & 0.03805486\\\\\n",
       "\tB355 & B355 & M & 55 & LCT & IIB & 10 & 1 & 10 & 1 & 0.05659856 & 0.010472601 & 0.4971731 & 0.13285841 & 0.12527323 & 0.007073884 & 0.04973246 & 0.07371274 & 0.02733360 & 0.01977137\\\\\n",
       "\tB470 & B470 & M & 45 & no  & IIB & 32 & 0 & 32 & 0 & 0.04769366 & 0.008920078 & 0.4218401 & 0.11276148 & 0.16897653 & 0.009551941 & 0.06711907 & 0.09952323 & 0.03694115 & 0.02667279\\\\\n",
       "\tL107 & L107 & M & 52 & LCT & IIB & 12 & 0 & 12 & 0 & 0.06369207 & 0.011652302 & 0.5541895 & 0.14808824 & 0.09203555 & 0.005187040 & 0.03650510 & 0.05409523 & 0.02003212 & 0.01452288\\\\\n",
       "\tL112 & L112 & M & 21 & LCT & IIB &  4 & 1 & 22 & 1 & 0.06111063 & 0.011113733 & 0.5275993 & 0.14089140 & 0.10729048 & 0.006051982 & 0.04257591 & 0.06310916 & 0.02338467 & 0.01687269\\\\\n",
       "\tL149 & L149 & F & 15 & LCT & IIB & 24 & 1 & 54 & 1 & 0.05941017 & 0.011038481 & 0.5195103 & 0.13884022 & 0.11218122 & 0.006330495 & 0.04452348 & 0.06600181 & 0.02445939 & 0.01770446\\\\\n",
       "\\end{tabular}\n"
      ],
      "text/markdown": [
       "\n",
       "A data.frame: 6 × 19\n",
       "\n",
       "| <!--/--> | Patient &lt;chr&gt; | Sex &lt;chr&gt; | Age &lt;int&gt; | LCT &lt;chr&gt; | Stage &lt;chr&gt; | PFS_time &lt;int&gt; | PFS &lt;int&gt; | OS_time &lt;int&gt; | OS &lt;int&gt; | B/plasma &lt;dbl&gt; | Mast &lt;dbl&gt; | T-cell &lt;dbl&gt; | APC &lt;dbl&gt; | KC &lt;dbl&gt; | L-Endo &lt;dbl&gt; | V-Endo &lt;dbl&gt; | Fibro &lt;dbl&gt; | Pericyte &lt;dbl&gt; | Melanocyte &lt;dbl&gt; |\n",
       "|---|---|---|---|---|---|---|---|---|---|---|---|---|---|---|---|---|---|---|---|\n",
       "| B266 | B266 | F | 70 | no  | IIB | 55 | 1 | 56 | 1 | 0.03267274 | 0.006290670 | 0.2981468 | 0.07975009 | 0.24109682 | 0.013626401 | 0.09575007 | 0.14193839 | 0.05267313 | 0.03805486 |\n",
       "| B355 | B355 | M | 55 | LCT | IIB | 10 | 1 | 10 | 1 | 0.05659856 | 0.010472601 | 0.4971731 | 0.13285841 | 0.12527323 | 0.007073884 | 0.04973246 | 0.07371274 | 0.02733360 | 0.01977137 |\n",
       "| B470 | B470 | M | 45 | no  | IIB | 32 | 0 | 32 | 0 | 0.04769366 | 0.008920078 | 0.4218401 | 0.11276148 | 0.16897653 | 0.009551941 | 0.06711907 | 0.09952323 | 0.03694115 | 0.02667279 |\n",
       "| L107 | L107 | M | 52 | LCT | IIB | 12 | 0 | 12 | 0 | 0.06369207 | 0.011652302 | 0.5541895 | 0.14808824 | 0.09203555 | 0.005187040 | 0.03650510 | 0.05409523 | 0.02003212 | 0.01452288 |\n",
       "| L112 | L112 | M | 21 | LCT | IIB |  4 | 1 | 22 | 1 | 0.06111063 | 0.011113733 | 0.5275993 | 0.14089140 | 0.10729048 | 0.006051982 | 0.04257591 | 0.06310916 | 0.02338467 | 0.01687269 |\n",
       "| L149 | L149 | F | 15 | LCT | IIB | 24 | 1 | 54 | 1 | 0.05941017 | 0.011038481 | 0.5195103 | 0.13884022 | 0.11218122 | 0.006330495 | 0.04452348 | 0.06600181 | 0.02445939 | 0.01770446 |\n",
       "\n"
      ],
      "text/plain": [
       "     Patient Sex Age LCT Stage PFS_time PFS OS_time OS B/plasma   Mast       \n",
       "B266 B266    F   70  no  IIB   55       1   56      1  0.03267274 0.006290670\n",
       "B355 B355    M   55  LCT IIB   10       1   10      1  0.05659856 0.010472601\n",
       "B470 B470    M   45  no  IIB   32       0   32      0  0.04769366 0.008920078\n",
       "L107 L107    M   52  LCT IIB   12       0   12      0  0.06369207 0.011652302\n",
       "L112 L112    M   21  LCT IIB    4       1   22      1  0.06111063 0.011113733\n",
       "L149 L149    F   15  LCT IIB   24       1   54      1  0.05941017 0.011038481\n",
       "     T-cell    APC        KC         L-Endo      V-Endo     Fibro     \n",
       "B266 0.2981468 0.07975009 0.24109682 0.013626401 0.09575007 0.14193839\n",
       "B355 0.4971731 0.13285841 0.12527323 0.007073884 0.04973246 0.07371274\n",
       "B470 0.4218401 0.11276148 0.16897653 0.009551941 0.06711907 0.09952323\n",
       "L107 0.5541895 0.14808824 0.09203555 0.005187040 0.03650510 0.05409523\n",
       "L112 0.5275993 0.14089140 0.10729048 0.006051982 0.04257591 0.06310916\n",
       "L149 0.5195103 0.13884022 0.11218122 0.006330495 0.04452348 0.06600181\n",
       "     Pericyte   Melanocyte\n",
       "B266 0.05267313 0.03805486\n",
       "B355 0.02733360 0.01977137\n",
       "B470 0.03694115 0.02667279\n",
       "L107 0.02003212 0.01452288\n",
       "L112 0.02338467 0.01687269\n",
       "L149 0.02445939 0.01770446"
      ]
     },
     "metadata": {},
     "output_type": "display_data"
    }
   ],
   "source": [
    "data_prop <- cbind(data, Est_prop)\n",
    "data_prop %>% head()"
   ]
  },
  {
   "cell_type": "code",
   "execution_count": 21,
   "id": "advance-structure",
   "metadata": {},
   "outputs": [],
   "source": [
    "colnames(data_prop) <- c(colnames(data_prop)[1:9],'B_plasma','Mast','T-cell','APC',\n",
    "                         'KC','L-Enod','V-Endo','Fibro','Pericyte','Melanocyte')"
   ]
  },
  {
   "cell_type": "code",
   "execution_count": 22,
   "id": "bizarre-feeling",
   "metadata": {},
   "outputs": [
    {
     "name": "stderr",
     "output_type": "stream",
     "text": [
      "\n",
      "Attaching package: ‘survMisc’\n",
      "\n",
      "\n",
      "The following object is masked from ‘package:ggplot2’:\n",
      "\n",
      "    autoplot\n",
      "\n",
      "\n"
     ]
    }
   ],
   "source": [
    "library(survival)\n",
    "library(survminer)\n",
    "library(survMisc)\n",
    "library(RColorBrewer)"
   ]
  },
  {
   "cell_type": "code",
   "execution_count": 23,
   "id": "material-elizabeth",
   "metadata": {},
   "outputs": [
    {
     "data": {
      "text/html": [
       "<table class=\"dataframe\">\n",
       "<caption>A data.table: 6 × 4</caption>\n",
       "<thead>\n",
       "\t<tr><th scope=col>B_plasma</th><th scope=col>U</th><th scope=col>Q</th><th scope=col>p</th></tr>\n",
       "\t<tr><th scope=col>&lt;dbl&gt;</th><th scope=col>&lt;dbl&gt;</th><th scope=col>&lt;dbl&gt;</th><th scope=col>&lt;dbl&gt;</th></tr>\n",
       "</thead>\n",
       "<tbody>\n",
       "\t<tr><td>0.05018188</td><td>5.517209</td><td>1.289392</td><td>0.07193715</td></tr>\n",
       "\t<tr><td>0.05157684</td><td>5.195580</td><td>1.214226</td><td>0.10480159</td></tr>\n",
       "\t<tr><td>0.04954702</td><td>4.714282</td><td>1.101745</td><td>0.17636079</td></tr>\n",
       "\t<tr><td>0.04625969</td><td>4.664379</td><td>1.090082</td><td>0.18559038</td></tr>\n",
       "\t<tr><td>0.05659856</td><td>4.659840</td><td>1.089022</td><td>0.18644826</td></tr>\n",
       "\t<tr><td>0.05022571</td><td>4.559319</td><td>1.065530</td><td>0.20625127</td></tr>\n",
       "</tbody>\n",
       "</table>\n"
      ],
      "text/latex": [
       "A data.table: 6 × 4\n",
       "\\begin{tabular}{llll}\n",
       " B\\_plasma & U & Q & p\\\\\n",
       " <dbl> & <dbl> & <dbl> & <dbl>\\\\\n",
       "\\hline\n",
       "\t 0.05018188 & 5.517209 & 1.289392 & 0.07193715\\\\\n",
       "\t 0.05157684 & 5.195580 & 1.214226 & 0.10480159\\\\\n",
       "\t 0.04954702 & 4.714282 & 1.101745 & 0.17636079\\\\\n",
       "\t 0.04625969 & 4.664379 & 1.090082 & 0.18559038\\\\\n",
       "\t 0.05659856 & 4.659840 & 1.089022 & 0.18644826\\\\\n",
       "\t 0.05022571 & 4.559319 & 1.065530 & 0.20625127\\\\\n",
       "\\end{tabular}\n"
      ],
      "text/markdown": [
       "\n",
       "A data.table: 6 × 4\n",
       "\n",
       "| B_plasma &lt;dbl&gt; | U &lt;dbl&gt; | Q &lt;dbl&gt; | p &lt;dbl&gt; |\n",
       "|---|---|---|---|\n",
       "| 0.05018188 | 5.517209 | 1.289392 | 0.07193715 |\n",
       "| 0.05157684 | 5.195580 | 1.214226 | 0.10480159 |\n",
       "| 0.04954702 | 4.714282 | 1.101745 | 0.17636079 |\n",
       "| 0.04625969 | 4.664379 | 1.090082 | 0.18559038 |\n",
       "| 0.05659856 | 4.659840 | 1.089022 | 0.18644826 |\n",
       "| 0.05022571 | 4.559319 | 1.065530 | 0.20625127 |\n",
       "\n"
      ],
      "text/plain": [
       "  B_plasma   U        Q        p         \n",
       "1 0.05018188 5.517209 1.289392 0.07193715\n",
       "2 0.05157684 5.195580 1.214226 0.10480159\n",
       "3 0.04954702 4.714282 1.101745 0.17636079\n",
       "4 0.04625969 4.664379 1.090082 0.18559038\n",
       "5 0.05659856 4.659840 1.089022 0.18644826\n",
       "6 0.05022571 4.559319 1.065530 0.20625127"
      ]
     },
     "metadata": {},
     "output_type": "display_data"
    }
   ],
   "source": [
    "cut <- cutp(coxph(Surv(PFS_time, PFS)~Stage+Age+strata(Sex)+B_plasma, data=data_prop))$B_plasma[]\n",
    "cut %>% head()"
   ]
  },
  {
   "cell_type": "code",
   "execution_count": 24,
   "id": "owned-oregon",
   "metadata": {},
   "outputs": [],
   "source": [
    "data_prop$tx <- rep(NA, nrow(data_prop))\n",
    "data_prop$tx[which(data_prop$B_plasma < 0.05018188)] <- 1\n",
    "#data$tx[which(data$B_plasma >= 0.027831 & data$B_plasma < 0.094703)] <- 2\n",
    "data_prop$tx[which(data_prop$B_plasma >= 0.05018188)] <- 2"
   ]
  },
  {
   "cell_type": "code",
   "execution_count": 25,
   "id": "entire-nowhere",
   "metadata": {},
   "outputs": [
    {
     "data": {
      "text/html": [
       "19"
      ],
      "text/latex": [
       "19"
      ],
      "text/markdown": [
       "19"
      ],
      "text/plain": [
       "[1] 19"
      ]
     },
     "metadata": {},
     "output_type": "display_data"
    },
    {
     "data": {
      "text/html": [
       "29"
      ],
      "text/latex": [
       "29"
      ],
      "text/markdown": [
       "29"
      ],
      "text/plain": [
       "[1] 29"
      ]
     },
     "metadata": {},
     "output_type": "display_data"
    },
    {
     "data": {
      "text/plain": [
       "Call:\n",
       "coxph(formula = Surv(PFS_time, as.numeric(PFS)) ~ tx + Stage + \n",
       "    Age + strata(Sex), data = data_prop)\n",
       "\n",
       "  n= 48, number of events= 22 \n",
       "\n",
       "              coef exp(coef) se(coef)     z Pr(>|z|)  \n",
       "tx        1.552417  4.722870 0.686283 2.262   0.0237 *\n",
       "StageIIIA 1.116032  3.052718 1.235162 0.904   0.3662  \n",
       "StageIIIB 0.559819  1.750355 1.111970 0.503   0.6146  \n",
       "StageIVA2 1.129441  3.093925 0.615224 1.836   0.0664 .\n",
       "StageIVB  0.314015  1.368911 1.061637 0.296   0.7674  \n",
       "Age       0.006793  1.006816 0.015330 0.443   0.6577  \n",
       "---\n",
       "Signif. codes:  0 ‘***’ 0.001 ‘**’ 0.01 ‘*’ 0.05 ‘.’ 0.1 ‘ ’ 1\n",
       "\n",
       "          exp(coef) exp(-coef) lower .95 upper .95\n",
       "tx            4.723     0.2117    1.2304    18.129\n",
       "StageIIIA     3.053     0.3276    0.2712    34.360\n",
       "StageIIIB     1.750     0.5713    0.1980    15.475\n",
       "StageIVA2     3.094     0.3232    0.9265    10.332\n",
       "StageIVB      1.369     0.7305    0.1709    10.966\n",
       "Age           1.007     0.9932    0.9770     1.038\n",
       "\n",
       "Concordance= 0.688  (se = 0.066 )\n",
       "Likelihood ratio test= 12.19  on 6 df,   p=0.06\n",
       "Wald test            = 10.98  on 6 df,   p=0.09\n",
       "Score (logrank) test = 13.52  on 6 df,   p=0.04\n"
      ]
     },
     "metadata": {},
     "output_type": "display_data"
    },
    {
     "data": {
      "image/png": "[encoded data removed]",
      "text/plain": [
       "Plot with title “Progression Free Survival”"
      ]
     },
     "metadata": {
      "image/png": {
       "height": 420,
       "width": 420
      }
     },
     "output_type": "display_data"
    }
   ],
   "source": [
    "sd <- survfit(Surv(PFS_time, as.numeric(PFS))~tx, data=data_prop, se.fit=T, conf.int=.95,type=\"kaplan-meier\")\n",
    "#ggsurvplot(sd, data=data, conf.int = TRUE, palette = c(\"dodgerblue3\",\"red2\"))\n",
    "\n",
    "SD <- coxph(Surv(PFS_time,as.numeric(PFS))~tx+Stage+Age+strata(Sex),data=data_prop)\n",
    "plot(sd, lty=1, lwd=3, col=c(\"DimGrey\", \"IndianRed1\"),\n",
    "     mark.time=T, xlab=\"time(months)\",ylab=\"Progression Free Survival\",main=\"Progression Free Survival\")\n",
    "\n",
    "sum(data_prop$tx==1)\n",
    "sum(data_prop$tx==2)\n",
    "\n",
    "summary(SD)"
   ]
  },
  {
   "cell_type": "markdown",
   "id": "selective-majority",
   "metadata": {},
   "source": [
    "#### CD79A and CD79B expression"
   ]
  },
  {
   "cell_type": "code",
   "execution_count": 34,
   "id": "passive-recovery",
   "metadata": {},
   "outputs": [
    {
     "name": "stderr",
     "output_type": "stream",
     "text": [
      "\n",
      "Attaching package: ‘survMisc’\n",
      "\n",
      "\n",
      "The following object is masked from ‘package:ggplot2’:\n",
      "\n",
      "    autoplot\n",
      "\n",
      "\n"
     ]
    }
   ],
   "source": [
    "library(survival)\n",
    "library(survminer)\n",
    "library(survMisc)\n",
    "library(RColorBrewer)"
   ]
  },
  {
   "cell_type": "code",
   "execution_count": 35,
   "id": "corresponding-tender",
   "metadata": {},
   "outputs": [],
   "source": [
    "data <- read.table(\"/home/jovyan/farm/CTCL/deconvolution_new/PKU_metadata_PFS_OS_CD79AB_mean.xls\",\n",
    "                   header = T, check.names = F)"
   ]
  },
  {
   "cell_type": "code",
   "execution_count": 37,
   "id": "individual-serial",
   "metadata": {},
   "outputs": [
    {
     "data": {
      "text/html": [
       "<table class=\"dataframe\">\n",
       "<caption>A data.frame: 6 × 10</caption>\n",
       "<thead>\n",
       "\t<tr><th></th><th scope=col>Patient</th><th scope=col>Sex</th><th scope=col>Age</th><th scope=col>LCT</th><th scope=col>Stage</th><th scope=col>PFS_time</th><th scope=col>PFS</th><th scope=col>OS_time</th><th scope=col>OS</th><th scope=col>Bcell_score</th></tr>\n",
       "\t<tr><th></th><th scope=col>&lt;chr&gt;</th><th scope=col>&lt;chr&gt;</th><th scope=col>&lt;int&gt;</th><th scope=col>&lt;chr&gt;</th><th scope=col>&lt;chr&gt;</th><th scope=col>&lt;int&gt;</th><th scope=col>&lt;int&gt;</th><th scope=col>&lt;int&gt;</th><th scope=col>&lt;int&gt;</th><th scope=col>&lt;dbl&gt;</th></tr>\n",
       "</thead>\n",
       "<tbody>\n",
       "\t<tr><th scope=row>1</th><td>B266</td><td>F</td><td>70</td><td>no </td><td>IIB</td><td>55</td><td>1</td><td>56</td><td>1</td><td>  7.310410</td></tr>\n",
       "\t<tr><th scope=row>2</th><td>B355</td><td>M</td><td>55</td><td>LCT</td><td>IIB</td><td>10</td><td>1</td><td>10</td><td>1</td><td> 22.682505</td></tr>\n",
       "\t<tr><th scope=row>3</th><td>B470</td><td>M</td><td>45</td><td>no </td><td>IIB</td><td>32</td><td>0</td><td>32</td><td>0</td><td>  8.532193</td></tr>\n",
       "\t<tr><th scope=row>4</th><td>L107</td><td>M</td><td>52</td><td>LCT</td><td>IIB</td><td>12</td><td>0</td><td>12</td><td>0</td><td>  2.659867</td></tr>\n",
       "\t<tr><th scope=row>5</th><td>L112</td><td>M</td><td>21</td><td>LCT</td><td>IIB</td><td> 4</td><td>1</td><td>22</td><td>1</td><td>132.808758</td></tr>\n",
       "\t<tr><th scope=row>6</th><td>L149</td><td>F</td><td>15</td><td>LCT</td><td>IIB</td><td>24</td><td>1</td><td>54</td><td>1</td><td>224.066250</td></tr>\n",
       "</tbody>\n",
       "</table>\n"
      ],
      "text/latex": [
       "A data.frame: 6 × 10\n",
       "\\begin{tabular}{r|llllllllll}\n",
       "  & Patient & Sex & Age & LCT & Stage & PFS\\_time & PFS & OS\\_time & OS & Bcell\\_score\\\\\n",
       "  & <chr> & <chr> & <int> & <chr> & <chr> & <int> & <int> & <int> & <int> & <dbl>\\\\\n",
       "\\hline\n",
       "\t1 & B266 & F & 70 & no  & IIB & 55 & 1 & 56 & 1 &   7.310410\\\\\n",
       "\t2 & B355 & M & 55 & LCT & IIB & 10 & 1 & 10 & 1 &  22.682505\\\\\n",
       "\t3 & B470 & M & 45 & no  & IIB & 32 & 0 & 32 & 0 &   8.532193\\\\\n",
       "\t4 & L107 & M & 52 & LCT & IIB & 12 & 0 & 12 & 0 &   2.659867\\\\\n",
       "\t5 & L112 & M & 21 & LCT & IIB &  4 & 1 & 22 & 1 & 132.808758\\\\\n",
       "\t6 & L149 & F & 15 & LCT & IIB & 24 & 1 & 54 & 1 & 224.066250\\\\\n",
       "\\end{tabular}\n"
      ],
      "text/markdown": [
       "\n",
       "A data.frame: 6 × 10\n",
       "\n",
       "| <!--/--> | Patient &lt;chr&gt; | Sex &lt;chr&gt; | Age &lt;int&gt; | LCT &lt;chr&gt; | Stage &lt;chr&gt; | PFS_time &lt;int&gt; | PFS &lt;int&gt; | OS_time &lt;int&gt; | OS &lt;int&gt; | Bcell_score &lt;dbl&gt; |\n",
       "|---|---|---|---|---|---|---|---|---|---|---|\n",
       "| 1 | B266 | F | 70 | no  | IIB | 55 | 1 | 56 | 1 |   7.310410 |\n",
       "| 2 | B355 | M | 55 | LCT | IIB | 10 | 1 | 10 | 1 |  22.682505 |\n",
       "| 3 | B470 | M | 45 | no  | IIB | 32 | 0 | 32 | 0 |   8.532193 |\n",
       "| 4 | L107 | M | 52 | LCT | IIB | 12 | 0 | 12 | 0 |   2.659867 |\n",
       "| 5 | L112 | M | 21 | LCT | IIB |  4 | 1 | 22 | 1 | 132.808758 |\n",
       "| 6 | L149 | F | 15 | LCT | IIB | 24 | 1 | 54 | 1 | 224.066250 |\n",
       "\n"
      ],
      "text/plain": [
       "  Patient Sex Age LCT Stage PFS_time PFS OS_time OS Bcell_score\n",
       "1 B266    F   70  no  IIB   55       1   56      1    7.310410 \n",
       "2 B355    M   55  LCT IIB   10       1   10      1   22.682505 \n",
       "3 B470    M   45  no  IIB   32       0   32      0    8.532193 \n",
       "4 L107    M   52  LCT IIB   12       0   12      0    2.659867 \n",
       "5 L112    M   21  LCT IIB    4       1   22      1  132.808758 \n",
       "6 L149    F   15  LCT IIB   24       1   54      1  224.066250 "
      ]
     },
     "metadata": {},
     "output_type": "display_data"
    }
   ],
   "source": [
    "data %>% head()"
   ]
  },
  {
   "cell_type": "code",
   "execution_count": 38,
   "id": "optional-oxford",
   "metadata": {},
   "outputs": [
    {
     "data": {
      "text/html": [
       "<table class=\"dataframe\">\n",
       "<caption>A data.table: 6 × 4</caption>\n",
       "<thead>\n",
       "\t<tr><th scope=col>Bcell_score</th><th scope=col>U</th><th scope=col>Q</th><th scope=col>p</th></tr>\n",
       "\t<tr><th scope=col>&lt;dbl&gt;</th><th scope=col>&lt;dbl&gt;</th><th scope=col>&lt;dbl&gt;</th><th scope=col>&lt;dbl&gt;</th></tr>\n",
       "</thead>\n",
       "<tbody>\n",
       "\t<tr><td>11.38904</td><td>3.859016</td><td>0.9018660</td><td>0.3901594</td></tr>\n",
       "\t<tr><td>17.31070</td><td>3.661943</td><td>0.8558095</td><td>0.4565364</td></tr>\n",
       "\t<tr><td>11.23944</td><td>3.289422</td><td>0.7687498</td><td>0.5957151</td></tr>\n",
       "\t<tr><td>20.82085</td><td>3.189379</td><td>0.7453694</td><td>0.6349669</td></tr>\n",
       "\t<tr><td>20.22662</td><td>2.747532</td><td>0.6421081</td><td>0.8041257</td></tr>\n",
       "\t<tr><td>22.68250</td><td>2.669687</td><td>0.6239156</td><td>0.8311227</td></tr>\n",
       "</tbody>\n",
       "</table>\n"
      ],
      "text/latex": [
       "A data.table: 6 × 4\n",
       "\\begin{tabular}{llll}\n",
       " Bcell\\_score & U & Q & p\\\\\n",
       " <dbl> & <dbl> & <dbl> & <dbl>\\\\\n",
       "\\hline\n",
       "\t 11.38904 & 3.859016 & 0.9018660 & 0.3901594\\\\\n",
       "\t 17.31070 & 3.661943 & 0.8558095 & 0.4565364\\\\\n",
       "\t 11.23944 & 3.289422 & 0.7687498 & 0.5957151\\\\\n",
       "\t 20.82085 & 3.189379 & 0.7453694 & 0.6349669\\\\\n",
       "\t 20.22662 & 2.747532 & 0.6421081 & 0.8041257\\\\\n",
       "\t 22.68250 & 2.669687 & 0.6239156 & 0.8311227\\\\\n",
       "\\end{tabular}\n"
      ],
      "text/markdown": [
       "\n",
       "A data.table: 6 × 4\n",
       "\n",
       "| Bcell_score &lt;dbl&gt; | U &lt;dbl&gt; | Q &lt;dbl&gt; | p &lt;dbl&gt; |\n",
       "|---|---|---|---|\n",
       "| 11.38904 | 3.859016 | 0.9018660 | 0.3901594 |\n",
       "| 17.31070 | 3.661943 | 0.8558095 | 0.4565364 |\n",
       "| 11.23944 | 3.289422 | 0.7687498 | 0.5957151 |\n",
       "| 20.82085 | 3.189379 | 0.7453694 | 0.6349669 |\n",
       "| 20.22662 | 2.747532 | 0.6421081 | 0.8041257 |\n",
       "| 22.68250 | 2.669687 | 0.6239156 | 0.8311227 |\n",
       "\n"
      ],
      "text/plain": [
       "  Bcell_score U        Q         p        \n",
       "1 11.38904    3.859016 0.9018660 0.3901594\n",
       "2 17.31070    3.661943 0.8558095 0.4565364\n",
       "3 11.23944    3.289422 0.7687498 0.5957151\n",
       "4 20.82085    3.189379 0.7453694 0.6349669\n",
       "5 20.22662    2.747532 0.6421081 0.8041257\n",
       "6 22.68250    2.669687 0.6239156 0.8311227"
      ]
     },
     "metadata": {},
     "output_type": "display_data"
    }
   ],
   "source": [
    "cut <- cutp(coxph(Surv(PFS_time, PFS)~Stage+Age+strata(Sex)+Bcell_score, data=data))$Bcell_score[]\n",
    "cut %>% head()"
   ]
  },
  {
   "cell_type": "code",
   "execution_count": 39,
   "id": "vocal-twelve",
   "metadata": {},
   "outputs": [],
   "source": [
    "data$tx <- rep(NA, nrow(data))\n",
    "data$tx[which(data$Bcell_score < 11.389043)] <- 1\n",
    "data$tx[which(data$Bcell_score >= 11.389043)] <- 2"
   ]
  },
  {
   "cell_type": "code",
   "execution_count": 40,
   "id": "numerical-penny",
   "metadata": {},
   "outputs": [
    {
     "data": {
      "image/png": "[encoded data removed]",
      "text/plain": [
       "Plot with title “Progression Free Survival”"
      ]
     },
     "metadata": {
      "image/png": {
       "height": 420,
       "width": 420
      }
     },
     "output_type": "display_data"
    }
   ],
   "source": [
    "sd <- survfit(Surv(PFS_time, as.numeric(PFS))~tx, data=data, se.fit=T, conf.int=.95,type=\"kaplan-meier\")\n",
    "\n",
    "plot(sd, lty=1, lwd=3, col=c(\"DimGrey\", \"IndianRed1\"),\n",
    "     mark.time=T, xlab=\"time(months)\",ylab=\"Progression Free Survival\",main=\"Progression Free Survival\")"
   ]
  },
  {
   "cell_type": "code",
   "execution_count": 41,
   "id": "rural-roulette",
   "metadata": {},
   "outputs": [
    {
     "data": {
      "text/plain": [
       "Call:\n",
       "coxph(formula = Surv(PFS_time, as.numeric(PFS)) ~ tx + Stage + \n",
       "    Age + strata(Sex), data = data)\n",
       "\n",
       "  n= 48, number of events= 22 \n",
       "\n",
       "              coef exp(coef) se(coef)     z Pr(>|z|)  \n",
       "tx        1.056063  2.875029 0.604432 1.747   0.0806 .\n",
       "StageIIIA 0.296818  1.345570 1.099759 0.270   0.7872  \n",
       "StageIIIB 0.666736  1.947870 1.104909 0.603   0.5462  \n",
       "StageIVA2 1.384141  3.991395 0.613844 2.255   0.0241 *\n",
       "StageIVB  0.485023  1.624213 1.059122 0.458   0.6470  \n",
       "Age       0.008545  1.008581 0.015247 0.560   0.5752  \n",
       "---\n",
       "Signif. codes:  0 ‘***’ 0.001 ‘**’ 0.01 ‘*’ 0.05 ‘.’ 0.1 ‘ ’ 1\n",
       "\n",
       "          exp(coef) exp(-coef) lower .95 upper .95\n",
       "tx            2.875     0.3478    0.8793     9.400\n",
       "StageIIIA     1.346     0.7432    0.1559    11.615\n",
       "StageIIIB     1.948     0.5134    0.2234    16.985\n",
       "StageIVA2     3.991     0.2505    1.1985    13.293\n",
       "StageIVB      1.624     0.6157    0.2038    12.947\n",
       "Age           1.009     0.9915    0.9789     1.039\n",
       "\n",
       "Concordance= 0.675  (se = 0.072 )\n",
       "Likelihood ratio test= 9.28  on 6 df,   p=0.2\n",
       "Wald test            = 9.65  on 6 df,   p=0.1\n",
       "Score (logrank) test = 11.29  on 6 df,   p=0.08\n"
      ]
     },
     "metadata": {},
     "output_type": "display_data"
    }
   ],
   "source": [
    "SD <- coxph(Surv(PFS_time,as.numeric(PFS))~tx+Stage+Age+strata(Sex),data=data)\n",
    "summary(SD)"
   ]
  },
  {
   "cell_type": "code",
   "execution_count": null,
   "id": "secure-carnival",
   "metadata": {},
   "outputs": [],
   "source": []
  }
 ],
 "metadata": {
  "kernelspec": {
   "display_name": "R",
   "language": "R",
   "name": "ir"
  },
  "language_info": {
   "codemirror_mode": "r",
   "file_extension": ".r",
   "mimetype": "text/x-r-source",
   "name": "R",
   "pygments_lexer": "r",
   "version": "4.0.4"
  }
 },
 "nbformat": 4,
 "nbformat_minor": 5
}
