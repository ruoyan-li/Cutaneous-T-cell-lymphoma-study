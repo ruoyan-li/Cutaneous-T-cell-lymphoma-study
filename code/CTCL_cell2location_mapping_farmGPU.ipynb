{
 "cells": [
  {
   "cell_type": "code",
   "execution_count": 1,
   "id": "addressed-closure",
   "metadata": {},
   "outputs": [
    {
     "name": "stderr",
     "output_type": "stream",
     "text": [
      "WARNING (theano.configdefaults): install mkl with `conda install mkl-service`: No module named 'mkl'\n",
      "WARNING (theano.tensor.blas): Using NumPy C-API based implementation for BLAS functions.\n",
      "Global seed set to 0\n"
     ]
    }
   ],
   "source": [
    "import sys\n",
    "import scanpy as sc\n",
    "import anndata\n",
    "import pandas as pd\n",
    "import numpy as np\n",
    "import matplotlib.pyplot as plt \n",
    "import matplotlib as mpl\n",
    "\n",
    "import cell2location\n",
    "import scvi\n",
    "\n",
    "from matplotlib import rcParams\n",
    "rcParams['pdf.fonttype'] = 42 # enables correct plotting of text\n",
    "import seaborn as sns\n"
   ]
  },
  {
   "cell_type": "markdown",
   "id": "dress-implement",
   "metadata": {},
   "source": [
    "### Functions"
   ]
  },
  {
   "cell_type": "code",
   "execution_count": 2,
   "id": "martial-privilege",
   "metadata": {},
   "outputs": [],
   "source": [
    "def read_and_qc(sample_name, path):\n",
    "    r\"\"\" This function reads the data for one 10X spatial experiment into the anndata object.\n",
    "    It also calculates QC metrics. Modify this function if required by your workflow.\n",
    "\n",
    "    :param sample_name: Name of the sample\n",
    "    :param path: path to data\n",
    "    \"\"\"\n",
    "\n",
    "    adata = sc.read_visium(path + str(sample_name),\n",
    "                           count_file='filtered_feature_bc_matrix.h5', load_images=True)\n",
    "    adata.var_names_make_unique(join='-')\n",
    "    \n",
    "    adata.obs['sample'] = sample_name\n",
    "    \n",
    "    # rename genes to ENSEMBL\n",
    "    adata.var['SYMBOL'] = adata.var_names\n",
    "    adata.var_names = adata.var['gene_ids']\n",
    "    adata.var_names.name = None\n",
    "\n",
    "    # Calculate QC metrics\n",
    "    sc.pp.calculate_qc_metrics(adata, inplace=True)\n",
    "    adata.var['mt'] = [gene.startswith('MT-') for gene in adata.var['SYMBOL']]\n",
    "    adata.obs['mt_frac'] = adata[:, adata.var['mt'].tolist()].X.sum(1).A.squeeze()/adata.obs['total_counts']\n",
    "\n",
    "    # add sample name to obs names\n",
    "    adata.obs[\"sample\"] = [str(i) for i in adata.obs['sample']]\n",
    "    adata.obs_names = adata.obs[\"sample\"] \\\n",
    "                          + '_' + adata.obs_names\n",
    "    adata.obs.index.name = 'spot_id'\n",
    "\n",
    "    return adata\n",
    "\n",
    "def select_slide(adata, s, s_col='sample'):\n",
    "    r\"\"\" This function selects the data for one slide from the spatial anndata object.\n",
    "\n",
    "    :param adata: Anndata object with multiple spatial experiments\n",
    "    :param s: name of selected experiment\n",
    "    :param s_col: column in adata.obs listing experiment name for each location\n",
    "    \"\"\"\n",
    "\n",
    "    slide = adata[adata.obs[s_col].isin([s]), :]\n",
    "    s_keys = list(slide.uns['spatial'].keys())\n",
    "    s_spatial = np.array(s_keys)[[s in k for k in s_keys]][0]\n",
    "\n",
    "    slide.uns['spatial'] = {s_spatial: slide.uns['spatial'][s_spatial]}\n",
    "\n",
    "    return slide"
   ]
  },
  {
   "cell_type": "code",
   "execution_count": 3,
   "id": "involved-business",
   "metadata": {},
   "outputs": [],
   "source": [
    "#meta = pd.read_csv('/lustre/scratch117/cellgen/team205/rl20/kidney_final/Visium/spaceranger/meta_visium.csv')\n",
    "#meta"
   ]
  },
  {
   "cell_type": "markdown",
   "id": "dressed-treatment",
   "metadata": {},
   "source": [
    "## Data, parameters"
   ]
  },
  {
   "cell_type": "code",
   "execution_count": 3,
   "id": "dedicated-experiment",
   "metadata": {},
   "outputs": [],
   "source": [
    "results_folder = '/home/jupyter/CTCL/Visium/cell2loc_out'\n",
    "\n",
    "# create paths and names to results folders for reference regression and cell2location models\n",
    "ref_run_name = f'{results_folder}/reference_signatures'\n",
    "run_name = f'{results_folder}/cell2location_map_allsamples'"
   ]
  },
  {
   "cell_type": "code",
   "execution_count": 4,
   "id": "mental-publisher",
   "metadata": {},
   "outputs": [],
   "source": [
    "#celltype_key='annotation'\n",
    "#sampleIDs = meta['sample_id']\n",
    "#sampleIDs = list(map(str, sampleIDs))\n",
    "#sp_data_folder = '/lustre/scratch117/cellgen/team205/rl20/kidney_final/spaceranger'\n",
    "#sampleIDs"
   ]
  },
  {
   "cell_type": "code",
   "execution_count": 5,
   "id": "white-citizen",
   "metadata": {},
   "outputs": [],
   "source": [
    "input_file = '/home/jupyter/visium_merge.h5ad'\n",
    "adata_vis = sc.read_h5ad(input_file)"
   ]
  },
  {
   "cell_type": "code",
   "execution_count": 6,
   "id": "4e3c95d8-cd0c-426d-a5e2-61318317c7da",
   "metadata": {},
   "outputs": [
    {
     "data": {
      "text/plain": [
       "spaceranger210_count_47757_HCA_sCTCL13876505-GRCh38-2020-A    1040\n",
       "spaceranger210_count_47757_HCA_sCTCL13876503-GRCh38-2020-A     811\n",
       "spaceranger210_count_47555_HCA_sCTCL13787193-GRCh38-2020-A     712\n",
       "spaceranger210_count_47757_HCA_sCTCL13876504-GRCh38-2020-A     658\n",
       "spaceranger210_count_47555_HCA_sCTCL13787192-GRCh38-2020-A     629\n",
       "spaceranger210_count_47555_HCA_sCTCL13787190-GRCh38-2020-A     487\n",
       "spaceranger210_count_47757_HCA_sCTCL13876502-GRCh38-2020-A     389\n",
       "spaceranger210_count_47555_HCA_sCTCL13787191-GRCh38-2020-A     305\n",
       "Name: sample, dtype: int64"
      ]
     },
     "execution_count": 6,
     "metadata": {},
     "output_type": "execute_result"
    }
   ],
   "source": [
    "adata_vis.obs['sample'].value_counts()"
   ]
  },
  {
   "cell_type": "markdown",
   "id": "lesbian-fence",
   "metadata": {
    "tags": []
   },
   "source": [
    "## cell2location mapping"
   ]
  },
  {
   "cell_type": "code",
   "execution_count": 7,
   "id": "adopted-newman",
   "metadata": {
    "scrolled": true
   },
   "outputs": [
    {
     "name": "stdout",
     "output_type": "stream",
     "text": [
      "\u001b[34mINFO    \u001b[0m Using batches from adata.obs\u001b[1m[\u001b[0m\u001b[32m\"sample\"\u001b[0m\u001b[1m]\u001b[0m                                              \n",
      "\u001b[34mINFO    \u001b[0m No label_key inputted, assuming all cells have same label                           \n",
      "\u001b[34mINFO    \u001b[0m Using data from adata.X                                                             \n"
     ]
    },
    {
     "name": "stderr",
     "output_type": "stream",
     "text": [
      "/opt/conda/envs/cell2loc_env/lib/python3.9/site-packages/sklearn/utils/deprecation.py:87: FutureWarning: Function setup_anndata is deprecated; Please use the model-specific setup_anndata methods instead. The global method will be removed in version 0.15.0.\n"
     ]
    },
    {
     "name": "stdout",
     "output_type": "stream",
     "text": [
      "\u001b[34mINFO    \u001b[0m Successfully registered anndata object containing \u001b[1;36m5031\u001b[0m cells, \u001b[1;36m11843\u001b[0m vars, \u001b[1;36m8\u001b[0m batches,\n",
      "         \u001b[1;36m1\u001b[0m labels, and \u001b[1;36m0\u001b[0m proteins. Also registered \u001b[1;36m0\u001b[0m extra categorical covariates and \u001b[1;36m0\u001b[0m extra\n",
      "         continuous covariates.                                                              \n",
      "\u001b[34mINFO    \u001b[0m Please do not further modify adata until model is trained.                          \n"
     ]
    },
    {
     "name": "stderr",
     "output_type": "stream",
     "text": [
      "/opt/conda/envs/cell2loc_env/lib/python3.9/site-packages/sklearn/utils/deprecation.py:87: FutureWarning: Function view_anndata_setup is deprecated; This method will be removed in 0.15.0. Please avoid building any new dependencies on it.\n"
     ]
    },
    {
     "data": {
      "text/html": [
       "<pre style=\"white-space:pre;overflow-x:auto;line-height:normal;font-family:Menlo,'DejaVu Sans Mono',consolas,'Courier New',monospace\">Anndata setup with scvi-tools version <span style=\"color: #008080; text-decoration-color: #008080; font-weight: bold\">0.14</span>.<span style=\"color: #008080; text-decoration-color: #008080; font-weight: bold\">6</span>.\n",
       "</pre>\n"
      ],
      "text/plain": [
       "Anndata setup with scvi-tools version \u001b[1;36m0.14\u001b[0m.\u001b[1;36m6\u001b[0m.\n"
      ]
     },
     "metadata": {},
     "output_type": "display_data"
    },
    {
     "data": {
      "text/html": [
       "<pre style=\"white-space:pre;overflow-x:auto;line-height:normal;font-family:Menlo,'DejaVu Sans Mono',consolas,'Courier New',monospace\"><span style=\"font-style: italic\">              Data Summary              </span>\n",
       "┏━━━━━━━━━━━━━━━━━━━━━━━━━━━━━━┳━━━━━━━┓\n",
       "┃<span style=\"font-weight: bold\">             Data             </span>┃<span style=\"font-weight: bold\"> Count </span>┃\n",
       "┡━━━━━━━━━━━━━━━━━━━━━━━━━━━━━━╇━━━━━━━┩\n",
       "│<span style=\"color: #0087ff; text-decoration-color: #0087ff\">            Cells             </span>│<span style=\"color: #af00d7; text-decoration-color: #af00d7\"> 5031  </span>│\n",
       "│<span style=\"color: #0087ff; text-decoration-color: #0087ff\">             Vars             </span>│<span style=\"color: #af00d7; text-decoration-color: #af00d7\"> 11843 </span>│\n",
       "│<span style=\"color: #0087ff; text-decoration-color: #0087ff\">            Labels            </span>│<span style=\"color: #af00d7; text-decoration-color: #af00d7\">   1   </span>│\n",
       "│<span style=\"color: #0087ff; text-decoration-color: #0087ff\">           Batches            </span>│<span style=\"color: #af00d7; text-decoration-color: #af00d7\">   8   </span>│\n",
       "│<span style=\"color: #0087ff; text-decoration-color: #0087ff\">           Proteins           </span>│<span style=\"color: #af00d7; text-decoration-color: #af00d7\">   0   </span>│\n",
       "│<span style=\"color: #0087ff; text-decoration-color: #0087ff\"> Extra Categorical Covariates </span>│<span style=\"color: #af00d7; text-decoration-color: #af00d7\">   0   </span>│\n",
       "│<span style=\"color: #0087ff; text-decoration-color: #0087ff\"> Extra Continuous Covariates  </span>│<span style=\"color: #af00d7; text-decoration-color: #af00d7\">   0   </span>│\n",
       "└──────────────────────────────┴───────┘\n",
       "</pre>\n"
      ],
      "text/plain": [
       "\u001b[3m              Data Summary              \u001b[0m\n",
       "┏━━━━━━━━━━━━━━━━━━━━━━━━━━━━━━┳━━━━━━━┓\n",
       "┃\u001b[1m \u001b[0m\u001b[1m            Data            \u001b[0m\u001b[1m \u001b[0m┃\u001b[1m \u001b[0m\u001b[1mCount\u001b[0m\u001b[1m \u001b[0m┃\n",
       "┡━━━━━━━━━━━━━━━━━━━━━━━━━━━━━━╇━━━━━━━┩\n",
       "│\u001b[38;5;33m \u001b[0m\u001b[38;5;33m           Cells            \u001b[0m\u001b[38;5;33m \u001b[0m│\u001b[38;5;128m \u001b[0m\u001b[38;5;128m5031 \u001b[0m\u001b[38;5;128m \u001b[0m│\n",
       "│\u001b[38;5;33m \u001b[0m\u001b[38;5;33m            Vars            \u001b[0m\u001b[38;5;33m \u001b[0m│\u001b[38;5;128m \u001b[0m\u001b[38;5;128m11843\u001b[0m\u001b[38;5;128m \u001b[0m│\n",
       "│\u001b[38;5;33m \u001b[0m\u001b[38;5;33m           Labels           \u001b[0m\u001b[38;5;33m \u001b[0m│\u001b[38;5;128m \u001b[0m\u001b[38;5;128m  1  \u001b[0m\u001b[38;5;128m \u001b[0m│\n",
       "│\u001b[38;5;33m \u001b[0m\u001b[38;5;33m          Batches           \u001b[0m\u001b[38;5;33m \u001b[0m│\u001b[38;5;128m \u001b[0m\u001b[38;5;128m  8  \u001b[0m\u001b[38;5;128m \u001b[0m│\n",
       "│\u001b[38;5;33m \u001b[0m\u001b[38;5;33m          Proteins          \u001b[0m\u001b[38;5;33m \u001b[0m│\u001b[38;5;128m \u001b[0m\u001b[38;5;128m  0  \u001b[0m\u001b[38;5;128m \u001b[0m│\n",
       "│\u001b[38;5;33m \u001b[0m\u001b[38;5;33mExtra Categorical Covariates\u001b[0m\u001b[38;5;33m \u001b[0m│\u001b[38;5;128m \u001b[0m\u001b[38;5;128m  0  \u001b[0m\u001b[38;5;128m \u001b[0m│\n",
       "│\u001b[38;5;33m \u001b[0m\u001b[38;5;33mExtra Continuous Covariates \u001b[0m\u001b[38;5;33m \u001b[0m│\u001b[38;5;128m \u001b[0m\u001b[38;5;128m  0  \u001b[0m\u001b[38;5;128m \u001b[0m│\n",
       "└──────────────────────────────┴───────┘\n"
      ]
     },
     "metadata": {},
     "output_type": "display_data"
    },
    {
     "data": {
      "text/html": [
       "<pre style=\"white-space:pre;overflow-x:auto;line-height:normal;font-family:Menlo,'DejaVu Sans Mono',consolas,'Courier New',monospace\"><span style=\"font-style: italic\">             SCVI Data Registry              </span>\n",
       "┏━━━━━━━━━━━━━━━┳━━━━━━━━━━━━━━━━━━━━━━━━━━━┓\n",
       "┃<span style=\"font-weight: bold\">     Data      </span>┃<span style=\"font-weight: bold\">    scvi-tools Location    </span>┃\n",
       "┡━━━━━━━━━━━━━━━╇━━━━━━━━━━━━━━━━━━━━━━━━━━━┩\n",
       "│<span style=\"color: #0087ff; text-decoration-color: #0087ff\">       X       </span>│<span style=\"color: #af00d7; text-decoration-color: #af00d7\">          adata.X          </span>│\n",
       "│<span style=\"color: #0087ff; text-decoration-color: #0087ff\"> batch_indices </span>│<span style=\"color: #af00d7; text-decoration-color: #af00d7\"> adata.obs['_scvi_batch']  </span>│\n",
       "│<span style=\"color: #0087ff; text-decoration-color: #0087ff\">    labels     </span>│<span style=\"color: #af00d7; text-decoration-color: #af00d7\"> adata.obs['_scvi_labels'] </span>│\n",
       "└───────────────┴───────────────────────────┘\n",
       "</pre>\n"
      ],
      "text/plain": [
       "\u001b[3m             SCVI Data Registry              \u001b[0m\n",
       "┏━━━━━━━━━━━━━━━┳━━━━━━━━━━━━━━━━━━━━━━━━━━━┓\n",
       "┃\u001b[1m \u001b[0m\u001b[1m    Data     \u001b[0m\u001b[1m \u001b[0m┃\u001b[1m \u001b[0m\u001b[1m   scvi-tools Location   \u001b[0m\u001b[1m \u001b[0m┃\n",
       "┡━━━━━━━━━━━━━━━╇━━━━━━━━━━━━━━━━━━━━━━━━━━━┩\n",
       "│\u001b[38;5;33m \u001b[0m\u001b[38;5;33m      X      \u001b[0m\u001b[38;5;33m \u001b[0m│\u001b[38;5;128m \u001b[0m\u001b[38;5;128m         adata.X         \u001b[0m\u001b[38;5;128m \u001b[0m│\n",
       "│\u001b[38;5;33m \u001b[0m\u001b[38;5;33mbatch_indices\u001b[0m\u001b[38;5;33m \u001b[0m│\u001b[38;5;128m \u001b[0m\u001b[38;5;128madata.obs['_scvi_batch'] \u001b[0m\u001b[38;5;128m \u001b[0m│\n",
       "│\u001b[38;5;33m \u001b[0m\u001b[38;5;33m   labels    \u001b[0m\u001b[38;5;33m \u001b[0m│\u001b[38;5;128m \u001b[0m\u001b[38;5;128madata.obs['_scvi_labels']\u001b[0m\u001b[38;5;128m \u001b[0m│\n",
       "└───────────────┴───────────────────────────┘\n"
      ]
     },
     "metadata": {},
     "output_type": "display_data"
    },
    {
     "data": {
      "text/html": [
       "<pre style=\"white-space:pre;overflow-x:auto;line-height:normal;font-family:Menlo,'DejaVu Sans Mono',consolas,'Courier New',monospace\"><span style=\"font-style: italic\">                        Label Categories                        </span>\n",
       "┏━━━━━━━━━━━━━━━━━━━━━━━━━━━┳━━━━━━━━━━━━┳━━━━━━━━━━━━━━━━━━━━━┓\n",
       "┃<span style=\"font-weight: bold\">      Source Location      </span>┃<span style=\"font-weight: bold\"> Categories </span>┃<span style=\"font-weight: bold\"> scvi-tools Encoding </span>┃\n",
       "┡━━━━━━━━━━━━━━━━━━━━━━━━━━━╇━━━━━━━━━━━━╇━━━━━━━━━━━━━━━━━━━━━┩\n",
       "│<span style=\"color: #0087ff; text-decoration-color: #0087ff\"> adata.obs['_scvi_labels'] </span>│<span style=\"color: #008000; text-decoration-color: #008000\">     0      </span>│<span style=\"color: #af00d7; text-decoration-color: #af00d7\">          0          </span>│\n",
       "└───────────────────────────┴────────────┴─────────────────────┘\n",
       "</pre>\n"
      ],
      "text/plain": [
       "\u001b[3m                        Label Categories                        \u001b[0m\n",
       "┏━━━━━━━━━━━━━━━━━━━━━━━━━━━┳━━━━━━━━━━━━┳━━━━━━━━━━━━━━━━━━━━━┓\n",
       "┃\u001b[1m \u001b[0m\u001b[1m     Source Location     \u001b[0m\u001b[1m \u001b[0m┃\u001b[1m \u001b[0m\u001b[1mCategories\u001b[0m\u001b[1m \u001b[0m┃\u001b[1m \u001b[0m\u001b[1mscvi-tools Encoding\u001b[0m\u001b[1m \u001b[0m┃\n",
       "┡━━━━━━━━━━━━━━━━━━━━━━━━━━━╇━━━━━━━━━━━━╇━━━━━━━━━━━━━━━━━━━━━┩\n",
       "│\u001b[38;5;33m \u001b[0m\u001b[38;5;33madata.obs['_scvi_labels']\u001b[0m\u001b[38;5;33m \u001b[0m│\u001b[32m \u001b[0m\u001b[32m    0     \u001b[0m\u001b[32m \u001b[0m│\u001b[38;5;128m \u001b[0m\u001b[38;5;128m         0         \u001b[0m\u001b[38;5;128m \u001b[0m│\n",
       "└───────────────────────────┴────────────┴─────────────────────┘\n"
      ]
     },
     "metadata": {},
     "output_type": "display_data"
    },
    {
     "data": {
      "text/html": [
       "<pre style=\"white-space:pre;overflow-x:auto;line-height:normal;font-family:Menlo,'DejaVu Sans Mono',consolas,'Courier New',monospace\"><span style=\"font-style: italic\">                                      Batch Categories                                       </span>\n",
       "┏━━━━━━━━━━━━━━━━━┳━━━━━━━━━━━━━━━━━━━━━━━━━━━━━━━━━━━━━━━━━━━━━━━━━━━━━━━━┳━━━━━━━━━━━━━━━━┓\n",
       "┃<span style=\"font-weight: bold\"> Source Location </span>┃<span style=\"font-weight: bold\">                       Categories                       </span>┃<span style=\"font-weight: bold\"> scvi-tools Enc </span>┃\n",
       "┡━━━━━━━━━━━━━━━━━╇━━━━━━━━━━━━━━━━━━━━━━━━━━━━━━━━━━━━━━━━━━━━━━━━━━━━━━━━╇━━━━━━━━━━━━━━━━┩\n",
       "│<span style=\"color: #0087ff; text-decoration-color: #0087ff\"> adata.obs['samp </span>│<span style=\"color: #008000; text-decoration-color: #008000\"> spaceranger210_count_47555_HCA_sCTCL13787190-GRCh38-20 </span>│<span style=\"color: #af00d7; text-decoration-color: #af00d7\">       0        </span>│\n",
       "│<span style=\"color: #0087ff; text-decoration-color: #0087ff\">                 </span>│<span style=\"color: #008000; text-decoration-color: #008000\"> spaceranger210_count_47555_HCA_sCTCL13787191-GRCh38-20 </span>│<span style=\"color: #af00d7; text-decoration-color: #af00d7\">       1        </span>│\n",
       "│<span style=\"color: #0087ff; text-decoration-color: #0087ff\">                 </span>│<span style=\"color: #008000; text-decoration-color: #008000\"> spaceranger210_count_47555_HCA_sCTCL13787192-GRCh38-20 </span>│<span style=\"color: #af00d7; text-decoration-color: #af00d7\">       2        </span>│\n",
       "│<span style=\"color: #0087ff; text-decoration-color: #0087ff\">                 </span>│<span style=\"color: #008000; text-decoration-color: #008000\"> spaceranger210_count_47555_HCA_sCTCL13787193-GRCh38-20 </span>│<span style=\"color: #af00d7; text-decoration-color: #af00d7\">       3        </span>│\n",
       "│<span style=\"color: #0087ff; text-decoration-color: #0087ff\">                 </span>│<span style=\"color: #008000; text-decoration-color: #008000\"> spaceranger210_count_47757_HCA_sCTCL13876502-GRCh38-20 </span>│<span style=\"color: #af00d7; text-decoration-color: #af00d7\">       4        </span>│\n",
       "│<span style=\"color: #0087ff; text-decoration-color: #0087ff\">                 </span>│<span style=\"color: #008000; text-decoration-color: #008000\"> spaceranger210_count_47757_HCA_sCTCL13876503-GRCh38-20 </span>│<span style=\"color: #af00d7; text-decoration-color: #af00d7\">       5        </span>│\n",
       "│<span style=\"color: #0087ff; text-decoration-color: #0087ff\">                 </span>│<span style=\"color: #008000; text-decoration-color: #008000\"> spaceranger210_count_47757_HCA_sCTCL13876504-GRCh38-20 </span>│<span style=\"color: #af00d7; text-decoration-color: #af00d7\">       6        </span>│\n",
       "│<span style=\"color: #0087ff; text-decoration-color: #0087ff\">                 </span>│<span style=\"color: #008000; text-decoration-color: #008000\"> spaceranger210_count_47757_HCA_sCTCL13876505-GRCh38-20 </span>│<span style=\"color: #af00d7; text-decoration-color: #af00d7\">       7        </span>│\n",
       "└─────────────────┴────────────────────────────────────────────────────────┴────────────────┘\n",
       "</pre>\n"
      ],
      "text/plain": [
       "\u001b[3m                                      Batch Categories                                       \u001b[0m\n",
       "┏━━━━━━━━━━━━━━━━━┳━━━━━━━━━━━━━━━━━━━━━━━━━━━━━━━━━━━━━━━━━━━━━━━━━━━━━━━━┳━━━━━━━━━━━━━━━━┓\n",
       "┃\u001b[1m \u001b[0m\u001b[1mSource Location\u001b[0m\u001b[1m \u001b[0m┃\u001b[1m \u001b[0m\u001b[1m                      Categories                      \u001b[0m\u001b[1m \u001b[0m┃\u001b[1m \u001b[0m\u001b[1mscvi-tools Enc\u001b[0m\u001b[1m \u001b[0m┃\n",
       "┡━━━━━━━━━━━━━━━━━╇━━━━━━━━━━━━━━━━━━━━━━━━━━━━━━━━━━━━━━━━━━━━━━━━━━━━━━━━╇━━━━━━━━━━━━━━━━┩\n",
       "│\u001b[38;5;33m \u001b[0m\u001b[38;5;33madata.obs['samp\u001b[0m\u001b[38;5;33m \u001b[0m│\u001b[32m \u001b[0m\u001b[32mspaceranger210_count_47555_HCA_sCTCL13787190-GRCh38-20\u001b[0m\u001b[32m \u001b[0m│\u001b[38;5;128m \u001b[0m\u001b[38;5;128m      0       \u001b[0m\u001b[38;5;128m \u001b[0m│\n",
       "│\u001b[38;5;33m \u001b[0m\u001b[38;5;33m               \u001b[0m\u001b[38;5;33m \u001b[0m│\u001b[32m \u001b[0m\u001b[32mspaceranger210_count_47555_HCA_sCTCL13787191-GRCh38-20\u001b[0m\u001b[32m \u001b[0m│\u001b[38;5;128m \u001b[0m\u001b[38;5;128m      1       \u001b[0m\u001b[38;5;128m \u001b[0m│\n",
       "│\u001b[38;5;33m \u001b[0m\u001b[38;5;33m               \u001b[0m\u001b[38;5;33m \u001b[0m│\u001b[32m \u001b[0m\u001b[32mspaceranger210_count_47555_HCA_sCTCL13787192-GRCh38-20\u001b[0m\u001b[32m \u001b[0m│\u001b[38;5;128m \u001b[0m\u001b[38;5;128m      2       \u001b[0m\u001b[38;5;128m \u001b[0m│\n",
       "│\u001b[38;5;33m \u001b[0m\u001b[38;5;33m               \u001b[0m\u001b[38;5;33m \u001b[0m│\u001b[32m \u001b[0m\u001b[32mspaceranger210_count_47555_HCA_sCTCL13787193-GRCh38-20\u001b[0m\u001b[32m \u001b[0m│\u001b[38;5;128m \u001b[0m\u001b[38;5;128m      3       \u001b[0m\u001b[38;5;128m \u001b[0m│\n",
       "│\u001b[38;5;33m \u001b[0m\u001b[38;5;33m               \u001b[0m\u001b[38;5;33m \u001b[0m│\u001b[32m \u001b[0m\u001b[32mspaceranger210_count_47757_HCA_sCTCL13876502-GRCh38-20\u001b[0m\u001b[32m \u001b[0m│\u001b[38;5;128m \u001b[0m\u001b[38;5;128m      4       \u001b[0m\u001b[38;5;128m \u001b[0m│\n",
       "│\u001b[38;5;33m \u001b[0m\u001b[38;5;33m               \u001b[0m\u001b[38;5;33m \u001b[0m│\u001b[32m \u001b[0m\u001b[32mspaceranger210_count_47757_HCA_sCTCL13876503-GRCh38-20\u001b[0m\u001b[32m \u001b[0m│\u001b[38;5;128m \u001b[0m\u001b[38;5;128m      5       \u001b[0m\u001b[38;5;128m \u001b[0m│\n",
       "│\u001b[38;5;33m \u001b[0m\u001b[38;5;33m               \u001b[0m\u001b[38;5;33m \u001b[0m│\u001b[32m \u001b[0m\u001b[32mspaceranger210_count_47757_HCA_sCTCL13876504-GRCh38-20\u001b[0m\u001b[32m \u001b[0m│\u001b[38;5;128m \u001b[0m\u001b[38;5;128m      6       \u001b[0m\u001b[38;5;128m \u001b[0m│\n",
       "│\u001b[38;5;33m \u001b[0m\u001b[38;5;33m               \u001b[0m\u001b[38;5;33m \u001b[0m│\u001b[32m \u001b[0m\u001b[32mspaceranger210_count_47757_HCA_sCTCL13876505-GRCh38-20\u001b[0m\u001b[32m \u001b[0m│\u001b[38;5;128m \u001b[0m\u001b[38;5;128m      7       \u001b[0m\u001b[38;5;128m \u001b[0m│\n",
       "└─────────────────┴────────────────────────────────────────────────────────┴────────────────┘\n"
      ]
     },
     "metadata": {},
     "output_type": "display_data"
    },
    {
     "name": "stderr",
     "output_type": "stream",
     "text": [
      "GPU available: True, used: True\n",
      "TPU available: False, using: 0 TPU cores\n",
      "/opt/conda/envs/cell2loc_env/lib/python3.9/site-packages/pytorch_lightning/trainer/configuration_validator.py:99: UserWarning: you passed in a val_dataloader but have no validation_step. Skipping val loop\n",
      "LOCAL_RANK: 0 - CUDA_VISIBLE_DEVICES: [0]\n"
     ]
    },
    {
     "name": "stdout",
     "output_type": "stream",
     "text": [
      "Epoch 20000/20000: 100%|██████████| 20000/20000 [1:08:18<00:00,  4.88it/s, v_num=1, elbo_train=5.58e+7]\n",
      "CPU times: user 50min 36s, sys: 18min 17s, total: 1h 8min 54s\n",
      "Wall time: 1h 8min 55s\n"
     ]
    },
    {
     "data": {
      "text/plain": [
       "<matplotlib.legend.Legend at 0x7ff6d445a160>"
      ]
     },
     "execution_count": 7,
     "metadata": {},
     "output_type": "execute_result"
    },
    {
     "data": {
      "image/png": "[encoded data removed]",
      "text/plain": [
       "<Figure size 432x288 with 1 Axes>"
      ]
     },
     "metadata": {
      "needs_background": "light"
     },
     "output_type": "display_data"
    }
   ],
   "source": [
    "%%time\n",
    "\n",
    "    \n",
    "# read in reference signatures\n",
    "inf_aver = pd.read_csv(f\"{ref_run_name}/inf_aver.csv\", index_col=0)\n",
    "\n",
    "# find shared genes and subset both anndata and reference signatures\n",
    "intersect = np.intersect1d(adata_vis.var_names, inf_aver.index)\n",
    "adata_vis = adata_vis[:, intersect].copy()\n",
    "inf_aver = inf_aver.loc[intersect, :].copy()\n",
    "\n",
    "# prepare anndata for cell2location model\n",
    "scvi.data.setup_anndata(adata=adata_vis, batch_key=\"sample\")\n",
    "scvi.data.view_anndata_setup(adata_vis)\n",
    "\n",
    "# create and train the model\n",
    "mod = cell2location.models.Cell2location(\n",
    "    adata_vis, cell_state_df=inf_aver, \n",
    "    # the expected average cell abundance: tissue-dependent \n",
    "    # hyper-prior which can be estimated from paired histology:\n",
    "    N_cells_per_location=7,\n",
    "    # hyperparameter controlling normalisation of\n",
    "    # within-experiment variation in RNA detection (using default here):\n",
    "    detection_alpha=20\n",
    ") \n",
    "\n",
    "mod.train(max_epochs=20000, \n",
    "          # train using full data (batch_size=None)\n",
    "          batch_size=None, \n",
    "          # use all data points in training because \n",
    "          # we need to estimate cell abundance at all locations\n",
    "          train_size=1,\n",
    "          use_gpu=True)\n",
    "\n",
    "# plot ELBO loss history during training, removing first 100 epochs from the plot\n",
    "mod.plot_history(1000)\n",
    "plt.legend(labels=['full data training']);\n"
   ]
  },
  {
   "cell_type": "code",
   "execution_count": 8,
   "id": "perfect-pension",
   "metadata": {},
   "outputs": [
    {
     "name": "stdout",
     "output_type": "stream",
     "text": [
      "Sampling local variables, batch: 100%|██████████| 1/1 [00:38<00:00, 38.77s/it]\n",
      "Sampling global variables, sample: 100%|██████████| 999/999 [00:37<00:00, 26.55it/s]\n"
     ]
    },
    {
     "data": {
      "image/png": "[encoded data removed]",
      "text/plain": [
       "<Figure size 432x288 with 1 Axes>"
      ]
     },
     "metadata": {
      "needs_background": "light"
     },
     "output_type": "display_data"
    }
   ],
   "source": [
    "# In this section, we export the estimated cell abundance (summary of the posterior distribution).\n",
    "adata_vis = mod.export_posterior(\n",
    "    adata_vis, sample_kwargs={'num_samples': 1000, 'batch_size': mod.adata.n_obs, 'use_gpu': True}\n",
    ")\n",
    "\n",
    "# Save model\n",
    "mod.save(f\"{run_name}\", overwrite=True)\n",
    "\n",
    "# Save anndata object with results\n",
    "adata_vis.write(f\"{run_name}/sp.h5ad\")\n",
    "\n",
    "# Examine reconstruction accuracy to assess if there are any issues with mapping\n",
    "# the plot should be roughly diagonal, strong deviations will signal problems\n",
    "mod.plot_QC()"
   ]
  },
  {
   "cell_type": "code",
   "execution_count": null,
   "id": "rental-mapping",
   "metadata": {},
   "outputs": [
    {
     "name": "stdout",
     "output_type": "stream",
     "text": [
      "### Analysis name: CoLocatedGroupsSklearnNMF_5combinations_5031locations_47factors\n"
     ]
    },
    {
     "name": "stderr",
     "output_type": "stream",
     "text": [
      "/opt/conda/envs/cell2loc_env/lib/python3.9/site-packages/sklearn/decomposition/_nmf.py:1422: FutureWarning: `alpha` was deprecated in version 1.0 and will be removed in 1.2. Use `alpha_W` and `alpha_H` instead\n",
      "/opt/conda/envs/cell2loc_env/lib/python3.9/site-packages/sklearn/decomposition/_nmf.py:1422: FutureWarning: `alpha` was deprecated in version 1.0 and will be removed in 1.2. Use `alpha_W` and `alpha_H` instead\n",
      "/opt/conda/envs/cell2loc_env/lib/python3.9/site-packages/sklearn/decomposition/_nmf.py:1422: FutureWarning: `alpha` was deprecated in version 1.0 and will be removed in 1.2. Use `alpha_W` and `alpha_H` instead\n"
     ]
    },
    {
     "name": "stdout",
     "output_type": "stream",
     "text": [
      "WARNING: saving figure to file /home/jupyter/CTCL/Visium/cell2loc_out/cell2location_map_allsamples/CoLocatedComb/CoLocatedGroupsSklearnNMF_5031locations_47factors/spatial/showcell_density_mean_n_fact5_sspaceranger210_count_47555_HCA_sCTCL13787190-GRCh38-2020-A_p99.2.pdf\n",
      "WARNING: saving figure to file /home/jupyter/CTCL/Visium/cell2loc_out/cell2location_map_allsamples/CoLocatedComb/CoLocatedGroupsSklearnNMF_5031locations_47factors/spatial/showcell_density_mean_n_fact5_sspaceranger210_count_47555_HCA_sCTCL13787191-GRCh38-2020-A_p99.2.pdf\n",
      "WARNING: saving figure to file /home/jupyter/CTCL/Visium/cell2loc_out/cell2location_map_allsamples/CoLocatedComb/CoLocatedGroupsSklearnNMF_5031locations_47factors/spatial/showcell_density_mean_n_fact5_sspaceranger210_count_47555_HCA_sCTCL13787192-GRCh38-2020-A_p99.2.pdf\n",
      "WARNING: saving figure to file /home/jupyter/CTCL/Visium/cell2loc_out/cell2location_map_allsamples/CoLocatedComb/CoLocatedGroupsSklearnNMF_5031locations_47factors/spatial/showcell_density_mean_n_fact5_sspaceranger210_count_47555_HCA_sCTCL13787193-GRCh38-2020-A_p99.2.pdf\n",
      "WARNING: saving figure to file /home/jupyter/CTCL/Visium/cell2loc_out/cell2location_map_allsamples/CoLocatedComb/CoLocatedGroupsSklearnNMF_5031locations_47factors/spatial/showcell_density_mean_n_fact5_sspaceranger210_count_47757_HCA_sCTCL13876502-GRCh38-2020-A_p99.2.pdf\n",
      "WARNING: saving figure to file /home/jupyter/CTCL/Visium/cell2loc_out/cell2location_map_allsamples/CoLocatedComb/CoLocatedGroupsSklearnNMF_5031locations_47factors/spatial/showcell_density_mean_n_fact5_sspaceranger210_count_47757_HCA_sCTCL13876503-GRCh38-2020-A_p99.2.pdf\n",
      "WARNING: saving figure to file /home/jupyter/CTCL/Visium/cell2loc_out/cell2location_map_allsamples/CoLocatedComb/CoLocatedGroupsSklearnNMF_5031locations_47factors/spatial/showcell_density_mean_n_fact5_sspaceranger210_count_47757_HCA_sCTCL13876504-GRCh38-2020-A_p99.2.pdf\n",
      "WARNING: saving figure to file /home/jupyter/CTCL/Visium/cell2loc_out/cell2location_map_allsamples/CoLocatedComb/CoLocatedGroupsSklearnNMF_5031locations_47factors/spatial/showcell_density_mean_n_fact5_sspaceranger210_count_47757_HCA_sCTCL13876505-GRCh38-2020-A_p99.2.pdf\n",
      "### Analysis name: CoLocatedGroupsSklearnNMF_6combinations_5031locations_47factors\n"
     ]
    },
    {
     "name": "stderr",
     "output_type": "stream",
     "text": [
      "/opt/conda/envs/cell2loc_env/lib/python3.9/site-packages/sklearn/decomposition/_nmf.py:1422: FutureWarning: `alpha` was deprecated in version 1.0 and will be removed in 1.2. Use `alpha_W` and `alpha_H` instead\n",
      "/opt/conda/envs/cell2loc_env/lib/python3.9/site-packages/sklearn/decomposition/_nmf.py:1422: FutureWarning: `alpha` was deprecated in version 1.0 and will be removed in 1.2. Use `alpha_W` and `alpha_H` instead\n",
      "/opt/conda/envs/cell2loc_env/lib/python3.9/site-packages/sklearn/decomposition/_nmf.py:1422: FutureWarning: `alpha` was deprecated in version 1.0 and will be removed in 1.2. Use `alpha_W` and `alpha_H` instead\n"
     ]
    },
    {
     "name": "stdout",
     "output_type": "stream",
     "text": [
      "WARNING: saving figure to file /home/jupyter/CTCL/Visium/cell2loc_out/cell2location_map_allsamples/CoLocatedComb/CoLocatedGroupsSklearnNMF_5031locations_47factors/spatial/showcell_density_mean_n_fact6_sspaceranger210_count_47555_HCA_sCTCL13787190-GRCh38-2020-A_p99.2.pdf\n",
      "WARNING: saving figure to file /home/jupyter/CTCL/Visium/cell2loc_out/cell2location_map_allsamples/CoLocatedComb/CoLocatedGroupsSklearnNMF_5031locations_47factors/spatial/showcell_density_mean_n_fact6_sspaceranger210_count_47555_HCA_sCTCL13787191-GRCh38-2020-A_p99.2.pdf\n",
      "WARNING: saving figure to file /home/jupyter/CTCL/Visium/cell2loc_out/cell2location_map_allsamples/CoLocatedComb/CoLocatedGroupsSklearnNMF_5031locations_47factors/spatial/showcell_density_mean_n_fact6_sspaceranger210_count_47555_HCA_sCTCL13787192-GRCh38-2020-A_p99.2.pdf\n",
      "WARNING: saving figure to file /home/jupyter/CTCL/Visium/cell2loc_out/cell2location_map_allsamples/CoLocatedComb/CoLocatedGroupsSklearnNMF_5031locations_47factors/spatial/showcell_density_mean_n_fact6_sspaceranger210_count_47555_HCA_sCTCL13787193-GRCh38-2020-A_p99.2.pdf\n",
      "WARNING: saving figure to file /home/jupyter/CTCL/Visium/cell2loc_out/cell2location_map_allsamples/CoLocatedComb/CoLocatedGroupsSklearnNMF_5031locations_47factors/spatial/showcell_density_mean_n_fact6_sspaceranger210_count_47757_HCA_sCTCL13876502-GRCh38-2020-A_p99.2.pdf\n",
      "WARNING: saving figure to file /home/jupyter/CTCL/Visium/cell2loc_out/cell2location_map_allsamples/CoLocatedComb/CoLocatedGroupsSklearnNMF_5031locations_47factors/spatial/showcell_density_mean_n_fact6_sspaceranger210_count_47757_HCA_sCTCL13876503-GRCh38-2020-A_p99.2.pdf\n",
      "WARNING: saving figure to file /home/jupyter/CTCL/Visium/cell2loc_out/cell2location_map_allsamples/CoLocatedComb/CoLocatedGroupsSklearnNMF_5031locations_47factors/spatial/showcell_density_mean_n_fact6_sspaceranger210_count_47757_HCA_sCTCL13876504-GRCh38-2020-A_p99.2.pdf\n",
      "WARNING: saving figure to file /home/jupyter/CTCL/Visium/cell2loc_out/cell2location_map_allsamples/CoLocatedComb/CoLocatedGroupsSklearnNMF_5031locations_47factors/spatial/showcell_density_mean_n_fact6_sspaceranger210_count_47757_HCA_sCTCL13876505-GRCh38-2020-A_p99.2.pdf\n",
      "### Analysis name: CoLocatedGroupsSklearnNMF_7combinations_5031locations_47factors\n"
     ]
    },
    {
     "name": "stderr",
     "output_type": "stream",
     "text": [
      "/opt/conda/envs/cell2loc_env/lib/python3.9/site-packages/sklearn/decomposition/_nmf.py:1422: FutureWarning: `alpha` was deprecated in version 1.0 and will be removed in 1.2. Use `alpha_W` and `alpha_H` instead\n",
      "/opt/conda/envs/cell2loc_env/lib/python3.9/site-packages/sklearn/decomposition/_nmf.py:1422: FutureWarning: `alpha` was deprecated in version 1.0 and will be removed in 1.2. Use `alpha_W` and `alpha_H` instead\n",
      "/opt/conda/envs/cell2loc_env/lib/python3.9/site-packages/sklearn/decomposition/_nmf.py:1422: FutureWarning: `alpha` was deprecated in version 1.0 and will be removed in 1.2. Use `alpha_W` and `alpha_H` instead\n"
     ]
    },
    {
     "name": "stdout",
     "output_type": "stream",
     "text": [
      "WARNING: saving figure to file /home/jupyter/CTCL/Visium/cell2loc_out/cell2location_map_allsamples/CoLocatedComb/CoLocatedGroupsSklearnNMF_5031locations_47factors/spatial/showcell_density_mean_n_fact7_sspaceranger210_count_47555_HCA_sCTCL13787190-GRCh38-2020-A_p99.2.pdf\n",
      "WARNING: saving figure to file /home/jupyter/CTCL/Visium/cell2loc_out/cell2location_map_allsamples/CoLocatedComb/CoLocatedGroupsSklearnNMF_5031locations_47factors/spatial/showcell_density_mean_n_fact7_sspaceranger210_count_47555_HCA_sCTCL13787191-GRCh38-2020-A_p99.2.pdf\n",
      "WARNING: saving figure to file /home/jupyter/CTCL/Visium/cell2loc_out/cell2location_map_allsamples/CoLocatedComb/CoLocatedGroupsSklearnNMF_5031locations_47factors/spatial/showcell_density_mean_n_fact7_sspaceranger210_count_47555_HCA_sCTCL13787192-GRCh38-2020-A_p99.2.pdf\n",
      "WARNING: saving figure to file /home/jupyter/CTCL/Visium/cell2loc_out/cell2location_map_allsamples/CoLocatedComb/CoLocatedGroupsSklearnNMF_5031locations_47factors/spatial/showcell_density_mean_n_fact7_sspaceranger210_count_47555_HCA_sCTCL13787193-GRCh38-2020-A_p99.2.pdf\n",
      "WARNING: saving figure to file /home/jupyter/CTCL/Visium/cell2loc_out/cell2location_map_allsamples/CoLocatedComb/CoLocatedGroupsSklearnNMF_5031locations_47factors/spatial/showcell_density_mean_n_fact7_sspaceranger210_count_47757_HCA_sCTCL13876502-GRCh38-2020-A_p99.2.pdf\n",
      "WARNING: saving figure to file /home/jupyter/CTCL/Visium/cell2loc_out/cell2location_map_allsamples/CoLocatedComb/CoLocatedGroupsSklearnNMF_5031locations_47factors/spatial/showcell_density_mean_n_fact7_sspaceranger210_count_47757_HCA_sCTCL13876503-GRCh38-2020-A_p99.2.pdf\n",
      "WARNING: saving figure to file /home/jupyter/CTCL/Visium/cell2loc_out/cell2location_map_allsamples/CoLocatedComb/CoLocatedGroupsSklearnNMF_5031locations_47factors/spatial/showcell_density_mean_n_fact7_sspaceranger210_count_47757_HCA_sCTCL13876504-GRCh38-2020-A_p99.2.pdf\n",
      "WARNING: saving figure to file /home/jupyter/CTCL/Visium/cell2loc_out/cell2location_map_allsamples/CoLocatedComb/CoLocatedGroupsSklearnNMF_5031locations_47factors/spatial/showcell_density_mean_n_fact7_sspaceranger210_count_47757_HCA_sCTCL13876505-GRCh38-2020-A_p99.2.pdf\n",
      "### Analysis name: CoLocatedGroupsSklearnNMF_8combinations_5031locations_47factors\n"
     ]
    },
    {
     "name": "stderr",
     "output_type": "stream",
     "text": [
      "/opt/conda/envs/cell2loc_env/lib/python3.9/site-packages/sklearn/decomposition/_nmf.py:1422: FutureWarning: `alpha` was deprecated in version 1.0 and will be removed in 1.2. Use `alpha_W` and `alpha_H` instead\n",
      "/opt/conda/envs/cell2loc_env/lib/python3.9/site-packages/sklearn/decomposition/_nmf.py:1422: FutureWarning: `alpha` was deprecated in version 1.0 and will be removed in 1.2. Use `alpha_W` and `alpha_H` instead\n",
      "/opt/conda/envs/cell2loc_env/lib/python3.9/site-packages/sklearn/decomposition/_nmf.py:1422: FutureWarning: `alpha` was deprecated in version 1.0 and will be removed in 1.2. Use `alpha_W` and `alpha_H` instead\n"
     ]
    },
    {
     "name": "stdout",
     "output_type": "stream",
     "text": [
      "WARNING: saving figure to file /home/jupyter/CTCL/Visium/cell2loc_out/cell2location_map_allsamples/CoLocatedComb/CoLocatedGroupsSklearnNMF_5031locations_47factors/spatial/showcell_density_mean_n_fact8_sspaceranger210_count_47555_HCA_sCTCL13787190-GRCh38-2020-A_p99.2.pdf\n",
      "WARNING: saving figure to file /home/jupyter/CTCL/Visium/cell2loc_out/cell2location_map_allsamples/CoLocatedComb/CoLocatedGroupsSklearnNMF_5031locations_47factors/spatial/showcell_density_mean_n_fact8_sspaceranger210_count_47555_HCA_sCTCL13787191-GRCh38-2020-A_p99.2.pdf\n",
      "WARNING: saving figure to file /home/jupyter/CTCL/Visium/cell2loc_out/cell2location_map_allsamples/CoLocatedComb/CoLocatedGroupsSklearnNMF_5031locations_47factors/spatial/showcell_density_mean_n_fact8_sspaceranger210_count_47555_HCA_sCTCL13787192-GRCh38-2020-A_p99.2.pdf\n",
      "WARNING: saving figure to file /home/jupyter/CTCL/Visium/cell2loc_out/cell2location_map_allsamples/CoLocatedComb/CoLocatedGroupsSklearnNMF_5031locations_47factors/spatial/showcell_density_mean_n_fact8_sspaceranger210_count_47555_HCA_sCTCL13787193-GRCh38-2020-A_p99.2.pdf\n",
      "WARNING: saving figure to file /home/jupyter/CTCL/Visium/cell2loc_out/cell2location_map_allsamples/CoLocatedComb/CoLocatedGroupsSklearnNMF_5031locations_47factors/spatial/showcell_density_mean_n_fact8_sspaceranger210_count_47757_HCA_sCTCL13876502-GRCh38-2020-A_p99.2.pdf\n",
      "WARNING: saving figure to file /home/jupyter/CTCL/Visium/cell2loc_out/cell2location_map_allsamples/CoLocatedComb/CoLocatedGroupsSklearnNMF_5031locations_47factors/spatial/showcell_density_mean_n_fact8_sspaceranger210_count_47757_HCA_sCTCL13876503-GRCh38-2020-A_p99.2.pdf\n",
      "WARNING: saving figure to file /home/jupyter/CTCL/Visium/cell2loc_out/cell2location_map_allsamples/CoLocatedComb/CoLocatedGroupsSklearnNMF_5031locations_47factors/spatial/showcell_density_mean_n_fact8_sspaceranger210_count_47757_HCA_sCTCL13876504-GRCh38-2020-A_p99.2.pdf\n",
      "WARNING: saving figure to file /home/jupyter/CTCL/Visium/cell2loc_out/cell2location_map_allsamples/CoLocatedComb/CoLocatedGroupsSklearnNMF_5031locations_47factors/spatial/showcell_density_mean_n_fact8_sspaceranger210_count_47757_HCA_sCTCL13876505-GRCh38-2020-A_p99.2.pdf\n",
      "### Analysis name: CoLocatedGroupsSklearnNMF_9combinations_5031locations_47factors\n"
     ]
    },
    {
     "name": "stderr",
     "output_type": "stream",
     "text": [
      "/opt/conda/envs/cell2loc_env/lib/python3.9/site-packages/sklearn/decomposition/_nmf.py:1422: FutureWarning: `alpha` was deprecated in version 1.0 and will be removed in 1.2. Use `alpha_W` and `alpha_H` instead\n",
      "/opt/conda/envs/cell2loc_env/lib/python3.9/site-packages/sklearn/decomposition/_nmf.py:1422: FutureWarning: `alpha` was deprecated in version 1.0 and will be removed in 1.2. Use `alpha_W` and `alpha_H` instead\n",
      "/opt/conda/envs/cell2loc_env/lib/python3.9/site-packages/sklearn/decomposition/_nmf.py:1422: FutureWarning: `alpha` was deprecated in version 1.0 and will be removed in 1.2. Use `alpha_W` and `alpha_H` instead\n"
     ]
    },
    {
     "name": "stdout",
     "output_type": "stream",
     "text": [
      "WARNING: saving figure to file /home/jupyter/CTCL/Visium/cell2loc_out/cell2location_map_allsamples/CoLocatedComb/CoLocatedGroupsSklearnNMF_5031locations_47factors/spatial/showcell_density_mean_n_fact9_sspaceranger210_count_47555_HCA_sCTCL13787190-GRCh38-2020-A_p99.2.pdf\n",
      "WARNING: saving figure to file /home/jupyter/CTCL/Visium/cell2loc_out/cell2location_map_allsamples/CoLocatedComb/CoLocatedGroupsSklearnNMF_5031locations_47factors/spatial/showcell_density_mean_n_fact9_sspaceranger210_count_47555_HCA_sCTCL13787191-GRCh38-2020-A_p99.2.pdf\n",
      "WARNING: saving figure to file /home/jupyter/CTCL/Visium/cell2loc_out/cell2location_map_allsamples/CoLocatedComb/CoLocatedGroupsSklearnNMF_5031locations_47factors/spatial/showcell_density_mean_n_fact9_sspaceranger210_count_47555_HCA_sCTCL13787192-GRCh38-2020-A_p99.2.pdf\n",
      "WARNING: saving figure to file /home/jupyter/CTCL/Visium/cell2loc_out/cell2location_map_allsamples/CoLocatedComb/CoLocatedGroupsSklearnNMF_5031locations_47factors/spatial/showcell_density_mean_n_fact9_sspaceranger210_count_47555_HCA_sCTCL13787193-GRCh38-2020-A_p99.2.pdf\n",
      "WARNING: saving figure to file /home/jupyter/CTCL/Visium/cell2loc_out/cell2location_map_allsamples/CoLocatedComb/CoLocatedGroupsSklearnNMF_5031locations_47factors/spatial/showcell_density_mean_n_fact9_sspaceranger210_count_47757_HCA_sCTCL13876502-GRCh38-2020-A_p99.2.pdf\n",
      "WARNING: saving figure to file /home/jupyter/CTCL/Visium/cell2loc_out/cell2location_map_allsamples/CoLocatedComb/CoLocatedGroupsSklearnNMF_5031locations_47factors/spatial/showcell_density_mean_n_fact9_sspaceranger210_count_47757_HCA_sCTCL13876503-GRCh38-2020-A_p99.2.pdf\n",
      "WARNING: saving figure to file /home/jupyter/CTCL/Visium/cell2loc_out/cell2location_map_allsamples/CoLocatedComb/CoLocatedGroupsSklearnNMF_5031locations_47factors/spatial/showcell_density_mean_n_fact9_sspaceranger210_count_47757_HCA_sCTCL13876504-GRCh38-2020-A_p99.2.pdf\n",
      "WARNING: saving figure to file /home/jupyter/CTCL/Visium/cell2loc_out/cell2location_map_allsamples/CoLocatedComb/CoLocatedGroupsSklearnNMF_5031locations_47factors/spatial/showcell_density_mean_n_fact9_sspaceranger210_count_47757_HCA_sCTCL13876505-GRCh38-2020-A_p99.2.pdf\n",
      "### Analysis name: CoLocatedGroupsSklearnNMF_10combinations_5031locations_47factors\n"
     ]
    },
    {
     "name": "stderr",
     "output_type": "stream",
     "text": [
      "/opt/conda/envs/cell2loc_env/lib/python3.9/site-packages/sklearn/decomposition/_nmf.py:1422: FutureWarning: `alpha` was deprecated in version 1.0 and will be removed in 1.2. Use `alpha_W` and `alpha_H` instead\n",
      "/opt/conda/envs/cell2loc_env/lib/python3.9/site-packages/sklearn/decomposition/_nmf.py:1422: FutureWarning: `alpha` was deprecated in version 1.0 and will be removed in 1.2. Use `alpha_W` and `alpha_H` instead\n",
      "/opt/conda/envs/cell2loc_env/lib/python3.9/site-packages/sklearn/decomposition/_nmf.py:1422: FutureWarning: `alpha` was deprecated in version 1.0 and will be removed in 1.2. Use `alpha_W` and `alpha_H` instead\n"
     ]
    },
    {
     "name": "stdout",
     "output_type": "stream",
     "text": [
      "WARNING: saving figure to file /home/jupyter/CTCL/Visium/cell2loc_out/cell2location_map_allsamples/CoLocatedComb/CoLocatedGroupsSklearnNMF_5031locations_47factors/spatial/showcell_density_mean_n_fact10_sspaceranger210_count_47555_HCA_sCTCL13787190-GRCh38-2020-A_p99.2.pdf\n",
      "WARNING: saving figure to file /home/jupyter/CTCL/Visium/cell2loc_out/cell2location_map_allsamples/CoLocatedComb/CoLocatedGroupsSklearnNMF_5031locations_47factors/spatial/showcell_density_mean_n_fact10_sspaceranger210_count_47555_HCA_sCTCL13787191-GRCh38-2020-A_p99.2.pdf\n",
      "WARNING: saving figure to file /home/jupyter/CTCL/Visium/cell2loc_out/cell2location_map_allsamples/CoLocatedComb/CoLocatedGroupsSklearnNMF_5031locations_47factors/spatial/showcell_density_mean_n_fact10_sspaceranger210_count_47555_HCA_sCTCL13787192-GRCh38-2020-A_p99.2.pdf\n",
      "WARNING: saving figure to file /home/jupyter/CTCL/Visium/cell2loc_out/cell2location_map_allsamples/CoLocatedComb/CoLocatedGroupsSklearnNMF_5031locations_47factors/spatial/showcell_density_mean_n_fact10_sspaceranger210_count_47555_HCA_sCTCL13787193-GRCh38-2020-A_p99.2.pdf\n",
      "WARNING: saving figure to file /home/jupyter/CTCL/Visium/cell2loc_out/cell2location_map_allsamples/CoLocatedComb/CoLocatedGroupsSklearnNMF_5031locations_47factors/spatial/showcell_density_mean_n_fact10_sspaceranger210_count_47757_HCA_sCTCL13876502-GRCh38-2020-A_p99.2.pdf\n",
      "WARNING: saving figure to file /home/jupyter/CTCL/Visium/cell2loc_out/cell2location_map_allsamples/CoLocatedComb/CoLocatedGroupsSklearnNMF_5031locations_47factors/spatial/showcell_density_mean_n_fact10_sspaceranger210_count_47757_HCA_sCTCL13876503-GRCh38-2020-A_p99.2.pdf\n",
      "WARNING: saving figure to file /home/jupyter/CTCL/Visium/cell2loc_out/cell2location_map_allsamples/CoLocatedComb/CoLocatedGroupsSklearnNMF_5031locations_47factors/spatial/showcell_density_mean_n_fact10_sspaceranger210_count_47757_HCA_sCTCL13876504-GRCh38-2020-A_p99.2.pdf\n",
      "WARNING: saving figure to file /home/jupyter/CTCL/Visium/cell2loc_out/cell2location_map_allsamples/CoLocatedComb/CoLocatedGroupsSklearnNMF_5031locations_47factors/spatial/showcell_density_mean_n_fact10_sspaceranger210_count_47757_HCA_sCTCL13876505-GRCh38-2020-A_p99.2.pdf\n",
      "### Analysis name: CoLocatedGroupsSklearnNMF_11combinations_5031locations_47factors\n"
     ]
    },
    {
     "name": "stderr",
     "output_type": "stream",
     "text": [
      "/opt/conda/envs/cell2loc_env/lib/python3.9/site-packages/sklearn/decomposition/_nmf.py:1422: FutureWarning: `alpha` was deprecated in version 1.0 and will be removed in 1.2. Use `alpha_W` and `alpha_H` instead\n",
      "/opt/conda/envs/cell2loc_env/lib/python3.9/site-packages/sklearn/decomposition/_nmf.py:1422: FutureWarning: `alpha` was deprecated in version 1.0 and will be removed in 1.2. Use `alpha_W` and `alpha_H` instead\n",
      "/opt/conda/envs/cell2loc_env/lib/python3.9/site-packages/sklearn/decomposition/_nmf.py:1422: FutureWarning: `alpha` was deprecated in version 1.0 and will be removed in 1.2. Use `alpha_W` and `alpha_H` instead\n"
     ]
    },
    {
     "name": "stdout",
     "output_type": "stream",
     "text": [
      "WARNING: saving figure to file /home/jupyter/CTCL/Visium/cell2loc_out/cell2location_map_allsamples/CoLocatedComb/CoLocatedGroupsSklearnNMF_5031locations_47factors/spatial/showcell_density_mean_n_fact11_sspaceranger210_count_47555_HCA_sCTCL13787190-GRCh38-2020-A_p99.2.pdf\n",
      "WARNING: saving figure to file /home/jupyter/CTCL/Visium/cell2loc_out/cell2location_map_allsamples/CoLocatedComb/CoLocatedGroupsSklearnNMF_5031locations_47factors/spatial/showcell_density_mean_n_fact11_sspaceranger210_count_47555_HCA_sCTCL13787191-GRCh38-2020-A_p99.2.pdf\n",
      "WARNING: saving figure to file /home/jupyter/CTCL/Visium/cell2loc_out/cell2location_map_allsamples/CoLocatedComb/CoLocatedGroupsSklearnNMF_5031locations_47factors/spatial/showcell_density_mean_n_fact11_sspaceranger210_count_47555_HCA_sCTCL13787192-GRCh38-2020-A_p99.2.pdf\n",
      "WARNING: saving figure to file /home/jupyter/CTCL/Visium/cell2loc_out/cell2location_map_allsamples/CoLocatedComb/CoLocatedGroupsSklearnNMF_5031locations_47factors/spatial/showcell_density_mean_n_fact11_sspaceranger210_count_47555_HCA_sCTCL13787193-GRCh38-2020-A_p99.2.pdf\n",
      "WARNING: saving figure to file /home/jupyter/CTCL/Visium/cell2loc_out/cell2location_map_allsamples/CoLocatedComb/CoLocatedGroupsSklearnNMF_5031locations_47factors/spatial/showcell_density_mean_n_fact11_sspaceranger210_count_47757_HCA_sCTCL13876502-GRCh38-2020-A_p99.2.pdf\n",
      "WARNING: saving figure to file /home/jupyter/CTCL/Visium/cell2loc_out/cell2location_map_allsamples/CoLocatedComb/CoLocatedGroupsSklearnNMF_5031locations_47factors/spatial/showcell_density_mean_n_fact11_sspaceranger210_count_47757_HCA_sCTCL13876503-GRCh38-2020-A_p99.2.pdf\n",
      "WARNING: saving figure to file /home/jupyter/CTCL/Visium/cell2loc_out/cell2location_map_allsamples/CoLocatedComb/CoLocatedGroupsSklearnNMF_5031locations_47factors/spatial/showcell_density_mean_n_fact11_sspaceranger210_count_47757_HCA_sCTCL13876504-GRCh38-2020-A_p99.2.pdf\n",
      "WARNING: saving figure to file /home/jupyter/CTCL/Visium/cell2loc_out/cell2location_map_allsamples/CoLocatedComb/CoLocatedGroupsSklearnNMF_5031locations_47factors/spatial/showcell_density_mean_n_fact11_sspaceranger210_count_47757_HCA_sCTCL13876505-GRCh38-2020-A_p99.2.pdf\n",
      "### Analysis name: CoLocatedGroupsSklearnNMF_12combinations_5031locations_47factors\n"
     ]
    },
    {
     "name": "stderr",
     "output_type": "stream",
     "text": [
      "/opt/conda/envs/cell2loc_env/lib/python3.9/site-packages/sklearn/decomposition/_nmf.py:1422: FutureWarning: `alpha` was deprecated in version 1.0 and will be removed in 1.2. Use `alpha_W` and `alpha_H` instead\n",
      "/opt/conda/envs/cell2loc_env/lib/python3.9/site-packages/sklearn/decomposition/_nmf.py:1422: FutureWarning: `alpha` was deprecated in version 1.0 and will be removed in 1.2. Use `alpha_W` and `alpha_H` instead\n",
      "/opt/conda/envs/cell2loc_env/lib/python3.9/site-packages/sklearn/decomposition/_nmf.py:1422: FutureWarning: `alpha` was deprecated in version 1.0 and will be removed in 1.2. Use `alpha_W` and `alpha_H` instead\n"
     ]
    },
    {
     "name": "stdout",
     "output_type": "stream",
     "text": [
      "WARNING: saving figure to file /home/jupyter/CTCL/Visium/cell2loc_out/cell2location_map_allsamples/CoLocatedComb/CoLocatedGroupsSklearnNMF_5031locations_47factors/spatial/showcell_density_mean_n_fact12_sspaceranger210_count_47555_HCA_sCTCL13787190-GRCh38-2020-A_p99.2.pdf\n",
      "WARNING: saving figure to file /home/jupyter/CTCL/Visium/cell2loc_out/cell2location_map_allsamples/CoLocatedComb/CoLocatedGroupsSklearnNMF_5031locations_47factors/spatial/showcell_density_mean_n_fact12_sspaceranger210_count_47555_HCA_sCTCL13787191-GRCh38-2020-A_p99.2.pdf\n",
      "WARNING: saving figure to file /home/jupyter/CTCL/Visium/cell2loc_out/cell2location_map_allsamples/CoLocatedComb/CoLocatedGroupsSklearnNMF_5031locations_47factors/spatial/showcell_density_mean_n_fact12_sspaceranger210_count_47555_HCA_sCTCL13787192-GRCh38-2020-A_p99.2.pdf\n",
      "WARNING: saving figure to file /home/jupyter/CTCL/Visium/cell2loc_out/cell2location_map_allsamples/CoLocatedComb/CoLocatedGroupsSklearnNMF_5031locations_47factors/spatial/showcell_density_mean_n_fact12_sspaceranger210_count_47555_HCA_sCTCL13787193-GRCh38-2020-A_p99.2.pdf\n",
      "WARNING: saving figure to file /home/jupyter/CTCL/Visium/cell2loc_out/cell2location_map_allsamples/CoLocatedComb/CoLocatedGroupsSklearnNMF_5031locations_47factors/spatial/showcell_density_mean_n_fact12_sspaceranger210_count_47757_HCA_sCTCL13876502-GRCh38-2020-A_p99.2.pdf\n",
      "WARNING: saving figure to file /home/jupyter/CTCL/Visium/cell2loc_out/cell2location_map_allsamples/CoLocatedComb/CoLocatedGroupsSklearnNMF_5031locations_47factors/spatial/showcell_density_mean_n_fact12_sspaceranger210_count_47757_HCA_sCTCL13876503-GRCh38-2020-A_p99.2.pdf\n",
      "WARNING: saving figure to file /home/jupyter/CTCL/Visium/cell2loc_out/cell2location_map_allsamples/CoLocatedComb/CoLocatedGroupsSklearnNMF_5031locations_47factors/spatial/showcell_density_mean_n_fact12_sspaceranger210_count_47757_HCA_sCTCL13876504-GRCh38-2020-A_p99.2.pdf\n",
      "WARNING: saving figure to file /home/jupyter/CTCL/Visium/cell2loc_out/cell2location_map_allsamples/CoLocatedComb/CoLocatedGroupsSklearnNMF_5031locations_47factors/spatial/showcell_density_mean_n_fact12_sspaceranger210_count_47757_HCA_sCTCL13876505-GRCh38-2020-A_p99.2.pdf\n",
      "### Analysis name: CoLocatedGroupsSklearnNMF_13combinations_5031locations_47factors\n"
     ]
    },
    {
     "name": "stderr",
     "output_type": "stream",
     "text": [
      "/opt/conda/envs/cell2loc_env/lib/python3.9/site-packages/sklearn/decomposition/_nmf.py:1422: FutureWarning: `alpha` was deprecated in version 1.0 and will be removed in 1.2. Use `alpha_W` and `alpha_H` instead\n",
      "/opt/conda/envs/cell2loc_env/lib/python3.9/site-packages/sklearn/decomposition/_nmf.py:1422: FutureWarning: `alpha` was deprecated in version 1.0 and will be removed in 1.2. Use `alpha_W` and `alpha_H` instead\n",
      "/opt/conda/envs/cell2loc_env/lib/python3.9/site-packages/sklearn/decomposition/_nmf.py:1422: FutureWarning: `alpha` was deprecated in version 1.0 and will be removed in 1.2. Use `alpha_W` and `alpha_H` instead\n"
     ]
    },
    {
     "name": "stdout",
     "output_type": "stream",
     "text": [
      "WARNING: saving figure to file /home/jupyter/CTCL/Visium/cell2loc_out/cell2location_map_allsamples/CoLocatedComb/CoLocatedGroupsSklearnNMF_5031locations_47factors/spatial/showcell_density_mean_n_fact13_sspaceranger210_count_47555_HCA_sCTCL13787190-GRCh38-2020-A_p99.2.pdf\n",
      "WARNING: saving figure to file /home/jupyter/CTCL/Visium/cell2loc_out/cell2location_map_allsamples/CoLocatedComb/CoLocatedGroupsSklearnNMF_5031locations_47factors/spatial/showcell_density_mean_n_fact13_sspaceranger210_count_47555_HCA_sCTCL13787191-GRCh38-2020-A_p99.2.pdf\n",
      "WARNING: saving figure to file /home/jupyter/CTCL/Visium/cell2loc_out/cell2location_map_allsamples/CoLocatedComb/CoLocatedGroupsSklearnNMF_5031locations_47factors/spatial/showcell_density_mean_n_fact13_sspaceranger210_count_47555_HCA_sCTCL13787192-GRCh38-2020-A_p99.2.pdf\n",
      "WARNING: saving figure to file /home/jupyter/CTCL/Visium/cell2loc_out/cell2location_map_allsamples/CoLocatedComb/CoLocatedGroupsSklearnNMF_5031locations_47factors/spatial/showcell_density_mean_n_fact13_sspaceranger210_count_47555_HCA_sCTCL13787193-GRCh38-2020-A_p99.2.pdf\n",
      "WARNING: saving figure to file /home/jupyter/CTCL/Visium/cell2loc_out/cell2location_map_allsamples/CoLocatedComb/CoLocatedGroupsSklearnNMF_5031locations_47factors/spatial/showcell_density_mean_n_fact13_sspaceranger210_count_47757_HCA_sCTCL13876502-GRCh38-2020-A_p99.2.pdf\n",
      "WARNING: saving figure to file /home/jupyter/CTCL/Visium/cell2loc_out/cell2location_map_allsamples/CoLocatedComb/CoLocatedGroupsSklearnNMF_5031locations_47factors/spatial/showcell_density_mean_n_fact13_sspaceranger210_count_47757_HCA_sCTCL13876503-GRCh38-2020-A_p99.2.pdf\n",
      "WARNING: saving figure to file /home/jupyter/CTCL/Visium/cell2loc_out/cell2location_map_allsamples/CoLocatedComb/CoLocatedGroupsSklearnNMF_5031locations_47factors/spatial/showcell_density_mean_n_fact13_sspaceranger210_count_47757_HCA_sCTCL13876504-GRCh38-2020-A_p99.2.pdf\n",
      "WARNING: saving figure to file /home/jupyter/CTCL/Visium/cell2loc_out/cell2location_map_allsamples/CoLocatedComb/CoLocatedGroupsSklearnNMF_5031locations_47factors/spatial/showcell_density_mean_n_fact13_sspaceranger210_count_47757_HCA_sCTCL13876505-GRCh38-2020-A_p99.2.pdf\n",
      "### Analysis name: CoLocatedGroupsSklearnNMF_14combinations_5031locations_47factors\n"
     ]
    },
    {
     "name": "stderr",
     "output_type": "stream",
     "text": [
      "/opt/conda/envs/cell2loc_env/lib/python3.9/site-packages/sklearn/decomposition/_nmf.py:1422: FutureWarning: `alpha` was deprecated in version 1.0 and will be removed in 1.2. Use `alpha_W` and `alpha_H` instead\n",
      "/opt/conda/envs/cell2loc_env/lib/python3.9/site-packages/sklearn/decomposition/_nmf.py:1422: FutureWarning: `alpha` was deprecated in version 1.0 and will be removed in 1.2. Use `alpha_W` and `alpha_H` instead\n",
      "/opt/conda/envs/cell2loc_env/lib/python3.9/site-packages/sklearn/decomposition/_nmf.py:1422: FutureWarning: `alpha` was deprecated in version 1.0 and will be removed in 1.2. Use `alpha_W` and `alpha_H` instead\n"
     ]
    },
    {
     "name": "stdout",
     "output_type": "stream",
     "text": [
      "WARNING: saving figure to file /home/jupyter/CTCL/Visium/cell2loc_out/cell2location_map_allsamples/CoLocatedComb/CoLocatedGroupsSklearnNMF_5031locations_47factors/spatial/showcell_density_mean_n_fact14_sspaceranger210_count_47555_HCA_sCTCL13787190-GRCh38-2020-A_p99.2.pdf\n",
      "WARNING: saving figure to file /home/jupyter/CTCL/Visium/cell2loc_out/cell2location_map_allsamples/CoLocatedComb/CoLocatedGroupsSklearnNMF_5031locations_47factors/spatial/showcell_density_mean_n_fact14_sspaceranger210_count_47555_HCA_sCTCL13787191-GRCh38-2020-A_p99.2.pdf\n",
      "WARNING: saving figure to file /home/jupyter/CTCL/Visium/cell2loc_out/cell2location_map_allsamples/CoLocatedComb/CoLocatedGroupsSklearnNMF_5031locations_47factors/spatial/showcell_density_mean_n_fact14_sspaceranger210_count_47555_HCA_sCTCL13787192-GRCh38-2020-A_p99.2.pdf\n",
      "WARNING: saving figure to file /home/jupyter/CTCL/Visium/cell2loc_out/cell2location_map_allsamples/CoLocatedComb/CoLocatedGroupsSklearnNMF_5031locations_47factors/spatial/showcell_density_mean_n_fact14_sspaceranger210_count_47555_HCA_sCTCL13787193-GRCh38-2020-A_p99.2.pdf\n",
      "WARNING: saving figure to file /home/jupyter/CTCL/Visium/cell2loc_out/cell2location_map_allsamples/CoLocatedComb/CoLocatedGroupsSklearnNMF_5031locations_47factors/spatial/showcell_density_mean_n_fact14_sspaceranger210_count_47757_HCA_sCTCL13876502-GRCh38-2020-A_p99.2.pdf\n",
      "WARNING: saving figure to file /home/jupyter/CTCL/Visium/cell2loc_out/cell2location_map_allsamples/CoLocatedComb/CoLocatedGroupsSklearnNMF_5031locations_47factors/spatial/showcell_density_mean_n_fact14_sspaceranger210_count_47757_HCA_sCTCL13876503-GRCh38-2020-A_p99.2.pdf\n",
      "WARNING: saving figure to file /home/jupyter/CTCL/Visium/cell2loc_out/cell2location_map_allsamples/CoLocatedComb/CoLocatedGroupsSklearnNMF_5031locations_47factors/spatial/showcell_density_mean_n_fact14_sspaceranger210_count_47757_HCA_sCTCL13876504-GRCh38-2020-A_p99.2.pdf\n",
      "WARNING: saving figure to file /home/jupyter/CTCL/Visium/cell2loc_out/cell2location_map_allsamples/CoLocatedComb/CoLocatedGroupsSklearnNMF_5031locations_47factors/spatial/showcell_density_mean_n_fact14_sspaceranger210_count_47757_HCA_sCTCL13876505-GRCh38-2020-A_p99.2.pdf\n",
      "### Analysis name: CoLocatedGroupsSklearnNMF_15combinations_5031locations_47factors\n"
     ]
    },
    {
     "name": "stderr",
     "output_type": "stream",
     "text": [
      "/opt/conda/envs/cell2loc_env/lib/python3.9/site-packages/sklearn/decomposition/_nmf.py:1422: FutureWarning: `alpha` was deprecated in version 1.0 and will be removed in 1.2. Use `alpha_W` and `alpha_H` instead\n",
      "/opt/conda/envs/cell2loc_env/lib/python3.9/site-packages/sklearn/decomposition/_nmf.py:1422: FutureWarning: `alpha` was deprecated in version 1.0 and will be removed in 1.2. Use `alpha_W` and `alpha_H` instead\n",
      "/opt/conda/envs/cell2loc_env/lib/python3.9/site-packages/sklearn/decomposition/_nmf.py:1422: FutureWarning: `alpha` was deprecated in version 1.0 and will be removed in 1.2. Use `alpha_W` and `alpha_H` instead\n"
     ]
    },
    {
     "name": "stdout",
     "output_type": "stream",
     "text": [
      "WARNING: saving figure to file /home/jupyter/CTCL/Visium/cell2loc_out/cell2location_map_allsamples/CoLocatedComb/CoLocatedGroupsSklearnNMF_5031locations_47factors/spatial/showcell_density_mean_n_fact15_sspaceranger210_count_47555_HCA_sCTCL13787190-GRCh38-2020-A_p99.2.pdf\n",
      "WARNING: saving figure to file /home/jupyter/CTCL/Visium/cell2loc_out/cell2location_map_allsamples/CoLocatedComb/CoLocatedGroupsSklearnNMF_5031locations_47factors/spatial/showcell_density_mean_n_fact15_sspaceranger210_count_47555_HCA_sCTCL13787191-GRCh38-2020-A_p99.2.pdf\n",
      "WARNING: saving figure to file /home/jupyter/CTCL/Visium/cell2loc_out/cell2location_map_allsamples/CoLocatedComb/CoLocatedGroupsSklearnNMF_5031locations_47factors/spatial/showcell_density_mean_n_fact15_sspaceranger210_count_47555_HCA_sCTCL13787192-GRCh38-2020-A_p99.2.pdf\n",
      "WARNING: saving figure to file /home/jupyter/CTCL/Visium/cell2loc_out/cell2location_map_allsamples/CoLocatedComb/CoLocatedGroupsSklearnNMF_5031locations_47factors/spatial/showcell_density_mean_n_fact15_sspaceranger210_count_47555_HCA_sCTCL13787193-GRCh38-2020-A_p99.2.pdf\n",
      "WARNING: saving figure to file /home/jupyter/CTCL/Visium/cell2loc_out/cell2location_map_allsamples/CoLocatedComb/CoLocatedGroupsSklearnNMF_5031locations_47factors/spatial/showcell_density_mean_n_fact15_sspaceranger210_count_47757_HCA_sCTCL13876502-GRCh38-2020-A_p99.2.pdf\n",
      "WARNING: saving figure to file /home/jupyter/CTCL/Visium/cell2loc_out/cell2location_map_allsamples/CoLocatedComb/CoLocatedGroupsSklearnNMF_5031locations_47factors/spatial/showcell_density_mean_n_fact15_sspaceranger210_count_47757_HCA_sCTCL13876503-GRCh38-2020-A_p99.2.pdf\n",
      "WARNING: saving figure to file /home/jupyter/CTCL/Visium/cell2loc_out/cell2location_map_allsamples/CoLocatedComb/CoLocatedGroupsSklearnNMF_5031locations_47factors/spatial/showcell_density_mean_n_fact15_sspaceranger210_count_47757_HCA_sCTCL13876504-GRCh38-2020-A_p99.2.pdf\n",
      "WARNING: saving figure to file /home/jupyter/CTCL/Visium/cell2loc_out/cell2location_map_allsamples/CoLocatedComb/CoLocatedGroupsSklearnNMF_5031locations_47factors/spatial/showcell_density_mean_n_fact15_sspaceranger210_count_47757_HCA_sCTCL13876505-GRCh38-2020-A_p99.2.pdf\n",
      "### Analysis name: CoLocatedGroupsSklearnNMF_16combinations_5031locations_47factors\n"
     ]
    },
    {
     "name": "stderr",
     "output_type": "stream",
     "text": [
      "/opt/conda/envs/cell2loc_env/lib/python3.9/site-packages/sklearn/decomposition/_nmf.py:1422: FutureWarning: `alpha` was deprecated in version 1.0 and will be removed in 1.2. Use `alpha_W` and `alpha_H` instead\n",
      "/opt/conda/envs/cell2loc_env/lib/python3.9/site-packages/sklearn/decomposition/_nmf.py:1422: FutureWarning: `alpha` was deprecated in version 1.0 and will be removed in 1.2. Use `alpha_W` and `alpha_H` instead\n",
      "/opt/conda/envs/cell2loc_env/lib/python3.9/site-packages/sklearn/decomposition/_nmf.py:1422: FutureWarning: `alpha` was deprecated in version 1.0 and will be removed in 1.2. Use `alpha_W` and `alpha_H` instead\n"
     ]
    },
    {
     "name": "stdout",
     "output_type": "stream",
     "text": [
      "WARNING: saving figure to file /home/jupyter/CTCL/Visium/cell2loc_out/cell2location_map_allsamples/CoLocatedComb/CoLocatedGroupsSklearnNMF_5031locations_47factors/spatial/showcell_density_mean_n_fact16_sspaceranger210_count_47555_HCA_sCTCL13787190-GRCh38-2020-A_p99.2.pdf\n",
      "WARNING: saving figure to file /home/jupyter/CTCL/Visium/cell2loc_out/cell2location_map_allsamples/CoLocatedComb/CoLocatedGroupsSklearnNMF_5031locations_47factors/spatial/showcell_density_mean_n_fact16_sspaceranger210_count_47555_HCA_sCTCL13787191-GRCh38-2020-A_p99.2.pdf\n",
      "WARNING: saving figure to file /home/jupyter/CTCL/Visium/cell2loc_out/cell2location_map_allsamples/CoLocatedComb/CoLocatedGroupsSklearnNMF_5031locations_47factors/spatial/showcell_density_mean_n_fact16_sspaceranger210_count_47555_HCA_sCTCL13787192-GRCh38-2020-A_p99.2.pdf\n",
      "WARNING: saving figure to file /home/jupyter/CTCL/Visium/cell2loc_out/cell2location_map_allsamples/CoLocatedComb/CoLocatedGroupsSklearnNMF_5031locations_47factors/spatial/showcell_density_mean_n_fact16_sspaceranger210_count_47555_HCA_sCTCL13787193-GRCh38-2020-A_p99.2.pdf\n",
      "WARNING: saving figure to file /home/jupyter/CTCL/Visium/cell2loc_out/cell2location_map_allsamples/CoLocatedComb/CoLocatedGroupsSklearnNMF_5031locations_47factors/spatial/showcell_density_mean_n_fact16_sspaceranger210_count_47757_HCA_sCTCL13876502-GRCh38-2020-A_p99.2.pdf\n",
      "WARNING: saving figure to file /home/jupyter/CTCL/Visium/cell2loc_out/cell2location_map_allsamples/CoLocatedComb/CoLocatedGroupsSklearnNMF_5031locations_47factors/spatial/showcell_density_mean_n_fact16_sspaceranger210_count_47757_HCA_sCTCL13876503-GRCh38-2020-A_p99.2.pdf\n",
      "WARNING: saving figure to file /home/jupyter/CTCL/Visium/cell2loc_out/cell2location_map_allsamples/CoLocatedComb/CoLocatedGroupsSklearnNMF_5031locations_47factors/spatial/showcell_density_mean_n_fact16_sspaceranger210_count_47757_HCA_sCTCL13876504-GRCh38-2020-A_p99.2.pdf\n",
      "WARNING: saving figure to file /home/jupyter/CTCL/Visium/cell2loc_out/cell2location_map_allsamples/CoLocatedComb/CoLocatedGroupsSklearnNMF_5031locations_47factors/spatial/showcell_density_mean_n_fact16_sspaceranger210_count_47757_HCA_sCTCL13876505-GRCh38-2020-A_p99.2.pdf\n",
      "### Analysis name: CoLocatedGroupsSklearnNMF_17combinations_5031locations_47factors\n"
     ]
    },
    {
     "name": "stderr",
     "output_type": "stream",
     "text": [
      "/opt/conda/envs/cell2loc_env/lib/python3.9/site-packages/sklearn/decomposition/_nmf.py:1422: FutureWarning: `alpha` was deprecated in version 1.0 and will be removed in 1.2. Use `alpha_W` and `alpha_H` instead\n",
      "/opt/conda/envs/cell2loc_env/lib/python3.9/site-packages/sklearn/decomposition/_nmf.py:1422: FutureWarning: `alpha` was deprecated in version 1.0 and will be removed in 1.2. Use `alpha_W` and `alpha_H` instead\n",
      "/opt/conda/envs/cell2loc_env/lib/python3.9/site-packages/sklearn/decomposition/_nmf.py:1422: FutureWarning: `alpha` was deprecated in version 1.0 and will be removed in 1.2. Use `alpha_W` and `alpha_H` instead\n"
     ]
    },
    {
     "name": "stdout",
     "output_type": "stream",
     "text": [
      "WARNING: saving figure to file /home/jupyter/CTCL/Visium/cell2loc_out/cell2location_map_allsamples/CoLocatedComb/CoLocatedGroupsSklearnNMF_5031locations_47factors/spatial/showcell_density_mean_n_fact17_sspaceranger210_count_47555_HCA_sCTCL13787190-GRCh38-2020-A_p99.2.pdf\n",
      "WARNING: saving figure to file /home/jupyter/CTCL/Visium/cell2loc_out/cell2location_map_allsamples/CoLocatedComb/CoLocatedGroupsSklearnNMF_5031locations_47factors/spatial/showcell_density_mean_n_fact17_sspaceranger210_count_47555_HCA_sCTCL13787191-GRCh38-2020-A_p99.2.pdf\n",
      "WARNING: saving figure to file /home/jupyter/CTCL/Visium/cell2loc_out/cell2location_map_allsamples/CoLocatedComb/CoLocatedGroupsSklearnNMF_5031locations_47factors/spatial/showcell_density_mean_n_fact17_sspaceranger210_count_47555_HCA_sCTCL13787192-GRCh38-2020-A_p99.2.pdf\n",
      "WARNING: saving figure to file /home/jupyter/CTCL/Visium/cell2loc_out/cell2location_map_allsamples/CoLocatedComb/CoLocatedGroupsSklearnNMF_5031locations_47factors/spatial/showcell_density_mean_n_fact17_sspaceranger210_count_47555_HCA_sCTCL13787193-GRCh38-2020-A_p99.2.pdf\n",
      "WARNING: saving figure to file /home/jupyter/CTCL/Visium/cell2loc_out/cell2location_map_allsamples/CoLocatedComb/CoLocatedGroupsSklearnNMF_5031locations_47factors/spatial/showcell_density_mean_n_fact17_sspaceranger210_count_47757_HCA_sCTCL13876502-GRCh38-2020-A_p99.2.pdf\n",
      "WARNING: saving figure to file /home/jupyter/CTCL/Visium/cell2loc_out/cell2location_map_allsamples/CoLocatedComb/CoLocatedGroupsSklearnNMF_5031locations_47factors/spatial/showcell_density_mean_n_fact17_sspaceranger210_count_47757_HCA_sCTCL13876503-GRCh38-2020-A_p99.2.pdf\n",
      "WARNING: saving figure to file /home/jupyter/CTCL/Visium/cell2loc_out/cell2location_map_allsamples/CoLocatedComb/CoLocatedGroupsSklearnNMF_5031locations_47factors/spatial/showcell_density_mean_n_fact17_sspaceranger210_count_47757_HCA_sCTCL13876504-GRCh38-2020-A_p99.2.pdf\n",
      "WARNING: saving figure to file /home/jupyter/CTCL/Visium/cell2loc_out/cell2location_map_allsamples/CoLocatedComb/CoLocatedGroupsSklearnNMF_5031locations_47factors/spatial/showcell_density_mean_n_fact17_sspaceranger210_count_47757_HCA_sCTCL13876505-GRCh38-2020-A_p99.2.pdf\n",
      "### Analysis name: CoLocatedGroupsSklearnNMF_18combinations_5031locations_47factors\n"
     ]
    },
    {
     "name": "stderr",
     "output_type": "stream",
     "text": [
      "/opt/conda/envs/cell2loc_env/lib/python3.9/site-packages/sklearn/decomposition/_nmf.py:1422: FutureWarning: `alpha` was deprecated in version 1.0 and will be removed in 1.2. Use `alpha_W` and `alpha_H` instead\n",
      "/opt/conda/envs/cell2loc_env/lib/python3.9/site-packages/sklearn/decomposition/_nmf.py:1422: FutureWarning: `alpha` was deprecated in version 1.0 and will be removed in 1.2. Use `alpha_W` and `alpha_H` instead\n",
      "/opt/conda/envs/cell2loc_env/lib/python3.9/site-packages/sklearn/decomposition/_nmf.py:1422: FutureWarning: `alpha` was deprecated in version 1.0 and will be removed in 1.2. Use `alpha_W` and `alpha_H` instead\n"
     ]
    },
    {
     "name": "stdout",
     "output_type": "stream",
     "text": [
      "WARNING: saving figure to file /home/jupyter/CTCL/Visium/cell2loc_out/cell2location_map_allsamples/CoLocatedComb/CoLocatedGroupsSklearnNMF_5031locations_47factors/spatial/showcell_density_mean_n_fact18_sspaceranger210_count_47555_HCA_sCTCL13787190-GRCh38-2020-A_p99.2.pdf\n",
      "WARNING: saving figure to file /home/jupyter/CTCL/Visium/cell2loc_out/cell2location_map_allsamples/CoLocatedComb/CoLocatedGroupsSklearnNMF_5031locations_47factors/spatial/showcell_density_mean_n_fact18_sspaceranger210_count_47555_HCA_sCTCL13787191-GRCh38-2020-A_p99.2.pdf\n",
      "WARNING: saving figure to file /home/jupyter/CTCL/Visium/cell2loc_out/cell2location_map_allsamples/CoLocatedComb/CoLocatedGroupsSklearnNMF_5031locations_47factors/spatial/showcell_density_mean_n_fact18_sspaceranger210_count_47555_HCA_sCTCL13787192-GRCh38-2020-A_p99.2.pdf\n",
      "WARNING: saving figure to file /home/jupyter/CTCL/Visium/cell2loc_out/cell2location_map_allsamples/CoLocatedComb/CoLocatedGroupsSklearnNMF_5031locations_47factors/spatial/showcell_density_mean_n_fact18_sspaceranger210_count_47555_HCA_sCTCL13787193-GRCh38-2020-A_p99.2.pdf\n",
      "WARNING: saving figure to file /home/jupyter/CTCL/Visium/cell2loc_out/cell2location_map_allsamples/CoLocatedComb/CoLocatedGroupsSklearnNMF_5031locations_47factors/spatial/showcell_density_mean_n_fact18_sspaceranger210_count_47757_HCA_sCTCL13876502-GRCh38-2020-A_p99.2.pdf\n",
      "WARNING: saving figure to file /home/jupyter/CTCL/Visium/cell2loc_out/cell2location_map_allsamples/CoLocatedComb/CoLocatedGroupsSklearnNMF_5031locations_47factors/spatial/showcell_density_mean_n_fact18_sspaceranger210_count_47757_HCA_sCTCL13876503-GRCh38-2020-A_p99.2.pdf\n",
      "WARNING: saving figure to file /home/jupyter/CTCL/Visium/cell2loc_out/cell2location_map_allsamples/CoLocatedComb/CoLocatedGroupsSklearnNMF_5031locations_47factors/spatial/showcell_density_mean_n_fact18_sspaceranger210_count_47757_HCA_sCTCL13876504-GRCh38-2020-A_p99.2.pdf\n",
      "WARNING: saving figure to file /home/jupyter/CTCL/Visium/cell2loc_out/cell2location_map_allsamples/CoLocatedComb/CoLocatedGroupsSklearnNMF_5031locations_47factors/spatial/showcell_density_mean_n_fact18_sspaceranger210_count_47757_HCA_sCTCL13876505-GRCh38-2020-A_p99.2.pdf\n",
      "### Analysis name: CoLocatedGroupsSklearnNMF_19combinations_5031locations_47factors\n"
     ]
    },
    {
     "name": "stderr",
     "output_type": "stream",
     "text": [
      "/opt/conda/envs/cell2loc_env/lib/python3.9/site-packages/sklearn/decomposition/_nmf.py:1422: FutureWarning: `alpha` was deprecated in version 1.0 and will be removed in 1.2. Use `alpha_W` and `alpha_H` instead\n",
      "/opt/conda/envs/cell2loc_env/lib/python3.9/site-packages/sklearn/decomposition/_nmf.py:1422: FutureWarning: `alpha` was deprecated in version 1.0 and will be removed in 1.2. Use `alpha_W` and `alpha_H` instead\n",
      "/opt/conda/envs/cell2loc_env/lib/python3.9/site-packages/sklearn/decomposition/_nmf.py:1422: FutureWarning: `alpha` was deprecated in version 1.0 and will be removed in 1.2. Use `alpha_W` and `alpha_H` instead\n"
     ]
    },
    {
     "name": "stdout",
     "output_type": "stream",
     "text": [
      "WARNING: saving figure to file /home/jupyter/CTCL/Visium/cell2loc_out/cell2location_map_allsamples/CoLocatedComb/CoLocatedGroupsSklearnNMF_5031locations_47factors/spatial/showcell_density_mean_n_fact19_sspaceranger210_count_47555_HCA_sCTCL13787190-GRCh38-2020-A_p99.2.pdf\n",
      "WARNING: saving figure to file /home/jupyter/CTCL/Visium/cell2loc_out/cell2location_map_allsamples/CoLocatedComb/CoLocatedGroupsSklearnNMF_5031locations_47factors/spatial/showcell_density_mean_n_fact19_sspaceranger210_count_47555_HCA_sCTCL13787191-GRCh38-2020-A_p99.2.pdf\n",
      "WARNING: saving figure to file /home/jupyter/CTCL/Visium/cell2loc_out/cell2location_map_allsamples/CoLocatedComb/CoLocatedGroupsSklearnNMF_5031locations_47factors/spatial/showcell_density_mean_n_fact19_sspaceranger210_count_47555_HCA_sCTCL13787192-GRCh38-2020-A_p99.2.pdf\n",
      "WARNING: saving figure to file /home/jupyter/CTCL/Visium/cell2loc_out/cell2location_map_allsamples/CoLocatedComb/CoLocatedGroupsSklearnNMF_5031locations_47factors/spatial/showcell_density_mean_n_fact19_sspaceranger210_count_47555_HCA_sCTCL13787193-GRCh38-2020-A_p99.2.pdf\n",
      "WARNING: saving figure to file /home/jupyter/CTCL/Visium/cell2loc_out/cell2location_map_allsamples/CoLocatedComb/CoLocatedGroupsSklearnNMF_5031locations_47factors/spatial/showcell_density_mean_n_fact19_sspaceranger210_count_47757_HCA_sCTCL13876502-GRCh38-2020-A_p99.2.pdf\n",
      "WARNING: saving figure to file /home/jupyter/CTCL/Visium/cell2loc_out/cell2location_map_allsamples/CoLocatedComb/CoLocatedGroupsSklearnNMF_5031locations_47factors/spatial/showcell_density_mean_n_fact19_sspaceranger210_count_47757_HCA_sCTCL13876503-GRCh38-2020-A_p99.2.pdf\n",
      "WARNING: saving figure to file /home/jupyter/CTCL/Visium/cell2loc_out/cell2location_map_allsamples/CoLocatedComb/CoLocatedGroupsSklearnNMF_5031locations_47factors/spatial/showcell_density_mean_n_fact19_sspaceranger210_count_47757_HCA_sCTCL13876504-GRCh38-2020-A_p99.2.pdf\n",
      "WARNING: saving figure to file /home/jupyter/CTCL/Visium/cell2loc_out/cell2location_map_allsamples/CoLocatedComb/CoLocatedGroupsSklearnNMF_5031locations_47factors/spatial/showcell_density_mean_n_fact19_sspaceranger210_count_47757_HCA_sCTCL13876505-GRCh38-2020-A_p99.2.pdf\n",
      "### Analysis name: CoLocatedGroupsSklearnNMF_20combinations_5031locations_47factors\n"
     ]
    },
    {
     "name": "stderr",
     "output_type": "stream",
     "text": [
      "/opt/conda/envs/cell2loc_env/lib/python3.9/site-packages/sklearn/decomposition/_nmf.py:1422: FutureWarning: `alpha` was deprecated in version 1.0 and will be removed in 1.2. Use `alpha_W` and `alpha_H` instead\n",
      "/opt/conda/envs/cell2loc_env/lib/python3.9/site-packages/sklearn/decomposition/_nmf.py:1422: FutureWarning: `alpha` was deprecated in version 1.0 and will be removed in 1.2. Use `alpha_W` and `alpha_H` instead\n",
      "/opt/conda/envs/cell2loc_env/lib/python3.9/site-packages/sklearn/decomposition/_nmf.py:1422: FutureWarning: `alpha` was deprecated in version 1.0 and will be removed in 1.2. Use `alpha_W` and `alpha_H` instead\n"
     ]
    },
    {
     "name": "stdout",
     "output_type": "stream",
     "text": [
      "WARNING: saving figure to file /home/jupyter/CTCL/Visium/cell2loc_out/cell2location_map_allsamples/CoLocatedComb/CoLocatedGroupsSklearnNMF_5031locations_47factors/spatial/showcell_density_mean_n_fact20_sspaceranger210_count_47555_HCA_sCTCL13787190-GRCh38-2020-A_p99.2.pdf\n",
      "WARNING: saving figure to file /home/jupyter/CTCL/Visium/cell2loc_out/cell2location_map_allsamples/CoLocatedComb/CoLocatedGroupsSklearnNMF_5031locations_47factors/spatial/showcell_density_mean_n_fact20_sspaceranger210_count_47555_HCA_sCTCL13787191-GRCh38-2020-A_p99.2.pdf\n",
      "WARNING: saving figure to file /home/jupyter/CTCL/Visium/cell2loc_out/cell2location_map_allsamples/CoLocatedComb/CoLocatedGroupsSklearnNMF_5031locations_47factors/spatial/showcell_density_mean_n_fact20_sspaceranger210_count_47555_HCA_sCTCL13787192-GRCh38-2020-A_p99.2.pdf\n",
      "WARNING: saving figure to file /home/jupyter/CTCL/Visium/cell2loc_out/cell2location_map_allsamples/CoLocatedComb/CoLocatedGroupsSklearnNMF_5031locations_47factors/spatial/showcell_density_mean_n_fact20_sspaceranger210_count_47555_HCA_sCTCL13787193-GRCh38-2020-A_p99.2.pdf\n",
      "WARNING: saving figure to file /home/jupyter/CTCL/Visium/cell2loc_out/cell2location_map_allsamples/CoLocatedComb/CoLocatedGroupsSklearnNMF_5031locations_47factors/spatial/showcell_density_mean_n_fact20_sspaceranger210_count_47757_HCA_sCTCL13876502-GRCh38-2020-A_p99.2.pdf\n",
      "WARNING: saving figure to file /home/jupyter/CTCL/Visium/cell2loc_out/cell2location_map_allsamples/CoLocatedComb/CoLocatedGroupsSklearnNMF_5031locations_47factors/spatial/showcell_density_mean_n_fact20_sspaceranger210_count_47757_HCA_sCTCL13876503-GRCh38-2020-A_p99.2.pdf\n",
      "WARNING: saving figure to file /home/jupyter/CTCL/Visium/cell2loc_out/cell2location_map_allsamples/CoLocatedComb/CoLocatedGroupsSklearnNMF_5031locations_47factors/spatial/showcell_density_mean_n_fact20_sspaceranger210_count_47757_HCA_sCTCL13876504-GRCh38-2020-A_p99.2.pdf\n",
      "WARNING: saving figure to file /home/jupyter/CTCL/Visium/cell2loc_out/cell2location_map_allsamples/CoLocatedComb/CoLocatedGroupsSklearnNMF_5031locations_47factors/spatial/showcell_density_mean_n_fact20_sspaceranger210_count_47757_HCA_sCTCL13876505-GRCh38-2020-A_p99.2.pdf\n",
      "### Analysis name: CoLocatedGroupsSklearnNMF_21combinations_5031locations_47factors\n"
     ]
    },
    {
     "name": "stderr",
     "output_type": "stream",
     "text": [
      "/opt/conda/envs/cell2loc_env/lib/python3.9/site-packages/sklearn/decomposition/_nmf.py:1422: FutureWarning: `alpha` was deprecated in version 1.0 and will be removed in 1.2. Use `alpha_W` and `alpha_H` instead\n",
      "/opt/conda/envs/cell2loc_env/lib/python3.9/site-packages/sklearn/decomposition/_nmf.py:1422: FutureWarning: `alpha` was deprecated in version 1.0 and will be removed in 1.2. Use `alpha_W` and `alpha_H` instead\n",
      "/opt/conda/envs/cell2loc_env/lib/python3.9/site-packages/sklearn/decomposition/_nmf.py:1422: FutureWarning: `alpha` was deprecated in version 1.0 and will be removed in 1.2. Use `alpha_W` and `alpha_H` instead\n"
     ]
    },
    {
     "name": "stdout",
     "output_type": "stream",
     "text": [
      "WARNING: saving figure to file /home/jupyter/CTCL/Visium/cell2loc_out/cell2location_map_allsamples/CoLocatedComb/CoLocatedGroupsSklearnNMF_5031locations_47factors/spatial/showcell_density_mean_n_fact21_sspaceranger210_count_47555_HCA_sCTCL13787190-GRCh38-2020-A_p99.2.pdf\n",
      "WARNING: saving figure to file /home/jupyter/CTCL/Visium/cell2loc_out/cell2location_map_allsamples/CoLocatedComb/CoLocatedGroupsSklearnNMF_5031locations_47factors/spatial/showcell_density_mean_n_fact21_sspaceranger210_count_47555_HCA_sCTCL13787191-GRCh38-2020-A_p99.2.pdf\n",
      "WARNING: saving figure to file /home/jupyter/CTCL/Visium/cell2loc_out/cell2location_map_allsamples/CoLocatedComb/CoLocatedGroupsSklearnNMF_5031locations_47factors/spatial/showcell_density_mean_n_fact21_sspaceranger210_count_47555_HCA_sCTCL13787192-GRCh38-2020-A_p99.2.pdf\n",
      "WARNING: saving figure to file /home/jupyter/CTCL/Visium/cell2loc_out/cell2location_map_allsamples/CoLocatedComb/CoLocatedGroupsSklearnNMF_5031locations_47factors/spatial/showcell_density_mean_n_fact21_sspaceranger210_count_47555_HCA_sCTCL13787193-GRCh38-2020-A_p99.2.pdf\n",
      "WARNING: saving figure to file /home/jupyter/CTCL/Visium/cell2loc_out/cell2location_map_allsamples/CoLocatedComb/CoLocatedGroupsSklearnNMF_5031locations_47factors/spatial/showcell_density_mean_n_fact21_sspaceranger210_count_47757_HCA_sCTCL13876502-GRCh38-2020-A_p99.2.pdf\n",
      "WARNING: saving figure to file /home/jupyter/CTCL/Visium/cell2loc_out/cell2location_map_allsamples/CoLocatedComb/CoLocatedGroupsSklearnNMF_5031locations_47factors/spatial/showcell_density_mean_n_fact21_sspaceranger210_count_47757_HCA_sCTCL13876503-GRCh38-2020-A_p99.2.pdf\n",
      "WARNING: saving figure to file /home/jupyter/CTCL/Visium/cell2loc_out/cell2location_map_allsamples/CoLocatedComb/CoLocatedGroupsSklearnNMF_5031locations_47factors/spatial/showcell_density_mean_n_fact21_sspaceranger210_count_47757_HCA_sCTCL13876504-GRCh38-2020-A_p99.2.pdf\n",
      "WARNING: saving figure to file /home/jupyter/CTCL/Visium/cell2loc_out/cell2location_map_allsamples/CoLocatedComb/CoLocatedGroupsSklearnNMF_5031locations_47factors/spatial/showcell_density_mean_n_fact21_sspaceranger210_count_47757_HCA_sCTCL13876505-GRCh38-2020-A_p99.2.pdf\n",
      "### Analysis name: CoLocatedGroupsSklearnNMF_22combinations_5031locations_47factors\n"
     ]
    },
    {
     "name": "stderr",
     "output_type": "stream",
     "text": [
      "/opt/conda/envs/cell2loc_env/lib/python3.9/site-packages/sklearn/decomposition/_nmf.py:1422: FutureWarning: `alpha` was deprecated in version 1.0 and will be removed in 1.2. Use `alpha_W` and `alpha_H` instead\n",
      "/opt/conda/envs/cell2loc_env/lib/python3.9/site-packages/sklearn/decomposition/_nmf.py:1422: FutureWarning: `alpha` was deprecated in version 1.0 and will be removed in 1.2. Use `alpha_W` and `alpha_H` instead\n",
      "/opt/conda/envs/cell2loc_env/lib/python3.9/site-packages/sklearn/decomposition/_nmf.py:1422: FutureWarning: `alpha` was deprecated in version 1.0 and will be removed in 1.2. Use `alpha_W` and `alpha_H` instead\n"
     ]
    },
    {
     "name": "stdout",
     "output_type": "stream",
     "text": [
      "WARNING: saving figure to file /home/jupyter/CTCL/Visium/cell2loc_out/cell2location_map_allsamples/CoLocatedComb/CoLocatedGroupsSklearnNMF_5031locations_47factors/spatial/showcell_density_mean_n_fact22_sspaceranger210_count_47555_HCA_sCTCL13787190-GRCh38-2020-A_p99.2.pdf\n",
      "WARNING: saving figure to file /home/jupyter/CTCL/Visium/cell2loc_out/cell2location_map_allsamples/CoLocatedComb/CoLocatedGroupsSklearnNMF_5031locations_47factors/spatial/showcell_density_mean_n_fact22_sspaceranger210_count_47555_HCA_sCTCL13787191-GRCh38-2020-A_p99.2.pdf\n",
      "WARNING: saving figure to file /home/jupyter/CTCL/Visium/cell2loc_out/cell2location_map_allsamples/CoLocatedComb/CoLocatedGroupsSklearnNMF_5031locations_47factors/spatial/showcell_density_mean_n_fact22_sspaceranger210_count_47555_HCA_sCTCL13787192-GRCh38-2020-A_p99.2.pdf\n",
      "WARNING: saving figure to file /home/jupyter/CTCL/Visium/cell2loc_out/cell2location_map_allsamples/CoLocatedComb/CoLocatedGroupsSklearnNMF_5031locations_47factors/spatial/showcell_density_mean_n_fact22_sspaceranger210_count_47555_HCA_sCTCL13787193-GRCh38-2020-A_p99.2.pdf\n",
      "WARNING: saving figure to file /home/jupyter/CTCL/Visium/cell2loc_out/cell2location_map_allsamples/CoLocatedComb/CoLocatedGroupsSklearnNMF_5031locations_47factors/spatial/showcell_density_mean_n_fact22_sspaceranger210_count_47757_HCA_sCTCL13876502-GRCh38-2020-A_p99.2.pdf\n",
      "WARNING: saving figure to file /home/jupyter/CTCL/Visium/cell2loc_out/cell2location_map_allsamples/CoLocatedComb/CoLocatedGroupsSklearnNMF_5031locations_47factors/spatial/showcell_density_mean_n_fact22_sspaceranger210_count_47757_HCA_sCTCL13876503-GRCh38-2020-A_p99.2.pdf\n",
      "WARNING: saving figure to file /home/jupyter/CTCL/Visium/cell2loc_out/cell2location_map_allsamples/CoLocatedComb/CoLocatedGroupsSklearnNMF_5031locations_47factors/spatial/showcell_density_mean_n_fact22_sspaceranger210_count_47757_HCA_sCTCL13876504-GRCh38-2020-A_p99.2.pdf\n",
      "WARNING: saving figure to file /home/jupyter/CTCL/Visium/cell2loc_out/cell2location_map_allsamples/CoLocatedComb/CoLocatedGroupsSklearnNMF_5031locations_47factors/spatial/showcell_density_mean_n_fact22_sspaceranger210_count_47757_HCA_sCTCL13876505-GRCh38-2020-A_p99.2.pdf\n",
      "### Analysis name: CoLocatedGroupsSklearnNMF_23combinations_5031locations_47factors\n"
     ]
    },
    {
     "name": "stderr",
     "output_type": "stream",
     "text": [
      "/opt/conda/envs/cell2loc_env/lib/python3.9/site-packages/sklearn/decomposition/_nmf.py:1422: FutureWarning: `alpha` was deprecated in version 1.0 and will be removed in 1.2. Use `alpha_W` and `alpha_H` instead\n",
      "/opt/conda/envs/cell2loc_env/lib/python3.9/site-packages/sklearn/decomposition/_nmf.py:1422: FutureWarning: `alpha` was deprecated in version 1.0 and will be removed in 1.2. Use `alpha_W` and `alpha_H` instead\n",
      "/opt/conda/envs/cell2loc_env/lib/python3.9/site-packages/sklearn/decomposition/_nmf.py:1422: FutureWarning: `alpha` was deprecated in version 1.0 and will be removed in 1.2. Use `alpha_W` and `alpha_H` instead\n"
     ]
    },
    {
     "name": "stdout",
     "output_type": "stream",
     "text": [
      "WARNING: saving figure to file /home/jupyter/CTCL/Visium/cell2loc_out/cell2location_map_allsamples/CoLocatedComb/CoLocatedGroupsSklearnNMF_5031locations_47factors/spatial/showcell_density_mean_n_fact23_sspaceranger210_count_47555_HCA_sCTCL13787190-GRCh38-2020-A_p99.2.pdf\n",
      "WARNING: saving figure to file /home/jupyter/CTCL/Visium/cell2loc_out/cell2location_map_allsamples/CoLocatedComb/CoLocatedGroupsSklearnNMF_5031locations_47factors/spatial/showcell_density_mean_n_fact23_sspaceranger210_count_47555_HCA_sCTCL13787191-GRCh38-2020-A_p99.2.pdf\n",
      "WARNING: saving figure to file /home/jupyter/CTCL/Visium/cell2loc_out/cell2location_map_allsamples/CoLocatedComb/CoLocatedGroupsSklearnNMF_5031locations_47factors/spatial/showcell_density_mean_n_fact23_sspaceranger210_count_47555_HCA_sCTCL13787192-GRCh38-2020-A_p99.2.pdf\n",
      "WARNING: saving figure to file /home/jupyter/CTCL/Visium/cell2loc_out/cell2location_map_allsamples/CoLocatedComb/CoLocatedGroupsSklearnNMF_5031locations_47factors/spatial/showcell_density_mean_n_fact23_sspaceranger210_count_47555_HCA_sCTCL13787193-GRCh38-2020-A_p99.2.pdf\n",
      "WARNING: saving figure to file /home/jupyter/CTCL/Visium/cell2loc_out/cell2location_map_allsamples/CoLocatedComb/CoLocatedGroupsSklearnNMF_5031locations_47factors/spatial/showcell_density_mean_n_fact23_sspaceranger210_count_47757_HCA_sCTCL13876502-GRCh38-2020-A_p99.2.pdf\n",
      "WARNING: saving figure to file /home/jupyter/CTCL/Visium/cell2loc_out/cell2location_map_allsamples/CoLocatedComb/CoLocatedGroupsSklearnNMF_5031locations_47factors/spatial/showcell_density_mean_n_fact23_sspaceranger210_count_47757_HCA_sCTCL13876503-GRCh38-2020-A_p99.2.pdf\n",
      "WARNING: saving figure to file /home/jupyter/CTCL/Visium/cell2loc_out/cell2location_map_allsamples/CoLocatedComb/CoLocatedGroupsSklearnNMF_5031locations_47factors/spatial/showcell_density_mean_n_fact23_sspaceranger210_count_47757_HCA_sCTCL13876504-GRCh38-2020-A_p99.2.pdf\n",
      "WARNING: saving figure to file /home/jupyter/CTCL/Visium/cell2loc_out/cell2location_map_allsamples/CoLocatedComb/CoLocatedGroupsSklearnNMF_5031locations_47factors/spatial/showcell_density_mean_n_fact23_sspaceranger210_count_47757_HCA_sCTCL13876505-GRCh38-2020-A_p99.2.pdf\n",
      "### Analysis name: CoLocatedGroupsSklearnNMF_24combinations_5031locations_47factors\n"
     ]
    },
    {
     "name": "stderr",
     "output_type": "stream",
     "text": [
      "/opt/conda/envs/cell2loc_env/lib/python3.9/site-packages/sklearn/decomposition/_nmf.py:1422: FutureWarning: `alpha` was deprecated in version 1.0 and will be removed in 1.2. Use `alpha_W` and `alpha_H` instead\n",
      "/opt/conda/envs/cell2loc_env/lib/python3.9/site-packages/sklearn/decomposition/_nmf.py:1422: FutureWarning: `alpha` was deprecated in version 1.0 and will be removed in 1.2. Use `alpha_W` and `alpha_H` instead\n",
      "/opt/conda/envs/cell2loc_env/lib/python3.9/site-packages/sklearn/decomposition/_nmf.py:1422: FutureWarning: `alpha` was deprecated in version 1.0 and will be removed in 1.2. Use `alpha_W` and `alpha_H` instead\n"
     ]
    },
    {
     "name": "stdout",
     "output_type": "stream",
     "text": [
      "WARNING: saving figure to file /home/jupyter/CTCL/Visium/cell2loc_out/cell2location_map_allsamples/CoLocatedComb/CoLocatedGroupsSklearnNMF_5031locations_47factors/spatial/showcell_density_mean_n_fact24_sspaceranger210_count_47555_HCA_sCTCL13787190-GRCh38-2020-A_p99.2.pdf\n",
      "WARNING: saving figure to file /home/jupyter/CTCL/Visium/cell2loc_out/cell2location_map_allsamples/CoLocatedComb/CoLocatedGroupsSklearnNMF_5031locations_47factors/spatial/showcell_density_mean_n_fact24_sspaceranger210_count_47555_HCA_sCTCL13787191-GRCh38-2020-A_p99.2.pdf\n",
      "WARNING: saving figure to file /home/jupyter/CTCL/Visium/cell2loc_out/cell2location_map_allsamples/CoLocatedComb/CoLocatedGroupsSklearnNMF_5031locations_47factors/spatial/showcell_density_mean_n_fact24_sspaceranger210_count_47555_HCA_sCTCL13787192-GRCh38-2020-A_p99.2.pdf\n",
      "WARNING: saving figure to file /home/jupyter/CTCL/Visium/cell2loc_out/cell2location_map_allsamples/CoLocatedComb/CoLocatedGroupsSklearnNMF_5031locations_47factors/spatial/showcell_density_mean_n_fact24_sspaceranger210_count_47555_HCA_sCTCL13787193-GRCh38-2020-A_p99.2.pdf\n",
      "WARNING: saving figure to file /home/jupyter/CTCL/Visium/cell2loc_out/cell2location_map_allsamples/CoLocatedComb/CoLocatedGroupsSklearnNMF_5031locations_47factors/spatial/showcell_density_mean_n_fact24_sspaceranger210_count_47757_HCA_sCTCL13876502-GRCh38-2020-A_p99.2.pdf\n",
      "WARNING: saving figure to file /home/jupyter/CTCL/Visium/cell2loc_out/cell2location_map_allsamples/CoLocatedComb/CoLocatedGroupsSklearnNMF_5031locations_47factors/spatial/showcell_density_mean_n_fact24_sspaceranger210_count_47757_HCA_sCTCL13876503-GRCh38-2020-A_p99.2.pdf\n",
      "WARNING: saving figure to file /home/jupyter/CTCL/Visium/cell2loc_out/cell2location_map_allsamples/CoLocatedComb/CoLocatedGroupsSklearnNMF_5031locations_47factors/spatial/showcell_density_mean_n_fact24_sspaceranger210_count_47757_HCA_sCTCL13876504-GRCh38-2020-A_p99.2.pdf\n",
      "WARNING: saving figure to file /home/jupyter/CTCL/Visium/cell2loc_out/cell2location_map_allsamples/CoLocatedComb/CoLocatedGroupsSklearnNMF_5031locations_47factors/spatial/showcell_density_mean_n_fact24_sspaceranger210_count_47757_HCA_sCTCL13876505-GRCh38-2020-A_p99.2.pdf\n",
      "### Analysis name: CoLocatedGroupsSklearnNMF_25combinations_5031locations_47factors\n"
     ]
    },
    {
     "name": "stderr",
     "output_type": "stream",
     "text": [
      "/opt/conda/envs/cell2loc_env/lib/python3.9/site-packages/sklearn/decomposition/_nmf.py:1422: FutureWarning: `alpha` was deprecated in version 1.0 and will be removed in 1.2. Use `alpha_W` and `alpha_H` instead\n",
      "/opt/conda/envs/cell2loc_env/lib/python3.9/site-packages/sklearn/decomposition/_nmf.py:1422: FutureWarning: `alpha` was deprecated in version 1.0 and will be removed in 1.2. Use `alpha_W` and `alpha_H` instead\n",
      "/opt/conda/envs/cell2loc_env/lib/python3.9/site-packages/sklearn/decomposition/_nmf.py:1422: FutureWarning: `alpha` was deprecated in version 1.0 and will be removed in 1.2. Use `alpha_W` and `alpha_H` instead\n"
     ]
    },
    {
     "name": "stdout",
     "output_type": "stream",
     "text": [
      "WARNING: saving figure to file /home/jupyter/CTCL/Visium/cell2loc_out/cell2location_map_allsamples/CoLocatedComb/CoLocatedGroupsSklearnNMF_5031locations_47factors/spatial/showcell_density_mean_n_fact25_sspaceranger210_count_47555_HCA_sCTCL13787190-GRCh38-2020-A_p99.2.pdf\n",
      "WARNING: saving figure to file /home/jupyter/CTCL/Visium/cell2loc_out/cell2location_map_allsamples/CoLocatedComb/CoLocatedGroupsSklearnNMF_5031locations_47factors/spatial/showcell_density_mean_n_fact25_sspaceranger210_count_47555_HCA_sCTCL13787191-GRCh38-2020-A_p99.2.pdf\n",
      "WARNING: saving figure to file /home/jupyter/CTCL/Visium/cell2loc_out/cell2location_map_allsamples/CoLocatedComb/CoLocatedGroupsSklearnNMF_5031locations_47factors/spatial/showcell_density_mean_n_fact25_sspaceranger210_count_47555_HCA_sCTCL13787192-GRCh38-2020-A_p99.2.pdf\n",
      "WARNING: saving figure to file /home/jupyter/CTCL/Visium/cell2loc_out/cell2location_map_allsamples/CoLocatedComb/CoLocatedGroupsSklearnNMF_5031locations_47factors/spatial/showcell_density_mean_n_fact25_sspaceranger210_count_47555_HCA_sCTCL13787193-GRCh38-2020-A_p99.2.pdf\n",
      "WARNING: saving figure to file /home/jupyter/CTCL/Visium/cell2loc_out/cell2location_map_allsamples/CoLocatedComb/CoLocatedGroupsSklearnNMF_5031locations_47factors/spatial/showcell_density_mean_n_fact25_sspaceranger210_count_47757_HCA_sCTCL13876502-GRCh38-2020-A_p99.2.pdf\n",
      "WARNING: saving figure to file /home/jupyter/CTCL/Visium/cell2loc_out/cell2location_map_allsamples/CoLocatedComb/CoLocatedGroupsSklearnNMF_5031locations_47factors/spatial/showcell_density_mean_n_fact25_sspaceranger210_count_47757_HCA_sCTCL13876503-GRCh38-2020-A_p99.2.pdf\n",
      "WARNING: saving figure to file /home/jupyter/CTCL/Visium/cell2loc_out/cell2location_map_allsamples/CoLocatedComb/CoLocatedGroupsSklearnNMF_5031locations_47factors/spatial/showcell_density_mean_n_fact25_sspaceranger210_count_47757_HCA_sCTCL13876504-GRCh38-2020-A_p99.2.pdf\n",
      "WARNING: saving figure to file /home/jupyter/CTCL/Visium/cell2loc_out/cell2location_map_allsamples/CoLocatedComb/CoLocatedGroupsSklearnNMF_5031locations_47factors/spatial/showcell_density_mean_n_fact25_sspaceranger210_count_47757_HCA_sCTCL13876505-GRCh38-2020-A_p99.2.pdf\n",
      "### Analysis name: CoLocatedGroupsSklearnNMF_26combinations_5031locations_47factors\n"
     ]
    },
    {
     "name": "stderr",
     "output_type": "stream",
     "text": [
      "/opt/conda/envs/cell2loc_env/lib/python3.9/site-packages/sklearn/decomposition/_nmf.py:1422: FutureWarning: `alpha` was deprecated in version 1.0 and will be removed in 1.2. Use `alpha_W` and `alpha_H` instead\n",
      "/opt/conda/envs/cell2loc_env/lib/python3.9/site-packages/sklearn/decomposition/_nmf.py:1422: FutureWarning: `alpha` was deprecated in version 1.0 and will be removed in 1.2. Use `alpha_W` and `alpha_H` instead\n",
      "/opt/conda/envs/cell2loc_env/lib/python3.9/site-packages/sklearn/decomposition/_nmf.py:1422: FutureWarning: `alpha` was deprecated in version 1.0 and will be removed in 1.2. Use `alpha_W` and `alpha_H` instead\n"
     ]
    },
    {
     "name": "stdout",
     "output_type": "stream",
     "text": [
      "WARNING: saving figure to file /home/jupyter/CTCL/Visium/cell2loc_out/cell2location_map_allsamples/CoLocatedComb/CoLocatedGroupsSklearnNMF_5031locations_47factors/spatial/showcell_density_mean_n_fact26_sspaceranger210_count_47555_HCA_sCTCL13787190-GRCh38-2020-A_p99.2.pdf\n",
      "WARNING: saving figure to file /home/jupyter/CTCL/Visium/cell2loc_out/cell2location_map_allsamples/CoLocatedComb/CoLocatedGroupsSklearnNMF_5031locations_47factors/spatial/showcell_density_mean_n_fact26_sspaceranger210_count_47555_HCA_sCTCL13787191-GRCh38-2020-A_p99.2.pdf\n",
      "WARNING: saving figure to file /home/jupyter/CTCL/Visium/cell2loc_out/cell2location_map_allsamples/CoLocatedComb/CoLocatedGroupsSklearnNMF_5031locations_47factors/spatial/showcell_density_mean_n_fact26_sspaceranger210_count_47555_HCA_sCTCL13787192-GRCh38-2020-A_p99.2.pdf\n",
      "WARNING: saving figure to file /home/jupyter/CTCL/Visium/cell2loc_out/cell2location_map_allsamples/CoLocatedComb/CoLocatedGroupsSklearnNMF_5031locations_47factors/spatial/showcell_density_mean_n_fact26_sspaceranger210_count_47555_HCA_sCTCL13787193-GRCh38-2020-A_p99.2.pdf\n",
      "WARNING: saving figure to file /home/jupyter/CTCL/Visium/cell2loc_out/cell2location_map_allsamples/CoLocatedComb/CoLocatedGroupsSklearnNMF_5031locations_47factors/spatial/showcell_density_mean_n_fact26_sspaceranger210_count_47757_HCA_sCTCL13876502-GRCh38-2020-A_p99.2.pdf\n",
      "WARNING: saving figure to file /home/jupyter/CTCL/Visium/cell2loc_out/cell2location_map_allsamples/CoLocatedComb/CoLocatedGroupsSklearnNMF_5031locations_47factors/spatial/showcell_density_mean_n_fact26_sspaceranger210_count_47757_HCA_sCTCL13876503-GRCh38-2020-A_p99.2.pdf\n",
      "Some error in plotting with scanpy or `cell2location.plt.plot_factor_spatial()`\n",
      " Unable to allocate 44.5 MiB for an array with shape (1457, 2000, 4) and data type float32\n",
      "### Analysis name: CoLocatedGroupsSklearnNMF_27combinations_5031locations_47factors\n"
     ]
    },
    {
     "name": "stderr",
     "output_type": "stream",
     "text": [
      "/opt/conda/envs/cell2loc_env/lib/python3.9/site-packages/sklearn/decomposition/_nmf.py:1422: FutureWarning: `alpha` was deprecated in version 1.0 and will be removed in 1.2. Use `alpha_W` and `alpha_H` instead\n",
      "/opt/conda/envs/cell2loc_env/lib/python3.9/site-packages/sklearn/decomposition/_nmf.py:1422: FutureWarning: `alpha` was deprecated in version 1.0 and will be removed in 1.2. Use `alpha_W` and `alpha_H` instead\n",
      "/opt/conda/envs/cell2loc_env/lib/python3.9/site-packages/sklearn/decomposition/_nmf.py:1422: FutureWarning: `alpha` was deprecated in version 1.0 and will be removed in 1.2. Use `alpha_W` and `alpha_H` instead\n"
     ]
    },
    {
     "name": "stdout",
     "output_type": "stream",
     "text": [
      "Some error in plotting with scanpy or `cell2location.plt.plot_factor_spatial()`\n",
      " Unable to allocate 33.3 MiB for an array with shape (1457, 2000, 3) and data type float32\n",
      "### Analysis name: CoLocatedGroupsSklearnNMF_28combinations_5031locations_47factors\n"
     ]
    },
    {
     "name": "stderr",
     "output_type": "stream",
     "text": [
      "/opt/conda/envs/cell2loc_env/lib/python3.9/site-packages/sklearn/decomposition/_nmf.py:1422: FutureWarning: `alpha` was deprecated in version 1.0 and will be removed in 1.2. Use `alpha_W` and `alpha_H` instead\n",
      "/opt/conda/envs/cell2loc_env/lib/python3.9/site-packages/sklearn/decomposition/_nmf.py:1422: FutureWarning: `alpha` was deprecated in version 1.0 and will be removed in 1.2. Use `alpha_W` and `alpha_H` instead\n",
      "/opt/conda/envs/cell2loc_env/lib/python3.9/site-packages/sklearn/decomposition/_nmf.py:1422: FutureWarning: `alpha` was deprecated in version 1.0 and will be removed in 1.2. Use `alpha_W` and `alpha_H` instead\n"
     ]
    }
   ],
   "source": [
    "from cell2location import run_colocation\n",
    "res_dict, adata_vis = run_colocation(\n",
    "    adata_vis,\n",
    "    model_name='CoLocatedGroupsSklearnNMF',\n",
    "    train_args={\n",
    "      'n_fact': np.arange(5, 30), # IMPORTANT: use a wider range of the number of factors (5-30)\n",
    "      'sample_name_col': 'sample', # columns in adata_vis.obs that identifies sample\n",
    "      'n_restarts': 3 # number of training restarts\n",
    "    },\n",
    "    export_args={'path': f'{run_name}/CoLocatedComb/'}\n",
    ")"
   ]
  },
  {
   "cell_type": "code",
   "execution_count": null,
   "id": "noble-invitation",
   "metadata": {},
   "outputs": [],
   "source": [
    "from cell2location import run_colocation\n",
    "res_dict, adata_vis = run_colocation(\n",
    "    adata_vis,\n",
    "    model_name='CoLocatedGroupsSklearnNMF',\n",
    "    train_args={\n",
    "      'n_fact': np.arange(16, 20), # IMPORTANT: use a wider range of the number of factors (5-30)\n",
    "      'sample_name_col': 'sample', # columns in adata_vis.obs that identifies sample\n",
    "      'n_restarts': 3 # number of training restarts\n",
    "    },\n",
    "    export_args={'path': f'{run_name}/CoLocatedComb_16to20/'}\n",
    ")"
   ]
  }
 ],
 "metadata": {
  "environment": {
   "kernel": "cell2loc_env",
   "name": "pytorch-gpu.1-10.m90",
   "type": "gcloud",
   "uri": "gcr.io/deeplearning-platform-release/pytorch-gpu.1-10:m90"
  },
  "kernelspec": {
   "display_name": "Environment (cell2loc_env)",
   "language": "python",
   "name": "cell2loc_env"
  },
  "language_info": {
   "codemirror_mode": {
    "name": "ipython",
    "version": 3
   },
   "file_extension": ".py",
   "mimetype": "text/x-python",
   "name": "python",
   "nbconvert_exporter": "python",
   "pygments_lexer": "ipython3",
   "version": "3.9.12"
  }
 },
 "nbformat": 4,
 "nbformat_minor": 5
}
