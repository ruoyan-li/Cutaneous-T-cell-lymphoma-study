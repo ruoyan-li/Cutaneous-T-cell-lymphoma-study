{
 "cells": [
  {
   "cell_type": "markdown",
   "id": "forty-miami",
   "metadata": {},
   "source": [
    "### bulk ExpressionSet"
   ]
  },
  {
   "cell_type": "code",
   "execution_count": 1,
   "id": "visible-concept",
   "metadata": {},
   "outputs": [
    {
     "name": "stderr",
     "output_type": "stream",
     "text": [
      "Loading required package: MatrixGenerics\n",
      "\n",
      "Loading required package: matrixStats\n",
      "\n",
      "\n",
      "Attaching package: ‘MatrixGenerics’\n",
      "\n",
      "\n",
      "The following objects are masked from ‘package:matrixStats’:\n",
      "\n",
      "    colAlls, colAnyNAs, colAnys, colAvgsPerRowSet, colCollapse,\n",
      "    colCounts, colCummaxs, colCummins, colCumprods, colCumsums,\n",
      "    colDiffs, colIQRDiffs, colIQRs, colLogSumExps, colMadDiffs,\n",
      "    colMads, colMaxs, colMeans2, colMedians, colMins, colOrderStats,\n",
      "    colProds, colQuantiles, colRanges, colRanks, colSdDiffs, colSds,\n",
      "    colSums2, colTabulates, colVarDiffs, colVars, colWeightedMads,\n",
      "    colWeightedMeans, colWeightedMedians, colWeightedSds,\n",
      "    colWeightedVars, rowAlls, rowAnyNAs, rowAnys, rowAvgsPerColSet,\n",
      "    rowCollapse, rowCounts, rowCummaxs, rowCummins, rowCumprods,\n",
      "    rowCumsums, rowDiffs, rowIQRDiffs, rowIQRs, rowLogSumExps,\n",
      "    rowMadDiffs, rowMads, rowMaxs, rowMeans2, rowMedians, rowMins,\n",
      "    rowOrderStats, rowProds, rowQuantiles, rowRanges, rowRanks,\n",
      "    rowSdDiffs, rowSds, rowSums2, rowTabulates, rowVarDiffs, rowVars,\n",
      "    rowWeightedMads, rowWeightedMeans, rowWeightedMedians,\n",
      "    rowWeightedSds, rowWeightedVars\n",
      "\n",
      "\n",
      "Loading required package: GenomicRanges\n",
      "\n",
      "Loading required package: stats4\n",
      "\n",
      "Loading required package: BiocGenerics\n",
      "\n",
      "Loading required package: parallel\n",
      "\n",
      "\n",
      "Attaching package: ‘BiocGenerics’\n",
      "\n",
      "\n",
      "The following objects are masked from ‘package:parallel’:\n",
      "\n",
      "    clusterApply, clusterApplyLB, clusterCall, clusterEvalQ,\n",
      "    clusterExport, clusterMap, parApply, parCapply, parLapply,\n",
      "    parLapplyLB, parRapply, parSapply, parSapplyLB\n",
      "\n",
      "\n",
      "The following objects are masked from ‘package:stats’:\n",
      "\n",
      "    IQR, mad, sd, var, xtabs\n",
      "\n",
      "\n",
      "The following objects are masked from ‘package:base’:\n",
      "\n",
      "    anyDuplicated, append, as.data.frame, basename, cbind, colnames,\n",
      "    dirname, do.call, duplicated, eval, evalq, Filter, Find, get, grep,\n",
      "    grepl, intersect, is.unsorted, lapply, Map, mapply, match, mget,\n",
      "    order, paste, pmax, pmax.int, pmin, pmin.int, Position, rank,\n",
      "    rbind, Reduce, rownames, sapply, setdiff, sort, table, tapply,\n",
      "    union, unique, unsplit, which.max, which.min\n",
      "\n",
      "\n",
      "Loading required package: S4Vectors\n",
      "\n",
      "\n",
      "Attaching package: ‘S4Vectors’\n",
      "\n",
      "\n",
      "The following object is masked from ‘package:base’:\n",
      "\n",
      "    expand.grid\n",
      "\n",
      "\n",
      "Loading required package: IRanges\n",
      "\n",
      "Loading required package: GenomeInfoDb\n",
      "\n",
      "Loading required package: Biobase\n",
      "\n",
      "Welcome to Bioconductor\n",
      "\n",
      "    Vignettes contain introductory material; view with\n",
      "    'browseVignettes()'. To cite Bioconductor, see\n",
      "    'citation(\"Biobase\")', and for packages 'citation(\"pkgname\")'.\n",
      "\n",
      "\n",
      "\n",
      "Attaching package: ‘Biobase’\n",
      "\n",
      "\n",
      "The following object is masked from ‘package:MatrixGenerics’:\n",
      "\n",
      "    rowMedians\n",
      "\n",
      "\n",
      "The following objects are masked from ‘package:matrixStats’:\n",
      "\n",
      "    anyMissing, rowMedians\n",
      "\n",
      "\n"
     ]
    }
   ],
   "source": [
    "library(SummarizedExperiment)"
   ]
  },
  {
   "cell_type": "code",
   "execution_count": 2,
   "id": "mysterious-village",
   "metadata": {},
   "outputs": [],
   "source": [
    "Matrix <- read.table(\"/lustre/scratch117/cellgen/team205/rl20/CTCL/deconvolution/GSE121212_readcount_rmdup.txt\", \n",
    "                     check.names=F) ### count matrix"
   ]
  },
  {
   "cell_type": "code",
   "execution_count": 3,
   "id": "aggressive-rebate",
   "metadata": {},
   "outputs": [
    {
     "data": {
      "text/html": [
       "<table class=\"dataframe\">\n",
       "<caption>A data.frame: 6 × 147</caption>\n",
       "<thead>\n",
       "\t<tr><th></th><th scope=col>AD_004_lesional</th><th scope=col>AD_004_non-lesional</th><th scope=col>AD_005_lesional</th><th scope=col>AD_005_non-lesional</th><th scope=col>AD_006_lesional</th><th scope=col>AD_006_non-lesional</th><th scope=col>AD_007_lesional</th><th scope=col>AD_007_non-lesional</th><th scope=col>AD_009_lesional</th><th scope=col>AD_009_non-lesional</th><th scope=col>⋯</th><th scope=col>AD_033_chronic_lesion</th><th scope=col>AD_034_non-lesional</th><th scope=col>AD_034_chronic_lesion</th><th scope=col>AD_032_chronic_lesion</th><th scope=col>AD_035_non-lesional</th><th scope=col>AD_035_chronic_lesion</th><th scope=col>AD_036_non-lesional</th><th scope=col>AD_036_chronic_lesion</th><th scope=col>AD_037_non-lesional</th><th scope=col>AD_037_chronic_lesion</th></tr>\n",
       "\t<tr><th></th><th scope=col>&lt;int&gt;</th><th scope=col>&lt;int&gt;</th><th scope=col>&lt;int&gt;</th><th scope=col>&lt;int&gt;</th><th scope=col>&lt;int&gt;</th><th scope=col>&lt;int&gt;</th><th scope=col>&lt;int&gt;</th><th scope=col>&lt;int&gt;</th><th scope=col>&lt;int&gt;</th><th scope=col>&lt;int&gt;</th><th scope=col>⋯</th><th scope=col>&lt;int&gt;</th><th scope=col>&lt;int&gt;</th><th scope=col>&lt;int&gt;</th><th scope=col>&lt;int&gt;</th><th scope=col>&lt;int&gt;</th><th scope=col>&lt;int&gt;</th><th scope=col>&lt;int&gt;</th><th scope=col>&lt;int&gt;</th><th scope=col>&lt;int&gt;</th><th scope=col>&lt;int&gt;</th></tr>\n",
       "</thead>\n",
       "<tbody>\n",
       "\t<tr><th scope=row>5S_rRNA</th><td>  0</td><td>  3</td><td>   9</td><td>  12</td><td>  2</td><td>  3</td><td>   6</td><td>  4</td><td>   2</td><td>   5</td><td>⋯</td><td>   1</td><td>   2</td><td>   3</td><td>   3</td><td>  3</td><td>   4</td><td>   3</td><td>   5</td><td>   6</td><td>   2</td></tr>\n",
       "\t<tr><th scope=row>7SK</th><td>  9</td><td>  6</td><td>  25</td><td>  25</td><td>  7</td><td>  8</td><td>   9</td><td>  8</td><td>   6</td><td>  15</td><td>⋯</td><td>   3</td><td>   8</td><td>   2</td><td>   5</td><td> 12</td><td>   5</td><td>   7</td><td>   5</td><td>   8</td><td>   3</td></tr>\n",
       "\t<tr><th scope=row>A1BG</th><td>  2</td><td>  0</td><td>   4</td><td>   3</td><td>  1</td><td>  1</td><td>   0</td><td>  0</td><td>   4</td><td>   0</td><td>⋯</td><td>   1</td><td>   1</td><td>   2</td><td>   0</td><td>  1</td><td>   2</td><td>   0</td><td>   0</td><td>   1</td><td>   1</td></tr>\n",
       "\t<tr><th scope=row>A1BG-AS1</th><td>  5</td><td>  0</td><td>  11</td><td>   8</td><td>  7</td><td>  8</td><td>  13</td><td>  2</td><td>   6</td><td>  19</td><td>⋯</td><td>   4</td><td>   0</td><td>   7</td><td>   7</td><td>  4</td><td>   4</td><td>  10</td><td>  13</td><td>   8</td><td>   4</td></tr>\n",
       "\t<tr><th scope=row>A1CF</th><td>  2</td><td>  3</td><td>   2</td><td>   8</td><td>  1</td><td>  2</td><td>   0</td><td>  5</td><td>   1</td><td>   5</td><td>⋯</td><td>   3</td><td>   0</td><td>   1</td><td>   0</td><td>  0</td><td>   2</td><td>   0</td><td>   0</td><td>   1</td><td>   0</td></tr>\n",
       "\t<tr><th scope=row>A2M</th><td>308</td><td>353</td><td>2544</td><td>1366</td><td>978</td><td>406</td><td>2761</td><td>928</td><td>2796</td><td>1891</td><td>⋯</td><td>1463</td><td>1391</td><td>1714</td><td>1998</td><td>683</td><td>1154</td><td>2361</td><td>2374</td><td>1040</td><td>2755</td></tr>\n",
       "</tbody>\n",
       "</table>\n"
      ],
      "text/latex": [
       "A data.frame: 6 × 147\n",
       "\\begin{tabular}{r|lllllllllllllllllllll}\n",
       "  & AD\\_004\\_lesional & AD\\_004\\_non-lesional & AD\\_005\\_lesional & AD\\_005\\_non-lesional & AD\\_006\\_lesional & AD\\_006\\_non-lesional & AD\\_007\\_lesional & AD\\_007\\_non-lesional & AD\\_009\\_lesional & AD\\_009\\_non-lesional & ⋯ & AD\\_033\\_chronic\\_lesion & AD\\_034\\_non-lesional & AD\\_034\\_chronic\\_lesion & AD\\_032\\_chronic\\_lesion & AD\\_035\\_non-lesional & AD\\_035\\_chronic\\_lesion & AD\\_036\\_non-lesional & AD\\_036\\_chronic\\_lesion & AD\\_037\\_non-lesional & AD\\_037\\_chronic\\_lesion\\\\\n",
       "  & <int> & <int> & <int> & <int> & <int> & <int> & <int> & <int> & <int> & <int> & ⋯ & <int> & <int> & <int> & <int> & <int> & <int> & <int> & <int> & <int> & <int>\\\\\n",
       "\\hline\n",
       "\t5S\\_rRNA &   0 &   3 &    9 &   12 &   2 &   3 &    6 &   4 &    2 &    5 & ⋯ &    1 &    2 &    3 &    3 &   3 &    4 &    3 &    5 &    6 &    2\\\\\n",
       "\t7SK &   9 &   6 &   25 &   25 &   7 &   8 &    9 &   8 &    6 &   15 & ⋯ &    3 &    8 &    2 &    5 &  12 &    5 &    7 &    5 &    8 &    3\\\\\n",
       "\tA1BG &   2 &   0 &    4 &    3 &   1 &   1 &    0 &   0 &    4 &    0 & ⋯ &    1 &    1 &    2 &    0 &   1 &    2 &    0 &    0 &    1 &    1\\\\\n",
       "\tA1BG-AS1 &   5 &   0 &   11 &    8 &   7 &   8 &   13 &   2 &    6 &   19 & ⋯ &    4 &    0 &    7 &    7 &   4 &    4 &   10 &   13 &    8 &    4\\\\\n",
       "\tA1CF &   2 &   3 &    2 &    8 &   1 &   2 &    0 &   5 &    1 &    5 & ⋯ &    3 &    0 &    1 &    0 &   0 &    2 &    0 &    0 &    1 &    0\\\\\n",
       "\tA2M & 308 & 353 & 2544 & 1366 & 978 & 406 & 2761 & 928 & 2796 & 1891 & ⋯ & 1463 & 1391 & 1714 & 1998 & 683 & 1154 & 2361 & 2374 & 1040 & 2755\\\\\n",
       "\\end{tabular}\n"
      ],
      "text/markdown": [
       "\n",
       "A data.frame: 6 × 147\n",
       "\n",
       "| <!--/--> | AD_004_lesional &lt;int&gt; | AD_004_non-lesional &lt;int&gt; | AD_005_lesional &lt;int&gt; | AD_005_non-lesional &lt;int&gt; | AD_006_lesional &lt;int&gt; | AD_006_non-lesional &lt;int&gt; | AD_007_lesional &lt;int&gt; | AD_007_non-lesional &lt;int&gt; | AD_009_lesional &lt;int&gt; | AD_009_non-lesional &lt;int&gt; | ⋯ ⋯ | AD_033_chronic_lesion &lt;int&gt; | AD_034_non-lesional &lt;int&gt; | AD_034_chronic_lesion &lt;int&gt; | AD_032_chronic_lesion &lt;int&gt; | AD_035_non-lesional &lt;int&gt; | AD_035_chronic_lesion &lt;int&gt; | AD_036_non-lesional &lt;int&gt; | AD_036_chronic_lesion &lt;int&gt; | AD_037_non-lesional &lt;int&gt; | AD_037_chronic_lesion &lt;int&gt; |\n",
       "|---|---|---|---|---|---|---|---|---|---|---|---|---|---|---|---|---|---|---|---|---|---|\n",
       "| 5S_rRNA |   0 |   3 |    9 |   12 |   2 |   3 |    6 |   4 |    2 |    5 | ⋯ |    1 |    2 |    3 |    3 |   3 |    4 |    3 |    5 |    6 |    2 |\n",
       "| 7SK |   9 |   6 |   25 |   25 |   7 |   8 |    9 |   8 |    6 |   15 | ⋯ |    3 |    8 |    2 |    5 |  12 |    5 |    7 |    5 |    8 |    3 |\n",
       "| A1BG |   2 |   0 |    4 |    3 |   1 |   1 |    0 |   0 |    4 |    0 | ⋯ |    1 |    1 |    2 |    0 |   1 |    2 |    0 |    0 |    1 |    1 |\n",
       "| A1BG-AS1 |   5 |   0 |   11 |    8 |   7 |   8 |   13 |   2 |    6 |   19 | ⋯ |    4 |    0 |    7 |    7 |   4 |    4 |   10 |   13 |    8 |    4 |\n",
       "| A1CF |   2 |   3 |    2 |    8 |   1 |   2 |    0 |   5 |    1 |    5 | ⋯ |    3 |    0 |    1 |    0 |   0 |    2 |    0 |    0 |    1 |    0 |\n",
       "| A2M | 308 | 353 | 2544 | 1366 | 978 | 406 | 2761 | 928 | 2796 | 1891 | ⋯ | 1463 | 1391 | 1714 | 1998 | 683 | 1154 | 2361 | 2374 | 1040 | 2755 |\n",
       "\n"
      ],
      "text/plain": [
       "         AD_004_lesional AD_004_non-lesional AD_005_lesional\n",
       "5S_rRNA    0               3                    9           \n",
       "7SK        9               6                   25           \n",
       "A1BG       2               0                    4           \n",
       "A1BG-AS1   5               0                   11           \n",
       "A1CF       2               3                    2           \n",
       "A2M      308             353                 2544           \n",
       "         AD_005_non-lesional AD_006_lesional AD_006_non-lesional\n",
       "5S_rRNA    12                  2               3                \n",
       "7SK        25                  7               8                \n",
       "A1BG        3                  1               1                \n",
       "A1BG-AS1    8                  7               8                \n",
       "A1CF        8                  1               2                \n",
       "A2M      1366                978             406                \n",
       "         AD_007_lesional AD_007_non-lesional AD_009_lesional\n",
       "5S_rRNA     6              4                    2           \n",
       "7SK         9              8                    6           \n",
       "A1BG        0              0                    4           \n",
       "A1BG-AS1   13              2                    6           \n",
       "A1CF        0              5                    1           \n",
       "A2M      2761            928                 2796           \n",
       "         AD_009_non-lesional ⋯ AD_033_chronic_lesion AD_034_non-lesional\n",
       "5S_rRNA     5                ⋯    1                     2               \n",
       "7SK        15                ⋯    3                     8               \n",
       "A1BG        0                ⋯    1                     1               \n",
       "A1BG-AS1   19                ⋯    4                     0               \n",
       "A1CF        5                ⋯    3                     0               \n",
       "A2M      1891                ⋯ 1463                  1391               \n",
       "         AD_034_chronic_lesion AD_032_chronic_lesion AD_035_non-lesional\n",
       "5S_rRNA     3                     3                    3                \n",
       "7SK         2                     5                   12                \n",
       "A1BG        2                     0                    1                \n",
       "A1BG-AS1    7                     7                    4                \n",
       "A1CF        1                     0                    0                \n",
       "A2M      1714                  1998                  683                \n",
       "         AD_035_chronic_lesion AD_036_non-lesional AD_036_chronic_lesion\n",
       "5S_rRNA     4                     3                   5                 \n",
       "7SK         5                     7                   5                 \n",
       "A1BG        2                     0                   0                 \n",
       "A1BG-AS1    4                    10                  13                 \n",
       "A1CF        2                     0                   0                 \n",
       "A2M      1154                  2361                2374                 \n",
       "         AD_037_non-lesional AD_037_chronic_lesion\n",
       "5S_rRNA     6                   2                 \n",
       "7SK         8                   3                 \n",
       "A1BG        1                   1                 \n",
       "A1BG-AS1    8                   4                 \n",
       "A1CF        1                   0                 \n",
       "A2M      1040                2755                 "
      ]
     },
     "metadata": {},
     "output_type": "display_data"
    },
    {
     "data": {
      "text/html": [
       "<style>\n",
       ".list-inline {list-style: none; margin:0; padding: 0}\n",
       ".list-inline>li {display: inline-block}\n",
       ".list-inline>li:not(:last-child)::after {content: \"\\00b7\"; padding: 0 .5ex}\n",
       "</style>\n",
       "<ol class=list-inline><li>31362</li><li>147</li></ol>\n"
      ],
      "text/latex": [
       "\\begin{enumerate*}\n",
       "\\item 31362\n",
       "\\item 147\n",
       "\\end{enumerate*}\n"
      ],
      "text/markdown": [
       "1. 31362\n",
       "2. 147\n",
       "\n",
       "\n"
      ],
      "text/plain": [
       "[1] 31362   147"
      ]
     },
     "metadata": {},
     "output_type": "display_data"
    }
   ],
   "source": [
    "head(Matrix);dim(Matrix)"
   ]
  },
  {
   "cell_type": "code",
   "execution_count": 4,
   "id": "residential-entrance",
   "metadata": {},
   "outputs": [
    {
     "data": {
      "text/html": [
       "<style>\n",
       ".list-inline {list-style: none; margin:0; padding: 0}\n",
       ".list-inline>li {display: inline-block}\n",
       ".list-inline>li:not(:last-child)::after {content: \"\\00b7\"; padding: 0 .5ex}\n",
       "</style>\n",
       "<ol class=list-inline><li>31362</li><li>147</li></ol>\n"
      ],
      "text/latex": [
       "\\begin{enumerate*}\n",
       "\\item 31362\n",
       "\\item 147\n",
       "\\end{enumerate*}\n"
      ],
      "text/markdown": [
       "1. 31362\n",
       "2. 147\n",
       "\n",
       "\n"
      ],
      "text/plain": [
       "[1] 31362   147"
      ]
     },
     "metadata": {},
     "output_type": "display_data"
    }
   ],
   "source": [
    "is_genename_uniq <- !duplicated(rownames(Matrix))\n",
    "Matrix <- Matrix[is_genename_uniq, ]\n",
    "dim(Matrix)"
   ]
  },
  {
   "cell_type": "code",
   "execution_count": 5,
   "id": "timely-dietary",
   "metadata": {},
   "outputs": [
    {
     "data": {
      "text/html": [],
      "text/latex": [],
      "text/markdown": [],
      "text/plain": [
       "named integer(0)"
      ]
     },
     "metadata": {},
     "output_type": "display_data"
    }
   ],
   "source": [
    "tt <- apply(Matrix, 2, sum)\n",
    "del <- which(tt==0)\n",
    "del"
   ]
  },
  {
   "cell_type": "code",
   "execution_count": 6,
   "id": "certain-monkey",
   "metadata": {},
   "outputs": [
    {
     "data": {
      "text/html": [
       "<table class=\"dataframe\">\n",
       "<caption>A data.frame: 6 × 1</caption>\n",
       "<thead>\n",
       "\t<tr><th></th><th scope=col>gene_name</th></tr>\n",
       "\t<tr><th></th><th scope=col>&lt;chr&gt;</th></tr>\n",
       "</thead>\n",
       "<tbody>\n",
       "\t<tr><th scope=row>5S_rRNA</th><td>5S_rRNA </td></tr>\n",
       "\t<tr><th scope=row>7SK</th><td>7SK     </td></tr>\n",
       "\t<tr><th scope=row>A1BG</th><td>A1BG    </td></tr>\n",
       "\t<tr><th scope=row>A1BG-AS1</th><td>A1BG-AS1</td></tr>\n",
       "\t<tr><th scope=row>A1CF</th><td>A1CF    </td></tr>\n",
       "\t<tr><th scope=row>A2M</th><td>A2M     </td></tr>\n",
       "</tbody>\n",
       "</table>\n"
      ],
      "text/latex": [
       "A data.frame: 6 × 1\n",
       "\\begin{tabular}{r|l}\n",
       "  & gene\\_name\\\\\n",
       "  & <chr>\\\\\n",
       "\\hline\n",
       "\t5S\\_rRNA & 5S\\_rRNA \\\\\n",
       "\t7SK & 7SK     \\\\\n",
       "\tA1BG & A1BG    \\\\\n",
       "\tA1BG-AS1 & A1BG-AS1\\\\\n",
       "\tA1CF & A1CF    \\\\\n",
       "\tA2M & A2M     \\\\\n",
       "\\end{tabular}\n"
      ],
      "text/markdown": [
       "\n",
       "A data.frame: 6 × 1\n",
       "\n",
       "| <!--/--> | gene_name &lt;chr&gt; |\n",
       "|---|---|\n",
       "| 5S_rRNA | 5S_rRNA  |\n",
       "| 7SK | 7SK      |\n",
       "| A1BG | A1BG     |\n",
       "| A1BG-AS1 | A1BG-AS1 |\n",
       "| A1CF | A1CF     |\n",
       "| A2M | A2M      |\n",
       "\n"
      ],
      "text/plain": [
       "         gene_name\n",
       "5S_rRNA  5S_rRNA  \n",
       "7SK      7SK      \n",
       "A1BG     A1BG     \n",
       "A1BG-AS1 A1BG-AS1 \n",
       "A1CF     A1CF     \n",
       "A2M      A2M      "
      ]
     },
     "metadata": {},
     "output_type": "display_data"
    }
   ],
   "source": [
    "fdat_df <- data.frame(gene_name=rownames(Matrix), stringsAsFactors=F)\n",
    "rownames(fdat_df) <- rownames(Matrix)\n",
    "metadata_fdat_df <- data.frame(labelDescription= c(\"gene name\"), row.names=c(\"gene_name\"))\n",
    "head(fdat_df)"
   ]
  },
  {
   "cell_type": "code",
   "execution_count": 7,
   "id": "simple-porter",
   "metadata": {},
   "outputs": [
    {
     "data": {
      "text/html": [
       "<table class=\"dataframe\">\n",
       "<caption>A data.frame: 6 × 2</caption>\n",
       "<thead>\n",
       "\t<tr><th></th><th scope=col>sample_type</th><th scope=col>condition</th></tr>\n",
       "\t<tr><th></th><th scope=col>&lt;chr&gt;</th><th scope=col>&lt;chr&gt;</th></tr>\n",
       "</thead>\n",
       "<tbody>\n",
       "\t<tr><th scope=row>AD_004_lesional</th><td>AD_L </td><td>AD</td></tr>\n",
       "\t<tr><th scope=row>AD_004_non-lesional</th><td>AD_NL</td><td>AD</td></tr>\n",
       "\t<tr><th scope=row>AD_005_lesional</th><td>AD_L </td><td>AD</td></tr>\n",
       "\t<tr><th scope=row>AD_005_non-lesional</th><td>AD_NL</td><td>AD</td></tr>\n",
       "\t<tr><th scope=row>AD_006_lesional</th><td>AD_L </td><td>AD</td></tr>\n",
       "\t<tr><th scope=row>AD_006_non-lesional</th><td>AD_NL</td><td>AD</td></tr>\n",
       "</tbody>\n",
       "</table>\n"
      ],
      "text/latex": [
       "A data.frame: 6 × 2\n",
       "\\begin{tabular}{r|ll}\n",
       "  & sample\\_type & condition\\\\\n",
       "  & <chr> & <chr>\\\\\n",
       "\\hline\n",
       "\tAD\\_004\\_lesional & AD\\_L  & AD\\\\\n",
       "\tAD\\_004\\_non-lesional & AD\\_NL & AD\\\\\n",
       "\tAD\\_005\\_lesional & AD\\_L  & AD\\\\\n",
       "\tAD\\_005\\_non-lesional & AD\\_NL & AD\\\\\n",
       "\tAD\\_006\\_lesional & AD\\_L  & AD\\\\\n",
       "\tAD\\_006\\_non-lesional & AD\\_NL & AD\\\\\n",
       "\\end{tabular}\n"
      ],
      "text/markdown": [
       "\n",
       "A data.frame: 6 × 2\n",
       "\n",
       "| <!--/--> | sample_type &lt;chr&gt; | condition &lt;chr&gt; |\n",
       "|---|---|---|\n",
       "| AD_004_lesional | AD_L  | AD |\n",
       "| AD_004_non-lesional | AD_NL | AD |\n",
       "| AD_005_lesional | AD_L  | AD |\n",
       "| AD_005_non-lesional | AD_NL | AD |\n",
       "| AD_006_lesional | AD_L  | AD |\n",
       "| AD_006_non-lesional | AD_NL | AD |\n",
       "\n"
      ],
      "text/plain": [
       "                    sample_type condition\n",
       "AD_004_lesional     AD_L        AD       \n",
       "AD_004_non-lesional AD_NL       AD       \n",
       "AD_005_lesional     AD_L        AD       \n",
       "AD_005_non-lesional AD_NL       AD       \n",
       "AD_006_lesional     AD_L        AD       \n",
       "AD_006_non-lesional AD_NL       AD       "
      ]
     },
     "metadata": {},
     "output_type": "display_data"
    }
   ],
   "source": [
    "metadata <- read.table(\"/lustre/scratch117/cellgen/team205/rl20/CTCL/deconvolution/GSE121212_meta.xls\", \n",
    "                       check.names=F, sep=\"\\t\", header = T)\n",
    "head(metadata)"
   ]
  },
  {
   "cell_type": "code",
   "execution_count": 8,
   "id": "controlling-muscle",
   "metadata": {},
   "outputs": [
    {
     "data": {
      "text/html": [
       "<table class=\"dataframe\">\n",
       "<caption>A data.frame: 6 × 2</caption>\n",
       "<thead>\n",
       "\t<tr><th></th><th scope=col>sample_type</th><th scope=col>condition</th></tr>\n",
       "\t<tr><th></th><th scope=col>&lt;chr&gt;</th><th scope=col>&lt;chr&gt;</th></tr>\n",
       "</thead>\n",
       "<tbody>\n",
       "\t<tr><th scope=row>AD_004_lesional</th><td>AD_L </td><td>AD</td></tr>\n",
       "\t<tr><th scope=row>AD_004_non-lesional</th><td>AD_NL</td><td>AD</td></tr>\n",
       "\t<tr><th scope=row>AD_005_lesional</th><td>AD_L </td><td>AD</td></tr>\n",
       "\t<tr><th scope=row>AD_005_non-lesional</th><td>AD_NL</td><td>AD</td></tr>\n",
       "\t<tr><th scope=row>AD_006_lesional</th><td>AD_L </td><td>AD</td></tr>\n",
       "\t<tr><th scope=row>AD_006_non-lesional</th><td>AD_NL</td><td>AD</td></tr>\n",
       "</tbody>\n",
       "</table>\n"
      ],
      "text/latex": [
       "A data.frame: 6 × 2\n",
       "\\begin{tabular}{r|ll}\n",
       "  & sample\\_type & condition\\\\\n",
       "  & <chr> & <chr>\\\\\n",
       "\\hline\n",
       "\tAD\\_004\\_lesional & AD\\_L  & AD\\\\\n",
       "\tAD\\_004\\_non-lesional & AD\\_NL & AD\\\\\n",
       "\tAD\\_005\\_lesional & AD\\_L  & AD\\\\\n",
       "\tAD\\_005\\_non-lesional & AD\\_NL & AD\\\\\n",
       "\tAD\\_006\\_lesional & AD\\_L  & AD\\\\\n",
       "\tAD\\_006\\_non-lesional & AD\\_NL & AD\\\\\n",
       "\\end{tabular}\n"
      ],
      "text/markdown": [
       "\n",
       "A data.frame: 6 × 2\n",
       "\n",
       "| <!--/--> | sample_type &lt;chr&gt; | condition &lt;chr&gt; |\n",
       "|---|---|---|\n",
       "| AD_004_lesional | AD_L  | AD |\n",
       "| AD_004_non-lesional | AD_NL | AD |\n",
       "| AD_005_lesional | AD_L  | AD |\n",
       "| AD_005_non-lesional | AD_NL | AD |\n",
       "| AD_006_lesional | AD_L  | AD |\n",
       "| AD_006_non-lesional | AD_NL | AD |\n",
       "\n"
      ],
      "text/plain": [
       "                    sample_type condition\n",
       "AD_004_lesional     AD_L        AD       \n",
       "AD_004_non-lesional AD_NL       AD       \n",
       "AD_005_lesional     AD_L        AD       \n",
       "AD_005_non-lesional AD_NL       AD       \n",
       "AD_006_lesional     AD_L        AD       \n",
       "AD_006_non-lesional AD_NL       AD       "
      ]
     },
     "metadata": {},
     "output_type": "display_data"
    }
   ],
   "source": [
    "pdat_df <- data.frame(sample_type = metadata$sample_type, \n",
    "                      condition = metadata$condition,\n",
    "                      stringsAsFactors = F)\n",
    "rownames(pdat_df) <- rownames(metadata)\n",
    "head(pdat_df)"
   ]
  },
  {
   "cell_type": "code",
   "execution_count": 9,
   "id": "sporting-priest",
   "metadata": {},
   "outputs": [],
   "source": [
    "metadata_pdat_df <- data.frame(labelDescription= c(\"lesion_nonlesion\", \"Condition\"), \n",
    "                               row.names=c(\"sample_type\", \"condition\"))"
   ]
  },
  {
   "cell_type": "code",
   "execution_count": 10,
   "id": "wound-congo",
   "metadata": {},
   "outputs": [
    {
     "data": {
      "text/html": [
       "<table class=\"dataframe\">\n",
       "<caption>A data.frame: 2 × 1</caption>\n",
       "<thead>\n",
       "\t<tr><th></th><th scope=col>labelDescription</th></tr>\n",
       "\t<tr><th></th><th scope=col>&lt;chr&gt;</th></tr>\n",
       "</thead>\n",
       "<tbody>\n",
       "\t<tr><th scope=row>sample_type</th><td>lesion_nonlesion</td></tr>\n",
       "\t<tr><th scope=row>condition</th><td>Condition       </td></tr>\n",
       "</tbody>\n",
       "</table>\n"
      ],
      "text/latex": [
       "A data.frame: 2 × 1\n",
       "\\begin{tabular}{r|l}\n",
       "  & labelDescription\\\\\n",
       "  & <chr>\\\\\n",
       "\\hline\n",
       "\tsample\\_type & lesion\\_nonlesion\\\\\n",
       "\tcondition & Condition       \\\\\n",
       "\\end{tabular}\n"
      ],
      "text/markdown": [
       "\n",
       "A data.frame: 2 × 1\n",
       "\n",
       "| <!--/--> | labelDescription &lt;chr&gt; |\n",
       "|---|---|\n",
       "| sample_type | lesion_nonlesion |\n",
       "| condition | Condition        |\n",
       "\n"
      ],
      "text/plain": [
       "            labelDescription\n",
       "sample_type lesion_nonlesion\n",
       "condition   Condition       "
      ]
     },
     "metadata": {},
     "output_type": "display_data"
    }
   ],
   "source": [
    "metadata_pdat_df"
   ]
  },
  {
   "cell_type": "code",
   "execution_count": 11,
   "id": "standard-probability",
   "metadata": {},
   "outputs": [],
   "source": [
    "Matrix <- Matrix[ ,rownames(pdat_df)] ### the order of rownames(pdat_df) and colnames(Matrix) might be different"
   ]
  },
  {
   "cell_type": "code",
   "execution_count": 12,
   "id": "executed-yukon",
   "metadata": {},
   "outputs": [
    {
     "data": {
      "text/html": [
       "TRUE"
      ],
      "text/latex": [
       "TRUE"
      ],
      "text/markdown": [
       "TRUE"
      ],
      "text/plain": [
       "[1] TRUE"
      ]
     },
     "metadata": {},
     "output_type": "display_data"
    }
   ],
   "source": [
    "all.equal(colnames(Matrix), rownames(pdat_df))"
   ]
  },
  {
   "cell_type": "code",
   "execution_count": 13,
   "id": "backed-chester",
   "metadata": {},
   "outputs": [],
   "source": [
    "bulk_eset <- ExpressionSet(\n",
    "  assayData = data.matrix(Matrix),\n",
    "  phenoData=new(\"AnnotatedDataFrame\", data = pdat_df, varMetadata = metadata_pdat_df),\n",
    "  featureData=new(\"AnnotatedDataFrame\", data = fdat_df, varMetadata = metadata_fdat_df))"
   ]
  },
  {
   "cell_type": "code",
   "execution_count": 14,
   "id": "embedded-commonwealth",
   "metadata": {},
   "outputs": [
    {
     "data": {
      "text/plain": [
       "ExpressionSet (storageMode: lockedEnvironment)\n",
       "assayData: 31362 features, 147 samples \n",
       "  element names: exprs \n",
       "protocolData: none\n",
       "phenoData\n",
       "  sampleNames: AD_004_lesional AD_004_non-lesional ...\n",
       "    AD_037_chronic_lesion (147 total)\n",
       "  varLabels: sample_type condition\n",
       "  varMetadata: labelDescription\n",
       "featureData\n",
       "  featureNames: 5S_rRNA 7SK ... snoZ5 (31362 total)\n",
       "  fvarLabels: gene_name\n",
       "  fvarMetadata: labelDescription\n",
       "experimentData: use 'experimentData(object)'\n",
       "Annotation:  "
      ]
     },
     "metadata": {},
     "output_type": "display_data"
    }
   ],
   "source": [
    "bulk_eset"
   ]
  },
  {
   "cell_type": "code",
   "execution_count": 17,
   "id": "prime-priority",
   "metadata": {},
   "outputs": [],
   "source": [
    "saveRDS(bulk_eset, file=\"/lustre/scratch117/cellgen/team205/rl20/CTCL/deconvolution/GSE121212_readcount_ExpressionSet.rds\")"
   ]
  },
  {
   "cell_type": "markdown",
   "id": "choice-newsletter",
   "metadata": {},
   "source": [
    "### Single cell ExpressionSet"
   ]
  },
  {
   "cell_type": "code",
   "execution_count": 15,
   "id": "demonstrated-absolute",
   "metadata": {},
   "outputs": [
    {
     "name": "stderr",
     "output_type": "stream",
     "text": [
      "Loading required package: reticulate\n",
      "\n"
     ]
    }
   ],
   "source": [
    "library(sceasy)\n",
    "library(reticulate)"
   ]
  },
  {
   "cell_type": "code",
   "execution_count": 20,
   "id": "french-cross",
   "metadata": {},
   "outputs": [
    {
     "name": "stderr",
     "output_type": "stream",
     "text": [
      "X -> counts\n",
      "\n"
     ]
    },
    {
     "data": {
      "text/plain": [
       "An object of class Seurat \n",
       "33538 features across 54611 samples within 1 assay \n",
       "Active assay: RNA (33538 features, 0 variable features)"
      ]
     },
     "metadata": {},
     "output_type": "display_data"
    }
   ],
   "source": [
    "h5ad_file <- \"/lustre/scratch117/cellgen/team205/rl20/CTCL/object-new/CTCL1-8_raw_downsample0.2_anno_for_deconv.h5ad\"\n",
    "sceasy::convertFormat(h5ad_file, from=\"anndata\", to=\"seurat\",\n",
    "                       outFile='/lustre/scratch117/cellgen/team205/rl20/CTCL/object-new/CTCL1-8_raw_downsample0.2_anno_for_deconv.rds')"
   ]
  },
  {
   "cell_type": "code",
   "execution_count": 16,
   "id": "joined-income",
   "metadata": {},
   "outputs": [
    {
     "name": "stderr",
     "output_type": "stream",
     "text": [
      "Attaching SeuratObject\n",
      "\n",
      "\n",
      "Attaching package: ‘Seurat’\n",
      "\n",
      "\n",
      "The following object is masked from ‘package:SummarizedExperiment’:\n",
      "\n",
      "    Assays\n",
      "\n",
      "\n",
      "\n",
      "Attaching package: ‘Matrix’\n",
      "\n",
      "\n",
      "The following object is masked from ‘package:S4Vectors’:\n",
      "\n",
      "    expand\n",
      "\n",
      "\n"
     ]
    }
   ],
   "source": [
    "library(Seurat)\n",
    "library(BisqueRNA)\n",
    "library(Biobase)\n",
    "library(Matrix)"
   ]
  },
  {
   "cell_type": "code",
   "execution_count": 17,
   "id": "hired-healthcare",
   "metadata": {},
   "outputs": [
    {
     "data": {
      "text/plain": [
       "An object of class Seurat \n",
       "33538 features across 55815 samples within 1 assay \n",
       "Active assay: RNA (33538 features, 0 variable features)"
      ]
     },
     "metadata": {},
     "output_type": "display_data"
    }
   ],
   "source": [
    "seurat_object <- readRDS(\"/lustre/scratch117/cellgen/team205/rl20/CTCL/object-new/CTCL1-8_raw_downsample0.2_anno_for_deconv.rds\")\n",
    "seurat_object"
   ]
  },
  {
   "cell_type": "code",
   "execution_count": 18,
   "id": "respiratory-weight",
   "metadata": {},
   "outputs": [
    {
     "name": "stderr",
     "output_type": "stream",
     "text": [
      "   [[ suppressing 20 column names ‘AAACCTGAGAATGTTG-1’, ‘AAACCTGAGTTCGCAT-1’, ‘AAACCTGCATCACAAC-1’ ... ]]\n",
      "\n"
     ]
    },
    {
     "data": {
      "text/plain": [
       "20 x 20 sparse Matrix of class \"dgCMatrix\"\n",
       "                                                   \n",
       "MIR1302-2HG . . . . . . . . . . . . . . . . . . . .\n",
       "FAM138A     . . . . . . . . . . . . . . . . . . . .\n",
       "OR4F5       . . . . . . . . . . . . . . . . . . . .\n",
       "AL627309.1  . . . . . . . . . . . . . . . . . . . .\n",
       "AL627309.3  . . . . . . . . . . . . . . . . . . . .\n",
       "AL627309.2  . . . . . . . . . . . . . . . . . . . .\n",
       "AL627309.4  . . . . . . . . . . . . . . . . . . . .\n",
       "AL732372.1  . . . . . . . . . . . . . . . . . . . .\n",
       "OR4F29      . . . . . . . . . . . . . . . . . . . .\n",
       "AC114498.1  . . . . . . . . . . . . . . . . . . . .\n",
       "OR4F16      . . . . . . . . . . . . . . . . . . . .\n",
       "AL669831.2  . . . . . . . . . . . . . . . . . . . .\n",
       "AL669831.5  . . 1 . . . . . . . . . . . . . . . . .\n",
       "FAM87B      . . . . . . . . . . . . . . . . . . . .\n",
       "LINC00115   . . 2 . . . . . . 1 . . . . . . . . . 1\n",
       "FAM41C      . . . . . . . . . . . . . . . . . . . .\n",
       "AL645608.7  . . . . . . . . . . . . . . . . . . . .\n",
       "AL645608.3  . . . . . . . . . . . . . . . . . . . .\n",
       "AL645608.5  . . . . . . . . . . . . . . . . . . . .\n",
       "AL645608.1  . . . . . . . . . . . . . . . . . . . ."
      ]
     },
     "metadata": {},
     "output_type": "display_data"
    }
   ],
   "source": [
    "gene_exprs.matrix <- seurat_object@assays$RNA@counts\n",
    "gene_exprs.matrix[1:20,1:20]\n"
   ]
  },
  {
   "cell_type": "code",
   "execution_count": 21,
   "id": "lonely-cambodia",
   "metadata": {},
   "outputs": [
    {
     "data": {
      "text/html": [
       "<table class=\"dataframe\">\n",
       "<caption>A data.frame: 6 × 11</caption>\n",
       "<thead>\n",
       "\t<tr><th></th><th scope=col>sample_id</th><th scope=col>donor_id</th><th scope=col>Tissue</th><th scope=col>mad_prd</th><th scope=col>ds</th><th scope=col>mad_MED</th><th scope=col>mad_MAD</th><th scope=col>mad_thr</th><th scope=col>batch</th><th scope=col>anno</th><th scope=col>broad_cell_type</th></tr>\n",
       "\t<tr><th></th><th scope=col>&lt;chr&gt;</th><th scope=col>&lt;chr&gt;</th><th scope=col>&lt;chr&gt;</th><th scope=col>&lt;chr&gt;</th><th scope=col>&lt;dbl&gt;</th><th scope=col>&lt;dbl&gt;</th><th scope=col>&lt;dbl&gt;</th><th scope=col>&lt;dbl&gt;</th><th scope=col>&lt;int&gt;</th><th scope=col>&lt;chr&gt;</th><th scope=col>&lt;chr&gt;</th></tr>\n",
       "</thead>\n",
       "<tbody>\n",
       "\t<tr><th scope=row>AAACCTGAGAATGTTG-1</th><td>CTCL_10x_1</td><td>CTCL1</td><td>Epidermis</td><td>False</td><td>0.17781403</td><td>0.07233273</td><td>0.04214057</td><td>0.240895</td><td>0</td><td>Differentiated_KC*</td><td>KC   </td></tr>\n",
       "\t<tr><th scope=row>AAACCTGAGTTCGCAT-1</th><td>CTCL_10x_1</td><td>CTCL1</td><td>Epidermis</td><td>False</td><td>0.17781403</td><td>0.07233273</td><td>0.04214057</td><td>0.240895</td><td>0</td><td>VE2               </td><td>Fibro</td></tr>\n",
       "\t<tr><th scope=row>AAACCTGCATCACAAC-1</th><td>CTCL_10x_1</td><td>CTCL1</td><td>Epidermis</td><td>False</td><td>0.19928826</td><td>0.07233273</td><td>0.04214057</td><td>0.240895</td><td>0</td><td>Differentiated_KC </td><td>KC   </td></tr>\n",
       "\t<tr><th scope=row>AAAGATGAGGAGTTTA-1</th><td>CTCL_10x_1</td><td>CTCL1</td><td>Epidermis</td><td>False</td><td>0.03918919</td><td>0.07233273</td><td>0.04214057</td><td>0.240895</td><td>0</td><td>Differentiated_KC </td><td>KC   </td></tr>\n",
       "\t<tr><th scope=row>AAAGATGGTTGTGGAG-1</th><td>CTCL_10x_1</td><td>CTCL1</td><td>Epidermis</td><td>False</td><td>0.18456376</td><td>0.07233273</td><td>0.04214057</td><td>0.240895</td><td>0</td><td>Differentiated_KC </td><td>KC   </td></tr>\n",
       "\t<tr><th scope=row>AAAGCAAAGCCTATGT-1</th><td>CTCL_10x_1</td><td>CTCL1</td><td>Epidermis</td><td>False</td><td>0.01870657</td><td>0.07233273</td><td>0.04214057</td><td>0.240895</td><td>0</td><td>Differentiated_KC </td><td>KC   </td></tr>\n",
       "</tbody>\n",
       "</table>\n"
      ],
      "text/latex": [
       "A data.frame: 6 × 11\n",
       "\\begin{tabular}{r|lllllllllll}\n",
       "  & sample\\_id & donor\\_id & Tissue & mad\\_prd & ds & mad\\_MED & mad\\_MAD & mad\\_thr & batch & anno & broad\\_cell\\_type\\\\\n",
       "  & <chr> & <chr> & <chr> & <chr> & <dbl> & <dbl> & <dbl> & <dbl> & <int> & <chr> & <chr>\\\\\n",
       "\\hline\n",
       "\tAAACCTGAGAATGTTG-1 & CTCL\\_10x\\_1 & CTCL1 & Epidermis & False & 0.17781403 & 0.07233273 & 0.04214057 & 0.240895 & 0 & Differentiated\\_KC* & KC   \\\\\n",
       "\tAAACCTGAGTTCGCAT-1 & CTCL\\_10x\\_1 & CTCL1 & Epidermis & False & 0.17781403 & 0.07233273 & 0.04214057 & 0.240895 & 0 & VE2                & Fibro\\\\\n",
       "\tAAACCTGCATCACAAC-1 & CTCL\\_10x\\_1 & CTCL1 & Epidermis & False & 0.19928826 & 0.07233273 & 0.04214057 & 0.240895 & 0 & Differentiated\\_KC  & KC   \\\\\n",
       "\tAAAGATGAGGAGTTTA-1 & CTCL\\_10x\\_1 & CTCL1 & Epidermis & False & 0.03918919 & 0.07233273 & 0.04214057 & 0.240895 & 0 & Differentiated\\_KC  & KC   \\\\\n",
       "\tAAAGATGGTTGTGGAG-1 & CTCL\\_10x\\_1 & CTCL1 & Epidermis & False & 0.18456376 & 0.07233273 & 0.04214057 & 0.240895 & 0 & Differentiated\\_KC  & KC   \\\\\n",
       "\tAAAGCAAAGCCTATGT-1 & CTCL\\_10x\\_1 & CTCL1 & Epidermis & False & 0.01870657 & 0.07233273 & 0.04214057 & 0.240895 & 0 & Differentiated\\_KC  & KC   \\\\\n",
       "\\end{tabular}\n"
      ],
      "text/markdown": [
       "\n",
       "A data.frame: 6 × 11\n",
       "\n",
       "| <!--/--> | sample_id &lt;chr&gt; | donor_id &lt;chr&gt; | Tissue &lt;chr&gt; | mad_prd &lt;chr&gt; | ds &lt;dbl&gt; | mad_MED &lt;dbl&gt; | mad_MAD &lt;dbl&gt; | mad_thr &lt;dbl&gt; | batch &lt;int&gt; | anno &lt;chr&gt; | broad_cell_type &lt;chr&gt; |\n",
       "|---|---|---|---|---|---|---|---|---|---|---|---|\n",
       "| AAACCTGAGAATGTTG-1 | CTCL_10x_1 | CTCL1 | Epidermis | False | 0.17781403 | 0.07233273 | 0.04214057 | 0.240895 | 0 | Differentiated_KC* | KC    |\n",
       "| AAACCTGAGTTCGCAT-1 | CTCL_10x_1 | CTCL1 | Epidermis | False | 0.17781403 | 0.07233273 | 0.04214057 | 0.240895 | 0 | VE2                | Fibro |\n",
       "| AAACCTGCATCACAAC-1 | CTCL_10x_1 | CTCL1 | Epidermis | False | 0.19928826 | 0.07233273 | 0.04214057 | 0.240895 | 0 | Differentiated_KC  | KC    |\n",
       "| AAAGATGAGGAGTTTA-1 | CTCL_10x_1 | CTCL1 | Epidermis | False | 0.03918919 | 0.07233273 | 0.04214057 | 0.240895 | 0 | Differentiated_KC  | KC    |\n",
       "| AAAGATGGTTGTGGAG-1 | CTCL_10x_1 | CTCL1 | Epidermis | False | 0.18456376 | 0.07233273 | 0.04214057 | 0.240895 | 0 | Differentiated_KC  | KC    |\n",
       "| AAAGCAAAGCCTATGT-1 | CTCL_10x_1 | CTCL1 | Epidermis | False | 0.01870657 | 0.07233273 | 0.04214057 | 0.240895 | 0 | Differentiated_KC  | KC    |\n",
       "\n"
      ],
      "text/plain": [
       "                   sample_id  donor_id Tissue    mad_prd ds         mad_MED   \n",
       "AAACCTGAGAATGTTG-1 CTCL_10x_1 CTCL1    Epidermis False   0.17781403 0.07233273\n",
       "AAACCTGAGTTCGCAT-1 CTCL_10x_1 CTCL1    Epidermis False   0.17781403 0.07233273\n",
       "AAACCTGCATCACAAC-1 CTCL_10x_1 CTCL1    Epidermis False   0.19928826 0.07233273\n",
       "AAAGATGAGGAGTTTA-1 CTCL_10x_1 CTCL1    Epidermis False   0.03918919 0.07233273\n",
       "AAAGATGGTTGTGGAG-1 CTCL_10x_1 CTCL1    Epidermis False   0.18456376 0.07233273\n",
       "AAAGCAAAGCCTATGT-1 CTCL_10x_1 CTCL1    Epidermis False   0.01870657 0.07233273\n",
       "                   mad_MAD    mad_thr  batch anno               broad_cell_type\n",
       "AAACCTGAGAATGTTG-1 0.04214057 0.240895 0     Differentiated_KC* KC             \n",
       "AAACCTGAGTTCGCAT-1 0.04214057 0.240895 0     VE2                Fibro          \n",
       "AAACCTGCATCACAAC-1 0.04214057 0.240895 0     Differentiated_KC  KC             \n",
       "AAAGATGAGGAGTTTA-1 0.04214057 0.240895 0     Differentiated_KC  KC             \n",
       "AAAGATGGTTGTGGAG-1 0.04214057 0.240895 0     Differentiated_KC  KC             \n",
       "AAAGCAAAGCCTATGT-1 0.04214057 0.240895 0     Differentiated_KC  KC             "
      ]
     },
     "metadata": {},
     "output_type": "display_data"
    }
   ],
   "source": [
    "meta <- read.csv('/lustre/scratch117/cellgen/team205/rl20/CTCL/object-new/CTCL1-8_raw_downsample0.2_anno_for_deconv_meta.csv')\n",
    "head(meta)"
   ]
  },
  {
   "cell_type": "code",
   "execution_count": 22,
   "id": "committed-increase",
   "metadata": {},
   "outputs": [
    {
     "data": {
      "text/plain": [
       "\n",
       "       APC   B/plasma      Fibro         KC     L-Endo       Mast Melanocyte \n",
       "      6652       1215       4710       7496        420        417       1187 \n",
       "  Pericyte     T-cell     V-Endo \n",
       "      1837      28573       3308 "
      ]
     },
     "metadata": {},
     "output_type": "display_data"
    }
   ],
   "source": [
    "#table(meta$broad_cell_type)\n",
    "table(meta$broad_cell_type)"
   ]
  },
  {
   "cell_type": "code",
   "execution_count": 23,
   "id": "gross-hydrogen",
   "metadata": {},
   "outputs": [],
   "source": [
    "seurat_object@meta.data <- as.data.frame(meta)"
   ]
  },
  {
   "cell_type": "code",
   "execution_count": 24,
   "id": "touched-louis",
   "metadata": {},
   "outputs": [
    {
     "data": {
      "text/html": [
       "<table class=\"dataframe\">\n",
       "<caption>A data.frame: 6 × 3</caption>\n",
       "<thead>\n",
       "\t<tr><th></th><th scope=col>donor_id</th><th scope=col>broad_cell_type</th><th scope=col>anno</th></tr>\n",
       "\t<tr><th></th><th scope=col>&lt;chr&gt;</th><th scope=col>&lt;chr&gt;</th><th scope=col>&lt;chr&gt;</th></tr>\n",
       "</thead>\n",
       "<tbody>\n",
       "\t<tr><th scope=row>AAACCTGAGAATGTTG-1</th><td>CTCL1</td><td>KC   </td><td>Differentiated_KC*</td></tr>\n",
       "\t<tr><th scope=row>AAACCTGAGTTCGCAT-1</th><td>CTCL1</td><td>Fibro</td><td>VE2               </td></tr>\n",
       "\t<tr><th scope=row>AAACCTGCATCACAAC-1</th><td>CTCL1</td><td>KC   </td><td>Differentiated_KC </td></tr>\n",
       "\t<tr><th scope=row>AAAGATGAGGAGTTTA-1</th><td>CTCL1</td><td>KC   </td><td>Differentiated_KC </td></tr>\n",
       "\t<tr><th scope=row>AAAGATGGTTGTGGAG-1</th><td>CTCL1</td><td>KC   </td><td>Differentiated_KC </td></tr>\n",
       "\t<tr><th scope=row>AAAGCAAAGCCTATGT-1</th><td>CTCL1</td><td>KC   </td><td>Differentiated_KC </td></tr>\n",
       "</tbody>\n",
       "</table>\n"
      ],
      "text/latex": [
       "A data.frame: 6 × 3\n",
       "\\begin{tabular}{r|lll}\n",
       "  & donor\\_id & broad\\_cell\\_type & anno\\\\\n",
       "  & <chr> & <chr> & <chr>\\\\\n",
       "\\hline\n",
       "\tAAACCTGAGAATGTTG-1 & CTCL1 & KC    & Differentiated\\_KC*\\\\\n",
       "\tAAACCTGAGTTCGCAT-1 & CTCL1 & Fibro & VE2               \\\\\n",
       "\tAAACCTGCATCACAAC-1 & CTCL1 & KC    & Differentiated\\_KC \\\\\n",
       "\tAAAGATGAGGAGTTTA-1 & CTCL1 & KC    & Differentiated\\_KC \\\\\n",
       "\tAAAGATGGTTGTGGAG-1 & CTCL1 & KC    & Differentiated\\_KC \\\\\n",
       "\tAAAGCAAAGCCTATGT-1 & CTCL1 & KC    & Differentiated\\_KC \\\\\n",
       "\\end{tabular}\n"
      ],
      "text/markdown": [
       "\n",
       "A data.frame: 6 × 3\n",
       "\n",
       "| <!--/--> | donor_id &lt;chr&gt; | broad_cell_type &lt;chr&gt; | anno &lt;chr&gt; |\n",
       "|---|---|---|---|\n",
       "| AAACCTGAGAATGTTG-1 | CTCL1 | KC    | Differentiated_KC* |\n",
       "| AAACCTGAGTTCGCAT-1 | CTCL1 | Fibro | VE2                |\n",
       "| AAACCTGCATCACAAC-1 | CTCL1 | KC    | Differentiated_KC  |\n",
       "| AAAGATGAGGAGTTTA-1 | CTCL1 | KC    | Differentiated_KC  |\n",
       "| AAAGATGGTTGTGGAG-1 | CTCL1 | KC    | Differentiated_KC  |\n",
       "| AAAGCAAAGCCTATGT-1 | CTCL1 | KC    | Differentiated_KC  |\n",
       "\n"
      ],
      "text/plain": [
       "                   donor_id broad_cell_type anno              \n",
       "AAACCTGAGAATGTTG-1 CTCL1    KC              Differentiated_KC*\n",
       "AAACCTGAGTTCGCAT-1 CTCL1    Fibro           VE2               \n",
       "AAACCTGCATCACAAC-1 CTCL1    KC              Differentiated_KC \n",
       "AAAGATGAGGAGTTTA-1 CTCL1    KC              Differentiated_KC \n",
       "AAAGATGGTTGTGGAG-1 CTCL1    KC              Differentiated_KC \n",
       "AAAGCAAAGCCTATGT-1 CTCL1    KC              Differentiated_KC "
      ]
     },
     "metadata": {},
     "output_type": "display_data"
    }
   ],
   "source": [
    "#pheno.matrix <- seurat_object@meta.data[,c(\"donor_id\",\"broad_cell_type\",\"anno\")]\n",
    "pheno.matrix <- seurat_object@meta.data[,c(\"donor_id\",\"broad_cell_type\",\"anno\")]\n",
    "head(pheno.matrix)"
   ]
  },
  {
   "cell_type": "code",
   "execution_count": 25,
   "id": "ideal-dialogue",
   "metadata": {},
   "outputs": [
    {
     "data": {
      "text/html": [
       "<table class=\"dataframe\">\n",
       "<caption>A data.frame: 3 × 1</caption>\n",
       "<thead>\n",
       "\t<tr><th></th><th scope=col>labelDescription</th></tr>\n",
       "\t<tr><th></th><th scope=col>&lt;chr&gt;</th></tr>\n",
       "</thead>\n",
       "<tbody>\n",
       "\t<tr><th scope=row>donor_id</th><td>Donor ID       </td></tr>\n",
       "\t<tr><th scope=row>broad_cell_type</th><td>broad_cell_type</td></tr>\n",
       "\t<tr><th scope=row>anno</th><td>annotation     </td></tr>\n",
       "</tbody>\n",
       "</table>\n"
      ],
      "text/latex": [
       "A data.frame: 3 × 1\n",
       "\\begin{tabular}{r|l}\n",
       "  & labelDescription\\\\\n",
       "  & <chr>\\\\\n",
       "\\hline\n",
       "\tdonor\\_id & Donor ID       \\\\\n",
       "\tbroad\\_cell\\_type & broad\\_cell\\_type\\\\\n",
       "\tanno & annotation     \\\\\n",
       "\\end{tabular}\n"
      ],
      "text/markdown": [
       "\n",
       "A data.frame: 3 × 1\n",
       "\n",
       "| <!--/--> | labelDescription &lt;chr&gt; |\n",
       "|---|---|\n",
       "| donor_id | Donor ID        |\n",
       "| broad_cell_type | broad_cell_type |\n",
       "| anno | annotation      |\n",
       "\n"
      ],
      "text/plain": [
       "                labelDescription\n",
       "donor_id        Donor ID        \n",
       "broad_cell_type broad_cell_type \n",
       "anno            annotation      "
      ]
     },
     "metadata": {},
     "output_type": "display_data"
    }
   ],
   "source": [
    "metadata <- data.frame(labelDescription= c(\"Donor ID\", \"broad_cell_type\", \"annotation\"), \n",
    "                   row.names=c(\"donor_id\", \"broad_cell_type\",\"anno\"))\n",
    "metadata"
   ]
  },
  {
   "cell_type": "code",
   "execution_count": 26,
   "id": "delayed-history",
   "metadata": {},
   "outputs": [],
   "source": [
    "library(Matrix) \n",
    "#expr_matrix <- integrated@assays$RNA@counts #sparsematrix\n",
    "gene_exprs.matrix <- gene_exprs.matrix[tabulate(summary(gene_exprs.matrix)$i) != 0, , drop = FALSE] #remove any feature without a single count\n",
    "#expr_matrix <- as.matrix(gene_exprs.matrix) #convert to matrix"
   ]
  },
  {
   "cell_type": "code",
   "execution_count": 27,
   "id": "amateur-charge",
   "metadata": {},
   "outputs": [
    {
     "data": {
      "text/html": [
       "<style>\n",
       ".list-inline {list-style: none; margin:0; padding: 0}\n",
       ".list-inline>li {display: inline-block}\n",
       ".list-inline>li:not(:last-child)::after {content: \"\\00b7\"; padding: 0 .5ex}\n",
       "</style>\n",
       "<ol class=list-inline><li>27455</li><li>55815</li></ol>\n"
      ],
      "text/latex": [
       "\\begin{enumerate*}\n",
       "\\item 27455\n",
       "\\item 55815\n",
       "\\end{enumerate*}\n"
      ],
      "text/markdown": [
       "1. 27455\n",
       "2. 55815\n",
       "\n",
       "\n"
      ],
      "text/plain": [
       "[1] 27455 55815"
      ]
     },
     "metadata": {},
     "output_type": "display_data"
    }
   ],
   "source": [
    "dim(gene_exprs.matrix)"
   ]
  },
  {
   "cell_type": "code",
   "execution_count": 28,
   "id": "mighty-milton",
   "metadata": {},
   "outputs": [
    {
     "name": "stderr",
     "output_type": "stream",
     "text": [
      "n_slices=1\n",
      "\n",
      "converting slice 1/1\n",
      "\n",
      "columns 1:55815\n",
      "\n",
      "cbind dense submatrices\n",
      "\n"
     ]
    }
   ],
   "source": [
    "expr_matrix_den <- SCOPfunctions::utils_big_as.matrix(gene_exprs.matrix, n_slices_init = 1, verbose = T) ## for large matrix"
   ]
  },
  {
   "cell_type": "code",
   "execution_count": 29,
   "id": "chubby-congress",
   "metadata": {},
   "outputs": [],
   "source": [
    "SC.eset = ExpressionSet(assayData = data.matrix(gene_exprs.matrix), \n",
    "                        phenoData =  new(\"AnnotatedDataFrame\", data = pheno.matrix, varMetadata = metadata))\n",
    "#SC.eset = ExpressionSet(assayData = expr_matrix_den, \n",
    "#                        phenoData =  new(\"AnnotatedDataFrame\", data = pheno.matrix, varMetadata = metadata)) ## for large matrix"
   ]
  },
  {
   "cell_type": "code",
   "execution_count": 30,
   "id": "korean-tomorrow",
   "metadata": {},
   "outputs": [
    {
     "data": {
      "text/plain": [
       "ExpressionSet (storageMode: lockedEnvironment)\n",
       "assayData: 27455 features, 55815 samples \n",
       "  element names: exprs \n",
       "protocolData: none\n",
       "phenoData\n",
       "  sampleNames: AAACCTGAGAATGTTG-1 AAACCTGAGTTCGCAT-1 ...\n",
       "    TTTGTCATCTTGTATC-1-40 (55815 total)\n",
       "  varLabels: donor_id broad_cell_type anno\n",
       "  varMetadata: labelDescription\n",
       "featureData: none\n",
       "experimentData: use 'experimentData(object)'\n",
       "Annotation:  "
      ]
     },
     "metadata": {},
     "output_type": "display_data"
    }
   ],
   "source": [
    "SC.eset"
   ]
  },
  {
   "cell_type": "code",
   "execution_count": 35,
   "id": "illegal-movement",
   "metadata": {},
   "outputs": [],
   "source": [
    "saveRDS(SC.eset, file=\"/lustre/scratch117/cellgen/team205/rl20/CTCL/object-new/CTCL1-8_ExpressionSet_for_deconv_down0.2.rds\")"
   ]
  },
  {
   "cell_type": "code",
   "execution_count": null,
   "id": "difficult-watch",
   "metadata": {},
   "outputs": [],
   "source": []
  }
 ],
 "metadata": {
  "kernelspec": {
   "display_name": "R",
   "language": "R",
   "name": "ir"
  },
  "language_info": {
   "codemirror_mode": "r",
   "file_extension": ".r",
   "mimetype": "text/x-r-source",
   "name": "R",
   "pygments_lexer": "r",
   "version": "4.0.4"
  }
 },
 "nbformat": 4,
 "nbformat_minor": 5
}
