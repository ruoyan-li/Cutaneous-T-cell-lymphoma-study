{
 "cells": [
  {
   "cell_type": "code",
   "execution_count": 1,
   "id": "colonial-revolution",
   "metadata": {},
   "outputs": [],
   "source": [
    "import pandas as pd\n",
    "import sys\n",
    "import glob\n",
    "import os\n",
    "\n",
    "pd.set_option('display.max_columns', 100)\n",
    "os.chdir('/home/jovyan/cpdb_tutorial')"
   ]
  },
  {
   "cell_type": "code",
   "execution_count": 2,
   "id": "hungarian-outreach",
   "metadata": {},
   "outputs": [
    {
     "name": "stdout",
     "output_type": "stream",
     "text": [
      "3.8.8 | packaged by conda-forge | (default, Feb 20 2021, 16:22:27) \n",
      "[GCC 9.3.0]\n"
     ]
    }
   ],
   "source": [
    "print(sys.version)"
   ]
  },
  {
   "cell_type": "code",
   "execution_count": 3,
   "id": "understanding-lambda",
   "metadata": {},
   "outputs": [
    {
     "data": {
      "text/html": [
       "<table class=\"striped\"><tr><th style=\"text-align:center\">Version</th><th style=\"text-align:center\">Release date</th></tr><td style=\"text-align:center\"><a class=\"teal-text\" href=\"https://github.com/ventolab/cellphonedb-data/releases/tag/v5.0.0\">v5.0.0</a></td><td style=\"text-align:center\">2023-10-31</td></tr><tr><td style=\"text-align:center\"><a class=\"teal-text\" href=\"https://github.com/ventolab/cellphonedb-data/releases/tag/v4.1.0\">v4.1.0</a></td><td style=\"text-align:center\">2023-03-09</td></tr><tr><tr><tr></table>"
      ],
      "text/plain": [
       "<IPython.core.display.HTML object>"
      ]
     },
     "metadata": {},
     "output_type": "display_data"
    }
   ],
   "source": [
    "from IPython.display import HTML, display\n",
    "from cellphonedb.utils import db_releases_utils\n",
    "\n",
    "display(HTML(db_releases_utils.get_remote_database_versions_html()['db_releases_html_table']))"
   ]
  },
  {
   "cell_type": "code",
   "execution_count": 4,
   "id": "phantom-manhattan",
   "metadata": {},
   "outputs": [],
   "source": [
    "# -- Version of the databse\n",
    "cpdb_version = 'v4.1.0'\n",
    "\n",
    "# -- Path where the input files to generate the database are located\n",
    "cpdb_target_dir = os.path.join('/home/jovyan/cpdb_tutorial/db', cpdb_version)"
   ]
  },
  {
   "cell_type": "code",
   "execution_count": 5,
   "id": "surgical-masters",
   "metadata": {},
   "outputs": [
    {
     "name": "stdout",
     "output_type": "stream",
     "text": [
      "Downloaded cellphonedb.zip into /home/jovyan/cpdb_tutorial/db/v4.1.0\n",
      "Downloaded complex_input.csv into /home/jovyan/cpdb_tutorial/db/v4.1.0\n",
      "Downloaded gene_input.csv into /home/jovyan/cpdb_tutorial/db/v4.1.0\n",
      "Downloaded interaction_input.csv into /home/jovyan/cpdb_tutorial/db/v4.1.0\n",
      "Downloaded protein_input.csv into /home/jovyan/cpdb_tutorial/db/v4.1.0\n",
      "Downloaded uniprot_synonyms.tsv into /home/jovyan/cpdb_tutorial/db/v4.1.0/sources\n"
     ]
    }
   ],
   "source": [
    "from cellphonedb.utils import db_utils\n",
    "\n",
    "db_utils.download_database(cpdb_target_dir, cpdb_version)"
   ]
  },
  {
   "cell_type": "code",
   "execution_count": 6,
   "id": "informative-rover",
   "metadata": {},
   "outputs": [],
   "source": [
    "cpdb_file_path = 'db/v4.1.0/cellphonedb.zip'\n",
    "meta_file_path = '/lustre/scratch126/cellgen/team205/rl20/CTCL/cellphoneDB_revision/CTCL_sub_nomore_100_per_donor_celltype_anno_meta.txt'\n",
    "counts_file_path = '/lustre/scratch126/cellgen/team205/rl20/CTCL/cellphoneDB_revision/CTCL_sub_nomore_100_per_donor_celltype_anno.h5ad'\n",
    "#microenvs_file_path = 'data/microenvironment.tsv'\n",
    "out_path = '/home/jovyan/farm/CTCL/cellphoneDB4_revision'"
   ]
  },
  {
   "cell_type": "code",
   "execution_count": 7,
   "id": "incorporate-treasurer",
   "metadata": {},
   "outputs": [
    {
     "data": {
      "text/html": [
       "<div>\n",
       "<style scoped>\n",
       "    .dataframe tbody tr th:only-of-type {\n",
       "        vertical-align: middle;\n",
       "    }\n",
       "\n",
       "    .dataframe tbody tr th {\n",
       "        vertical-align: top;\n",
       "    }\n",
       "\n",
       "    .dataframe thead th {\n",
       "        text-align: right;\n",
       "    }\n",
       "</style>\n",
       "<table border=\"1\" class=\"dataframe\">\n",
       "  <thead>\n",
       "    <tr style=\"text-align: right;\">\n",
       "      <th></th>\n",
       "      <th>barcode_sample</th>\n",
       "      <th>cell_type</th>\n",
       "    </tr>\n",
       "  </thead>\n",
       "  <tbody>\n",
       "    <tr>\n",
       "      <th>0</th>\n",
       "      <td>AAACCTGAGCGTTCCG-0_CTCL1_CTCL1_CTCL1</td>\n",
       "      <td>Undifferentiated_KC</td>\n",
       "    </tr>\n",
       "    <tr>\n",
       "      <th>1</th>\n",
       "      <td>AAACCTGCACACCGCA-0_CTCL1_CTCL1_CTCL1</td>\n",
       "      <td>basal2</td>\n",
       "    </tr>\n",
       "    <tr>\n",
       "      <th>2</th>\n",
       "      <td>AAACCTGGTACCGTTA-0_CTCL1_CTCL1_CTCL1</td>\n",
       "      <td>DC1</td>\n",
       "    </tr>\n",
       "  </tbody>\n",
       "</table>\n",
       "</div>"
      ],
      "text/plain": [
       "                         barcode_sample            cell_type\n",
       "0  AAACCTGAGCGTTCCG-0_CTCL1_CTCL1_CTCL1  Undifferentiated_KC\n",
       "1  AAACCTGCACACCGCA-0_CTCL1_CTCL1_CTCL1               basal2\n",
       "2  AAACCTGGTACCGTTA-0_CTCL1_CTCL1_CTCL1                  DC1"
      ]
     },
     "execution_count": 7,
     "metadata": {},
     "output_type": "execute_result"
    }
   ],
   "source": [
    "metadata = pd.read_csv(meta_file_path, sep = '\\t')\n",
    "metadata.head(3)"
   ]
  },
  {
   "cell_type": "code",
   "execution_count": 8,
   "id": "portable-radical",
   "metadata": {},
   "outputs": [
    {
     "data": {
      "text/plain": [
       "(60256, 15790)"
      ]
     },
     "execution_count": 8,
     "metadata": {},
     "output_type": "execute_result"
    }
   ],
   "source": [
    "import anndata\n",
    "\n",
    "adata = anndata.read_h5ad(counts_file_path)\n",
    "adata.shape"
   ]
  },
  {
   "cell_type": "code",
   "execution_count": 9,
   "id": "olive-african",
   "metadata": {},
   "outputs": [
    {
     "data": {
      "text/plain": [
       "True"
      ]
     },
     "execution_count": 9,
     "metadata": {},
     "output_type": "execute_result"
    }
   ],
   "source": [
    "list(adata.obs.index).sort() == list(metadata['barcode_sample']).sort()"
   ]
  },
  {
   "cell_type": "code",
   "execution_count": 10,
   "id": "aquatic-butter",
   "metadata": {},
   "outputs": [
    {
     "name": "stdout",
     "output_type": "stream",
     "text": [
      "Reading user files...\n",
      "The following user files were loaded successfully:\n",
      "/lustre/scratch126/cellgen/team205/rl20/CTCL/cellphoneDB_revision/CTCL_sub_nomore_100_per_donor_celltype_anno.h5ad\n",
      "/lustre/scratch126/cellgen/team205/rl20/CTCL/cellphoneDB_revision/CTCL_sub_nomore_100_per_donor_celltype_anno_meta.txt\n",
      "[ ][CORE][09/07/24-13:46:18][INFO] [Cluster Statistical Analysis] Threshold:0.1 Iterations:1000 Debug-seed:42 Threads:4 Precision:3\n",
      "[ ][CORE][09/07/24-13:46:18][WARNING] Debug random seed enabled. Set to 42\n",
      "[ ][CORE][09/07/24-13:46:25][INFO] Running Real Analysis\n",
      "[ ][CORE][09/07/24-13:46:25][INFO] Running Statistical Analysis\n"
     ]
    },
    {
     "name": "stderr",
     "output_type": "stream",
     "text": [
      "100%|██████████| 1000/1000 [17:35<00:00,  1.06s/it]"
     ]
    },
    {
     "name": "stdout",
     "output_type": "stream",
     "text": [
      "[ ][CORE][09/07/24-14:04:01][INFO] Building Pvalues result\n"
     ]
    },
    {
     "name": "stderr",
     "output_type": "stream",
     "text": [
      "\n"
     ]
    },
    {
     "name": "stdout",
     "output_type": "stream",
     "text": [
      "[ ][CORE][09/07/24-14:04:10][INFO] Building results\n",
      "Saved deconvoluted to /home/jovyan/farm/CTCL/cellphoneDB4_revision/statistical_analysis_deconvoluted_07_09_2024_14:04:11.txt\n",
      "Saved means to /home/jovyan/farm/CTCL/cellphoneDB4_revision/statistical_analysis_means_07_09_2024_14:04:11.txt\n",
      "Saved pvalues to /home/jovyan/farm/CTCL/cellphoneDB4_revision/statistical_analysis_pvalues_07_09_2024_14:04:11.txt\n",
      "Saved significant_means to /home/jovyan/farm/CTCL/cellphoneDB4_revision/statistical_analysis_significant_means_07_09_2024_14:04:11.txt\n"
     ]
    }
   ],
   "source": [
    "from cellphonedb.src.core.methods import cpdb_statistical_analysis_method\n",
    "\n",
    "deconvoluted, means, pvalues, significant_means = cpdb_statistical_analysis_method.call(\n",
    "    cpdb_file_path = cpdb_file_path,                 # mandatory: CellPhoneDB database zip file.\n",
    "    meta_file_path = meta_file_path,                 # mandatory: tsv file defining barcodes to cell label.\n",
    "    counts_file_path = counts_file_path,             # mandatory: normalized count matrix.\n",
    "    counts_data = 'hgnc_symbol',                     # defines the gene annotation in counts matrix.\n",
    "    iterations = 1000,                               # denotes the number of shufflings performed in the analysis.\n",
    "    threshold = 0.1,                                 # defines the min % of cells expressing a gene for this to be employed in the analysis.\n",
    "    threads = 4,                                     # number of threads to use in the analysis.\n",
    "    debug_seed = 42,                                 # debug randome seed. To disable >=0.\n",
    "    result_precision = 3,                            # Sets the rounding for the mean values in significan_means.\n",
    "    pvalue = 0.05,                                   # P-value threshold to employ for significance.\n",
    "    subsampling = False,                             # To enable subsampling the data (geometri sketching).\n",
    "    subsampling_log = False,                         # (mandatory) enable subsampling log1p for non log-transformed data inputs.\n",
    "    subsampling_num_pc = 100,                        # Number of componets to subsample via geometric skectching (dafault: 100).\n",
    "    subsampling_num_cells = 1000,                    # Number of cells to subsample (integer) (default: 1/3 of the dataset).\n",
    "    separator = '|',                                 # Sets the string to employ to separate cells in the results dataframes \"cellA|CellB\".\n",
    "    debug = False,                                   # Saves all intermediate tables employed during the analysis in pkl format.\n",
    "    output_path = out_path,                          # Path to save results.\n",
    "    output_suffix = None                             # Replaces the timestamp in the output files by a user defined string in the  (default: None).\n",
    "    )"
   ]
  },
  {
   "cell_type": "code",
   "execution_count": 11,
   "id": "extreme-split",
   "metadata": {},
   "outputs": [],
   "source": [
    "import ktplotspy as kpy"
   ]
  },
  {
   "cell_type": "code",
   "execution_count": 12,
   "id": "related-switzerland",
   "metadata": {},
   "outputs": [],
   "source": [
    "adata = anndata.read_h5ad(counts_file_path)"
   ]
  },
  {
   "cell_type": "code",
   "execution_count": 13,
   "id": "intellectual-twelve",
   "metadata": {},
   "outputs": [
    {
     "data": {
      "text/plain": [
       "<60256x15790 sparse matrix of type '<class 'numpy.float32'>'\n",
       "\twith 97273288 stored elements in Compressed Sparse Row format>"
      ]
     },
     "execution_count": 13,
     "metadata": {},
     "output_type": "execute_result"
    }
   ],
   "source": [
    "adata.X"
   ]
  },
  {
   "cell_type": "code",
   "execution_count": 15,
   "id": "buried-portrait",
   "metadata": {},
   "outputs": [],
   "source": [
    "means = pd.read_csv(\"/home/jovyan/farm/CTCL/cellphoneDB4_revision/statistical_analysis_means_07_05_2024_18:27:35.txt\", sep=\"\\t\")\n",
    "pvals = pd.read_csv(\"/home/jovyan/farm/CTCL/cellphoneDB4_revision/statistical_analysis_pvalues_07_05_2024_18:27:35.txt\", sep=\"\\t\")\n",
    "decon = pd.read_csv(\"/home/jovyan/farm/CTCL/cellphoneDB4_revision/statistical_analysis_deconvoluted_07_05_2024_18:27:35.txt\", sep=\"\\t\")"
   ]
  },
  {
   "cell_type": "code",
   "execution_count": 16,
   "id": "cordless-percentage",
   "metadata": {},
   "outputs": [
    {
     "data": {
      "text/plain": [
       "<seaborn.matrix.ClusterGrid at 0x7f90116fe640>"
      ]
     },
     "execution_count": 16,
     "metadata": {},
     "output_type": "execute_result"
    },
    {
     "data": {
      "image/png": "[encoded data removed]",
      "text/plain": [
       "<Figure size 500x500 with 4 Axes>"
      ]
     },
     "metadata": {},
     "output_type": "display_data"
    }
   ],
   "source": [
    "kpy.plot_cpdb_heatmap(pvals=pvals, figsize=(5, 5), title=\"Sum of significant interactions\")"
   ]
  },
  {
   "cell_type": "code",
   "execution_count": null,
   "id": "multiple-shareware",
   "metadata": {},
   "outputs": [],
   "source": []
  }
 ],
 "metadata": {
  "kernelspec": {
   "display_name": "cpdb4",
   "language": "python",
   "name": "cpdb4"
  },
  "language_info": {
   "codemirror_mode": {
    "name": "ipython",
    "version": 3
   },
   "file_extension": ".py",
   "mimetype": "text/x-python",
   "name": "python",
   "nbconvert_exporter": "python",
   "pygments_lexer": "ipython3",
   "version": "3.8.8"
  }
 },
 "nbformat": 4,
 "nbformat_minor": 5
}
