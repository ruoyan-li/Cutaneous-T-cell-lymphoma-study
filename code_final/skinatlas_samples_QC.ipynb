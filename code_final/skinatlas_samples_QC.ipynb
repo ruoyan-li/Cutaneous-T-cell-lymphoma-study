{
 "cells": [
  {
   "cell_type": "raw",
   "id": "d376da16-8f91-47c7-ad46-3e1566652552",
   "metadata": {},
   "source": [
    "Author: Aya Balbaa\n",
    "\n",
    "email: ab72@sanger.ac.uk"
   ]
  },
  {
   "cell_type": "code",
   "execution_count": 1,
   "id": "8b1713ad-f8ed-49ba-aa47-2f5fd7ebb0b2",
   "metadata": {
    "tags": []
   },
   "outputs": [
    {
     "name": "stderr",
     "output_type": "stream",
     "text": [
      "2024-05-17 03:44:28.534464: E external/local_xla/xla/stream_executor/cuda/cuda_dnn.cc:9261] Unable to register cuDNN factory: Attempting to register factory for plugin cuDNN when one has already been registered\n",
      "2024-05-17 03:44:28.534572: E external/local_xla/xla/stream_executor/cuda/cuda_fft.cc:607] Unable to register cuFFT factory: Attempting to register factory for plugin cuFFT when one has already been registered\n",
      "2024-05-17 03:44:29.166427: E external/local_xla/xla/stream_executor/cuda/cuda_blas.cc:1515] Unable to register cuBLAS factory: Attempting to register factory for plugin cuBLAS when one has already been registered\n",
      "2024-05-17 03:44:30.411304: I tensorflow/core/platform/cpu_feature_guard.cc:182] This TensorFlow binary is optimized to use available CPU instructions in performance-critical operations.\n",
      "To enable the following instructions: AVX2 FMA, in other operations, rebuild TensorFlow with the appropriate compiler flags.\n",
      "2024-05-17 03:44:50.806491: W tensorflow/compiler/tf2tensorrt/utils/py_utils.cc:38] TF-TRT Warning: Could not find TensorRT\n"
     ]
    }
   ],
   "source": [
    "import numpy as np\n",
    "import pandas as pd\n",
    "import scanpy as sc\n",
    "import scrublet as scr\n",
    "import sys\n",
    "import bbknn\n",
    "from statsmodels import robust\n",
    "import matplotlib.pyplot as plt\n",
    "import os.path\n",
    "import anndata\n",
    "import harmonypy as hm\n",
    "\n",
    "sc.settings.verbosity = 3  # verbosity: errors (0), warnings (1), info (2), hints (3)\n",
    "#sc.settings.set_figure_params(dpi=80, color_map='viridis')\n",
    "#sc.logging.print_versions()"
   ]
  },
  {
   "cell_type": "code",
   "execution_count": 5,
   "id": "ae809523-b59f-4d74-b772-cc5e8e405dec",
   "metadata": {
    "tags": []
   },
   "outputs": [],
   "source": [
    "#import scanpy as sc\n",
    "#adata=sc.read('/lustre/scratch126/cellgen/team298/ab72/CTCL/ctcl_cellbender_raw_by_pasha_15_5.h5ad')"
   ]
  },
  {
   "cell_type": "code",
   "execution_count": 6,
   "id": "14bf2d18-7d99-4848-a21d-b200a491183b",
   "metadata": {
    "tags": []
   },
   "outputs": [
    {
     "data": {
      "text/html": [
       "<div>\n",
       "<style scoped>\n",
       "    .dataframe tbody tr th:only-of-type {\n",
       "        vertical-align: middle;\n",
       "    }\n",
       "\n",
       "    .dataframe tbody tr th {\n",
       "        vertical-align: top;\n",
       "    }\n",
       "\n",
       "    .dataframe thead th {\n",
       "        text-align: right;\n",
       "    }\n",
       "</style>\n",
       "<table border=\"1\" class=\"dataframe\">\n",
       "  <thead>\n",
       "    <tr style=\"text-align: right;\">\n",
       "      <th></th>\n",
       "      <th>sample_type</th>\n",
       "      <th>Donor</th>\n",
       "      <th>Sanger_ID</th>\n",
       "      <th>batch</th>\n",
       "    </tr>\n",
       "  </thead>\n",
       "  <tbody>\n",
       "    <tr>\n",
       "      <th>AAACCTGAGAAACCAT-0</th>\n",
       "      <td>CTCL</td>\n",
       "      <td>CTCL1</td>\n",
       "      <td>WSSS_SKN8090612</td>\n",
       "      <td>0</td>\n",
       "    </tr>\n",
       "    <tr>\n",
       "      <th>AAACCTGAGAAACCGC-0</th>\n",
       "      <td>CTCL</td>\n",
       "      <td>CTCL1</td>\n",
       "      <td>WSSS_SKN8090612</td>\n",
       "      <td>0</td>\n",
       "    </tr>\n",
       "    <tr>\n",
       "      <th>AAACCTGAGAAACCTA-0</th>\n",
       "      <td>CTCL</td>\n",
       "      <td>CTCL1</td>\n",
       "      <td>WSSS_SKN8090612</td>\n",
       "      <td>0</td>\n",
       "    </tr>\n",
       "    <tr>\n",
       "      <th>AAACCTGAGAAACGAG-0</th>\n",
       "      <td>CTCL</td>\n",
       "      <td>CTCL1</td>\n",
       "      <td>WSSS_SKN8090612</td>\n",
       "      <td>0</td>\n",
       "    </tr>\n",
       "    <tr>\n",
       "      <th>AAACCTGAGAAACGCC-0</th>\n",
       "      <td>CTCL</td>\n",
       "      <td>CTCL1</td>\n",
       "      <td>WSSS_SKN8090612</td>\n",
       "      <td>0</td>\n",
       "    </tr>\n",
       "    <tr>\n",
       "      <th>...</th>\n",
       "      <td>...</td>\n",
       "      <td>...</td>\n",
       "      <td>...</td>\n",
       "      <td>...</td>\n",
       "    </tr>\n",
       "    <tr>\n",
       "      <th>TTTGTCATCTTTACAC-38</th>\n",
       "      <td>CTCL</td>\n",
       "      <td>CTCL4</td>\n",
       "      <td>CTCL4_GEX_4</td>\n",
       "      <td>38</td>\n",
       "    </tr>\n",
       "    <tr>\n",
       "      <th>TTTGTCATCTTTACGT-38</th>\n",
       "      <td>CTCL</td>\n",
       "      <td>CTCL4</td>\n",
       "      <td>CTCL4_GEX_4</td>\n",
       "      <td>38</td>\n",
       "    </tr>\n",
       "    <tr>\n",
       "      <th>TTTGTCATCTTTAGGG-38</th>\n",
       "      <td>CTCL</td>\n",
       "      <td>CTCL4</td>\n",
       "      <td>CTCL4_GEX_4</td>\n",
       "      <td>38</td>\n",
       "    </tr>\n",
       "    <tr>\n",
       "      <th>TTTGTCATCTTTAGTC-38</th>\n",
       "      <td>CTCL</td>\n",
       "      <td>CTCL4</td>\n",
       "      <td>CTCL4_GEX_4</td>\n",
       "      <td>38</td>\n",
       "    </tr>\n",
       "    <tr>\n",
       "      <th>TTTGTCATCTTTCCTC-38</th>\n",
       "      <td>CTCL</td>\n",
       "      <td>CTCL4</td>\n",
       "      <td>CTCL4_GEX_4</td>\n",
       "      <td>38</td>\n",
       "    </tr>\n",
       "  </tbody>\n",
       "</table>\n",
       "<p>28753920 rows × 4 columns</p>\n",
       "</div>"
      ],
      "text/plain": [
       "                    sample_type  Donor        Sanger_ID batch\n",
       "AAACCTGAGAAACCAT-0         CTCL  CTCL1  WSSS_SKN8090612     0\n",
       "AAACCTGAGAAACCGC-0         CTCL  CTCL1  WSSS_SKN8090612     0\n",
       "AAACCTGAGAAACCTA-0         CTCL  CTCL1  WSSS_SKN8090612     0\n",
       "AAACCTGAGAAACGAG-0         CTCL  CTCL1  WSSS_SKN8090612     0\n",
       "AAACCTGAGAAACGCC-0         CTCL  CTCL1  WSSS_SKN8090612     0\n",
       "...                         ...    ...              ...   ...\n",
       "TTTGTCATCTTTACAC-38        CTCL  CTCL4      CTCL4_GEX_4    38\n",
       "TTTGTCATCTTTACGT-38        CTCL  CTCL4      CTCL4_GEX_4    38\n",
       "TTTGTCATCTTTAGGG-38        CTCL  CTCL4      CTCL4_GEX_4    38\n",
       "TTTGTCATCTTTAGTC-38        CTCL  CTCL4      CTCL4_GEX_4    38\n",
       "TTTGTCATCTTTCCTC-38        CTCL  CTCL4      CTCL4_GEX_4    38\n",
       "\n",
       "[28753920 rows x 4 columns]"
      ]
     },
     "execution_count": 6,
     "metadata": {},
     "output_type": "execute_result"
    }
   ],
   "source": [
    "adata.obs"
   ]
  },
  {
   "cell_type": "code",
   "execution_count": 2,
   "id": "d45dfb04-163c-4de5-8a2b-e6041c4012e9",
   "metadata": {
    "tags": []
   },
   "outputs": [],
   "source": [
    "path1= '/nfs/cellgeni/pasham/projects/2211.adult.skin/data.nfs/singlecell/reynolds.reprocessing/starsolo/cellbender/'"
   ]
  },
  {
   "cell_type": "code",
   "execution_count": 8,
   "id": "c2a36afc-9fa3-4f18-820b-8f7b3d94212d",
   "metadata": {
    "tags": []
   },
   "outputs": [],
   "source": [
    "file_path=('/lustre/scratch126/cellgen/team298/ab72/CTCL/skin_info.csv')"
   ]
  },
  {
   "cell_type": "code",
   "execution_count": 18,
   "id": "1d8429af-c033-447e-98c2-105d30fa910e",
   "metadata": {
    "tags": []
   },
   "outputs": [],
   "source": [
    "samples = pd.read_csv(file_path)"
   ]
  },
  {
   "cell_type": "code",
   "execution_count": 19,
   "id": "d9035a61-c116-4d90-851e-6b9c8943ea01",
   "metadata": {
    "tags": []
   },
   "outputs": [
    {
     "data": {
      "text/html": [
       "<div>\n",
       "<style scoped>\n",
       "    .dataframe tbody tr th:only-of-type {\n",
       "        vertical-align: middle;\n",
       "    }\n",
       "\n",
       "    .dataframe tbody tr th {\n",
       "        vertical-align: top;\n",
       "    }\n",
       "\n",
       "    .dataframe thead th {\n",
       "        text-align: right;\n",
       "    }\n",
       "</style>\n",
       "<table border=\"1\" class=\"dataframe\">\n",
       "  <thead>\n",
       "    <tr style=\"text-align: right;\">\n",
       "      <th></th>\n",
       "      <th>irods/farm</th>\n",
       "      <th>Sample_type</th>\n",
       "      <th>Donor</th>\n",
       "      <th>Sample_id</th>\n",
       "      <th>Tissue</th>\n",
       "      <th>Site</th>\n",
       "      <th>Sex</th>\n",
       "      <th>Unnamed: 7</th>\n",
       "      <th>Unnamed: 8</th>\n",
       "    </tr>\n",
       "  </thead>\n",
       "  <tbody>\n",
       "    <tr>\n",
       "      <th>0</th>\n",
       "      <td>4820STDY7388991</td>\n",
       "      <td>healthy_skin</td>\n",
       "      <td>S1</td>\n",
       "      <td>4820STDY7388991</td>\n",
       "      <td>Dermis</td>\n",
       "      <td>non_lesion</td>\n",
       "      <td>Female</td>\n",
       "      <td>NaN</td>\n",
       "      <td>NaN</td>\n",
       "    </tr>\n",
       "    <tr>\n",
       "      <th>1</th>\n",
       "      <td>4820STDY7388992</td>\n",
       "      <td>healthy_skin</td>\n",
       "      <td>S1</td>\n",
       "      <td>4820STDY7388992</td>\n",
       "      <td>Dermis</td>\n",
       "      <td>non_lesion</td>\n",
       "      <td>Female</td>\n",
       "      <td>NaN</td>\n",
       "      <td>NaN</td>\n",
       "    </tr>\n",
       "    <tr>\n",
       "      <th>2</th>\n",
       "      <td>4820STDY7388993</td>\n",
       "      <td>healthy_skin</td>\n",
       "      <td>S1</td>\n",
       "      <td>4820STDY7388993</td>\n",
       "      <td>Dermis</td>\n",
       "      <td>non_lesion</td>\n",
       "      <td>Female</td>\n",
       "      <td>NaN</td>\n",
       "      <td>NaN</td>\n",
       "    </tr>\n",
       "    <tr>\n",
       "      <th>3</th>\n",
       "      <td>4820STDY7388994</td>\n",
       "      <td>healthy_skin</td>\n",
       "      <td>S1</td>\n",
       "      <td>4820STDY7388994</td>\n",
       "      <td>Dermis</td>\n",
       "      <td>non_lesion</td>\n",
       "      <td>Female</td>\n",
       "      <td>NaN</td>\n",
       "      <td>NaN</td>\n",
       "    </tr>\n",
       "    <tr>\n",
       "      <th>4</th>\n",
       "      <td>4820STDY7388995</td>\n",
       "      <td>healthy_skin</td>\n",
       "      <td>S1</td>\n",
       "      <td>4820STDY7388995</td>\n",
       "      <td>Epidermis</td>\n",
       "      <td>non_lesion</td>\n",
       "      <td>Female</td>\n",
       "      <td>NaN</td>\n",
       "      <td>NaN</td>\n",
       "    </tr>\n",
       "    <tr>\n",
       "      <th>...</th>\n",
       "      <td>...</td>\n",
       "      <td>...</td>\n",
       "      <td>...</td>\n",
       "      <td>...</td>\n",
       "      <td>...</td>\n",
       "      <td>...</td>\n",
       "      <td>...</td>\n",
       "      <td>...</td>\n",
       "      <td>...</td>\n",
       "    </tr>\n",
       "    <tr>\n",
       "      <th>131</th>\n",
       "      <td>/lustre/scratch126/cellgen/team205/rl20/CTCL/r...</td>\n",
       "      <td>CTCL</td>\n",
       "      <td>CTCL3</td>\n",
       "      <td>CTCL3_GEX_4</td>\n",
       "      <td>Epidermis</td>\n",
       "      <td>lesion</td>\n",
       "      <td>Female</td>\n",
       "      <td>NaN</td>\n",
       "      <td>NaN</td>\n",
       "    </tr>\n",
       "    <tr>\n",
       "      <th>132</th>\n",
       "      <td>/lustre/scratch126/cellgen/team205/rl20/CTCL/r...</td>\n",
       "      <td>CTCL</td>\n",
       "      <td>CTCL4</td>\n",
       "      <td>CTCL4_GEX_1</td>\n",
       "      <td>Dermis</td>\n",
       "      <td>lesion</td>\n",
       "      <td>Male</td>\n",
       "      <td>NaN</td>\n",
       "      <td>NaN</td>\n",
       "    </tr>\n",
       "    <tr>\n",
       "      <th>133</th>\n",
       "      <td>/lustre/scratch126/cellgen/team205/rl20/CTCL/r...</td>\n",
       "      <td>CTCL</td>\n",
       "      <td>CTCL4</td>\n",
       "      <td>CTCL4_GEX_2</td>\n",
       "      <td>Dermis</td>\n",
       "      <td>lesion</td>\n",
       "      <td>Male</td>\n",
       "      <td>NaN</td>\n",
       "      <td>NaN</td>\n",
       "    </tr>\n",
       "    <tr>\n",
       "      <th>134</th>\n",
       "      <td>/lustre/scratch126/cellgen/team205/rl20/CTCL/r...</td>\n",
       "      <td>CTCL</td>\n",
       "      <td>CTCL4</td>\n",
       "      <td>CTCL4_GEX_3</td>\n",
       "      <td>Epidermis</td>\n",
       "      <td>lesion</td>\n",
       "      <td>Male</td>\n",
       "      <td>NaN</td>\n",
       "      <td>NaN</td>\n",
       "    </tr>\n",
       "    <tr>\n",
       "      <th>135</th>\n",
       "      <td>/lustre/scratch126/cellgen/team205/rl20/CTCL/r...</td>\n",
       "      <td>CTCL</td>\n",
       "      <td>CTCL4</td>\n",
       "      <td>CTCL4_GEX_4</td>\n",
       "      <td>Epidermis</td>\n",
       "      <td>lesion</td>\n",
       "      <td>Male</td>\n",
       "      <td>NaN</td>\n",
       "      <td>NaN</td>\n",
       "    </tr>\n",
       "  </tbody>\n",
       "</table>\n",
       "<p>136 rows × 9 columns</p>\n",
       "</div>"
      ],
      "text/plain": [
       "                                            irods/farm   Sample_type  Donor  \\\n",
       "0                                      4820STDY7388991  healthy_skin     S1   \n",
       "1                                      4820STDY7388992  healthy_skin     S1   \n",
       "2                                      4820STDY7388993  healthy_skin     S1   \n",
       "3                                      4820STDY7388994  healthy_skin     S1   \n",
       "4                                      4820STDY7388995  healthy_skin     S1   \n",
       "..                                                 ...           ...    ...   \n",
       "131  /lustre/scratch126/cellgen/team205/rl20/CTCL/r...          CTCL  CTCL3   \n",
       "132  /lustre/scratch126/cellgen/team205/rl20/CTCL/r...          CTCL  CTCL4   \n",
       "133  /lustre/scratch126/cellgen/team205/rl20/CTCL/r...          CTCL  CTCL4   \n",
       "134  /lustre/scratch126/cellgen/team205/rl20/CTCL/r...          CTCL  CTCL4   \n",
       "135  /lustre/scratch126/cellgen/team205/rl20/CTCL/r...          CTCL  CTCL4   \n",
       "\n",
       "           Sample_id     Tissue        Site     Sex  Unnamed: 7  Unnamed: 8  \n",
       "0    4820STDY7388991     Dermis  non_lesion  Female         NaN         NaN  \n",
       "1    4820STDY7388992     Dermis  non_lesion  Female         NaN         NaN  \n",
       "2    4820STDY7388993     Dermis  non_lesion  Female         NaN         NaN  \n",
       "3    4820STDY7388994     Dermis  non_lesion  Female         NaN         NaN  \n",
       "4    4820STDY7388995  Epidermis  non_lesion  Female         NaN         NaN  \n",
       "..               ...        ...         ...     ...         ...         ...  \n",
       "131      CTCL3_GEX_4  Epidermis      lesion  Female         NaN         NaN  \n",
       "132      CTCL4_GEX_1     Dermis      lesion    Male         NaN         NaN  \n",
       "133      CTCL4_GEX_2     Dermis      lesion    Male         NaN         NaN  \n",
       "134      CTCL4_GEX_3  Epidermis      lesion    Male         NaN         NaN  \n",
       "135      CTCL4_GEX_4  Epidermis      lesion    Male         NaN         NaN  \n",
       "\n",
       "[136 rows x 9 columns]"
      ]
     },
     "execution_count": 19,
     "metadata": {},
     "output_type": "execute_result"
    }
   ],
   "source": [
    "samples"
   ]
  },
  {
   "cell_type": "code",
   "execution_count": 20,
   "id": "87cabbb3-8e22-438c-a05a-7cfbf087c051",
   "metadata": {
    "tags": []
   },
   "outputs": [],
   "source": [
    "import os\n",
    "\n",
    "# Directory path\n",
    "directory_path = path1\n",
    "\n",
    "# Get list of all subdirectories\n",
    "sub = [name for name in os.listdir(directory_path) if os.path.isdir(os.path.join(directory_path, name))]\n",
    "\n"
   ]
  },
  {
   "cell_type": "code",
   "execution_count": 21,
   "id": "4ef0e705-a33a-499e-8b90-5554fce82a48",
   "metadata": {
    "tags": []
   },
   "outputs": [],
   "source": [
    "sample_filt = samples.loc[samples['irods/farm'].isin(sub)]\n"
   ]
  },
  {
   "cell_type": "code",
   "execution_count": 22,
   "id": "38541e41-24cf-49b3-b1ee-fa52fca7532b",
   "metadata": {
    "tags": []
   },
   "outputs": [],
   "source": [
    "column_list=sample_filt['irods/farm'].tolist()"
   ]
  },
  {
   "cell_type": "code",
   "execution_count": 23,
   "id": "d9460f0b-bb58-4871-91f3-402214b8e44f",
   "metadata": {
    "tags": []
   },
   "outputs": [],
   "source": [
    "path2= '/cellbender_out_filtered.h5'"
   ]
  },
  {
   "cell_type": "code",
   "execution_count": 24,
   "id": "094b267d-a403-4b52-a15a-10f7332fe73a",
   "metadata": {
    "tags": []
   },
   "outputs": [],
   "source": [
    "path= [path1+name+path2 for name in column_list]"
   ]
  },
  {
   "cell_type": "code",
   "execution_count": 25,
   "id": "1f805d6a-b7ba-4f67-8605-fcb56bc47ef9",
   "metadata": {
    "tags": []
   },
   "outputs": [
    {
     "data": {
      "text/plain": [
       "['/nfs/cellgeni/pasham/projects/2211.adult.skin/data.nfs/singlecell/reynolds.reprocessing/starsolo/cellbender/4820STDY7388991/cellbender_out_filtered.h5',\n",
       " '/nfs/cellgeni/pasham/projects/2211.adult.skin/data.nfs/singlecell/reynolds.reprocessing/starsolo/cellbender/4820STDY7388992/cellbender_out_filtered.h5',\n",
       " '/nfs/cellgeni/pasham/projects/2211.adult.skin/data.nfs/singlecell/reynolds.reprocessing/starsolo/cellbender/4820STDY7388993/cellbender_out_filtered.h5',\n",
       " '/nfs/cellgeni/pasham/projects/2211.adult.skin/data.nfs/singlecell/reynolds.reprocessing/starsolo/cellbender/4820STDY7388994/cellbender_out_filtered.h5',\n",
       " '/nfs/cellgeni/pasham/projects/2211.adult.skin/data.nfs/singlecell/reynolds.reprocessing/starsolo/cellbender/4820STDY7388995/cellbender_out_filtered.h5',\n",
       " '/nfs/cellgeni/pasham/projects/2211.adult.skin/data.nfs/singlecell/reynolds.reprocessing/starsolo/cellbender/4820STDY7388996/cellbender_out_filtered.h5',\n",
       " '/nfs/cellgeni/pasham/projects/2211.adult.skin/data.nfs/singlecell/reynolds.reprocessing/starsolo/cellbender/4820STDY7388997/cellbender_out_filtered.h5',\n",
       " '/nfs/cellgeni/pasham/projects/2211.adult.skin/data.nfs/singlecell/reynolds.reprocessing/starsolo/cellbender/4820STDY7388998/cellbender_out_filtered.h5',\n",
       " '/nfs/cellgeni/pasham/projects/2211.adult.skin/data.nfs/singlecell/reynolds.reprocessing/starsolo/cellbender/4820STDY7388999/cellbender_out_filtered.h5',\n",
       " '/nfs/cellgeni/pasham/projects/2211.adult.skin/data.nfs/singlecell/reynolds.reprocessing/starsolo/cellbender/4820STDY7389000/cellbender_out_filtered.h5',\n",
       " '/nfs/cellgeni/pasham/projects/2211.adult.skin/data.nfs/singlecell/reynolds.reprocessing/starsolo/cellbender/4820STDY7389001/cellbender_out_filtered.h5',\n",
       " '/nfs/cellgeni/pasham/projects/2211.adult.skin/data.nfs/singlecell/reynolds.reprocessing/starsolo/cellbender/4820STDY7389002/cellbender_out_filtered.h5',\n",
       " '/nfs/cellgeni/pasham/projects/2211.adult.skin/data.nfs/singlecell/reynolds.reprocessing/starsolo/cellbender/4820STDY7389003/cellbender_out_filtered.h5',\n",
       " '/nfs/cellgeni/pasham/projects/2211.adult.skin/data.nfs/singlecell/reynolds.reprocessing/starsolo/cellbender/4820STDY7389004/cellbender_out_filtered.h5',\n",
       " '/nfs/cellgeni/pasham/projects/2211.adult.skin/data.nfs/singlecell/reynolds.reprocessing/starsolo/cellbender/4820STDY7389005/cellbender_out_filtered.h5',\n",
       " '/nfs/cellgeni/pasham/projects/2211.adult.skin/data.nfs/singlecell/reynolds.reprocessing/starsolo/cellbender/4820STDY7389006/cellbender_out_filtered.h5',\n",
       " '/nfs/cellgeni/pasham/projects/2211.adult.skin/data.nfs/singlecell/reynolds.reprocessing/starsolo/cellbender/4820STDY7389007/cellbender_out_filtered.h5',\n",
       " '/nfs/cellgeni/pasham/projects/2211.adult.skin/data.nfs/singlecell/reynolds.reprocessing/starsolo/cellbender/4820STDY7389008/cellbender_out_filtered.h5',\n",
       " '/nfs/cellgeni/pasham/projects/2211.adult.skin/data.nfs/singlecell/reynolds.reprocessing/starsolo/cellbender/4820STDY7389009/cellbender_out_filtered.h5',\n",
       " '/nfs/cellgeni/pasham/projects/2211.adult.skin/data.nfs/singlecell/reynolds.reprocessing/starsolo/cellbender/4820STDY7389010/cellbender_out_filtered.h5',\n",
       " '/nfs/cellgeni/pasham/projects/2211.adult.skin/data.nfs/singlecell/reynolds.reprocessing/starsolo/cellbender/4820STDY7389011/cellbender_out_filtered.h5',\n",
       " '/nfs/cellgeni/pasham/projects/2211.adult.skin/data.nfs/singlecell/reynolds.reprocessing/starsolo/cellbender/4820STDY7389012/cellbender_out_filtered.h5',\n",
       " '/nfs/cellgeni/pasham/projects/2211.adult.skin/data.nfs/singlecell/reynolds.reprocessing/starsolo/cellbender/4820STDY7389013/cellbender_out_filtered.h5',\n",
       " '/nfs/cellgeni/pasham/projects/2211.adult.skin/data.nfs/singlecell/reynolds.reprocessing/starsolo/cellbender/4820STDY7389014/cellbender_out_filtered.h5',\n",
       " '/nfs/cellgeni/pasham/projects/2211.adult.skin/data.nfs/singlecell/reynolds.reprocessing/starsolo/cellbender/SKN8090524/cellbender_out_filtered.h5',\n",
       " '/nfs/cellgeni/pasham/projects/2211.adult.skin/data.nfs/singlecell/reynolds.reprocessing/starsolo/cellbender/SKN8090525/cellbender_out_filtered.h5',\n",
       " '/nfs/cellgeni/pasham/projects/2211.adult.skin/data.nfs/singlecell/reynolds.reprocessing/starsolo/cellbender/SKN8090526/cellbender_out_filtered.h5',\n",
       " '/nfs/cellgeni/pasham/projects/2211.adult.skin/data.nfs/singlecell/reynolds.reprocessing/starsolo/cellbender/SKN8090528/cellbender_out_filtered.h5',\n",
       " '/nfs/cellgeni/pasham/projects/2211.adult.skin/data.nfs/singlecell/reynolds.reprocessing/starsolo/cellbender/SKN8090529/cellbender_out_filtered.h5',\n",
       " '/nfs/cellgeni/pasham/projects/2211.adult.skin/data.nfs/singlecell/reynolds.reprocessing/starsolo/cellbender/SKN8090530/cellbender_out_filtered.h5',\n",
       " '/nfs/cellgeni/pasham/projects/2211.adult.skin/data.nfs/singlecell/reynolds.reprocessing/starsolo/cellbender/SKN8090531/cellbender_out_filtered.h5',\n",
       " '/nfs/cellgeni/pasham/projects/2211.adult.skin/data.nfs/singlecell/reynolds.reprocessing/starsolo/cellbender/SKN8090536/cellbender_out_filtered.h5',\n",
       " '/nfs/cellgeni/pasham/projects/2211.adult.skin/data.nfs/singlecell/reynolds.reprocessing/starsolo/cellbender/SKN8090537/cellbender_out_filtered.h5',\n",
       " '/nfs/cellgeni/pasham/projects/2211.adult.skin/data.nfs/singlecell/reynolds.reprocessing/starsolo/cellbender/SKN8090538/cellbender_out_filtered.h5',\n",
       " '/nfs/cellgeni/pasham/projects/2211.adult.skin/data.nfs/singlecell/reynolds.reprocessing/starsolo/cellbender/SKN8090539/cellbender_out_filtered.h5',\n",
       " '/nfs/cellgeni/pasham/projects/2211.adult.skin/data.nfs/singlecell/reynolds.reprocessing/starsolo/cellbender/SKN8090540/cellbender_out_filtered.h5',\n",
       " '/nfs/cellgeni/pasham/projects/2211.adult.skin/data.nfs/singlecell/reynolds.reprocessing/starsolo/cellbender/SKN8090541/cellbender_out_filtered.h5',\n",
       " '/nfs/cellgeni/pasham/projects/2211.adult.skin/data.nfs/singlecell/reynolds.reprocessing/starsolo/cellbender/SKN8090542/cellbender_out_filtered.h5',\n",
       " '/nfs/cellgeni/pasham/projects/2211.adult.skin/data.nfs/singlecell/reynolds.reprocessing/starsolo/cellbender/SKN8090543/cellbender_out_filtered.h5',\n",
       " '/nfs/cellgeni/pasham/projects/2211.adult.skin/data.nfs/singlecell/reynolds.reprocessing/starsolo/cellbender/SKN8090548/cellbender_out_filtered.h5',\n",
       " '/nfs/cellgeni/pasham/projects/2211.adult.skin/data.nfs/singlecell/reynolds.reprocessing/starsolo/cellbender/SKN8090549/cellbender_out_filtered.h5',\n",
       " '/nfs/cellgeni/pasham/projects/2211.adult.skin/data.nfs/singlecell/reynolds.reprocessing/starsolo/cellbender/SKN8090550/cellbender_out_filtered.h5',\n",
       " '/nfs/cellgeni/pasham/projects/2211.adult.skin/data.nfs/singlecell/reynolds.reprocessing/starsolo/cellbender/SKN8090551/cellbender_out_filtered.h5',\n",
       " '/nfs/cellgeni/pasham/projects/2211.adult.skin/data.nfs/singlecell/reynolds.reprocessing/starsolo/cellbender/SKN8090552/cellbender_out_filtered.h5',\n",
       " '/nfs/cellgeni/pasham/projects/2211.adult.skin/data.nfs/singlecell/reynolds.reprocessing/starsolo/cellbender/SKN8090553/cellbender_out_filtered.h5',\n",
       " '/nfs/cellgeni/pasham/projects/2211.adult.skin/data.nfs/singlecell/reynolds.reprocessing/starsolo/cellbender/SKN8090554/cellbender_out_filtered.h5',\n",
       " '/nfs/cellgeni/pasham/projects/2211.adult.skin/data.nfs/singlecell/reynolds.reprocessing/starsolo/cellbender/SKN8090555/cellbender_out_filtered.h5',\n",
       " '/nfs/cellgeni/pasham/projects/2211.adult.skin/data.nfs/singlecell/reynolds.reprocessing/starsolo/cellbender/SKN8090560/cellbender_out_filtered.h5',\n",
       " '/nfs/cellgeni/pasham/projects/2211.adult.skin/data.nfs/singlecell/reynolds.reprocessing/starsolo/cellbender/SKN8090561/cellbender_out_filtered.h5',\n",
       " '/nfs/cellgeni/pasham/projects/2211.adult.skin/data.nfs/singlecell/reynolds.reprocessing/starsolo/cellbender/SKN8090562/cellbender_out_filtered.h5',\n",
       " '/nfs/cellgeni/pasham/projects/2211.adult.skin/data.nfs/singlecell/reynolds.reprocessing/starsolo/cellbender/SKN8090563/cellbender_out_filtered.h5',\n",
       " '/nfs/cellgeni/pasham/projects/2211.adult.skin/data.nfs/singlecell/reynolds.reprocessing/starsolo/cellbender/SKN8090564/cellbender_out_filtered.h5',\n",
       " '/nfs/cellgeni/pasham/projects/2211.adult.skin/data.nfs/singlecell/reynolds.reprocessing/starsolo/cellbender/SKN8090565/cellbender_out_filtered.h5',\n",
       " '/nfs/cellgeni/pasham/projects/2211.adult.skin/data.nfs/singlecell/reynolds.reprocessing/starsolo/cellbender/SKN8090567/cellbender_out_filtered.h5',\n",
       " '/nfs/cellgeni/pasham/projects/2211.adult.skin/data.nfs/singlecell/reynolds.reprocessing/starsolo/cellbender/SKN8090576/cellbender_out_filtered.h5',\n",
       " '/nfs/cellgeni/pasham/projects/2211.adult.skin/data.nfs/singlecell/reynolds.reprocessing/starsolo/cellbender/SKN8090577/cellbender_out_filtered.h5',\n",
       " '/nfs/cellgeni/pasham/projects/2211.adult.skin/data.nfs/singlecell/reynolds.reprocessing/starsolo/cellbender/SKN8090578/cellbender_out_filtered.h5',\n",
       " '/nfs/cellgeni/pasham/projects/2211.adult.skin/data.nfs/singlecell/reynolds.reprocessing/starsolo/cellbender/SKN8090579/cellbender_out_filtered.h5',\n",
       " '/nfs/cellgeni/pasham/projects/2211.adult.skin/data.nfs/singlecell/reynolds.reprocessing/starsolo/cellbender/SKN8090580/cellbender_out_filtered.h5',\n",
       " '/nfs/cellgeni/pasham/projects/2211.adult.skin/data.nfs/singlecell/reynolds.reprocessing/starsolo/cellbender/SKN8090581/cellbender_out_filtered.h5',\n",
       " '/nfs/cellgeni/pasham/projects/2211.adult.skin/data.nfs/singlecell/reynolds.reprocessing/starsolo/cellbender/SKN8090582/cellbender_out_filtered.h5',\n",
       " '/nfs/cellgeni/pasham/projects/2211.adult.skin/data.nfs/singlecell/reynolds.reprocessing/starsolo/cellbender/SKN8090583/cellbender_out_filtered.h5',\n",
       " '/nfs/cellgeni/pasham/projects/2211.adult.skin/data.nfs/singlecell/reynolds.reprocessing/starsolo/cellbender/SKN8090588/cellbender_out_filtered.h5',\n",
       " '/nfs/cellgeni/pasham/projects/2211.adult.skin/data.nfs/singlecell/reynolds.reprocessing/starsolo/cellbender/SKN8090589/cellbender_out_filtered.h5',\n",
       " '/nfs/cellgeni/pasham/projects/2211.adult.skin/data.nfs/singlecell/reynolds.reprocessing/starsolo/cellbender/SKN8090590/cellbender_out_filtered.h5',\n",
       " '/nfs/cellgeni/pasham/projects/2211.adult.skin/data.nfs/singlecell/reynolds.reprocessing/starsolo/cellbender/SKN8090591/cellbender_out_filtered.h5',\n",
       " '/nfs/cellgeni/pasham/projects/2211.adult.skin/data.nfs/singlecell/reynolds.reprocessing/starsolo/cellbender/SKN8090592/cellbender_out_filtered.h5',\n",
       " '/nfs/cellgeni/pasham/projects/2211.adult.skin/data.nfs/singlecell/reynolds.reprocessing/starsolo/cellbender/SKN8090594/cellbender_out_filtered.h5',\n",
       " '/nfs/cellgeni/pasham/projects/2211.adult.skin/data.nfs/singlecell/reynolds.reprocessing/starsolo/cellbender/SKN8090595/cellbender_out_filtered.h5',\n",
       " '/nfs/cellgeni/pasham/projects/2211.adult.skin/data.nfs/singlecell/reynolds.reprocessing/starsolo/cellbender/SKN8090600/cellbender_out_filtered.h5',\n",
       " '/nfs/cellgeni/pasham/projects/2211.adult.skin/data.nfs/singlecell/reynolds.reprocessing/starsolo/cellbender/SKN8090601/cellbender_out_filtered.h5',\n",
       " '/nfs/cellgeni/pasham/projects/2211.adult.skin/data.nfs/singlecell/reynolds.reprocessing/starsolo/cellbender/SKN8090602/cellbender_out_filtered.h5',\n",
       " '/nfs/cellgeni/pasham/projects/2211.adult.skin/data.nfs/singlecell/reynolds.reprocessing/starsolo/cellbender/SKN8090603/cellbender_out_filtered.h5',\n",
       " '/nfs/cellgeni/pasham/projects/2211.adult.skin/data.nfs/singlecell/reynolds.reprocessing/starsolo/cellbender/SKN8090604/cellbender_out_filtered.h5',\n",
       " '/nfs/cellgeni/pasham/projects/2211.adult.skin/data.nfs/singlecell/reynolds.reprocessing/starsolo/cellbender/SKN8090605/cellbender_out_filtered.h5',\n",
       " '/nfs/cellgeni/pasham/projects/2211.adult.skin/data.nfs/singlecell/reynolds.reprocessing/starsolo/cellbender/SKN8090606/cellbender_out_filtered.h5',\n",
       " '/nfs/cellgeni/pasham/projects/2211.adult.skin/data.nfs/singlecell/reynolds.reprocessing/starsolo/cellbender/SKN8090607/cellbender_out_filtered.h5',\n",
       " '/nfs/cellgeni/pasham/projects/2211.adult.skin/data.nfs/singlecell/reynolds.reprocessing/starsolo/cellbender/SKN8104894/cellbender_out_filtered.h5',\n",
       " '/nfs/cellgeni/pasham/projects/2211.adult.skin/data.nfs/singlecell/reynolds.reprocessing/starsolo/cellbender/SKN8104895/cellbender_out_filtered.h5',\n",
       " '/nfs/cellgeni/pasham/projects/2211.adult.skin/data.nfs/singlecell/reynolds.reprocessing/starsolo/cellbender/SKN8104896/cellbender_out_filtered.h5',\n",
       " '/nfs/cellgeni/pasham/projects/2211.adult.skin/data.nfs/singlecell/reynolds.reprocessing/starsolo/cellbender/SKN8104897/cellbender_out_filtered.h5',\n",
       " '/nfs/cellgeni/pasham/projects/2211.adult.skin/data.nfs/singlecell/reynolds.reprocessing/starsolo/cellbender/SKN8104899/cellbender_out_filtered.h5',\n",
       " '/nfs/cellgeni/pasham/projects/2211.adult.skin/data.nfs/singlecell/reynolds.reprocessing/starsolo/cellbender/SKN8104900/cellbender_out_filtered.h5',\n",
       " '/nfs/cellgeni/pasham/projects/2211.adult.skin/data.nfs/singlecell/reynolds.reprocessing/starsolo/cellbender/SKN8104901/cellbender_out_filtered.h5',\n",
       " '/nfs/cellgeni/pasham/projects/2211.adult.skin/data.nfs/singlecell/reynolds.reprocessing/starsolo/cellbender/SKN8104902/cellbender_out_filtered.h5',\n",
       " '/nfs/cellgeni/pasham/projects/2211.adult.skin/data.nfs/singlecell/reynolds.reprocessing/starsolo/cellbender/SKN8105192/cellbender_out_filtered.h5',\n",
       " '/nfs/cellgeni/pasham/projects/2211.adult.skin/data.nfs/singlecell/reynolds.reprocessing/starsolo/cellbender/SKN8105193/cellbender_out_filtered.h5',\n",
       " '/nfs/cellgeni/pasham/projects/2211.adult.skin/data.nfs/singlecell/reynolds.reprocessing/starsolo/cellbender/SKN8105194/cellbender_out_filtered.h5',\n",
       " '/nfs/cellgeni/pasham/projects/2211.adult.skin/data.nfs/singlecell/reynolds.reprocessing/starsolo/cellbender/SKN8105195/cellbender_out_filtered.h5',\n",
       " '/nfs/cellgeni/pasham/projects/2211.adult.skin/data.nfs/singlecell/reynolds.reprocessing/starsolo/cellbender/SKN8105197/cellbender_out_filtered.h5',\n",
       " '/nfs/cellgeni/pasham/projects/2211.adult.skin/data.nfs/singlecell/reynolds.reprocessing/starsolo/cellbender/SKN8105198/cellbender_out_filtered.h5',\n",
       " '/nfs/cellgeni/pasham/projects/2211.adult.skin/data.nfs/singlecell/reynolds.reprocessing/starsolo/cellbender/SKN8105199/cellbender_out_filtered.h5',\n",
       " '/nfs/cellgeni/pasham/projects/2211.adult.skin/data.nfs/singlecell/reynolds.reprocessing/starsolo/cellbender/SKN8105200/cellbender_out_filtered.h5']"
      ]
     },
     "execution_count": 25,
     "metadata": {},
     "output_type": "execute_result"
    }
   ],
   "source": [
    "path"
   ]
  },
  {
   "cell_type": "code",
   "execution_count": 26,
   "id": "c38af71e-7577-493c-af37-9ba799df7c37",
   "metadata": {
    "tags": []
   },
   "outputs": [
    {
     "name": "stderr",
     "output_type": "stream",
     "text": [
      "/tmp/ipykernel_411959/2675726948.py:1: SettingWithCopyWarning: \n",
      "A value is trying to be set on a copy of a slice from a DataFrame.\n",
      "Try using .loc[row_indexer,col_indexer] = value instead\n",
      "\n",
      "See the caveats in the documentation: https://pandas.pydata.org/pandas-docs/stable/user_guide/indexing.html#returning-a-view-versus-a-copy\n",
      "  sample_filt['path']= path\n"
     ]
    },
    {
     "data": {
      "text/html": [
       "<div>\n",
       "<style scoped>\n",
       "    .dataframe tbody tr th:only-of-type {\n",
       "        vertical-align: middle;\n",
       "    }\n",
       "\n",
       "    .dataframe tbody tr th {\n",
       "        vertical-align: top;\n",
       "    }\n",
       "\n",
       "    .dataframe thead th {\n",
       "        text-align: right;\n",
       "    }\n",
       "</style>\n",
       "<table border=\"1\" class=\"dataframe\">\n",
       "  <thead>\n",
       "    <tr style=\"text-align: right;\">\n",
       "      <th></th>\n",
       "      <th>irods/farm</th>\n",
       "      <th>Sample_type</th>\n",
       "      <th>Donor</th>\n",
       "      <th>Sample_id</th>\n",
       "      <th>Tissue</th>\n",
       "      <th>Site</th>\n",
       "      <th>Sex</th>\n",
       "      <th>Unnamed: 7</th>\n",
       "      <th>Unnamed: 8</th>\n",
       "      <th>path</th>\n",
       "    </tr>\n",
       "  </thead>\n",
       "  <tbody>\n",
       "    <tr>\n",
       "      <th>0</th>\n",
       "      <td>4820STDY7388991</td>\n",
       "      <td>healthy_skin</td>\n",
       "      <td>S1</td>\n",
       "      <td>4820STDY7388991</td>\n",
       "      <td>Dermis</td>\n",
       "      <td>non_lesion</td>\n",
       "      <td>Female</td>\n",
       "      <td>NaN</td>\n",
       "      <td>NaN</td>\n",
       "      <td>/nfs/cellgeni/pasham/projects/2211.adult.skin/...</td>\n",
       "    </tr>\n",
       "    <tr>\n",
       "      <th>1</th>\n",
       "      <td>4820STDY7388992</td>\n",
       "      <td>healthy_skin</td>\n",
       "      <td>S1</td>\n",
       "      <td>4820STDY7388992</td>\n",
       "      <td>Dermis</td>\n",
       "      <td>non_lesion</td>\n",
       "      <td>Female</td>\n",
       "      <td>NaN</td>\n",
       "      <td>NaN</td>\n",
       "      <td>/nfs/cellgeni/pasham/projects/2211.adult.skin/...</td>\n",
       "    </tr>\n",
       "    <tr>\n",
       "      <th>2</th>\n",
       "      <td>4820STDY7388993</td>\n",
       "      <td>healthy_skin</td>\n",
       "      <td>S1</td>\n",
       "      <td>4820STDY7388993</td>\n",
       "      <td>Dermis</td>\n",
       "      <td>non_lesion</td>\n",
       "      <td>Female</td>\n",
       "      <td>NaN</td>\n",
       "      <td>NaN</td>\n",
       "      <td>/nfs/cellgeni/pasham/projects/2211.adult.skin/...</td>\n",
       "    </tr>\n",
       "    <tr>\n",
       "      <th>3</th>\n",
       "      <td>4820STDY7388994</td>\n",
       "      <td>healthy_skin</td>\n",
       "      <td>S1</td>\n",
       "      <td>4820STDY7388994</td>\n",
       "      <td>Dermis</td>\n",
       "      <td>non_lesion</td>\n",
       "      <td>Female</td>\n",
       "      <td>NaN</td>\n",
       "      <td>NaN</td>\n",
       "      <td>/nfs/cellgeni/pasham/projects/2211.adult.skin/...</td>\n",
       "    </tr>\n",
       "    <tr>\n",
       "      <th>4</th>\n",
       "      <td>4820STDY7388995</td>\n",
       "      <td>healthy_skin</td>\n",
       "      <td>S1</td>\n",
       "      <td>4820STDY7388995</td>\n",
       "      <td>Epidermis</td>\n",
       "      <td>non_lesion</td>\n",
       "      <td>Female</td>\n",
       "      <td>NaN</td>\n",
       "      <td>NaN</td>\n",
       "      <td>/nfs/cellgeni/pasham/projects/2211.adult.skin/...</td>\n",
       "    </tr>\n",
       "    <tr>\n",
       "      <th>...</th>\n",
       "      <td>...</td>\n",
       "      <td>...</td>\n",
       "      <td>...</td>\n",
       "      <td>...</td>\n",
       "      <td>...</td>\n",
       "      <td>...</td>\n",
       "      <td>...</td>\n",
       "      <td>...</td>\n",
       "      <td>...</td>\n",
       "      <td>...</td>\n",
       "    </tr>\n",
       "    <tr>\n",
       "      <th>91</th>\n",
       "      <td>SKN8105195</td>\n",
       "      <td>healthy_skin</td>\n",
       "      <td>S5</td>\n",
       "      <td>SKN8105195</td>\n",
       "      <td>Epidermis</td>\n",
       "      <td>non_lesion</td>\n",
       "      <td>Female</td>\n",
       "      <td>NaN</td>\n",
       "      <td>NaN</td>\n",
       "      <td>/nfs/cellgeni/pasham/projects/2211.adult.skin/...</td>\n",
       "    </tr>\n",
       "    <tr>\n",
       "      <th>92</th>\n",
       "      <td>SKN8105197</td>\n",
       "      <td>healthy_skin</td>\n",
       "      <td>S5</td>\n",
       "      <td>SKN8105197</td>\n",
       "      <td>Dermis</td>\n",
       "      <td>non_lesion</td>\n",
       "      <td>Female</td>\n",
       "      <td>NaN</td>\n",
       "      <td>NaN</td>\n",
       "      <td>/nfs/cellgeni/pasham/projects/2211.adult.skin/...</td>\n",
       "    </tr>\n",
       "    <tr>\n",
       "      <th>93</th>\n",
       "      <td>SKN8105198</td>\n",
       "      <td>healthy_skin</td>\n",
       "      <td>S5</td>\n",
       "      <td>SKN8105198</td>\n",
       "      <td>Dermis</td>\n",
       "      <td>non_lesion</td>\n",
       "      <td>Female</td>\n",
       "      <td>NaN</td>\n",
       "      <td>NaN</td>\n",
       "      <td>/nfs/cellgeni/pasham/projects/2211.adult.skin/...</td>\n",
       "    </tr>\n",
       "    <tr>\n",
       "      <th>94</th>\n",
       "      <td>SKN8105199</td>\n",
       "      <td>healthy_skin</td>\n",
       "      <td>S5</td>\n",
       "      <td>SKN8105199</td>\n",
       "      <td>Dermis</td>\n",
       "      <td>non_lesion</td>\n",
       "      <td>Female</td>\n",
       "      <td>NaN</td>\n",
       "      <td>NaN</td>\n",
       "      <td>/nfs/cellgeni/pasham/projects/2211.adult.skin/...</td>\n",
       "    </tr>\n",
       "    <tr>\n",
       "      <th>95</th>\n",
       "      <td>SKN8105200</td>\n",
       "      <td>healthy_skin</td>\n",
       "      <td>S5</td>\n",
       "      <td>SKN8105200</td>\n",
       "      <td>Dermis</td>\n",
       "      <td>non_lesion</td>\n",
       "      <td>Female</td>\n",
       "      <td>NaN</td>\n",
       "      <td>NaN</td>\n",
       "      <td>/nfs/cellgeni/pasham/projects/2211.adult.skin/...</td>\n",
       "    </tr>\n",
       "  </tbody>\n",
       "</table>\n",
       "<p>93 rows × 10 columns</p>\n",
       "</div>"
      ],
      "text/plain": [
       "         irods/farm   Sample_type Donor        Sample_id     Tissue  \\\n",
       "0   4820STDY7388991  healthy_skin    S1  4820STDY7388991     Dermis   \n",
       "1   4820STDY7388992  healthy_skin    S1  4820STDY7388992     Dermis   \n",
       "2   4820STDY7388993  healthy_skin    S1  4820STDY7388993     Dermis   \n",
       "3   4820STDY7388994  healthy_skin    S1  4820STDY7388994     Dermis   \n",
       "4   4820STDY7388995  healthy_skin    S1  4820STDY7388995  Epidermis   \n",
       "..              ...           ...   ...              ...        ...   \n",
       "91       SKN8105195  healthy_skin    S5       SKN8105195  Epidermis   \n",
       "92       SKN8105197  healthy_skin    S5       SKN8105197     Dermis   \n",
       "93       SKN8105198  healthy_skin    S5       SKN8105198     Dermis   \n",
       "94       SKN8105199  healthy_skin    S5       SKN8105199     Dermis   \n",
       "95       SKN8105200  healthy_skin    S5       SKN8105200     Dermis   \n",
       "\n",
       "          Site     Sex  Unnamed: 7  Unnamed: 8  \\\n",
       "0   non_lesion  Female         NaN         NaN   \n",
       "1   non_lesion  Female         NaN         NaN   \n",
       "2   non_lesion  Female         NaN         NaN   \n",
       "3   non_lesion  Female         NaN         NaN   \n",
       "4   non_lesion  Female         NaN         NaN   \n",
       "..         ...     ...         ...         ...   \n",
       "91  non_lesion  Female         NaN         NaN   \n",
       "92  non_lesion  Female         NaN         NaN   \n",
       "93  non_lesion  Female         NaN         NaN   \n",
       "94  non_lesion  Female         NaN         NaN   \n",
       "95  non_lesion  Female         NaN         NaN   \n",
       "\n",
       "                                                 path  \n",
       "0   /nfs/cellgeni/pasham/projects/2211.adult.skin/...  \n",
       "1   /nfs/cellgeni/pasham/projects/2211.adult.skin/...  \n",
       "2   /nfs/cellgeni/pasham/projects/2211.adult.skin/...  \n",
       "3   /nfs/cellgeni/pasham/projects/2211.adult.skin/...  \n",
       "4   /nfs/cellgeni/pasham/projects/2211.adult.skin/...  \n",
       "..                                                ...  \n",
       "91  /nfs/cellgeni/pasham/projects/2211.adult.skin/...  \n",
       "92  /nfs/cellgeni/pasham/projects/2211.adult.skin/...  \n",
       "93  /nfs/cellgeni/pasham/projects/2211.adult.skin/...  \n",
       "94  /nfs/cellgeni/pasham/projects/2211.adult.skin/...  \n",
       "95  /nfs/cellgeni/pasham/projects/2211.adult.skin/...  \n",
       "\n",
       "[93 rows x 10 columns]"
      ]
     },
     "execution_count": 26,
     "metadata": {},
     "output_type": "execute_result"
    }
   ],
   "source": [
    "sample_filt['path']= path\n",
    "sample_filt"
   ]
  },
  {
   "cell_type": "code",
   "execution_count": 27,
   "id": "170e958a-5f27-4a49-bad6-7252540395a1",
   "metadata": {
    "collapsed": true,
    "jupyter": {
     "outputs_hidden": true
    },
    "tags": []
   },
   "outputs": [
    {
     "name": "stdout",
     "output_type": "stream",
     "text": [
      "reading /nfs/cellgeni/pasham/projects/2211.adult.skin/data.nfs/singlecell/reynolds.reprocessing/starsolo/cellbender/4820STDY7388991/cellbender_out_filtered.h5\n",
      " (0:00:00)\n",
      "reading /nfs/cellgeni/pasham/projects/2211.adult.skin/data.nfs/singlecell/reynolds.reprocessing/starsolo/cellbender/4820STDY7388992/cellbender_out_filtered.h5\n"
     ]
    },
    {
     "name": "stderr",
     "output_type": "stream",
     "text": [
      "/nfs/team298/ab72/miniconda3/envs/multiome/lib/python3.10/site-packages/anndata/_core/anndata.py:1899: UserWarning: Variable names are not unique. To make them unique, call `.var_names_make_unique`.\n",
      "  utils.warn_names_duplicates(\"var\")\n"
     ]
    },
    {
     "name": "stdout",
     "output_type": "stream",
     "text": [
      " (0:00:00)\n",
      "reading /nfs/cellgeni/pasham/projects/2211.adult.skin/data.nfs/singlecell/reynolds.reprocessing/starsolo/cellbender/4820STDY7388993/cellbender_out_filtered.h5\n"
     ]
    },
    {
     "name": "stderr",
     "output_type": "stream",
     "text": [
      "/nfs/team298/ab72/miniconda3/envs/multiome/lib/python3.10/site-packages/anndata/_core/anndata.py:1899: UserWarning: Variable names are not unique. To make them unique, call `.var_names_make_unique`.\n",
      "  utils.warn_names_duplicates(\"var\")\n"
     ]
    },
    {
     "name": "stdout",
     "output_type": "stream",
     "text": [
      " (0:00:00)\n",
      "reading /nfs/cellgeni/pasham/projects/2211.adult.skin/data.nfs/singlecell/reynolds.reprocessing/starsolo/cellbender/4820STDY7388994/cellbender_out_filtered.h5\n"
     ]
    },
    {
     "name": "stderr",
     "output_type": "stream",
     "text": [
      "/nfs/team298/ab72/miniconda3/envs/multiome/lib/python3.10/site-packages/anndata/_core/anndata.py:1899: UserWarning: Variable names are not unique. To make them unique, call `.var_names_make_unique`.\n",
      "  utils.warn_names_duplicates(\"var\")\n"
     ]
    },
    {
     "name": "stdout",
     "output_type": "stream",
     "text": [
      " (0:00:00)\n",
      "reading /nfs/cellgeni/pasham/projects/2211.adult.skin/data.nfs/singlecell/reynolds.reprocessing/starsolo/cellbender/4820STDY7388995/cellbender_out_filtered.h5\n"
     ]
    },
    {
     "name": "stderr",
     "output_type": "stream",
     "text": [
      "/nfs/team298/ab72/miniconda3/envs/multiome/lib/python3.10/site-packages/anndata/_core/anndata.py:1899: UserWarning: Variable names are not unique. To make them unique, call `.var_names_make_unique`.\n",
      "  utils.warn_names_duplicates(\"var\")\n"
     ]
    },
    {
     "name": "stdout",
     "output_type": "stream",
     "text": [
      " (0:00:00)\n",
      "reading /nfs/cellgeni/pasham/projects/2211.adult.skin/data.nfs/singlecell/reynolds.reprocessing/starsolo/cellbender/4820STDY7388996/cellbender_out_filtered.h5\n"
     ]
    },
    {
     "name": "stderr",
     "output_type": "stream",
     "text": [
      "/nfs/team298/ab72/miniconda3/envs/multiome/lib/python3.10/site-packages/anndata/_core/anndata.py:1899: UserWarning: Variable names are not unique. To make them unique, call `.var_names_make_unique`.\n",
      "  utils.warn_names_duplicates(\"var\")\n"
     ]
    },
    {
     "name": "stdout",
     "output_type": "stream",
     "text": [
      " (0:00:00)\n",
      "reading /nfs/cellgeni/pasham/projects/2211.adult.skin/data.nfs/singlecell/reynolds.reprocessing/starsolo/cellbender/4820STDY7388997/cellbender_out_filtered.h5\n"
     ]
    },
    {
     "name": "stderr",
     "output_type": "stream",
     "text": [
      "/nfs/team298/ab72/miniconda3/envs/multiome/lib/python3.10/site-packages/anndata/_core/anndata.py:1899: UserWarning: Variable names are not unique. To make them unique, call `.var_names_make_unique`.\n",
      "  utils.warn_names_duplicates(\"var\")\n"
     ]
    },
    {
     "name": "stdout",
     "output_type": "stream",
     "text": [
      " (0:00:00)\n",
      "reading /nfs/cellgeni/pasham/projects/2211.adult.skin/data.nfs/singlecell/reynolds.reprocessing/starsolo/cellbender/4820STDY7388998/cellbender_out_filtered.h5\n"
     ]
    },
    {
     "name": "stderr",
     "output_type": "stream",
     "text": [
      "/nfs/team298/ab72/miniconda3/envs/multiome/lib/python3.10/site-packages/anndata/_core/anndata.py:1899: UserWarning: Variable names are not unique. To make them unique, call `.var_names_make_unique`.\n",
      "  utils.warn_names_duplicates(\"var\")\n"
     ]
    },
    {
     "name": "stdout",
     "output_type": "stream",
     "text": [
      " (0:00:00)\n",
      "reading /nfs/cellgeni/pasham/projects/2211.adult.skin/data.nfs/singlecell/reynolds.reprocessing/starsolo/cellbender/4820STDY7388999/cellbender_out_filtered.h5\n"
     ]
    },
    {
     "name": "stderr",
     "output_type": "stream",
     "text": [
      "/nfs/team298/ab72/miniconda3/envs/multiome/lib/python3.10/site-packages/anndata/_core/anndata.py:1899: UserWarning: Variable names are not unique. To make them unique, call `.var_names_make_unique`.\n",
      "  utils.warn_names_duplicates(\"var\")\n"
     ]
    },
    {
     "name": "stdout",
     "output_type": "stream",
     "text": [
      " (0:00:00)\n",
      "reading /nfs/cellgeni/pasham/projects/2211.adult.skin/data.nfs/singlecell/reynolds.reprocessing/starsolo/cellbender/4820STDY7389000/cellbender_out_filtered.h5\n"
     ]
    },
    {
     "name": "stderr",
     "output_type": "stream",
     "text": [
      "/nfs/team298/ab72/miniconda3/envs/multiome/lib/python3.10/site-packages/anndata/_core/anndata.py:1899: UserWarning: Variable names are not unique. To make them unique, call `.var_names_make_unique`.\n",
      "  utils.warn_names_duplicates(\"var\")\n"
     ]
    },
    {
     "name": "stdout",
     "output_type": "stream",
     "text": [
      " (0:00:00)\n",
      "reading /nfs/cellgeni/pasham/projects/2211.adult.skin/data.nfs/singlecell/reynolds.reprocessing/starsolo/cellbender/4820STDY7389001/cellbender_out_filtered.h5\n"
     ]
    },
    {
     "name": "stderr",
     "output_type": "stream",
     "text": [
      "/nfs/team298/ab72/miniconda3/envs/multiome/lib/python3.10/site-packages/anndata/_core/anndata.py:1899: UserWarning: Variable names are not unique. To make them unique, call `.var_names_make_unique`.\n",
      "  utils.warn_names_duplicates(\"var\")\n"
     ]
    },
    {
     "name": "stdout",
     "output_type": "stream",
     "text": [
      " (0:00:00)\n",
      "reading /nfs/cellgeni/pasham/projects/2211.adult.skin/data.nfs/singlecell/reynolds.reprocessing/starsolo/cellbender/4820STDY7389002/cellbender_out_filtered.h5\n"
     ]
    },
    {
     "name": "stderr",
     "output_type": "stream",
     "text": [
      "/nfs/team298/ab72/miniconda3/envs/multiome/lib/python3.10/site-packages/anndata/_core/anndata.py:1899: UserWarning: Variable names are not unique. To make them unique, call `.var_names_make_unique`.\n",
      "  utils.warn_names_duplicates(\"var\")\n"
     ]
    },
    {
     "name": "stdout",
     "output_type": "stream",
     "text": [
      " (0:00:00)\n",
      "reading /nfs/cellgeni/pasham/projects/2211.adult.skin/data.nfs/singlecell/reynolds.reprocessing/starsolo/cellbender/4820STDY7389003/cellbender_out_filtered.h5\n",
      " (0:00:00)\n",
      "reading /nfs/cellgeni/pasham/projects/2211.adult.skin/data.nfs/singlecell/reynolds.reprocessing/starsolo/cellbender/4820STDY7389004/cellbender_out_filtered.h5\n"
     ]
    },
    {
     "name": "stderr",
     "output_type": "stream",
     "text": [
      "/nfs/team298/ab72/miniconda3/envs/multiome/lib/python3.10/site-packages/anndata/_core/anndata.py:1899: UserWarning: Variable names are not unique. To make them unique, call `.var_names_make_unique`.\n",
      "  utils.warn_names_duplicates(\"var\")\n",
      "/nfs/team298/ab72/miniconda3/envs/multiome/lib/python3.10/site-packages/anndata/_core/anndata.py:1899: UserWarning: Variable names are not unique. To make them unique, call `.var_names_make_unique`.\n",
      "  utils.warn_names_duplicates(\"var\")\n"
     ]
    },
    {
     "name": "stdout",
     "output_type": "stream",
     "text": [
      " (0:00:00)\n",
      "reading /nfs/cellgeni/pasham/projects/2211.adult.skin/data.nfs/singlecell/reynolds.reprocessing/starsolo/cellbender/4820STDY7389005/cellbender_out_filtered.h5\n"
     ]
    },
    {
     "name": "stderr",
     "output_type": "stream",
     "text": [
      "/nfs/team298/ab72/miniconda3/envs/multiome/lib/python3.10/site-packages/anndata/_core/anndata.py:1899: UserWarning: Variable names are not unique. To make them unique, call `.var_names_make_unique`.\n",
      "  utils.warn_names_duplicates(\"var\")\n"
     ]
    },
    {
     "name": "stdout",
     "output_type": "stream",
     "text": [
      " (0:00:00)\n",
      "reading /nfs/cellgeni/pasham/projects/2211.adult.skin/data.nfs/singlecell/reynolds.reprocessing/starsolo/cellbender/4820STDY7389006/cellbender_out_filtered.h5\n"
     ]
    },
    {
     "name": "stderr",
     "output_type": "stream",
     "text": [
      "/nfs/team298/ab72/miniconda3/envs/multiome/lib/python3.10/site-packages/anndata/_core/anndata.py:1899: UserWarning: Variable names are not unique. To make them unique, call `.var_names_make_unique`.\n",
      "  utils.warn_names_duplicates(\"var\")\n"
     ]
    },
    {
     "name": "stdout",
     "output_type": "stream",
     "text": [
      " (0:00:00)\n",
      "reading /nfs/cellgeni/pasham/projects/2211.adult.skin/data.nfs/singlecell/reynolds.reprocessing/starsolo/cellbender/4820STDY7389007/cellbender_out_filtered.h5\n"
     ]
    },
    {
     "name": "stderr",
     "output_type": "stream",
     "text": [
      "/nfs/team298/ab72/miniconda3/envs/multiome/lib/python3.10/site-packages/anndata/_core/anndata.py:1899: UserWarning: Variable names are not unique. To make them unique, call `.var_names_make_unique`.\n",
      "  utils.warn_names_duplicates(\"var\")\n",
      "/nfs/team298/ab72/miniconda3/envs/multiome/lib/python3.10/site-packages/anndata/_core/anndata.py:1899: UserWarning: Variable names are not unique. To make them unique, call `.var_names_make_unique`.\n",
      "  utils.warn_names_duplicates(\"var\")\n"
     ]
    },
    {
     "name": "stdout",
     "output_type": "stream",
     "text": [
      " (0:00:00)\n",
      "reading /nfs/cellgeni/pasham/projects/2211.adult.skin/data.nfs/singlecell/reynolds.reprocessing/starsolo/cellbender/4820STDY7389008/cellbender_out_filtered.h5\n",
      " (0:00:00)\n",
      "reading /nfs/cellgeni/pasham/projects/2211.adult.skin/data.nfs/singlecell/reynolds.reprocessing/starsolo/cellbender/4820STDY7389009/cellbender_out_filtered.h5\n"
     ]
    },
    {
     "name": "stderr",
     "output_type": "stream",
     "text": [
      "/nfs/team298/ab72/miniconda3/envs/multiome/lib/python3.10/site-packages/anndata/_core/anndata.py:1899: UserWarning: Variable names are not unique. To make them unique, call `.var_names_make_unique`.\n",
      "  utils.warn_names_duplicates(\"var\")\n"
     ]
    },
    {
     "name": "stdout",
     "output_type": "stream",
     "text": [
      " (0:00:00)\n",
      "reading /nfs/cellgeni/pasham/projects/2211.adult.skin/data.nfs/singlecell/reynolds.reprocessing/starsolo/cellbender/4820STDY7389010/cellbender_out_filtered.h5\n",
      " (0:00:00)\n",
      "reading /nfs/cellgeni/pasham/projects/2211.adult.skin/data.nfs/singlecell/reynolds.reprocessing/starsolo/cellbender/4820STDY7389011/cellbender_out_filtered.h5\n"
     ]
    },
    {
     "name": "stderr",
     "output_type": "stream",
     "text": [
      "/nfs/team298/ab72/miniconda3/envs/multiome/lib/python3.10/site-packages/anndata/_core/anndata.py:1899: UserWarning: Variable names are not unique. To make them unique, call `.var_names_make_unique`.\n",
      "  utils.warn_names_duplicates(\"var\")\n",
      "/nfs/team298/ab72/miniconda3/envs/multiome/lib/python3.10/site-packages/anndata/_core/anndata.py:1899: UserWarning: Variable names are not unique. To make them unique, call `.var_names_make_unique`.\n",
      "  utils.warn_names_duplicates(\"var\")\n"
     ]
    },
    {
     "name": "stdout",
     "output_type": "stream",
     "text": [
      " (0:00:00)\n",
      "reading /nfs/cellgeni/pasham/projects/2211.adult.skin/data.nfs/singlecell/reynolds.reprocessing/starsolo/cellbender/4820STDY7389012/cellbender_out_filtered.h5\n"
     ]
    },
    {
     "name": "stderr",
     "output_type": "stream",
     "text": [
      "/nfs/team298/ab72/miniconda3/envs/multiome/lib/python3.10/site-packages/anndata/_core/anndata.py:1899: UserWarning: Variable names are not unique. To make them unique, call `.var_names_make_unique`.\n",
      "  utils.warn_names_duplicates(\"var\")\n",
      "/nfs/team298/ab72/miniconda3/envs/multiome/lib/python3.10/site-packages/anndata/_core/anndata.py:1899: UserWarning: Variable names are not unique. To make them unique, call `.var_names_make_unique`.\n",
      "  utils.warn_names_duplicates(\"var\")\n"
     ]
    },
    {
     "name": "stdout",
     "output_type": "stream",
     "text": [
      " (0:00:00)\n",
      "reading /nfs/cellgeni/pasham/projects/2211.adult.skin/data.nfs/singlecell/reynolds.reprocessing/starsolo/cellbender/4820STDY7389013/cellbender_out_filtered.h5\n",
      " (0:00:00)\n",
      "reading /nfs/cellgeni/pasham/projects/2211.adult.skin/data.nfs/singlecell/reynolds.reprocessing/starsolo/cellbender/4820STDY7389014/cellbender_out_filtered.h5\n",
      " (0:00:00)\n",
      "reading /nfs/cellgeni/pasham/projects/2211.adult.skin/data.nfs/singlecell/reynolds.reprocessing/starsolo/cellbender/SKN8090524/cellbender_out_filtered.h5\n"
     ]
    },
    {
     "name": "stderr",
     "output_type": "stream",
     "text": [
      "/nfs/team298/ab72/miniconda3/envs/multiome/lib/python3.10/site-packages/anndata/_core/anndata.py:1899: UserWarning: Variable names are not unique. To make them unique, call `.var_names_make_unique`.\n",
      "  utils.warn_names_duplicates(\"var\")\n",
      "/nfs/team298/ab72/miniconda3/envs/multiome/lib/python3.10/site-packages/anndata/_core/anndata.py:1899: UserWarning: Variable names are not unique. To make them unique, call `.var_names_make_unique`.\n",
      "  utils.warn_names_duplicates(\"var\")\n"
     ]
    },
    {
     "name": "stdout",
     "output_type": "stream",
     "text": [
      " (0:00:01)\n",
      "reading /nfs/cellgeni/pasham/projects/2211.adult.skin/data.nfs/singlecell/reynolds.reprocessing/starsolo/cellbender/SKN8090525/cellbender_out_filtered.h5\n"
     ]
    },
    {
     "name": "stderr",
     "output_type": "stream",
     "text": [
      "/nfs/team298/ab72/miniconda3/envs/multiome/lib/python3.10/site-packages/anndata/_core/anndata.py:1899: UserWarning: Variable names are not unique. To make them unique, call `.var_names_make_unique`.\n",
      "  utils.warn_names_duplicates(\"var\")\n"
     ]
    },
    {
     "name": "stdout",
     "output_type": "stream",
     "text": [
      " (0:00:00)\n",
      "reading /nfs/cellgeni/pasham/projects/2211.adult.skin/data.nfs/singlecell/reynolds.reprocessing/starsolo/cellbender/SKN8090526/cellbender_out_filtered.h5\n"
     ]
    },
    {
     "name": "stderr",
     "output_type": "stream",
     "text": [
      "/nfs/team298/ab72/miniconda3/envs/multiome/lib/python3.10/site-packages/anndata/_core/anndata.py:1899: UserWarning: Variable names are not unique. To make them unique, call `.var_names_make_unique`.\n",
      "  utils.warn_names_duplicates(\"var\")\n"
     ]
    },
    {
     "name": "stdout",
     "output_type": "stream",
     "text": [
      " (0:00:00)\n",
      "reading /nfs/cellgeni/pasham/projects/2211.adult.skin/data.nfs/singlecell/reynolds.reprocessing/starsolo/cellbender/SKN8090528/cellbender_out_filtered.h5\n"
     ]
    },
    {
     "name": "stderr",
     "output_type": "stream",
     "text": [
      "/nfs/team298/ab72/miniconda3/envs/multiome/lib/python3.10/site-packages/anndata/_core/anndata.py:1899: UserWarning: Variable names are not unique. To make them unique, call `.var_names_make_unique`.\n",
      "  utils.warn_names_duplicates(\"var\")\n"
     ]
    },
    {
     "name": "stdout",
     "output_type": "stream",
     "text": [
      " (0:00:01)\n",
      "reading /nfs/cellgeni/pasham/projects/2211.adult.skin/data.nfs/singlecell/reynolds.reprocessing/starsolo/cellbender/SKN8090529/cellbender_out_filtered.h5\n"
     ]
    },
    {
     "name": "stderr",
     "output_type": "stream",
     "text": [
      "/nfs/team298/ab72/miniconda3/envs/multiome/lib/python3.10/site-packages/anndata/_core/anndata.py:1899: UserWarning: Variable names are not unique. To make them unique, call `.var_names_make_unique`.\n",
      "  utils.warn_names_duplicates(\"var\")\n"
     ]
    },
    {
     "name": "stdout",
     "output_type": "stream",
     "text": [
      " (0:00:01)\n",
      "reading /nfs/cellgeni/pasham/projects/2211.adult.skin/data.nfs/singlecell/reynolds.reprocessing/starsolo/cellbender/SKN8090530/cellbender_out_filtered.h5\n"
     ]
    },
    {
     "name": "stderr",
     "output_type": "stream",
     "text": [
      "/nfs/team298/ab72/miniconda3/envs/multiome/lib/python3.10/site-packages/anndata/_core/anndata.py:1899: UserWarning: Variable names are not unique. To make them unique, call `.var_names_make_unique`.\n",
      "  utils.warn_names_duplicates(\"var\")\n"
     ]
    },
    {
     "name": "stdout",
     "output_type": "stream",
     "text": [
      " (0:00:01)\n",
      "reading /nfs/cellgeni/pasham/projects/2211.adult.skin/data.nfs/singlecell/reynolds.reprocessing/starsolo/cellbender/SKN8090531/cellbender_out_filtered.h5\n"
     ]
    },
    {
     "name": "stderr",
     "output_type": "stream",
     "text": [
      "/nfs/team298/ab72/miniconda3/envs/multiome/lib/python3.10/site-packages/anndata/_core/anndata.py:1899: UserWarning: Variable names are not unique. To make them unique, call `.var_names_make_unique`.\n",
      "  utils.warn_names_duplicates(\"var\")\n"
     ]
    },
    {
     "name": "stdout",
     "output_type": "stream",
     "text": [
      " (0:00:02)\n",
      "reading /nfs/cellgeni/pasham/projects/2211.adult.skin/data.nfs/singlecell/reynolds.reprocessing/starsolo/cellbender/SKN8090536/cellbender_out_filtered.h5\n"
     ]
    },
    {
     "name": "stderr",
     "output_type": "stream",
     "text": [
      "/nfs/team298/ab72/miniconda3/envs/multiome/lib/python3.10/site-packages/anndata/_core/anndata.py:1899: UserWarning: Variable names are not unique. To make them unique, call `.var_names_make_unique`.\n",
      "  utils.warn_names_duplicates(\"var\")\n"
     ]
    },
    {
     "name": "stdout",
     "output_type": "stream",
     "text": [
      " (0:00:02)\n",
      "reading /nfs/cellgeni/pasham/projects/2211.adult.skin/data.nfs/singlecell/reynolds.reprocessing/starsolo/cellbender/SKN8090537/cellbender_out_filtered.h5\n"
     ]
    },
    {
     "name": "stderr",
     "output_type": "stream",
     "text": [
      "/nfs/team298/ab72/miniconda3/envs/multiome/lib/python3.10/site-packages/anndata/_core/anndata.py:1899: UserWarning: Variable names are not unique. To make them unique, call `.var_names_make_unique`.\n",
      "  utils.warn_names_duplicates(\"var\")\n"
     ]
    },
    {
     "name": "stdout",
     "output_type": "stream",
     "text": [
      " (0:00:04)\n",
      "reading /nfs/cellgeni/pasham/projects/2211.adult.skin/data.nfs/singlecell/reynolds.reprocessing/starsolo/cellbender/SKN8090538/cellbender_out_filtered.h5\n"
     ]
    },
    {
     "name": "stderr",
     "output_type": "stream",
     "text": [
      "/nfs/team298/ab72/miniconda3/envs/multiome/lib/python3.10/site-packages/anndata/_core/anndata.py:1899: UserWarning: Variable names are not unique. To make them unique, call `.var_names_make_unique`.\n",
      "  utils.warn_names_duplicates(\"var\")\n"
     ]
    },
    {
     "name": "stdout",
     "output_type": "stream",
     "text": [
      " (0:00:03)\n",
      "reading /nfs/cellgeni/pasham/projects/2211.adult.skin/data.nfs/singlecell/reynolds.reprocessing/starsolo/cellbender/SKN8090539/cellbender_out_filtered.h5\n"
     ]
    },
    {
     "name": "stderr",
     "output_type": "stream",
     "text": [
      "/nfs/team298/ab72/miniconda3/envs/multiome/lib/python3.10/site-packages/anndata/_core/anndata.py:1899: UserWarning: Variable names are not unique. To make them unique, call `.var_names_make_unique`.\n",
      "  utils.warn_names_duplicates(\"var\")\n"
     ]
    },
    {
     "name": "stdout",
     "output_type": "stream",
     "text": [
      " (0:00:00)\n",
      "reading /nfs/cellgeni/pasham/projects/2211.adult.skin/data.nfs/singlecell/reynolds.reprocessing/starsolo/cellbender/SKN8090540/cellbender_out_filtered.h5\n"
     ]
    },
    {
     "name": "stderr",
     "output_type": "stream",
     "text": [
      "/nfs/team298/ab72/miniconda3/envs/multiome/lib/python3.10/site-packages/anndata/_core/anndata.py:1899: UserWarning: Variable names are not unique. To make them unique, call `.var_names_make_unique`.\n",
      "  utils.warn_names_duplicates(\"var\")\n"
     ]
    },
    {
     "name": "stdout",
     "output_type": "stream",
     "text": [
      " (0:00:02)\n",
      "reading /nfs/cellgeni/pasham/projects/2211.adult.skin/data.nfs/singlecell/reynolds.reprocessing/starsolo/cellbender/SKN8090541/cellbender_out_filtered.h5\n"
     ]
    },
    {
     "name": "stderr",
     "output_type": "stream",
     "text": [
      "/nfs/team298/ab72/miniconda3/envs/multiome/lib/python3.10/site-packages/anndata/_core/anndata.py:1899: UserWarning: Variable names are not unique. To make them unique, call `.var_names_make_unique`.\n",
      "  utils.warn_names_duplicates(\"var\")\n"
     ]
    },
    {
     "name": "stdout",
     "output_type": "stream",
     "text": [
      " (0:00:00)\n",
      "reading /nfs/cellgeni/pasham/projects/2211.adult.skin/data.nfs/singlecell/reynolds.reprocessing/starsolo/cellbender/SKN8090542/cellbender_out_filtered.h5\n"
     ]
    },
    {
     "name": "stderr",
     "output_type": "stream",
     "text": [
      "/nfs/team298/ab72/miniconda3/envs/multiome/lib/python3.10/site-packages/anndata/_core/anndata.py:1899: UserWarning: Variable names are not unique. To make them unique, call `.var_names_make_unique`.\n",
      "  utils.warn_names_duplicates(\"var\")\n"
     ]
    },
    {
     "name": "stdout",
     "output_type": "stream",
     "text": [
      " (0:00:02)\n",
      "reading /nfs/cellgeni/pasham/projects/2211.adult.skin/data.nfs/singlecell/reynolds.reprocessing/starsolo/cellbender/SKN8090543/cellbender_out_filtered.h5\n"
     ]
    },
    {
     "name": "stderr",
     "output_type": "stream",
     "text": [
      "/nfs/team298/ab72/miniconda3/envs/multiome/lib/python3.10/site-packages/anndata/_core/anndata.py:1899: UserWarning: Variable names are not unique. To make them unique, call `.var_names_make_unique`.\n",
      "  utils.warn_names_duplicates(\"var\")\n"
     ]
    },
    {
     "name": "stdout",
     "output_type": "stream",
     "text": [
      " (0:00:02)\n",
      "reading /nfs/cellgeni/pasham/projects/2211.adult.skin/data.nfs/singlecell/reynolds.reprocessing/starsolo/cellbender/SKN8090548/cellbender_out_filtered.h5\n"
     ]
    },
    {
     "name": "stderr",
     "output_type": "stream",
     "text": [
      "/nfs/team298/ab72/miniconda3/envs/multiome/lib/python3.10/site-packages/anndata/_core/anndata.py:1899: UserWarning: Variable names are not unique. To make them unique, call `.var_names_make_unique`.\n",
      "  utils.warn_names_duplicates(\"var\")\n"
     ]
    },
    {
     "name": "stdout",
     "output_type": "stream",
     "text": [
      " (0:00:01)\n",
      "reading /nfs/cellgeni/pasham/projects/2211.adult.skin/data.nfs/singlecell/reynolds.reprocessing/starsolo/cellbender/SKN8090549/cellbender_out_filtered.h5\n"
     ]
    },
    {
     "name": "stderr",
     "output_type": "stream",
     "text": [
      "/nfs/team298/ab72/miniconda3/envs/multiome/lib/python3.10/site-packages/anndata/_core/anndata.py:1899: UserWarning: Variable names are not unique. To make them unique, call `.var_names_make_unique`.\n",
      "  utils.warn_names_duplicates(\"var\")\n"
     ]
    },
    {
     "name": "stdout",
     "output_type": "stream",
     "text": [
      " (0:00:02)\n"
     ]
    },
    {
     "name": "stderr",
     "output_type": "stream",
     "text": [
      "/nfs/team298/ab72/miniconda3/envs/multiome/lib/python3.10/site-packages/anndata/_core/anndata.py:1899: UserWarning: Variable names are not unique. To make them unique, call `.var_names_make_unique`.\n",
      "  utils.warn_names_duplicates(\"var\")\n"
     ]
    },
    {
     "name": "stdout",
     "output_type": "stream",
     "text": [
      "reading /nfs/cellgeni/pasham/projects/2211.adult.skin/data.nfs/singlecell/reynolds.reprocessing/starsolo/cellbender/SKN8090550/cellbender_out_filtered.h5\n",
      " (0:00:02)\n",
      "reading /nfs/cellgeni/pasham/projects/2211.adult.skin/data.nfs/singlecell/reynolds.reprocessing/starsolo/cellbender/SKN8090551/cellbender_out_filtered.h5\n"
     ]
    },
    {
     "name": "stderr",
     "output_type": "stream",
     "text": [
      "/nfs/team298/ab72/miniconda3/envs/multiome/lib/python3.10/site-packages/anndata/_core/anndata.py:1899: UserWarning: Variable names are not unique. To make them unique, call `.var_names_make_unique`.\n",
      "  utils.warn_names_duplicates(\"var\")\n"
     ]
    },
    {
     "name": "stdout",
     "output_type": "stream",
     "text": [
      " (0:00:03)\n",
      "reading /nfs/cellgeni/pasham/projects/2211.adult.skin/data.nfs/singlecell/reynolds.reprocessing/starsolo/cellbender/SKN8090552/cellbender_out_filtered.h5\n"
     ]
    },
    {
     "name": "stderr",
     "output_type": "stream",
     "text": [
      "/nfs/team298/ab72/miniconda3/envs/multiome/lib/python3.10/site-packages/anndata/_core/anndata.py:1899: UserWarning: Variable names are not unique. To make them unique, call `.var_names_make_unique`.\n",
      "  utils.warn_names_duplicates(\"var\")\n"
     ]
    },
    {
     "name": "stdout",
     "output_type": "stream",
     "text": [
      " (0:00:01)\n",
      "reading /nfs/cellgeni/pasham/projects/2211.adult.skin/data.nfs/singlecell/reynolds.reprocessing/starsolo/cellbender/SKN8090553/cellbender_out_filtered.h5\n"
     ]
    },
    {
     "name": "stderr",
     "output_type": "stream",
     "text": [
      "/nfs/team298/ab72/miniconda3/envs/multiome/lib/python3.10/site-packages/anndata/_core/anndata.py:1899: UserWarning: Variable names are not unique. To make them unique, call `.var_names_make_unique`.\n",
      "  utils.warn_names_duplicates(\"var\")\n"
     ]
    },
    {
     "name": "stdout",
     "output_type": "stream",
     "text": [
      " (0:00:03)\n",
      "reading /nfs/cellgeni/pasham/projects/2211.adult.skin/data.nfs/singlecell/reynolds.reprocessing/starsolo/cellbender/SKN8090554/cellbender_out_filtered.h5\n"
     ]
    },
    {
     "name": "stderr",
     "output_type": "stream",
     "text": [
      "/nfs/team298/ab72/miniconda3/envs/multiome/lib/python3.10/site-packages/anndata/_core/anndata.py:1899: UserWarning: Variable names are not unique. To make them unique, call `.var_names_make_unique`.\n",
      "  utils.warn_names_duplicates(\"var\")\n"
     ]
    },
    {
     "name": "stdout",
     "output_type": "stream",
     "text": [
      " (0:00:02)\n",
      "reading /nfs/cellgeni/pasham/projects/2211.adult.skin/data.nfs/singlecell/reynolds.reprocessing/starsolo/cellbender/SKN8090555/cellbender_out_filtered.h5\n"
     ]
    },
    {
     "name": "stderr",
     "output_type": "stream",
     "text": [
      "/nfs/team298/ab72/miniconda3/envs/multiome/lib/python3.10/site-packages/anndata/_core/anndata.py:1899: UserWarning: Variable names are not unique. To make them unique, call `.var_names_make_unique`.\n",
      "  utils.warn_names_duplicates(\"var\")\n"
     ]
    },
    {
     "name": "stdout",
     "output_type": "stream",
     "text": [
      " (0:00:03)\n",
      "reading /nfs/cellgeni/pasham/projects/2211.adult.skin/data.nfs/singlecell/reynolds.reprocessing/starsolo/cellbender/SKN8090560/cellbender_out_filtered.h5\n"
     ]
    },
    {
     "name": "stderr",
     "output_type": "stream",
     "text": [
      "/nfs/team298/ab72/miniconda3/envs/multiome/lib/python3.10/site-packages/anndata/_core/anndata.py:1899: UserWarning: Variable names are not unique. To make them unique, call `.var_names_make_unique`.\n",
      "  utils.warn_names_duplicates(\"var\")\n"
     ]
    },
    {
     "name": "stdout",
     "output_type": "stream",
     "text": [
      " (0:00:00)\n",
      "reading /nfs/cellgeni/pasham/projects/2211.adult.skin/data.nfs/singlecell/reynolds.reprocessing/starsolo/cellbender/SKN8090561/cellbender_out_filtered.h5\n"
     ]
    },
    {
     "name": "stderr",
     "output_type": "stream",
     "text": [
      "/nfs/team298/ab72/miniconda3/envs/multiome/lib/python3.10/site-packages/anndata/_core/anndata.py:1899: UserWarning: Variable names are not unique. To make them unique, call `.var_names_make_unique`.\n",
      "  utils.warn_names_duplicates(\"var\")\n"
     ]
    },
    {
     "name": "stdout",
     "output_type": "stream",
     "text": [
      " (0:00:01)\n",
      "reading /nfs/cellgeni/pasham/projects/2211.adult.skin/data.nfs/singlecell/reynolds.reprocessing/starsolo/cellbender/SKN8090562/cellbender_out_filtered.h5\n"
     ]
    },
    {
     "name": "stderr",
     "output_type": "stream",
     "text": [
      "/nfs/team298/ab72/miniconda3/envs/multiome/lib/python3.10/site-packages/anndata/_core/anndata.py:1899: UserWarning: Variable names are not unique. To make them unique, call `.var_names_make_unique`.\n",
      "  utils.warn_names_duplicates(\"var\")\n"
     ]
    },
    {
     "name": "stdout",
     "output_type": "stream",
     "text": [
      " (0:00:00)\n",
      "reading /nfs/cellgeni/pasham/projects/2211.adult.skin/data.nfs/singlecell/reynolds.reprocessing/starsolo/cellbender/SKN8090563/cellbender_out_filtered.h5\n"
     ]
    },
    {
     "name": "stderr",
     "output_type": "stream",
     "text": [
      "/nfs/team298/ab72/miniconda3/envs/multiome/lib/python3.10/site-packages/anndata/_core/anndata.py:1899: UserWarning: Variable names are not unique. To make them unique, call `.var_names_make_unique`.\n",
      "  utils.warn_names_duplicates(\"var\")\n"
     ]
    },
    {
     "name": "stdout",
     "output_type": "stream",
     "text": [
      " (0:00:00)\n",
      "reading /nfs/cellgeni/pasham/projects/2211.adult.skin/data.nfs/singlecell/reynolds.reprocessing/starsolo/cellbender/SKN8090564/cellbender_out_filtered.h5\n"
     ]
    },
    {
     "name": "stderr",
     "output_type": "stream",
     "text": [
      "/nfs/team298/ab72/miniconda3/envs/multiome/lib/python3.10/site-packages/anndata/_core/anndata.py:1899: UserWarning: Variable names are not unique. To make them unique, call `.var_names_make_unique`.\n",
      "  utils.warn_names_duplicates(\"var\")\n"
     ]
    },
    {
     "name": "stdout",
     "output_type": "stream",
     "text": [
      " (0:00:00)\n",
      "reading /nfs/cellgeni/pasham/projects/2211.adult.skin/data.nfs/singlecell/reynolds.reprocessing/starsolo/cellbender/SKN8090565/cellbender_out_filtered.h5\n"
     ]
    },
    {
     "name": "stderr",
     "output_type": "stream",
     "text": [
      "/nfs/team298/ab72/miniconda3/envs/multiome/lib/python3.10/site-packages/anndata/_core/anndata.py:1899: UserWarning: Variable names are not unique. To make them unique, call `.var_names_make_unique`.\n",
      "  utils.warn_names_duplicates(\"var\")\n"
     ]
    },
    {
     "name": "stdout",
     "output_type": "stream",
     "text": [
      " (0:00:00)\n",
      "reading /nfs/cellgeni/pasham/projects/2211.adult.skin/data.nfs/singlecell/reynolds.reprocessing/starsolo/cellbender/SKN8090567/cellbender_out_filtered.h5\n"
     ]
    },
    {
     "name": "stderr",
     "output_type": "stream",
     "text": [
      "/nfs/team298/ab72/miniconda3/envs/multiome/lib/python3.10/site-packages/anndata/_core/anndata.py:1899: UserWarning: Variable names are not unique. To make them unique, call `.var_names_make_unique`.\n",
      "  utils.warn_names_duplicates(\"var\")\n"
     ]
    },
    {
     "name": "stdout",
     "output_type": "stream",
     "text": [
      " (0:00:01)\n",
      "reading /nfs/cellgeni/pasham/projects/2211.adult.skin/data.nfs/singlecell/reynolds.reprocessing/starsolo/cellbender/SKN8090576/cellbender_out_filtered.h5\n"
     ]
    },
    {
     "name": "stderr",
     "output_type": "stream",
     "text": [
      "/nfs/team298/ab72/miniconda3/envs/multiome/lib/python3.10/site-packages/anndata/_core/anndata.py:1899: UserWarning: Variable names are not unique. To make them unique, call `.var_names_make_unique`.\n",
      "  utils.warn_names_duplicates(\"var\")\n"
     ]
    },
    {
     "name": "stdout",
     "output_type": "stream",
     "text": [
      " (0:00:00)\n",
      "reading /nfs/cellgeni/pasham/projects/2211.adult.skin/data.nfs/singlecell/reynolds.reprocessing/starsolo/cellbender/SKN8090577/cellbender_out_filtered.h5\n"
     ]
    },
    {
     "name": "stderr",
     "output_type": "stream",
     "text": [
      "/nfs/team298/ab72/miniconda3/envs/multiome/lib/python3.10/site-packages/anndata/_core/anndata.py:1899: UserWarning: Variable names are not unique. To make them unique, call `.var_names_make_unique`.\n",
      "  utils.warn_names_duplicates(\"var\")\n"
     ]
    },
    {
     "name": "stdout",
     "output_type": "stream",
     "text": [
      " (0:00:01)\n",
      "reading /nfs/cellgeni/pasham/projects/2211.adult.skin/data.nfs/singlecell/reynolds.reprocessing/starsolo/cellbender/SKN8090578/cellbender_out_filtered.h5\n"
     ]
    },
    {
     "name": "stderr",
     "output_type": "stream",
     "text": [
      "/nfs/team298/ab72/miniconda3/envs/multiome/lib/python3.10/site-packages/anndata/_core/anndata.py:1899: UserWarning: Variable names are not unique. To make them unique, call `.var_names_make_unique`.\n",
      "  utils.warn_names_duplicates(\"var\")\n"
     ]
    },
    {
     "name": "stdout",
     "output_type": "stream",
     "text": [
      " (0:00:01)\n"
     ]
    },
    {
     "name": "stderr",
     "output_type": "stream",
     "text": [
      "/nfs/team298/ab72/miniconda3/envs/multiome/lib/python3.10/site-packages/anndata/_core/anndata.py:1899: UserWarning: Variable names are not unique. To make them unique, call `.var_names_make_unique`.\n",
      "  utils.warn_names_duplicates(\"var\")\n"
     ]
    },
    {
     "name": "stdout",
     "output_type": "stream",
     "text": [
      "reading /nfs/cellgeni/pasham/projects/2211.adult.skin/data.nfs/singlecell/reynolds.reprocessing/starsolo/cellbender/SKN8090579/cellbender_out_filtered.h5\n",
      " (0:00:01)\n",
      "reading /nfs/cellgeni/pasham/projects/2211.adult.skin/data.nfs/singlecell/reynolds.reprocessing/starsolo/cellbender/SKN8090580/cellbender_out_filtered.h5\n"
     ]
    },
    {
     "name": "stderr",
     "output_type": "stream",
     "text": [
      "/nfs/team298/ab72/miniconda3/envs/multiome/lib/python3.10/site-packages/anndata/_core/anndata.py:1899: UserWarning: Variable names are not unique. To make them unique, call `.var_names_make_unique`.\n",
      "  utils.warn_names_duplicates(\"var\")\n"
     ]
    },
    {
     "name": "stdout",
     "output_type": "stream",
     "text": [
      " (0:00:00)\n",
      "reading /nfs/cellgeni/pasham/projects/2211.adult.skin/data.nfs/singlecell/reynolds.reprocessing/starsolo/cellbender/SKN8090581/cellbender_out_filtered.h5\n"
     ]
    },
    {
     "name": "stderr",
     "output_type": "stream",
     "text": [
      "/nfs/team298/ab72/miniconda3/envs/multiome/lib/python3.10/site-packages/anndata/_core/anndata.py:1899: UserWarning: Variable names are not unique. To make them unique, call `.var_names_make_unique`.\n",
      "  utils.warn_names_duplicates(\"var\")\n"
     ]
    },
    {
     "name": "stdout",
     "output_type": "stream",
     "text": [
      " (0:00:01)\n",
      "reading /nfs/cellgeni/pasham/projects/2211.adult.skin/data.nfs/singlecell/reynolds.reprocessing/starsolo/cellbender/SKN8090582/cellbender_out_filtered.h5\n"
     ]
    },
    {
     "name": "stderr",
     "output_type": "stream",
     "text": [
      "/nfs/team298/ab72/miniconda3/envs/multiome/lib/python3.10/site-packages/anndata/_core/anndata.py:1899: UserWarning: Variable names are not unique. To make them unique, call `.var_names_make_unique`.\n",
      "  utils.warn_names_duplicates(\"var\")\n"
     ]
    },
    {
     "name": "stdout",
     "output_type": "stream",
     "text": [
      " (0:00:01)\n",
      "reading /nfs/cellgeni/pasham/projects/2211.adult.skin/data.nfs/singlecell/reynolds.reprocessing/starsolo/cellbender/SKN8090583/cellbender_out_filtered.h5\n"
     ]
    },
    {
     "name": "stderr",
     "output_type": "stream",
     "text": [
      "/nfs/team298/ab72/miniconda3/envs/multiome/lib/python3.10/site-packages/anndata/_core/anndata.py:1899: UserWarning: Variable names are not unique. To make them unique, call `.var_names_make_unique`.\n",
      "  utils.warn_names_duplicates(\"var\")\n"
     ]
    },
    {
     "name": "stdout",
     "output_type": "stream",
     "text": [
      " (0:00:01)\n",
      "reading /nfs/cellgeni/pasham/projects/2211.adult.skin/data.nfs/singlecell/reynolds.reprocessing/starsolo/cellbender/SKN8090588/cellbender_out_filtered.h5\n"
     ]
    },
    {
     "name": "stderr",
     "output_type": "stream",
     "text": [
      "/nfs/team298/ab72/miniconda3/envs/multiome/lib/python3.10/site-packages/anndata/_core/anndata.py:1899: UserWarning: Variable names are not unique. To make them unique, call `.var_names_make_unique`.\n",
      "  utils.warn_names_duplicates(\"var\")\n"
     ]
    },
    {
     "name": "stdout",
     "output_type": "stream",
     "text": [
      " (0:00:02)\n",
      "reading /nfs/cellgeni/pasham/projects/2211.adult.skin/data.nfs/singlecell/reynolds.reprocessing/starsolo/cellbender/SKN8090589/cellbender_out_filtered.h5\n"
     ]
    },
    {
     "name": "stderr",
     "output_type": "stream",
     "text": [
      "/nfs/team298/ab72/miniconda3/envs/multiome/lib/python3.10/site-packages/anndata/_core/anndata.py:1899: UserWarning: Variable names are not unique. To make them unique, call `.var_names_make_unique`.\n",
      "  utils.warn_names_duplicates(\"var\")\n"
     ]
    },
    {
     "name": "stdout",
     "output_type": "stream",
     "text": [
      " (0:00:01)\n",
      "reading /nfs/cellgeni/pasham/projects/2211.adult.skin/data.nfs/singlecell/reynolds.reprocessing/starsolo/cellbender/SKN8090590/cellbender_out_filtered.h5\n"
     ]
    },
    {
     "name": "stderr",
     "output_type": "stream",
     "text": [
      "/nfs/team298/ab72/miniconda3/envs/multiome/lib/python3.10/site-packages/anndata/_core/anndata.py:1899: UserWarning: Variable names are not unique. To make them unique, call `.var_names_make_unique`.\n",
      "  utils.warn_names_duplicates(\"var\")\n"
     ]
    },
    {
     "name": "stdout",
     "output_type": "stream",
     "text": [
      " (0:00:00)\n",
      "reading /nfs/cellgeni/pasham/projects/2211.adult.skin/data.nfs/singlecell/reynolds.reprocessing/starsolo/cellbender/SKN8090591/cellbender_out_filtered.h5\n"
     ]
    },
    {
     "name": "stderr",
     "output_type": "stream",
     "text": [
      "/nfs/team298/ab72/miniconda3/envs/multiome/lib/python3.10/site-packages/anndata/_core/anndata.py:1899: UserWarning: Variable names are not unique. To make them unique, call `.var_names_make_unique`.\n",
      "  utils.warn_names_duplicates(\"var\")\n"
     ]
    },
    {
     "name": "stdout",
     "output_type": "stream",
     "text": [
      " (0:00:01)\n",
      "reading /nfs/cellgeni/pasham/projects/2211.adult.skin/data.nfs/singlecell/reynolds.reprocessing/starsolo/cellbender/SKN8090592/cellbender_out_filtered.h5\n"
     ]
    },
    {
     "name": "stderr",
     "output_type": "stream",
     "text": [
      "/nfs/team298/ab72/miniconda3/envs/multiome/lib/python3.10/site-packages/anndata/_core/anndata.py:1899: UserWarning: Variable names are not unique. To make them unique, call `.var_names_make_unique`.\n",
      "  utils.warn_names_duplicates(\"var\")\n"
     ]
    },
    {
     "name": "stdout",
     "output_type": "stream",
     "text": [
      " (0:00:01)\n",
      "reading /nfs/cellgeni/pasham/projects/2211.adult.skin/data.nfs/singlecell/reynolds.reprocessing/starsolo/cellbender/SKN8090594/cellbender_out_filtered.h5\n"
     ]
    },
    {
     "name": "stderr",
     "output_type": "stream",
     "text": [
      "/nfs/team298/ab72/miniconda3/envs/multiome/lib/python3.10/site-packages/anndata/_core/anndata.py:1899: UserWarning: Variable names are not unique. To make them unique, call `.var_names_make_unique`.\n",
      "  utils.warn_names_duplicates(\"var\")\n"
     ]
    },
    {
     "name": "stdout",
     "output_type": "stream",
     "text": [
      " (0:00:00)\n",
      "reading /nfs/cellgeni/pasham/projects/2211.adult.skin/data.nfs/singlecell/reynolds.reprocessing/starsolo/cellbender/SKN8090595/cellbender_out_filtered.h5\n"
     ]
    },
    {
     "name": "stderr",
     "output_type": "stream",
     "text": [
      "/nfs/team298/ab72/miniconda3/envs/multiome/lib/python3.10/site-packages/anndata/_core/anndata.py:1899: UserWarning: Variable names are not unique. To make them unique, call `.var_names_make_unique`.\n",
      "  utils.warn_names_duplicates(\"var\")\n"
     ]
    },
    {
     "name": "stdout",
     "output_type": "stream",
     "text": [
      " (0:00:02)\n",
      "reading /nfs/cellgeni/pasham/projects/2211.adult.skin/data.nfs/singlecell/reynolds.reprocessing/starsolo/cellbender/SKN8090600/cellbender_out_filtered.h5\n"
     ]
    },
    {
     "name": "stderr",
     "output_type": "stream",
     "text": [
      "/nfs/team298/ab72/miniconda3/envs/multiome/lib/python3.10/site-packages/anndata/_core/anndata.py:1899: UserWarning: Variable names are not unique. To make them unique, call `.var_names_make_unique`.\n",
      "  utils.warn_names_duplicates(\"var\")\n"
     ]
    },
    {
     "name": "stdout",
     "output_type": "stream",
     "text": [
      " (0:00:00)\n",
      "reading /nfs/cellgeni/pasham/projects/2211.adult.skin/data.nfs/singlecell/reynolds.reprocessing/starsolo/cellbender/SKN8090601/cellbender_out_filtered.h5\n"
     ]
    },
    {
     "name": "stderr",
     "output_type": "stream",
     "text": [
      "/nfs/team298/ab72/miniconda3/envs/multiome/lib/python3.10/site-packages/anndata/_core/anndata.py:1899: UserWarning: Variable names are not unique. To make them unique, call `.var_names_make_unique`.\n",
      "  utils.warn_names_duplicates(\"var\")\n"
     ]
    },
    {
     "name": "stdout",
     "output_type": "stream",
     "text": [
      " (0:00:02)\n",
      "reading /nfs/cellgeni/pasham/projects/2211.adult.skin/data.nfs/singlecell/reynolds.reprocessing/starsolo/cellbender/SKN8090602/cellbender_out_filtered.h5\n"
     ]
    },
    {
     "name": "stderr",
     "output_type": "stream",
     "text": [
      "/nfs/team298/ab72/miniconda3/envs/multiome/lib/python3.10/site-packages/anndata/_core/anndata.py:1899: UserWarning: Variable names are not unique. To make them unique, call `.var_names_make_unique`.\n",
      "  utils.warn_names_duplicates(\"var\")\n"
     ]
    },
    {
     "name": "stdout",
     "output_type": "stream",
     "text": [
      " (0:00:00)\n",
      "reading /nfs/cellgeni/pasham/projects/2211.adult.skin/data.nfs/singlecell/reynolds.reprocessing/starsolo/cellbender/SKN8090603/cellbender_out_filtered.h5\n"
     ]
    },
    {
     "name": "stderr",
     "output_type": "stream",
     "text": [
      "/nfs/team298/ab72/miniconda3/envs/multiome/lib/python3.10/site-packages/anndata/_core/anndata.py:1899: UserWarning: Variable names are not unique. To make them unique, call `.var_names_make_unique`.\n",
      "  utils.warn_names_duplicates(\"var\")\n"
     ]
    },
    {
     "name": "stdout",
     "output_type": "stream",
     "text": [
      " (0:00:01)\n",
      "reading /nfs/cellgeni/pasham/projects/2211.adult.skin/data.nfs/singlecell/reynolds.reprocessing/starsolo/cellbender/SKN8090604/cellbender_out_filtered.h5\n"
     ]
    },
    {
     "name": "stderr",
     "output_type": "stream",
     "text": [
      "/nfs/team298/ab72/miniconda3/envs/multiome/lib/python3.10/site-packages/anndata/_core/anndata.py:1899: UserWarning: Variable names are not unique. To make them unique, call `.var_names_make_unique`.\n",
      "  utils.warn_names_duplicates(\"var\")\n"
     ]
    },
    {
     "name": "stdout",
     "output_type": "stream",
     "text": [
      " (0:00:02)\n",
      "reading /nfs/cellgeni/pasham/projects/2211.adult.skin/data.nfs/singlecell/reynolds.reprocessing/starsolo/cellbender/SKN8090605/cellbender_out_filtered.h5\n"
     ]
    },
    {
     "name": "stderr",
     "output_type": "stream",
     "text": [
      "/nfs/team298/ab72/miniconda3/envs/multiome/lib/python3.10/site-packages/anndata/_core/anndata.py:1899: UserWarning: Variable names are not unique. To make them unique, call `.var_names_make_unique`.\n",
      "  utils.warn_names_duplicates(\"var\")\n"
     ]
    },
    {
     "name": "stdout",
     "output_type": "stream",
     "text": [
      " (0:00:01)\n",
      "reading /nfs/cellgeni/pasham/projects/2211.adult.skin/data.nfs/singlecell/reynolds.reprocessing/starsolo/cellbender/SKN8090606/cellbender_out_filtered.h5\n"
     ]
    },
    {
     "name": "stderr",
     "output_type": "stream",
     "text": [
      "/nfs/team298/ab72/miniconda3/envs/multiome/lib/python3.10/site-packages/anndata/_core/anndata.py:1899: UserWarning: Variable names are not unique. To make them unique, call `.var_names_make_unique`.\n",
      "  utils.warn_names_duplicates(\"var\")\n"
     ]
    },
    {
     "name": "stdout",
     "output_type": "stream",
     "text": [
      " (0:00:01)\n",
      "reading /nfs/cellgeni/pasham/projects/2211.adult.skin/data.nfs/singlecell/reynolds.reprocessing/starsolo/cellbender/SKN8090607/cellbender_out_filtered.h5\n"
     ]
    },
    {
     "name": "stderr",
     "output_type": "stream",
     "text": [
      "/nfs/team298/ab72/miniconda3/envs/multiome/lib/python3.10/site-packages/anndata/_core/anndata.py:1899: UserWarning: Variable names are not unique. To make them unique, call `.var_names_make_unique`.\n",
      "  utils.warn_names_duplicates(\"var\")\n"
     ]
    },
    {
     "name": "stdout",
     "output_type": "stream",
     "text": [
      " (0:00:01)\n",
      "reading /nfs/cellgeni/pasham/projects/2211.adult.skin/data.nfs/singlecell/reynolds.reprocessing/starsolo/cellbender/SKN8104894/cellbender_out_filtered.h5\n"
     ]
    },
    {
     "name": "stderr",
     "output_type": "stream",
     "text": [
      "/nfs/team298/ab72/miniconda3/envs/multiome/lib/python3.10/site-packages/anndata/_core/anndata.py:1899: UserWarning: Variable names are not unique. To make them unique, call `.var_names_make_unique`.\n",
      "  utils.warn_names_duplicates(\"var\")\n"
     ]
    },
    {
     "name": "stdout",
     "output_type": "stream",
     "text": [
      " (0:00:00)\n",
      "reading /nfs/cellgeni/pasham/projects/2211.adult.skin/data.nfs/singlecell/reynolds.reprocessing/starsolo/cellbender/SKN8104895/cellbender_out_filtered.h5\n"
     ]
    },
    {
     "name": "stderr",
     "output_type": "stream",
     "text": [
      "/nfs/team298/ab72/miniconda3/envs/multiome/lib/python3.10/site-packages/anndata/_core/anndata.py:1899: UserWarning: Variable names are not unique. To make them unique, call `.var_names_make_unique`.\n",
      "  utils.warn_names_duplicates(\"var\")\n"
     ]
    },
    {
     "name": "stdout",
     "output_type": "stream",
     "text": [
      " (0:00:00)\n",
      "reading /nfs/cellgeni/pasham/projects/2211.adult.skin/data.nfs/singlecell/reynolds.reprocessing/starsolo/cellbender/SKN8104896/cellbender_out_filtered.h5\n"
     ]
    },
    {
     "name": "stderr",
     "output_type": "stream",
     "text": [
      "/nfs/team298/ab72/miniconda3/envs/multiome/lib/python3.10/site-packages/anndata/_core/anndata.py:1899: UserWarning: Variable names are not unique. To make them unique, call `.var_names_make_unique`.\n",
      "  utils.warn_names_duplicates(\"var\")\n"
     ]
    },
    {
     "name": "stdout",
     "output_type": "stream",
     "text": [
      " (0:00:00)\n",
      "reading /nfs/cellgeni/pasham/projects/2211.adult.skin/data.nfs/singlecell/reynolds.reprocessing/starsolo/cellbender/SKN8104897/cellbender_out_filtered.h5\n"
     ]
    },
    {
     "name": "stderr",
     "output_type": "stream",
     "text": [
      "/nfs/team298/ab72/miniconda3/envs/multiome/lib/python3.10/site-packages/anndata/_core/anndata.py:1899: UserWarning: Variable names are not unique. To make them unique, call `.var_names_make_unique`.\n",
      "  utils.warn_names_duplicates(\"var\")\n"
     ]
    },
    {
     "name": "stdout",
     "output_type": "stream",
     "text": [
      " (0:00:00)\n",
      "reading /nfs/cellgeni/pasham/projects/2211.adult.skin/data.nfs/singlecell/reynolds.reprocessing/starsolo/cellbender/SKN8104899/cellbender_out_filtered.h5\n"
     ]
    },
    {
     "name": "stderr",
     "output_type": "stream",
     "text": [
      "/nfs/team298/ab72/miniconda3/envs/multiome/lib/python3.10/site-packages/anndata/_core/anndata.py:1899: UserWarning: Variable names are not unique. To make them unique, call `.var_names_make_unique`.\n",
      "  utils.warn_names_duplicates(\"var\")\n"
     ]
    },
    {
     "name": "stdout",
     "output_type": "stream",
     "text": [
      " (0:00:00)\n",
      "reading /nfs/cellgeni/pasham/projects/2211.adult.skin/data.nfs/singlecell/reynolds.reprocessing/starsolo/cellbender/SKN8104900/cellbender_out_filtered.h5\n"
     ]
    },
    {
     "name": "stderr",
     "output_type": "stream",
     "text": [
      "/nfs/team298/ab72/miniconda3/envs/multiome/lib/python3.10/site-packages/anndata/_core/anndata.py:1899: UserWarning: Variable names are not unique. To make them unique, call `.var_names_make_unique`.\n",
      "  utils.warn_names_duplicates(\"var\")\n"
     ]
    },
    {
     "name": "stdout",
     "output_type": "stream",
     "text": [
      " (0:00:00)\n",
      "reading /nfs/cellgeni/pasham/projects/2211.adult.skin/data.nfs/singlecell/reynolds.reprocessing/starsolo/cellbender/SKN8104901/cellbender_out_filtered.h5\n"
     ]
    },
    {
     "name": "stderr",
     "output_type": "stream",
     "text": [
      "/nfs/team298/ab72/miniconda3/envs/multiome/lib/python3.10/site-packages/anndata/_core/anndata.py:1899: UserWarning: Variable names are not unique. To make them unique, call `.var_names_make_unique`.\n",
      "  utils.warn_names_duplicates(\"var\")\n"
     ]
    },
    {
     "name": "stdout",
     "output_type": "stream",
     "text": [
      " (0:00:00)\n",
      "reading /nfs/cellgeni/pasham/projects/2211.adult.skin/data.nfs/singlecell/reynolds.reprocessing/starsolo/cellbender/SKN8104902/cellbender_out_filtered.h5\n"
     ]
    },
    {
     "name": "stderr",
     "output_type": "stream",
     "text": [
      "/nfs/team298/ab72/miniconda3/envs/multiome/lib/python3.10/site-packages/anndata/_core/anndata.py:1899: UserWarning: Variable names are not unique. To make them unique, call `.var_names_make_unique`.\n",
      "  utils.warn_names_duplicates(\"var\")\n"
     ]
    },
    {
     "name": "stdout",
     "output_type": "stream",
     "text": [
      " (0:00:00)\n",
      "reading /nfs/cellgeni/pasham/projects/2211.adult.skin/data.nfs/singlecell/reynolds.reprocessing/starsolo/cellbender/SKN8105192/cellbender_out_filtered.h5\n"
     ]
    },
    {
     "name": "stderr",
     "output_type": "stream",
     "text": [
      "/nfs/team298/ab72/miniconda3/envs/multiome/lib/python3.10/site-packages/anndata/_core/anndata.py:1899: UserWarning: Variable names are not unique. To make them unique, call `.var_names_make_unique`.\n",
      "  utils.warn_names_duplicates(\"var\")\n"
     ]
    },
    {
     "name": "stdout",
     "output_type": "stream",
     "text": [
      " (0:00:00)\n",
      "reading /nfs/cellgeni/pasham/projects/2211.adult.skin/data.nfs/singlecell/reynolds.reprocessing/starsolo/cellbender/SKN8105193/cellbender_out_filtered.h5\n"
     ]
    },
    {
     "name": "stderr",
     "output_type": "stream",
     "text": [
      "/nfs/team298/ab72/miniconda3/envs/multiome/lib/python3.10/site-packages/anndata/_core/anndata.py:1899: UserWarning: Variable names are not unique. To make them unique, call `.var_names_make_unique`.\n",
      "  utils.warn_names_duplicates(\"var\")\n"
     ]
    },
    {
     "name": "stdout",
     "output_type": "stream",
     "text": [
      " (0:00:00)\n",
      "reading /nfs/cellgeni/pasham/projects/2211.adult.skin/data.nfs/singlecell/reynolds.reprocessing/starsolo/cellbender/SKN8105194/cellbender_out_filtered.h5\n"
     ]
    },
    {
     "name": "stderr",
     "output_type": "stream",
     "text": [
      "/nfs/team298/ab72/miniconda3/envs/multiome/lib/python3.10/site-packages/anndata/_core/anndata.py:1899: UserWarning: Variable names are not unique. To make them unique, call `.var_names_make_unique`.\n",
      "  utils.warn_names_duplicates(\"var\")\n"
     ]
    },
    {
     "name": "stdout",
     "output_type": "stream",
     "text": [
      " (0:00:00)\n",
      "reading /nfs/cellgeni/pasham/projects/2211.adult.skin/data.nfs/singlecell/reynolds.reprocessing/starsolo/cellbender/SKN8105195/cellbender_out_filtered.h5\n"
     ]
    },
    {
     "name": "stderr",
     "output_type": "stream",
     "text": [
      "/nfs/team298/ab72/miniconda3/envs/multiome/lib/python3.10/site-packages/anndata/_core/anndata.py:1899: UserWarning: Variable names are not unique. To make them unique, call `.var_names_make_unique`.\n",
      "  utils.warn_names_duplicates(\"var\")\n"
     ]
    },
    {
     "name": "stdout",
     "output_type": "stream",
     "text": [
      " (0:00:00)\n",
      "reading /nfs/cellgeni/pasham/projects/2211.adult.skin/data.nfs/singlecell/reynolds.reprocessing/starsolo/cellbender/SKN8105197/cellbender_out_filtered.h5\n"
     ]
    },
    {
     "name": "stderr",
     "output_type": "stream",
     "text": [
      "/nfs/team298/ab72/miniconda3/envs/multiome/lib/python3.10/site-packages/anndata/_core/anndata.py:1899: UserWarning: Variable names are not unique. To make them unique, call `.var_names_make_unique`.\n",
      "  utils.warn_names_duplicates(\"var\")\n"
     ]
    },
    {
     "name": "stdout",
     "output_type": "stream",
     "text": [
      " (0:00:00)\n",
      "reading /nfs/cellgeni/pasham/projects/2211.adult.skin/data.nfs/singlecell/reynolds.reprocessing/starsolo/cellbender/SKN8105198/cellbender_out_filtered.h5\n"
     ]
    },
    {
     "name": "stderr",
     "output_type": "stream",
     "text": [
      "/nfs/team298/ab72/miniconda3/envs/multiome/lib/python3.10/site-packages/anndata/_core/anndata.py:1899: UserWarning: Variable names are not unique. To make them unique, call `.var_names_make_unique`.\n",
      "  utils.warn_names_duplicates(\"var\")\n"
     ]
    },
    {
     "name": "stdout",
     "output_type": "stream",
     "text": [
      " (0:00:00)\n",
      "reading /nfs/cellgeni/pasham/projects/2211.adult.skin/data.nfs/singlecell/reynolds.reprocessing/starsolo/cellbender/SKN8105199/cellbender_out_filtered.h5\n"
     ]
    },
    {
     "name": "stderr",
     "output_type": "stream",
     "text": [
      "/nfs/team298/ab72/miniconda3/envs/multiome/lib/python3.10/site-packages/anndata/_core/anndata.py:1899: UserWarning: Variable names are not unique. To make them unique, call `.var_names_make_unique`.\n",
      "  utils.warn_names_duplicates(\"var\")\n"
     ]
    },
    {
     "name": "stdout",
     "output_type": "stream",
     "text": [
      " (0:00:00)\n",
      "reading /nfs/cellgeni/pasham/projects/2211.adult.skin/data.nfs/singlecell/reynolds.reprocessing/starsolo/cellbender/SKN8105200/cellbender_out_filtered.h5\n"
     ]
    },
    {
     "name": "stderr",
     "output_type": "stream",
     "text": [
      "/nfs/team298/ab72/miniconda3/envs/multiome/lib/python3.10/site-packages/anndata/_core/anndata.py:1899: UserWarning: Variable names are not unique. To make them unique, call `.var_names_make_unique`.\n",
      "  utils.warn_names_duplicates(\"var\")\n"
     ]
    },
    {
     "name": "stdout",
     "output_type": "stream",
     "text": [
      " (0:00:00)\n"
     ]
    },
    {
     "name": "stderr",
     "output_type": "stream",
     "text": [
      "/nfs/team298/ab72/miniconda3/envs/multiome/lib/python3.10/site-packages/anndata/_core/anndata.py:1899: UserWarning: Variable names are not unique. To make them unique, call `.var_names_make_unique`.\n",
      "  utils.warn_names_duplicates(\"var\")\n",
      "/tmp/ipykernel_411959/2305451509.py:24: FutureWarning: Use anndata.concat instead of AnnData.concatenate, AnnData.concatenate is deprecated and will be removed in the future. See the tutorial for concat at: https://anndata.readthedocs.io/en/latest/concatenation.html\n",
      "  concatenated_adata = adata_list[0].concatenate(adata_list[1:])\n"
     ]
    }
   ],
   "source": [
    "# Initialize a list to store Adata objects\n",
    "adata_list = []\n",
    "\n",
    "# Iterate over each row in the DataFrame\n",
    "for index, row in sample_filt.iterrows():\n",
    "    # Read Adata file\n",
    "    adata = sc.read_10x_h5(row['path'])\n",
    "\n",
    "    # add sample_type and donor\n",
    "    adata.obs['sample_type'] = row['Sample_type']\n",
    "    adata.obs['Donor'] = row['Donor']\n",
    "    adata.obs['Sanger_ID'] = row['irods/farm']\n",
    "    adata.obs['tissue'] = row['Tissue']\n",
    "    adata.obs['site'] = row['Site']\n",
    "    adata.obs['Sex'] = row['Sex']\n",
    "    \n",
    "    adata.obs_names_make_unique()\n",
    "    adata.var_names_make_unique()\n",
    "    \n",
    "    # Append the Adata object to the list\n",
    "    adata_list.append(adata)\n",
    "\n",
    "# Concatenate all Adata objects\n",
    "concatenated_adata = adata_list[0].concatenate(adata_list[1:])\n"
   ]
  },
  {
   "cell_type": "code",
   "execution_count": 28,
   "id": "1bc7243c-a763-4686-a6e1-274c85c691d5",
   "metadata": {
    "tags": []
   },
   "outputs": [
    {
     "data": {
      "text/plain": [
       "AnnData object with n_obs × n_vars = 647026 × 36601\n",
       "    obs: 'sample_type', 'Donor', 'Sanger_ID', 'tissue', 'site', 'Sex', 'batch'\n",
       "    var: 'gene_ids'"
      ]
     },
     "execution_count": 28,
     "metadata": {},
     "output_type": "execute_result"
    }
   ],
   "source": [
    "concatenated_adata"
   ]
  },
  {
   "cell_type": "code",
   "execution_count": 29,
   "id": "85f0b8ae-9083-4f3a-add8-f6551df7962f",
   "metadata": {
    "tags": []
   },
   "outputs": [],
   "source": [
    "concatenated_adata.write_h5ad('/lustre/scratch126/cellgen/team298/ab72/CTCL/Skin_atlas_cellbender_raw_by_pasha_17_5.h5ad')"
   ]
  },
  {
   "cell_type": "code",
   "execution_count": 3,
   "id": "8c6feff4-977d-484b-999b-bf1354b311a6",
   "metadata": {
    "tags": []
   },
   "outputs": [],
   "source": [
    "adata=sc.read('/lustre/scratch126/cellgen/team298/ab72/CTCL/Skin_atlas_cellbender_raw_by_pasha_17_5.h5ad')"
   ]
  },
  {
   "cell_type": "code",
   "execution_count": 30,
   "id": "c9973f29-e763-4f1d-833b-23751750a2c4",
   "metadata": {
    "tags": []
   },
   "outputs": [],
   "source": [
    "adata=concatenated_adata.copy()"
   ]
  },
  {
   "cell_type": "code",
   "execution_count": 4,
   "id": "179b8738-f991-44d4-885d-094b3c7d1495",
   "metadata": {
    "tags": []
   },
   "outputs": [
    {
     "data": {
      "text/plain": [
       "AnnData object with n_obs × n_vars = 647026 × 36601\n",
       "    obs: 'sample_type', 'Donor', 'Sanger_ID', 'tissue', 'site', 'Sex', 'batch'\n",
       "    var: 'gene_ids'"
      ]
     },
     "execution_count": 4,
     "metadata": {},
     "output_type": "execute_result"
    }
   ],
   "source": [
    "adata"
   ]
  },
  {
   "cell_type": "code",
   "execution_count": 5,
   "id": "c683050f-f658-455a-93b8-5f65cd34ce21",
   "metadata": {
    "tags": []
   },
   "outputs": [],
   "source": [
    "adata.obs['n_counts'] = adata.X.sum(axis=1).A1"
   ]
  },
  {
   "cell_type": "code",
   "execution_count": 6,
   "id": "8cb46d15-5099-49b7-9098-06f6e74f68d3",
   "metadata": {
    "tags": []
   },
   "outputs": [],
   "source": [
    "adata = adata[adata.obs['n_counts'] > 1, :]"
   ]
  },
  {
   "cell_type": "code",
   "execution_count": 36,
   "id": "0edc4660-495a-4467-90a0-9bfd93084bdb",
   "metadata": {
    "tags": []
   },
   "outputs": [
    {
     "data": {
      "text/plain": [
       "View of AnnData object with n_obs × n_vars = 646559 × 36601\n",
       "    obs: 'sample_type', 'Donor', 'Sanger_ID', 'tissue', 'site', 'Sex', 'batch', 'n_counts'\n",
       "    var: 'gene_ids'"
      ]
     },
     "execution_count": 36,
     "metadata": {},
     "output_type": "execute_result"
    }
   ],
   "source": [
    "adata"
   ]
  },
  {
   "cell_type": "raw",
   "id": "bb937f93-8396-4266-9997-4dcc75fe534b",
   "metadata": {},
   "source": [
    "Doublet detection"
   ]
  },
  {
   "cell_type": "code",
   "execution_count": 32,
   "id": "85bf5d7b-680a-47f4-9b9c-18c242550a2c",
   "metadata": {
    "tags": []
   },
   "outputs": [
    {
     "data": {
      "text/html": [
       "<div>\n",
       "<style scoped>\n",
       "    .dataframe tbody tr th:only-of-type {\n",
       "        vertical-align: middle;\n",
       "    }\n",
       "\n",
       "    .dataframe tbody tr th {\n",
       "        vertical-align: top;\n",
       "    }\n",
       "\n",
       "    .dataframe thead th {\n",
       "        text-align: right;\n",
       "    }\n",
       "</style>\n",
       "<table border=\"1\" class=\"dataframe\">\n",
       "  <thead>\n",
       "    <tr style=\"text-align: right;\">\n",
       "      <th></th>\n",
       "      <th>sample_type</th>\n",
       "      <th>Donor</th>\n",
       "      <th>Sanger_ID</th>\n",
       "      <th>batch</th>\n",
       "      <th>n_counts</th>\n",
       "    </tr>\n",
       "  </thead>\n",
       "  <tbody>\n",
       "    <tr>\n",
       "      <th>CACCACTAGCCCTAAT-0</th>\n",
       "      <td>healthy_skin</td>\n",
       "      <td>s1</td>\n",
       "      <td>4820STDY7388991</td>\n",
       "      <td>0</td>\n",
       "      <td>46398</td>\n",
       "    </tr>\n",
       "    <tr>\n",
       "      <th>TGCTACCAGCGCCTCA-0</th>\n",
       "      <td>healthy_skin</td>\n",
       "      <td>s1</td>\n",
       "      <td>4820STDY7388991</td>\n",
       "      <td>0</td>\n",
       "      <td>45420</td>\n",
       "    </tr>\n",
       "    <tr>\n",
       "      <th>AATCCAGAGGTGATAT-0</th>\n",
       "      <td>healthy_skin</td>\n",
       "      <td>s1</td>\n",
       "      <td>4820STDY7388991</td>\n",
       "      <td>0</td>\n",
       "      <td>44099</td>\n",
       "    </tr>\n",
       "    <tr>\n",
       "      <th>CAACCAAGTGCAGACA-0</th>\n",
       "      <td>healthy_skin</td>\n",
       "      <td>s1</td>\n",
       "      <td>4820STDY7388991</td>\n",
       "      <td>0</td>\n",
       "      <td>39982</td>\n",
       "    </tr>\n",
       "    <tr>\n",
       "      <th>GGGCATCCAGATGGCA-0</th>\n",
       "      <td>healthy_skin</td>\n",
       "      <td>s1</td>\n",
       "      <td>4820STDY7388991</td>\n",
       "      <td>0</td>\n",
       "      <td>39492</td>\n",
       "    </tr>\n",
       "    <tr>\n",
       "      <th>...</th>\n",
       "      <td>...</td>\n",
       "      <td>...</td>\n",
       "      <td>...</td>\n",
       "      <td>...</td>\n",
       "      <td>...</td>\n",
       "    </tr>\n",
       "    <tr>\n",
       "      <th>CTGATCCTCCGATATG-209</th>\n",
       "      <td>healthy_skin</td>\n",
       "      <td>S5</td>\n",
       "      <td>SKN8105200</td>\n",
       "      <td>209</td>\n",
       "      <td>114</td>\n",
       "    </tr>\n",
       "    <tr>\n",
       "      <th>TGCTACCCATCTATGG-209</th>\n",
       "      <td>healthy_skin</td>\n",
       "      <td>S5</td>\n",
       "      <td>SKN8105200</td>\n",
       "      <td>209</td>\n",
       "      <td>104</td>\n",
       "    </tr>\n",
       "    <tr>\n",
       "      <th>AGCCTAAGTTTGTTTC-209</th>\n",
       "      <td>healthy_skin</td>\n",
       "      <td>S5</td>\n",
       "      <td>SKN8105200</td>\n",
       "      <td>209</td>\n",
       "      <td>37</td>\n",
       "    </tr>\n",
       "    <tr>\n",
       "      <th>TAAGAGAGTATAATGG-209</th>\n",
       "      <td>healthy_skin</td>\n",
       "      <td>S5</td>\n",
       "      <td>SKN8105200</td>\n",
       "      <td>209</td>\n",
       "      <td>106</td>\n",
       "    </tr>\n",
       "    <tr>\n",
       "      <th>AGCTCCTTCCCTCTTT-209</th>\n",
       "      <td>healthy_skin</td>\n",
       "      <td>S5</td>\n",
       "      <td>SKN8105200</td>\n",
       "      <td>209</td>\n",
       "      <td>108</td>\n",
       "    </tr>\n",
       "  </tbody>\n",
       "</table>\n",
       "<p>1448643 rows × 5 columns</p>\n",
       "</div>"
      ],
      "text/plain": [
       "                       sample_type Donor        Sanger_ID batch  n_counts\n",
       "CACCACTAGCCCTAAT-0    healthy_skin    s1  4820STDY7388991     0     46398\n",
       "TGCTACCAGCGCCTCA-0    healthy_skin    s1  4820STDY7388991     0     45420\n",
       "AATCCAGAGGTGATAT-0    healthy_skin    s1  4820STDY7388991     0     44099\n",
       "CAACCAAGTGCAGACA-0    healthy_skin    s1  4820STDY7388991     0     39982\n",
       "GGGCATCCAGATGGCA-0    healthy_skin    s1  4820STDY7388991     0     39492\n",
       "...                            ...   ...              ...   ...       ...\n",
       "CTGATCCTCCGATATG-209  healthy_skin    S5       SKN8105200   209       114\n",
       "TGCTACCCATCTATGG-209  healthy_skin    S5       SKN8105200   209       104\n",
       "AGCCTAAGTTTGTTTC-209  healthy_skin    S5       SKN8105200   209        37\n",
       "TAAGAGAGTATAATGG-209  healthy_skin    S5       SKN8105200   209       106\n",
       "AGCTCCTTCCCTCTTT-209  healthy_skin    S5       SKN8105200   209       108\n",
       "\n",
       "[1448643 rows x 5 columns]"
      ]
     },
     "execution_count": 32,
     "metadata": {},
     "output_type": "execute_result"
    }
   ],
   "source": [
    "adata.obs"
   ]
  },
  {
   "cell_type": "code",
   "execution_count": 33,
   "id": "75ced8e8-6e7b-4e14-90fa-f02b8546d22f",
   "metadata": {
    "tags": []
   },
   "outputs": [
    {
     "name": "stderr",
     "output_type": "stream",
     "text": [
      "/tmp/ipykernel_2512789/2340965974.py:1: ImplicitModificationWarning: Trying to modify attribute `.obs` of view, initializing view as actual.\n",
      "  adata.obs['Donor']=adata.obs['Donor'].astype(str)\n"
     ]
    }
   ],
   "source": [
    "adata.obs['Donor']=adata.obs['Donor'].astype(str)\n",
    "adata.obs['Sanger_ID']=adata.obs['Sanger_ID'].astype(str)\n",
    "adata.obs['donor_lane']= adata.obs['Donor'] + \"_\" + adata.obs['Sanger_ID']"
   ]
  },
  {
   "cell_type": "code",
   "execution_count": 34,
   "id": "b22d377b-e9f6-413c-b21c-9758e52ab8d2",
   "metadata": {
    "tags": []
   },
   "outputs": [
    {
     "data": {
      "text/plain": [
       "AnnData object with n_obs × n_vars = 1448643 × 36601\n",
       "    obs: 'sample_type', 'Donor', 'Sanger_ID', 'batch', 'n_counts', 'donor_lane'\n",
       "    var: 'gene_ids'"
      ]
     },
     "execution_count": 34,
     "metadata": {},
     "output_type": "execute_result"
    }
   ],
   "source": [
    "adata"
   ]
  },
  {
   "cell_type": "code",
   "execution_count": 7,
   "id": "6fb2add9-9c29-4de3-878a-7acce7cbbe16",
   "metadata": {
    "collapsed": true,
    "jupyter": {
     "outputs_hidden": true
    },
    "tags": []
   },
   "outputs": [
    {
     "name": "stdout",
     "output_type": "stream",
     "text": [
      "4820STDY7388991\n",
      "Preprocessing...\n",
      "Simulating doublets...\n",
      "Embedding transcriptomes using PCA...\n",
      "Calculating doublet scores...\n",
      "Automatically set threshold at doublet score = 0.69\n",
      "Detected doublet rate = 0.1%\n",
      "Estimated detectable doublet fraction = 3.2%\n",
      "Overall doublet rate:\n",
      "\tExpected   = 10.0%\n",
      "\tEstimated  = 4.7%\n",
      "Elapsed time: 9.3 seconds\n",
      "Threshold found by scrublet\n",
      "Detected doublet rate = 2.5%\n",
      "Estimated detectable doublet fraction = 22.9%\n",
      "Overall doublet rate:\n",
      "\tExpected   = 10.0%\n",
      "\tEstimated  = 10.8%\n",
      "\n",
      "\n",
      "4820STDY7388992\n",
      "Preprocessing...\n",
      "Simulating doublets...\n",
      "Embedding transcriptomes using PCA...\n",
      "Calculating doublet scores...\n",
      "Automatically set threshold at doublet score = 0.78\n",
      "Detected doublet rate = 0.0%\n",
      "Estimated detectable doublet fraction = 2.7%\n",
      "Overall doublet rate:\n",
      "\tExpected   = 10.0%\n",
      "\tEstimated  = 1.7%\n",
      "Elapsed time: 29.2 seconds\n",
      "Threshold found by scrublet\n",
      "Detected doublet rate = 0.8%\n",
      "Estimated detectable doublet fraction = 15.0%\n",
      "Overall doublet rate:\n",
      "\tExpected   = 10.0%\n",
      "\tEstimated  = 5.4%\n",
      "\n",
      "\n",
      "4820STDY7388993\n",
      "Preprocessing...\n",
      "Simulating doublets...\n",
      "Embedding transcriptomes using PCA...\n",
      "Calculating doublet scores...\n",
      "Automatically set threshold at doublet score = 0.77\n",
      "Detected doublet rate = 0.0%\n",
      "Estimated detectable doublet fraction = 0.7%\n",
      "Overall doublet rate:\n",
      "\tExpected   = 10.0%\n",
      "\tEstimated  = 1.6%\n",
      "Elapsed time: 24.7 seconds\n",
      "Threshold found by scrublet\n",
      "Detected doublet rate = 0.2%\n",
      "Estimated detectable doublet fraction = 2.7%\n",
      "Overall doublet rate:\n",
      "\tExpected   = 10.0%\n",
      "\tEstimated  = 6.4%\n",
      "\n",
      "\n",
      "4820STDY7388994\n",
      "Preprocessing...\n",
      "Simulating doublets...\n",
      "Embedding transcriptomes using PCA...\n",
      "Calculating doublet scores...\n",
      "Automatically set threshold at doublet score = 0.68\n",
      "Detected doublet rate = 0.0%\n",
      "Estimated detectable doublet fraction = 0.5%\n",
      "Overall doublet rate:\n",
      "\tExpected   = 10.0%\n",
      "\tEstimated  = 0.0%\n",
      "Elapsed time: 18.3 seconds\n",
      "Threshold found by scrublet\n",
      "Detected doublet rate = 0.5%\n",
      "Estimated detectable doublet fraction = 4.2%\n",
      "Overall doublet rate:\n",
      "\tExpected   = 10.0%\n",
      "\tEstimated  = 12.1%\n",
      "\n",
      "\n",
      "4820STDY7388995\n",
      "Preprocessing...\n",
      "Simulating doublets...\n",
      "Embedding transcriptomes using PCA...\n",
      "Calculating doublet scores...\n",
      "Automatically set threshold at doublet score = 0.02\n",
      "Detected doublet rate = 96.8%\n",
      "Estimated detectable doublet fraction = 99.8%\n",
      "Overall doublet rate:\n",
      "\tExpected   = 10.0%\n",
      "\tEstimated  = 97.0%\n",
      "Elapsed time: 83.9 seconds\n",
      "Threshold found by scrublet\n",
      "Detected doublet rate = 0.3%\n",
      "Estimated detectable doublet fraction = 1.6%\n",
      "Overall doublet rate:\n",
      "\tExpected   = 10.0%\n",
      "\tEstimated  = 19.7%\n",
      "\n",
      "\n",
      "4820STDY7388996\n",
      "Preprocessing...\n",
      "Simulating doublets...\n",
      "Embedding transcriptomes using PCA...\n",
      "Calculating doublet scores...\n",
      "Automatically set threshold at doublet score = 0.66\n",
      "Detected doublet rate = 0.0%\n",
      "Estimated detectable doublet fraction = 0.1%\n",
      "Overall doublet rate:\n",
      "\tExpected   = 10.0%\n",
      "\tEstimated  = 0.0%\n",
      "Elapsed time: 49.7 seconds\n",
      "Threshold found by scrublet\n",
      "Detected doublet rate = 1.4%\n",
      "Estimated detectable doublet fraction = 10.1%\n",
      "Overall doublet rate:\n",
      "\tExpected   = 10.0%\n",
      "\tEstimated  = 13.4%\n",
      "\n",
      "\n",
      "4820STDY7388997\n",
      "Preprocessing...\n",
      "Simulating doublets...\n",
      "Embedding transcriptomes using PCA...\n",
      "Calculating doublet scores...\n",
      "Automatically set threshold at doublet score = 0.79\n",
      "Detected doublet rate = 0.0%\n",
      "Estimated detectable doublet fraction = 0.1%\n",
      "Overall doublet rate:\n",
      "\tExpected   = 10.0%\n",
      "\tEstimated  = 0.0%\n",
      "Elapsed time: 28.7 seconds\n",
      "Threshold found by scrublet\n",
      "Detected doublet rate = 0.3%\n",
      "Estimated detectable doublet fraction = 2.8%\n",
      "Overall doublet rate:\n",
      "\tExpected   = 10.0%\n",
      "\tEstimated  = 11.2%\n",
      "\n",
      "\n",
      "4820STDY7388998\n",
      "Preprocessing...\n",
      "Simulating doublets...\n",
      "Embedding transcriptomes using PCA...\n",
      "Calculating doublet scores...\n",
      "Automatically set threshold at doublet score = 0.68\n",
      "Detected doublet rate = 0.1%\n",
      "Estimated detectable doublet fraction = 4.3%\n",
      "Overall doublet rate:\n",
      "\tExpected   = 10.0%\n",
      "\tEstimated  = 3.2%\n",
      "Elapsed time: 24.3 seconds\n",
      "Threshold found by scrublet\n",
      "Detected doublet rate = 0.7%\n",
      "Estimated detectable doublet fraction = 12.0%\n",
      "Overall doublet rate:\n",
      "\tExpected   = 10.0%\n",
      "\tEstimated  = 6.0%\n",
      "\n",
      "\n",
      "4820STDY7388999\n",
      "Preprocessing...\n",
      "Simulating doublets...\n",
      "Embedding transcriptomes using PCA...\n",
      "Calculating doublet scores...\n",
      "Automatically set threshold at doublet score = 0.47\n",
      "Detected doublet rate = 0.6%\n",
      "Estimated detectable doublet fraction = 14.1%\n",
      "Overall doublet rate:\n",
      "\tExpected   = 10.0%\n",
      "\tEstimated  = 4.1%\n",
      "Elapsed time: 12.0 seconds\n",
      "Threshold found by scrublet\n",
      "Detected doublet rate = 1.6%\n",
      "Estimated detectable doublet fraction = 20.0%\n",
      "Overall doublet rate:\n",
      "\tExpected   = 10.0%\n",
      "\tEstimated  = 8.1%\n",
      "\n",
      "\n",
      "4820STDY7389000\n",
      "Preprocessing...\n",
      "Simulating doublets...\n",
      "Embedding transcriptomes using PCA...\n",
      "Calculating doublet scores...\n",
      "Automatically set threshold at doublet score = 0.71\n",
      "Detected doublet rate = 0.1%\n",
      "Estimated detectable doublet fraction = 1.8%\n",
      "Overall doublet rate:\n",
      "\tExpected   = 10.0%\n",
      "\tEstimated  = 6.8%\n",
      "Elapsed time: 11.5 seconds\n",
      "Threshold found by scrublet\n",
      "Detected doublet rate = 0.4%\n",
      "Estimated detectable doublet fraction = 6.1%\n",
      "Overall doublet rate:\n",
      "\tExpected   = 10.0%\n",
      "\tEstimated  = 7.2%\n",
      "\n",
      "\n",
      "4820STDY7389001\n",
      "Preprocessing...\n",
      "Simulating doublets...\n",
      "Embedding transcriptomes using PCA...\n",
      "Calculating doublet scores...\n",
      "Automatically set threshold at doublet score = 0.71\n",
      "Detected doublet rate = 0.2%\n",
      "Estimated detectable doublet fraction = 4.4%\n",
      "Overall doublet rate:\n",
      "\tExpected   = 10.0%\n",
      "\tEstimated  = 3.5%\n",
      "Elapsed time: 12.6 seconds\n",
      "Threshold found by scrublet\n",
      "Detected doublet rate = 0.9%\n",
      "Estimated detectable doublet fraction = 14.4%\n",
      "Overall doublet rate:\n",
      "\tExpected   = 10.0%\n",
      "\tEstimated  = 6.6%\n",
      "\n",
      "\n",
      "4820STDY7389002\n",
      "Preprocessing...\n",
      "Simulating doublets...\n",
      "Embedding transcriptomes using PCA...\n",
      "Calculating doublet scores...\n",
      "Automatically set threshold at doublet score = 0.72\n",
      "Detected doublet rate = 0.1%\n",
      "Estimated detectable doublet fraction = 1.7%\n",
      "Overall doublet rate:\n",
      "\tExpected   = 10.0%\n",
      "\tEstimated  = 3.8%\n",
      "Elapsed time: 15.0 seconds\n",
      "Threshold found by scrublet\n",
      "Detected doublet rate = 1.0%\n",
      "Estimated detectable doublet fraction = 13.8%\n",
      "Overall doublet rate:\n",
      "\tExpected   = 10.0%\n",
      "\tEstimated  = 7.5%\n",
      "\n",
      "\n",
      "4820STDY7389003\n",
      "Preprocessing...\n",
      "Simulating doublets...\n",
      "Embedding transcriptomes using PCA...\n",
      "Calculating doublet scores...\n",
      "Automatically set threshold at doublet score = 0.51\n",
      "Detected doublet rate = 0.1%\n",
      "Estimated detectable doublet fraction = 1.4%\n",
      "Overall doublet rate:\n",
      "\tExpected   = 10.0%\n",
      "\tEstimated  = 8.3%\n",
      "Elapsed time: 0.9 seconds\n",
      "Threshold found by scrublet\n",
      "Detected doublet rate = 0.9%\n",
      "Estimated detectable doublet fraction = 4.6%\n",
      "Overall doublet rate:\n",
      "\tExpected   = 10.0%\n",
      "\tEstimated  = 20.3%\n",
      "\n",
      "\n",
      "4820STDY7389004\n",
      "Preprocessing...\n",
      "Simulating doublets...\n",
      "Embedding transcriptomes using PCA...\n",
      "Calculating doublet scores...\n",
      "Automatically set threshold at doublet score = 0.67\n",
      "Detected doublet rate = 0.1%\n",
      "Estimated detectable doublet fraction = 0.2%\n",
      "Overall doublet rate:\n",
      "\tExpected   = 10.0%\n",
      "\tEstimated  = 57.1%\n",
      "Elapsed time: 17.2 seconds\n",
      "Threshold found by scrublet\n",
      "Detected doublet rate = 1.2%\n",
      "Estimated detectable doublet fraction = 9.3%\n",
      "Overall doublet rate:\n",
      "\tExpected   = 10.0%\n",
      "\tEstimated  = 12.9%\n",
      "\n",
      "\n",
      "4820STDY7389005\n",
      "Preprocessing...\n",
      "Simulating doublets...\n",
      "Embedding transcriptomes using PCA...\n",
      "Calculating doublet scores...\n",
      "Automatically set threshold at doublet score = 0.70\n",
      "Detected doublet rate = 0.0%\n",
      "Estimated detectable doublet fraction = 0.2%\n",
      "Overall doublet rate:\n",
      "\tExpected   = 10.0%\n",
      "\tEstimated  = 0.0%\n",
      "Elapsed time: 7.7 seconds\n",
      "Threshold found by scrublet\n",
      "Detected doublet rate = 0.2%\n",
      "Estimated detectable doublet fraction = 1.8%\n",
      "Overall doublet rate:\n",
      "\tExpected   = 10.0%\n",
      "\tEstimated  = 12.9%\n",
      "\n",
      "\n",
      "4820STDY7389006\n",
      "Preprocessing...\n",
      "Simulating doublets...\n",
      "Embedding transcriptomes using PCA...\n",
      "Calculating doublet scores...\n",
      "Automatically set threshold at doublet score = 0.72\n",
      "Detected doublet rate = 0.1%\n",
      "Estimated detectable doublet fraction = 1.6%\n",
      "Overall doublet rate:\n",
      "\tExpected   = 10.0%\n",
      "\tEstimated  = 4.8%\n",
      "Elapsed time: 11.8 seconds\n",
      "Threshold found by scrublet\n",
      "Detected doublet rate = 0.4%\n",
      "Estimated detectable doublet fraction = 5.4%\n",
      "Overall doublet rate:\n",
      "\tExpected   = 10.0%\n",
      "\tEstimated  = 6.9%\n",
      "\n",
      "\n",
      "4820STDY7389007\n",
      "Preprocessing...\n",
      "Simulating doublets...\n",
      "Embedding transcriptomes using PCA...\n",
      "Calculating doublet scores...\n",
      "Automatically set threshold at doublet score = 0.65\n",
      "Detected doublet rate = 0.0%\n",
      "Estimated detectable doublet fraction = 5.5%\n",
      "Overall doublet rate:\n",
      "\tExpected   = 10.0%\n",
      "\tEstimated  = 0.6%\n",
      "Elapsed time: 5.0 seconds\n",
      "Threshold found by scrublet\n",
      "Detected doublet rate = 3.3%\n",
      "Estimated detectable doublet fraction = 26.3%\n",
      "Overall doublet rate:\n",
      "\tExpected   = 10.0%\n",
      "\tEstimated  = 12.7%\n",
      "\n",
      "\n",
      "4820STDY7389008\n",
      "Preprocessing...\n",
      "Simulating doublets...\n",
      "Embedding transcriptomes using PCA...\n",
      "Calculating doublet scores...\n",
      "Automatically set threshold at doublet score = 0.67\n",
      "Detected doublet rate = 0.0%\n",
      "Estimated detectable doublet fraction = 1.2%\n",
      "Overall doublet rate:\n",
      "\tExpected   = 10.0%\n",
      "\tEstimated  = 2.4%\n",
      "Elapsed time: 6.5 seconds\n",
      "Threshold found by scrublet\n",
      "Detected doublet rate = 0.7%\n",
      "Estimated detectable doublet fraction = 6.4%\n",
      "Overall doublet rate:\n",
      "\tExpected   = 10.0%\n",
      "\tEstimated  = 11.4%\n",
      "\n",
      "\n",
      "4820STDY7389009\n",
      "Preprocessing...\n",
      "Simulating doublets...\n",
      "Embedding transcriptomes using PCA...\n",
      "Calculating doublet scores...\n",
      "Automatically set threshold at doublet score = 0.68\n",
      "Detected doublet rate = 0.2%\n",
      "Estimated detectable doublet fraction = 8.2%\n",
      "Overall doublet rate:\n",
      "\tExpected   = 10.0%\n",
      "\tEstimated  = 2.9%\n",
      "Elapsed time: 6.4 seconds\n",
      "Threshold found by scrublet\n",
      "Detected doublet rate = 1.2%\n",
      "Estimated detectable doublet fraction = 17.0%\n",
      "Overall doublet rate:\n",
      "\tExpected   = 10.0%\n",
      "\tEstimated  = 6.9%\n",
      "\n",
      "\n",
      "4820STDY7389010\n",
      "Preprocessing...\n",
      "Simulating doublets...\n",
      "Embedding transcriptomes using PCA...\n",
      "Calculating doublet scores...\n",
      "Automatically set threshold at doublet score = 0.63\n",
      "Detected doublet rate = 0.2%\n",
      "Estimated detectable doublet fraction = 1.7%\n",
      "Overall doublet rate:\n",
      "\tExpected   = 10.0%\n",
      "\tEstimated  = 9.4%\n",
      "Elapsed time: 4.5 seconds\n",
      "Threshold found by scrublet\n",
      "Detected doublet rate = 0.7%\n",
      "Estimated detectable doublet fraction = 5.9%\n",
      "Overall doublet rate:\n",
      "\tExpected   = 10.0%\n",
      "\tEstimated  = 11.6%\n",
      "\n",
      "\n",
      "4820STDY7389011\n",
      "Preprocessing...\n",
      "Simulating doublets...\n",
      "Embedding transcriptomes using PCA...\n",
      "Calculating doublet scores...\n",
      "Automatically set threshold at doublet score = 0.67\n",
      "Detected doublet rate = 0.0%\n",
      "Estimated detectable doublet fraction = 0.4%\n",
      "Overall doublet rate:\n",
      "\tExpected   = 10.0%\n",
      "\tEstimated  = 7.4%\n",
      "Elapsed time: 5.3 seconds\n",
      "Threshold found by scrublet\n",
      "Detected doublet rate = 0.6%\n",
      "Estimated detectable doublet fraction = 4.3%\n",
      "Overall doublet rate:\n",
      "\tExpected   = 10.0%\n",
      "\tEstimated  = 14.3%\n",
      "\n",
      "\n",
      "4820STDY7389012\n",
      "Preprocessing...\n",
      "Simulating doublets...\n",
      "Embedding transcriptomes using PCA...\n",
      "Calculating doublet scores...\n",
      "Automatically set threshold at doublet score = 0.03\n",
      "Detected doublet rate = 90.5%\n",
      "Estimated detectable doublet fraction = 98.7%\n",
      "Overall doublet rate:\n",
      "\tExpected   = 10.0%\n",
      "\tEstimated  = 91.8%\n",
      "Elapsed time: 7.0 seconds\n",
      "Threshold found by scrublet\n",
      "Detected doublet rate = 0.2%\n",
      "Estimated detectable doublet fraction = 0.9%\n",
      "Overall doublet rate:\n",
      "\tExpected   = 10.0%\n",
      "\tEstimated  = 20.9%\n",
      "\n",
      "\n",
      "4820STDY7389013\n",
      "Preprocessing...\n",
      "Simulating doublets...\n",
      "Embedding transcriptomes using PCA...\n",
      "Calculating doublet scores...\n",
      "Automatically set threshold at doublet score = 0.06\n",
      "Detected doublet rate = 75.2%\n",
      "Estimated detectable doublet fraction = 93.6%\n",
      "Overall doublet rate:\n",
      "\tExpected   = 10.0%\n",
      "\tEstimated  = 80.3%\n",
      "Elapsed time: 9.2 seconds\n",
      "Threshold found by scrublet\n",
      "Detected doublet rate = 0.0%\n",
      "Estimated detectable doublet fraction = 0.3%\n",
      "Overall doublet rate:\n",
      "\tExpected   = 10.0%\n",
      "\tEstimated  = 8.3%\n",
      "\n",
      "\n",
      "4820STDY7389014\n",
      "Preprocessing...\n",
      "Simulating doublets...\n",
      "Embedding transcriptomes using PCA...\n",
      "Calculating doublet scores...\n",
      "Automatically set threshold at doublet score = 0.64\n",
      "Detected doublet rate = 0.2%\n",
      "Estimated detectable doublet fraction = 6.1%\n",
      "Overall doublet rate:\n",
      "\tExpected   = 10.0%\n",
      "\tEstimated  = 2.8%\n",
      "Elapsed time: 4.4 seconds\n",
      "Threshold found by scrublet\n",
      "Detected doublet rate = 0.4%\n",
      "Estimated detectable doublet fraction = 9.4%\n",
      "Overall doublet rate:\n",
      "\tExpected   = 10.0%\n",
      "\tEstimated  = 4.8%\n",
      "\n",
      "\n",
      "SKN8090524\n",
      "Preprocessing...\n",
      "Simulating doublets...\n",
      "Embedding transcriptomes using PCA...\n",
      "Calculating doublet scores...\n",
      "Automatically set threshold at doublet score = 0.47\n",
      "Detected doublet rate = 0.5%\n",
      "Estimated detectable doublet fraction = 17.9%\n",
      "Overall doublet rate:\n",
      "\tExpected   = 10.0%\n",
      "\tEstimated  = 2.9%\n",
      "Elapsed time: 10.0 seconds\n",
      "Threshold found by scrublet\n",
      "Detected doublet rate = 1.3%\n",
      "Estimated detectable doublet fraction = 23.5%\n",
      "Overall doublet rate:\n",
      "\tExpected   = 10.0%\n",
      "\tEstimated  = 5.5%\n",
      "\n",
      "\n",
      "SKN8090525\n",
      "Preprocessing...\n",
      "Simulating doublets...\n",
      "Embedding transcriptomes using PCA...\n",
      "Calculating doublet scores...\n",
      "Automatically set threshold at doublet score = 0.57\n",
      "Detected doublet rate = 0.1%\n",
      "Estimated detectable doublet fraction = 9.2%\n",
      "Overall doublet rate:\n",
      "\tExpected   = 10.0%\n",
      "\tEstimated  = 1.6%\n",
      "Elapsed time: 3.7 seconds\n",
      "Threshold found by scrublet\n",
      "Detected doublet rate = 2.1%\n",
      "Estimated detectable doublet fraction = 18.0%\n",
      "Overall doublet rate:\n",
      "\tExpected   = 10.0%\n",
      "\tEstimated  = 11.4%\n",
      "\n",
      "\n",
      "SKN8090526\n",
      "Preprocessing...\n",
      "Simulating doublets...\n",
      "Embedding transcriptomes using PCA...\n",
      "Calculating doublet scores...\n",
      "Automatically set threshold at doublet score = 0.36\n",
      "Detected doublet rate = 0.9%\n",
      "Estimated detectable doublet fraction = 1.3%\n",
      "Overall doublet rate:\n",
      "\tExpected   = 10.0%\n",
      "\tEstimated  = 66.7%\n",
      "Elapsed time: 0.2 seconds\n",
      "Threshold found by scrublet\n",
      "Detected doublet rate = 0.9%\n",
      "Estimated detectable doublet fraction = 1.3%\n",
      "Overall doublet rate:\n",
      "\tExpected   = 10.0%\n",
      "\tEstimated  = 66.7%\n",
      "\n",
      "\n",
      "SKN8090528\n",
      "Preprocessing...\n",
      "Simulating doublets...\n",
      "Embedding transcriptomes using PCA...\n",
      "Calculating doublet scores...\n",
      "Automatically set threshold at doublet score = 0.54\n",
      "Detected doublet rate = 0.3%\n",
      "Estimated detectable doublet fraction = 15.0%\n",
      "Overall doublet rate:\n",
      "\tExpected   = 10.0%\n",
      "\tEstimated  = 2.0%\n",
      "Elapsed time: 1.1 seconds\n",
      "Threshold found by scrublet\n",
      "Detected doublet rate = 1.3%\n",
      "Estimated detectable doublet fraction = 29.7%\n",
      "Overall doublet rate:\n",
      "\tExpected   = 10.0%\n",
      "\tEstimated  = 4.4%\n",
      "\n",
      "\n",
      "SKN8090529\n",
      "Preprocessing...\n",
      "Simulating doublets...\n",
      "Embedding transcriptomes using PCA...\n",
      "Calculating doublet scores...\n",
      "Automatically set threshold at doublet score = 0.46\n",
      "Detected doublet rate = 0.3%\n",
      "Estimated detectable doublet fraction = 17.5%\n",
      "Overall doublet rate:\n",
      "\tExpected   = 10.0%\n",
      "\tEstimated  = 1.8%\n",
      "Elapsed time: 2.3 seconds\n",
      "Threshold found by scrublet\n",
      "Detected doublet rate = 1.8%\n",
      "Estimated detectable doublet fraction = 33.5%\n",
      "Overall doublet rate:\n",
      "\tExpected   = 10.0%\n",
      "\tEstimated  = 5.4%\n",
      "\n",
      "\n",
      "SKN8090530\n",
      "Preprocessing...\n",
      "Simulating doublets...\n",
      "Embedding transcriptomes using PCA...\n",
      "Calculating doublet scores...\n",
      "Automatically set threshold at doublet score = 0.61\n",
      "Detected doublet rate = 0.2%\n",
      "Estimated detectable doublet fraction = 12.0%\n",
      "Overall doublet rate:\n",
      "\tExpected   = 10.0%\n",
      "\tEstimated  = 1.5%\n",
      "Elapsed time: 8.9 seconds\n",
      "Threshold found by scrublet\n",
      "Detected doublet rate = 2.2%\n",
      "Estimated detectable doublet fraction = 30.4%\n",
      "Overall doublet rate:\n",
      "\tExpected   = 10.0%\n",
      "\tEstimated  = 7.4%\n",
      "\n",
      "\n",
      "SKN8090531\n",
      "Preprocessing...\n",
      "Simulating doublets...\n",
      "Embedding transcriptomes using PCA...\n",
      "Calculating doublet scores...\n",
      "Automatically set threshold at doublet score = 0.52\n",
      "Detected doublet rate = 0.2%\n",
      "Estimated detectable doublet fraction = 9.1%\n",
      "Overall doublet rate:\n",
      "\tExpected   = 10.0%\n",
      "\tEstimated  = 2.3%\n",
      "Elapsed time: 5.7 seconds\n",
      "Threshold found by scrublet\n",
      "Detected doublet rate = 1.4%\n",
      "Estimated detectable doublet fraction = 23.1%\n",
      "Overall doublet rate:\n",
      "\tExpected   = 10.0%\n",
      "\tEstimated  = 6.0%\n",
      "\n",
      "\n",
      "SKN8090536\n",
      "Preprocessing...\n"
     ]
    },
    {
     "name": "stderr",
     "output_type": "stream",
     "text": [
      "/nfs/team298/ab72/miniconda3/envs/multiome/lib/python3.10/site-packages/scrublet/helper_functions.py:252: RuntimeWarning: invalid value encountered in sqrt\n",
      "  CV_input = np.sqrt(b);\n"
     ]
    },
    {
     "name": "stdout",
     "output_type": "stream",
     "text": [
      "Simulating doublets...\n",
      "Embedding transcriptomes using PCA...\n"
     ]
    },
    {
     "ename": "ValueError",
     "evalue": "n_components=30 must be between 1 and min(n_samples, n_features)=29 with svd_solver='arpack'",
     "output_type": "error",
     "traceback": [
      "\u001b[0;31m---------------------------------------------------------------------------\u001b[0m",
      "\u001b[0;31mValueError\u001b[0m                                Traceback (most recent call last)",
      "Cell \u001b[0;32mIn[7], line 8\u001b[0m\n\u001b[1;32m      6\u001b[0m x \u001b[38;5;241m=\u001b[39m ad\u001b[38;5;241m.\u001b[39mX\n\u001b[1;32m      7\u001b[0m scrub \u001b[38;5;241m=\u001b[39m scr\u001b[38;5;241m.\u001b[39mScrublet(x)\n\u001b[0;32m----> 8\u001b[0m ds, prd \u001b[38;5;241m=\u001b[39m \u001b[43mscrub\u001b[49m\u001b[38;5;241;43m.\u001b[39;49m\u001b[43mscrub_doublets\u001b[49m\u001b[43m(\u001b[49m\u001b[43m)\u001b[49m\n\u001b[1;32m      9\u001b[0m RUNs\u001b[38;5;241m.\u001b[39mappend(run)\n\u001b[1;32m     10\u001b[0m DSs\u001b[38;5;241m.\u001b[39mappend(ds)\n",
      "File \u001b[0;32m/nfs/team298/ab72/miniconda3/envs/multiome/lib/python3.10/site-packages/scrublet/scrublet.py:237\u001b[0m, in \u001b[0;36mScrublet.scrub_doublets\u001b[0;34m(self, synthetic_doublet_umi_subsampling, use_approx_neighbors, distance_metric, get_doublet_neighbor_parents, min_counts, min_cells, min_gene_variability_pctl, log_transform, mean_center, normalize_variance, n_prin_comps, svd_solver, verbose)\u001b[0m\n\u001b[1;32m    235\u001b[0m \u001b[38;5;28;01mif\u001b[39;00m mean_center:\n\u001b[1;32m    236\u001b[0m     print_optional(\u001b[38;5;124m'\u001b[39m\u001b[38;5;124mEmbedding transcriptomes using PCA...\u001b[39m\u001b[38;5;124m'\u001b[39m, verbose)\n\u001b[0;32m--> 237\u001b[0m     \u001b[43mpipeline_pca\u001b[49m\u001b[43m(\u001b[49m\u001b[38;5;28;43mself\u001b[39;49m\u001b[43m,\u001b[49m\u001b[43m \u001b[49m\u001b[43mn_prin_comps\u001b[49m\u001b[38;5;241;43m=\u001b[39;49m\u001b[43mn_prin_comps\u001b[49m\u001b[43m,\u001b[49m\u001b[43m \u001b[49m\u001b[43mrandom_state\u001b[49m\u001b[38;5;241;43m=\u001b[39;49m\u001b[38;5;28;43mself\u001b[39;49m\u001b[38;5;241;43m.\u001b[39;49m\u001b[43mrandom_state\u001b[49m\u001b[43m,\u001b[49m\u001b[43m \u001b[49m\u001b[43msvd_solver\u001b[49m\u001b[38;5;241;43m=\u001b[39;49m\u001b[43msvd_solver\u001b[49m\u001b[43m)\u001b[49m\n\u001b[1;32m    238\u001b[0m \u001b[38;5;28;01melse\u001b[39;00m:\n\u001b[1;32m    239\u001b[0m     print_optional(\u001b[38;5;124m'\u001b[39m\u001b[38;5;124mEmbedding transcriptomes using Truncated SVD...\u001b[39m\u001b[38;5;124m'\u001b[39m, verbose)\n",
      "File \u001b[0;32m/nfs/team298/ab72/miniconda3/envs/multiome/lib/python3.10/site-packages/scrublet/helper_functions.py:89\u001b[0m, in \u001b[0;36mpipeline_pca\u001b[0;34m(self, n_prin_comps, random_state, svd_solver)\u001b[0m\n\u001b[1;32m     86\u001b[0m \u001b[38;5;28;01melse\u001b[39;00m:\n\u001b[1;32m     87\u001b[0m     X_sim \u001b[38;5;241m=\u001b[39m \u001b[38;5;28mself\u001b[39m\u001b[38;5;241m.\u001b[39m_E_sim_norm\n\u001b[0;32m---> 89\u001b[0m pca \u001b[38;5;241m=\u001b[39m \u001b[43mPCA\u001b[49m\u001b[43m(\u001b[49m\u001b[43mn_components\u001b[49m\u001b[38;5;241;43m=\u001b[39;49m\u001b[43mn_prin_comps\u001b[49m\u001b[43m,\u001b[49m\u001b[43m \u001b[49m\u001b[43mrandom_state\u001b[49m\u001b[38;5;241;43m=\u001b[39;49m\u001b[43mrandom_state\u001b[49m\u001b[43m,\u001b[49m\u001b[43m \u001b[49m\u001b[43msvd_solver\u001b[49m\u001b[38;5;241;43m=\u001b[39;49m\u001b[43msvd_solver\u001b[49m\u001b[43m)\u001b[49m\u001b[38;5;241;43m.\u001b[39;49m\u001b[43mfit\u001b[49m\u001b[43m(\u001b[49m\u001b[43mX_obs\u001b[49m\u001b[43m)\u001b[49m\n\u001b[1;32m     90\u001b[0m \u001b[38;5;28mself\u001b[39m\u001b[38;5;241m.\u001b[39mset_manifold(pca\u001b[38;5;241m.\u001b[39mtransform(X_obs), pca\u001b[38;5;241m.\u001b[39mtransform(X_sim)) \n\u001b[1;32m     91\u001b[0m \u001b[38;5;28;01mreturn\u001b[39;00m\n",
      "File \u001b[0;32m/nfs/team298/ab72/miniconda3/envs/multiome/lib/python3.10/site-packages/sklearn/base.py:1152\u001b[0m, in \u001b[0;36m_fit_context.<locals>.decorator.<locals>.wrapper\u001b[0;34m(estimator, *args, **kwargs)\u001b[0m\n\u001b[1;32m   1145\u001b[0m     estimator\u001b[38;5;241m.\u001b[39m_validate_params()\n\u001b[1;32m   1147\u001b[0m \u001b[38;5;28;01mwith\u001b[39;00m config_context(\n\u001b[1;32m   1148\u001b[0m     skip_parameter_validation\u001b[38;5;241m=\u001b[39m(\n\u001b[1;32m   1149\u001b[0m         prefer_skip_nested_validation \u001b[38;5;129;01mor\u001b[39;00m global_skip_validation\n\u001b[1;32m   1150\u001b[0m     )\n\u001b[1;32m   1151\u001b[0m ):\n\u001b[0;32m-> 1152\u001b[0m     \u001b[38;5;28;01mreturn\u001b[39;00m \u001b[43mfit_method\u001b[49m\u001b[43m(\u001b[49m\u001b[43mestimator\u001b[49m\u001b[43m,\u001b[49m\u001b[43m \u001b[49m\u001b[38;5;241;43m*\u001b[39;49m\u001b[43margs\u001b[49m\u001b[43m,\u001b[49m\u001b[43m \u001b[49m\u001b[38;5;241;43m*\u001b[39;49m\u001b[38;5;241;43m*\u001b[39;49m\u001b[43mkwargs\u001b[49m\u001b[43m)\u001b[49m\n",
      "File \u001b[0;32m/nfs/team298/ab72/miniconda3/envs/multiome/lib/python3.10/site-packages/sklearn/decomposition/_pca.py:434\u001b[0m, in \u001b[0;36mPCA.fit\u001b[0;34m(self, X, y)\u001b[0m\n\u001b[1;32m    416\u001b[0m \u001b[38;5;129m@_fit_context\u001b[39m(prefer_skip_nested_validation\u001b[38;5;241m=\u001b[39m\u001b[38;5;28;01mTrue\u001b[39;00m)\n\u001b[1;32m    417\u001b[0m \u001b[38;5;28;01mdef\u001b[39;00m \u001b[38;5;21mfit\u001b[39m(\u001b[38;5;28mself\u001b[39m, X, y\u001b[38;5;241m=\u001b[39m\u001b[38;5;28;01mNone\u001b[39;00m):\n\u001b[1;32m    418\u001b[0m \u001b[38;5;250m    \u001b[39m\u001b[38;5;124;03m\"\"\"Fit the model with X.\u001b[39;00m\n\u001b[1;32m    419\u001b[0m \n\u001b[1;32m    420\u001b[0m \u001b[38;5;124;03m    Parameters\u001b[39;00m\n\u001b[0;32m   (...)\u001b[0m\n\u001b[1;32m    432\u001b[0m \u001b[38;5;124;03m        Returns the instance itself.\u001b[39;00m\n\u001b[1;32m    433\u001b[0m \u001b[38;5;124;03m    \"\"\"\u001b[39;00m\n\u001b[0;32m--> 434\u001b[0m     \u001b[38;5;28;43mself\u001b[39;49m\u001b[38;5;241;43m.\u001b[39;49m\u001b[43m_fit\u001b[49m\u001b[43m(\u001b[49m\u001b[43mX\u001b[49m\u001b[43m)\u001b[49m\n\u001b[1;32m    435\u001b[0m     \u001b[38;5;28;01mreturn\u001b[39;00m \u001b[38;5;28mself\u001b[39m\n",
      "File \u001b[0;32m/nfs/team298/ab72/miniconda3/envs/multiome/lib/python3.10/site-packages/sklearn/decomposition/_pca.py:512\u001b[0m, in \u001b[0;36mPCA._fit\u001b[0;34m(self, X)\u001b[0m\n\u001b[1;32m    510\u001b[0m     \u001b[38;5;28;01mreturn\u001b[39;00m \u001b[38;5;28mself\u001b[39m\u001b[38;5;241m.\u001b[39m_fit_full(X, n_components)\n\u001b[1;32m    511\u001b[0m \u001b[38;5;28;01melif\u001b[39;00m \u001b[38;5;28mself\u001b[39m\u001b[38;5;241m.\u001b[39m_fit_svd_solver \u001b[38;5;129;01min\u001b[39;00m [\u001b[38;5;124m\"\u001b[39m\u001b[38;5;124marpack\u001b[39m\u001b[38;5;124m\"\u001b[39m, \u001b[38;5;124m\"\u001b[39m\u001b[38;5;124mrandomized\u001b[39m\u001b[38;5;124m\"\u001b[39m]:\n\u001b[0;32m--> 512\u001b[0m     \u001b[38;5;28;01mreturn\u001b[39;00m \u001b[38;5;28;43mself\u001b[39;49m\u001b[38;5;241;43m.\u001b[39;49m\u001b[43m_fit_truncated\u001b[49m\u001b[43m(\u001b[49m\u001b[43mX\u001b[49m\u001b[43m,\u001b[49m\u001b[43m \u001b[49m\u001b[43mn_components\u001b[49m\u001b[43m,\u001b[49m\u001b[43m \u001b[49m\u001b[38;5;28;43mself\u001b[39;49m\u001b[38;5;241;43m.\u001b[39;49m\u001b[43m_fit_svd_solver\u001b[49m\u001b[43m)\u001b[49m\n",
      "File \u001b[0;32m/nfs/team298/ab72/miniconda3/envs/multiome/lib/python3.10/site-packages/sklearn/decomposition/_pca.py:585\u001b[0m, in \u001b[0;36mPCA._fit_truncated\u001b[0;34m(self, X, n_components, svd_solver)\u001b[0m\n\u001b[1;32m    580\u001b[0m     \u001b[38;5;28;01mraise\u001b[39;00m \u001b[38;5;167;01mValueError\u001b[39;00m(\n\u001b[1;32m    581\u001b[0m         \u001b[38;5;124m\"\u001b[39m\u001b[38;5;124mn_components=\u001b[39m\u001b[38;5;132;01m%r\u001b[39;00m\u001b[38;5;124m cannot be a string with svd_solver=\u001b[39m\u001b[38;5;124m'\u001b[39m\u001b[38;5;132;01m%s\u001b[39;00m\u001b[38;5;124m'\u001b[39m\u001b[38;5;124m\"\u001b[39m\n\u001b[1;32m    582\u001b[0m         \u001b[38;5;241m%\u001b[39m (n_components, svd_solver)\n\u001b[1;32m    583\u001b[0m     )\n\u001b[1;32m    584\u001b[0m \u001b[38;5;28;01melif\u001b[39;00m \u001b[38;5;129;01mnot\u001b[39;00m \u001b[38;5;241m1\u001b[39m \u001b[38;5;241m<\u001b[39m\u001b[38;5;241m=\u001b[39m n_components \u001b[38;5;241m<\u001b[39m\u001b[38;5;241m=\u001b[39m \u001b[38;5;28mmin\u001b[39m(n_samples, n_features):\n\u001b[0;32m--> 585\u001b[0m     \u001b[38;5;28;01mraise\u001b[39;00m \u001b[38;5;167;01mValueError\u001b[39;00m(\n\u001b[1;32m    586\u001b[0m         \u001b[38;5;124m\"\u001b[39m\u001b[38;5;124mn_components=\u001b[39m\u001b[38;5;132;01m%r\u001b[39;00m\u001b[38;5;124m must be between 1 and \u001b[39m\u001b[38;5;124m\"\u001b[39m\n\u001b[1;32m    587\u001b[0m         \u001b[38;5;124m\"\u001b[39m\u001b[38;5;124mmin(n_samples, n_features)=\u001b[39m\u001b[38;5;132;01m%r\u001b[39;00m\u001b[38;5;124m with \u001b[39m\u001b[38;5;124m\"\u001b[39m\n\u001b[1;32m    588\u001b[0m         \u001b[38;5;124m\"\u001b[39m\u001b[38;5;124msvd_solver=\u001b[39m\u001b[38;5;124m'\u001b[39m\u001b[38;5;132;01m%s\u001b[39;00m\u001b[38;5;124m'\u001b[39m\u001b[38;5;124m\"\u001b[39m\n\u001b[1;32m    589\u001b[0m         \u001b[38;5;241m%\u001b[39m (n_components, \u001b[38;5;28mmin\u001b[39m(n_samples, n_features), svd_solver)\n\u001b[1;32m    590\u001b[0m     )\n\u001b[1;32m    591\u001b[0m \u001b[38;5;28;01melif\u001b[39;00m svd_solver \u001b[38;5;241m==\u001b[39m \u001b[38;5;124m\"\u001b[39m\u001b[38;5;124marpack\u001b[39m\u001b[38;5;124m\"\u001b[39m \u001b[38;5;129;01mand\u001b[39;00m n_components \u001b[38;5;241m==\u001b[39m \u001b[38;5;28mmin\u001b[39m(n_samples, n_features):\n\u001b[1;32m    592\u001b[0m     \u001b[38;5;28;01mraise\u001b[39;00m \u001b[38;5;167;01mValueError\u001b[39;00m(\n\u001b[1;32m    593\u001b[0m         \u001b[38;5;124m\"\u001b[39m\u001b[38;5;124mn_components=\u001b[39m\u001b[38;5;132;01m%r\u001b[39;00m\u001b[38;5;124m must be strictly less than \u001b[39m\u001b[38;5;124m\"\u001b[39m\n\u001b[1;32m    594\u001b[0m         \u001b[38;5;124m\"\u001b[39m\u001b[38;5;124mmin(n_samples, n_features)=\u001b[39m\u001b[38;5;132;01m%r\u001b[39;00m\u001b[38;5;124m with \u001b[39m\u001b[38;5;124m\"\u001b[39m\n\u001b[1;32m    595\u001b[0m         \u001b[38;5;124m\"\u001b[39m\u001b[38;5;124msvd_solver=\u001b[39m\u001b[38;5;124m'\u001b[39m\u001b[38;5;132;01m%s\u001b[39;00m\u001b[38;5;124m'\u001b[39m\u001b[38;5;124m\"\u001b[39m\n\u001b[1;32m    596\u001b[0m         \u001b[38;5;241m%\u001b[39m (n_components, \u001b[38;5;28mmin\u001b[39m(n_samples, n_features), svd_solver)\n\u001b[1;32m    597\u001b[0m     )\n",
      "\u001b[0;31mValueError\u001b[0m: n_components=30 must be between 1 and min(n_samples, n_features)=29 with svd_solver='arpack'"
     ]
    }
   ],
   "source": [
    "RUNs, DSs, CELLs, THRs, MEDs, MADs, CUTs, no_thr = [], [], [], [], [], [], [], []\n",
    "\n",
    "for run in adata.obs['Sanger_ID'].unique():\n",
    "    print(run)\n",
    "    ad = adata[adata.obs['Sanger_ID'] == run, :]\n",
    "    x = ad.X\n",
    "    scrub = scr.Scrublet(x)\n",
    "    ds, prd = scrub.scrub_doublets()\n",
    "    RUNs.append(run)\n",
    "    DSs.append(ds)\n",
    "    CELLs.append(ad.obs_names)\n",
    "    # MAD calculation of threshold:\n",
    "    MED = np.median(ds)\n",
    "    MAD = robust.mad(ds)\n",
    "    CUT = (MED + (4 * MAD))\n",
    "    MEDs.append(MED)\n",
    "    MADs.append(MAD)\n",
    "    CUTs.append(CUT)\n",
    "\n",
    "    try:  # not always can calculate automatic threshold\n",
    "        THRs.append(scrub.threshold_)\n",
    "        print('Threshold found by scrublet')\n",
    "    except:\n",
    "        THRs.append(0.4)\n",
    "        no_thr.append(run)\n",
    "        print('No threshold found, assigning 0.4 to', run)\n",
    "        scrub.call_doublets(threshold=0.4) # so that it can make the plot\n",
    "    #fig = scrub.plot_histogram()\n",
    "    #fig[0].savefig(run + '.png')\n",
    "    \n",
    "    \n",
    "    scrub.call_doublets(threshold=CUT)\n",
    "    #fig = scrub.plot_histogram()\n",
    "    #fig[0].savefig(run + '_mad_' + '.png')\n",
    "    #plt.close('all')\n",
    "    print()\n",
    "    print()"
   ]
  },
  {
   "cell_type": "code",
   "execution_count": 8,
   "id": "797ec1d0-3ff4-4c7f-a37f-5baf14f5edfa",
   "metadata": {
    "tags": []
   },
   "outputs": [],
   "source": [
    "ns = np.array(list(map(len, DSs)))"
   ]
  },
  {
   "cell_type": "code",
   "execution_count": 9,
   "id": "65f4b272-adb1-47c3-8d6f-f092ffc09f92",
   "metadata": {
    "tags": []
   },
   "outputs": [],
   "source": [
    "tbl = pd.DataFrame({\n",
    "    'run': np.repeat(RUNs, ns),\n",
    "    'ds': np.concatenate(DSs),\n",
    "    'thr': np.repeat(THRs, ns),\n",
    "    'mad_MED': np.repeat(MEDs, ns),\n",
    "    'mad_MAD': np.repeat(MADs, ns),\n",
    "    'mad_thr': np.repeat(CUTs, ns),\n",
    "    }, index=np.concatenate(CELLs))\n",
    "\n",
    "tbl['auto_prd'] = tbl['ds'] > tbl['thr']\n",
    "tbl['mad_prd'] = tbl['ds'] > tbl['mad_thr']"
   ]
  },
  {
   "cell_type": "code",
   "execution_count": 10,
   "id": "5c35b8e6-803e-4b9a-ac7c-b1d577facbbf",
   "metadata": {
    "tags": []
   },
   "outputs": [
    {
     "name": "stderr",
     "output_type": "stream",
     "text": [
      "/tmp/ipykernel_642202/4188707388.py:1: ImplicitModificationWarning: Trying to modify attribute `.obs` of view, initializing view as actual.\n",
      "  adata.obs['mad_prd']=tbl['mad_prd'].copy()\n"
     ]
    }
   ],
   "source": [
    "adata.obs['mad_prd']=tbl['mad_prd'].copy()\n",
    "adata.obs['ds']=tbl['ds'].copy()\n",
    "adata.obs['mad_MED']=tbl['mad_MED'].copy()\n",
    "adata.obs['mad_MAD']=tbl['mad_MAD'].copy()\n",
    "adata.obs['mad_thr']=tbl['mad_thr'].copy()"
   ]
  },
  {
   "cell_type": "code",
   "execution_count": 11,
   "id": "ef45bb88-c170-4ffb-838d-054f5f83383e",
   "metadata": {
    "tags": []
   },
   "outputs": [
    {
     "data": {
      "text/html": [
       "<div>\n",
       "<style scoped>\n",
       "    .dataframe tbody tr th:only-of-type {\n",
       "        vertical-align: middle;\n",
       "    }\n",
       "\n",
       "    .dataframe tbody tr th {\n",
       "        vertical-align: top;\n",
       "    }\n",
       "\n",
       "    .dataframe thead th {\n",
       "        text-align: right;\n",
       "    }\n",
       "</style>\n",
       "<table border=\"1\" class=\"dataframe\">\n",
       "  <thead>\n",
       "    <tr style=\"text-align: right;\">\n",
       "      <th></th>\n",
       "      <th>sample_type</th>\n",
       "      <th>Donor</th>\n",
       "      <th>Sanger_ID</th>\n",
       "      <th>tissue</th>\n",
       "      <th>site</th>\n",
       "      <th>Sex</th>\n",
       "      <th>batch</th>\n",
       "      <th>n_counts</th>\n",
       "      <th>mad_prd</th>\n",
       "      <th>ds</th>\n",
       "      <th>mad_MED</th>\n",
       "      <th>mad_MAD</th>\n",
       "      <th>mad_thr</th>\n",
       "    </tr>\n",
       "  </thead>\n",
       "  <tbody>\n",
       "    <tr>\n",
       "      <th>CACCACTAGCCCTAAT-0</th>\n",
       "      <td>healthy_skin</td>\n",
       "      <td>S1</td>\n",
       "      <td>4820STDY7388991</td>\n",
       "      <td>Dermis</td>\n",
       "      <td>non_lesion</td>\n",
       "      <td>Female</td>\n",
       "      <td>0</td>\n",
       "      <td>46398</td>\n",
       "      <td>False</td>\n",
       "      <td>0.284768</td>\n",
       "      <td>0.098634</td>\n",
       "      <td>0.060705</td>\n",
       "      <td>0.341455</td>\n",
       "    </tr>\n",
       "    <tr>\n",
       "      <th>TGCTACCAGCGCCTCA-0</th>\n",
       "      <td>healthy_skin</td>\n",
       "      <td>S1</td>\n",
       "      <td>4820STDY7388991</td>\n",
       "      <td>Dermis</td>\n",
       "      <td>non_lesion</td>\n",
       "      <td>Female</td>\n",
       "      <td>0</td>\n",
       "      <td>45420</td>\n",
       "      <td>False</td>\n",
       "      <td>0.094675</td>\n",
       "      <td>0.098634</td>\n",
       "      <td>0.060705</td>\n",
       "      <td>0.341455</td>\n",
       "    </tr>\n",
       "    <tr>\n",
       "      <th>AATCCAGAGGTGATAT-0</th>\n",
       "      <td>healthy_skin</td>\n",
       "      <td>S1</td>\n",
       "      <td>4820STDY7388991</td>\n",
       "      <td>Dermis</td>\n",
       "      <td>non_lesion</td>\n",
       "      <td>Female</td>\n",
       "      <td>0</td>\n",
       "      <td>44099</td>\n",
       "      <td>False</td>\n",
       "      <td>0.080645</td>\n",
       "      <td>0.098634</td>\n",
       "      <td>0.060705</td>\n",
       "      <td>0.341455</td>\n",
       "    </tr>\n",
       "    <tr>\n",
       "      <th>CAACCAAGTGCAGACA-0</th>\n",
       "      <td>healthy_skin</td>\n",
       "      <td>S1</td>\n",
       "      <td>4820STDY7388991</td>\n",
       "      <td>Dermis</td>\n",
       "      <td>non_lesion</td>\n",
       "      <td>Female</td>\n",
       "      <td>0</td>\n",
       "      <td>39982</td>\n",
       "      <td>False</td>\n",
       "      <td>0.094675</td>\n",
       "      <td>0.098634</td>\n",
       "      <td>0.060705</td>\n",
       "      <td>0.341455</td>\n",
       "    </tr>\n",
       "    <tr>\n",
       "      <th>GGGCATCCAGATGGCA-0</th>\n",
       "      <td>healthy_skin</td>\n",
       "      <td>S1</td>\n",
       "      <td>4820STDY7388991</td>\n",
       "      <td>Dermis</td>\n",
       "      <td>non_lesion</td>\n",
       "      <td>Female</td>\n",
       "      <td>0</td>\n",
       "      <td>39492</td>\n",
       "      <td>False</td>\n",
       "      <td>0.153374</td>\n",
       "      <td>0.098634</td>\n",
       "      <td>0.060705</td>\n",
       "      <td>0.341455</td>\n",
       "    </tr>\n",
       "    <tr>\n",
       "      <th>...</th>\n",
       "      <td>...</td>\n",
       "      <td>...</td>\n",
       "      <td>...</td>\n",
       "      <td>...</td>\n",
       "      <td>...</td>\n",
       "      <td>...</td>\n",
       "      <td>...</td>\n",
       "      <td>...</td>\n",
       "      <td>...</td>\n",
       "      <td>...</td>\n",
       "      <td>...</td>\n",
       "      <td>...</td>\n",
       "      <td>...</td>\n",
       "    </tr>\n",
       "    <tr>\n",
       "      <th>CTGATCCTCCGATATG-92</th>\n",
       "      <td>healthy_skin</td>\n",
       "      <td>S5</td>\n",
       "      <td>SKN8105200</td>\n",
       "      <td>Dermis</td>\n",
       "      <td>non_lesion</td>\n",
       "      <td>Female</td>\n",
       "      <td>92</td>\n",
       "      <td>114</td>\n",
       "      <td>NaN</td>\n",
       "      <td>NaN</td>\n",
       "      <td>NaN</td>\n",
       "      <td>NaN</td>\n",
       "      <td>NaN</td>\n",
       "    </tr>\n",
       "    <tr>\n",
       "      <th>TGCTACCCATCTATGG-92</th>\n",
       "      <td>healthy_skin</td>\n",
       "      <td>S5</td>\n",
       "      <td>SKN8105200</td>\n",
       "      <td>Dermis</td>\n",
       "      <td>non_lesion</td>\n",
       "      <td>Female</td>\n",
       "      <td>92</td>\n",
       "      <td>104</td>\n",
       "      <td>NaN</td>\n",
       "      <td>NaN</td>\n",
       "      <td>NaN</td>\n",
       "      <td>NaN</td>\n",
       "      <td>NaN</td>\n",
       "    </tr>\n",
       "    <tr>\n",
       "      <th>AGCCTAAGTTTGTTTC-92</th>\n",
       "      <td>healthy_skin</td>\n",
       "      <td>S5</td>\n",
       "      <td>SKN8105200</td>\n",
       "      <td>Dermis</td>\n",
       "      <td>non_lesion</td>\n",
       "      <td>Female</td>\n",
       "      <td>92</td>\n",
       "      <td>37</td>\n",
       "      <td>NaN</td>\n",
       "      <td>NaN</td>\n",
       "      <td>NaN</td>\n",
       "      <td>NaN</td>\n",
       "      <td>NaN</td>\n",
       "    </tr>\n",
       "    <tr>\n",
       "      <th>TAAGAGAGTATAATGG-92</th>\n",
       "      <td>healthy_skin</td>\n",
       "      <td>S5</td>\n",
       "      <td>SKN8105200</td>\n",
       "      <td>Dermis</td>\n",
       "      <td>non_lesion</td>\n",
       "      <td>Female</td>\n",
       "      <td>92</td>\n",
       "      <td>106</td>\n",
       "      <td>NaN</td>\n",
       "      <td>NaN</td>\n",
       "      <td>NaN</td>\n",
       "      <td>NaN</td>\n",
       "      <td>NaN</td>\n",
       "    </tr>\n",
       "    <tr>\n",
       "      <th>AGCTCCTTCCCTCTTT-92</th>\n",
       "      <td>healthy_skin</td>\n",
       "      <td>S5</td>\n",
       "      <td>SKN8105200</td>\n",
       "      <td>Dermis</td>\n",
       "      <td>non_lesion</td>\n",
       "      <td>Female</td>\n",
       "      <td>92</td>\n",
       "      <td>108</td>\n",
       "      <td>NaN</td>\n",
       "      <td>NaN</td>\n",
       "      <td>NaN</td>\n",
       "      <td>NaN</td>\n",
       "      <td>NaN</td>\n",
       "    </tr>\n",
       "  </tbody>\n",
       "</table>\n",
       "<p>646559 rows × 13 columns</p>\n",
       "</div>"
      ],
      "text/plain": [
       "                      sample_type Donor        Sanger_ID  tissue        site  \\\n",
       "CACCACTAGCCCTAAT-0   healthy_skin    S1  4820STDY7388991  Dermis  non_lesion   \n",
       "TGCTACCAGCGCCTCA-0   healthy_skin    S1  4820STDY7388991  Dermis  non_lesion   \n",
       "AATCCAGAGGTGATAT-0   healthy_skin    S1  4820STDY7388991  Dermis  non_lesion   \n",
       "CAACCAAGTGCAGACA-0   healthy_skin    S1  4820STDY7388991  Dermis  non_lesion   \n",
       "GGGCATCCAGATGGCA-0   healthy_skin    S1  4820STDY7388991  Dermis  non_lesion   \n",
       "...                           ...   ...              ...     ...         ...   \n",
       "CTGATCCTCCGATATG-92  healthy_skin    S5       SKN8105200  Dermis  non_lesion   \n",
       "TGCTACCCATCTATGG-92  healthy_skin    S5       SKN8105200  Dermis  non_lesion   \n",
       "AGCCTAAGTTTGTTTC-92  healthy_skin    S5       SKN8105200  Dermis  non_lesion   \n",
       "TAAGAGAGTATAATGG-92  healthy_skin    S5       SKN8105200  Dermis  non_lesion   \n",
       "AGCTCCTTCCCTCTTT-92  healthy_skin    S5       SKN8105200  Dermis  non_lesion   \n",
       "\n",
       "                        Sex batch  n_counts mad_prd        ds   mad_MED  \\\n",
       "CACCACTAGCCCTAAT-0   Female     0     46398   False  0.284768  0.098634   \n",
       "TGCTACCAGCGCCTCA-0   Female     0     45420   False  0.094675  0.098634   \n",
       "AATCCAGAGGTGATAT-0   Female     0     44099   False  0.080645  0.098634   \n",
       "CAACCAAGTGCAGACA-0   Female     0     39982   False  0.094675  0.098634   \n",
       "GGGCATCCAGATGGCA-0   Female     0     39492   False  0.153374  0.098634   \n",
       "...                     ...   ...       ...     ...       ...       ...   \n",
       "CTGATCCTCCGATATG-92  Female    92       114     NaN       NaN       NaN   \n",
       "TGCTACCCATCTATGG-92  Female    92       104     NaN       NaN       NaN   \n",
       "AGCCTAAGTTTGTTTC-92  Female    92        37     NaN       NaN       NaN   \n",
       "TAAGAGAGTATAATGG-92  Female    92       106     NaN       NaN       NaN   \n",
       "AGCTCCTTCCCTCTTT-92  Female    92       108     NaN       NaN       NaN   \n",
       "\n",
       "                      mad_MAD   mad_thr  \n",
       "CACCACTAGCCCTAAT-0   0.060705  0.341455  \n",
       "TGCTACCAGCGCCTCA-0   0.060705  0.341455  \n",
       "AATCCAGAGGTGATAT-0   0.060705  0.341455  \n",
       "CAACCAAGTGCAGACA-0   0.060705  0.341455  \n",
       "GGGCATCCAGATGGCA-0   0.060705  0.341455  \n",
       "...                       ...       ...  \n",
       "CTGATCCTCCGATATG-92       NaN       NaN  \n",
       "TGCTACCCATCTATGG-92       NaN       NaN  \n",
       "AGCCTAAGTTTGTTTC-92       NaN       NaN  \n",
       "TAAGAGAGTATAATGG-92       NaN       NaN  \n",
       "AGCTCCTTCCCTCTTT-92       NaN       NaN  \n",
       "\n",
       "[646559 rows x 13 columns]"
      ]
     },
     "execution_count": 11,
     "metadata": {},
     "output_type": "execute_result"
    }
   ],
   "source": [
    "adata.obs"
   ]
  },
  {
   "cell_type": "code",
   "execution_count": 64,
   "id": "9f605c63-b607-48ba-b426-a210767302cf",
   "metadata": {
    "tags": []
   },
   "outputs": [],
   "source": [
    "for column in adata.obs.select_dtypes(include=['object']).columns:\n",
    "    adata.obs[column] = adata.obs[column].astype(str)"
   ]
  },
  {
   "cell_type": "code",
   "execution_count": 65,
   "id": "3b9485da-c157-44f4-84a9-850f39260935",
   "metadata": {
    "tags": []
   },
   "outputs": [],
   "source": [
    "adata.write_h5ad('/lustre/scratch126/cellgen/team298/ab72/CTCL/skinatlas_cellbender_raw_by_pasha_17_5_db.h5ad')"
   ]
  },
  {
   "cell_type": "code",
   "execution_count": 12,
   "id": "cc44005b-0d42-4bb9-9e0f-14e2a56e610a",
   "metadata": {
    "tags": []
   },
   "outputs": [
    {
     "data": {
      "text/plain": [
       "mad_prd\n",
       "False    172098\n",
       "True       1481\n",
       "Name: count, dtype: int64"
      ]
     },
     "execution_count": 12,
     "metadata": {},
     "output_type": "execute_result"
    }
   ],
   "source": [
    "adata.obs['mad_prd'].value_counts()"
   ]
  },
  {
   "cell_type": "code",
   "execution_count": 81,
   "id": "a210fbdc-d029-476c-85a8-76e77bd18a4b",
   "metadata": {
    "tags": []
   },
   "outputs": [
    {
     "data": {
      "text/html": [
       "<div>\n",
       "<style scoped>\n",
       "    .dataframe tbody tr th:only-of-type {\n",
       "        vertical-align: middle;\n",
       "    }\n",
       "\n",
       "    .dataframe tbody tr th {\n",
       "        vertical-align: top;\n",
       "    }\n",
       "\n",
       "    .dataframe thead th {\n",
       "        text-align: right;\n",
       "    }\n",
       "</style>\n",
       "<table border=\"1\" class=\"dataframe\">\n",
       "  <thead>\n",
       "    <tr style=\"text-align: right;\">\n",
       "      <th></th>\n",
       "      <th>sample_type</th>\n",
       "      <th>Donor</th>\n",
       "      <th>Sanger_ID</th>\n",
       "      <th>tissue</th>\n",
       "      <th>site</th>\n",
       "      <th>Sex</th>\n",
       "      <th>batch</th>\n",
       "      <th>n_counts</th>\n",
       "      <th>mad_prd</th>\n",
       "      <th>ds</th>\n",
       "      <th>mad_MED</th>\n",
       "      <th>mad_MAD</th>\n",
       "      <th>mad_thr</th>\n",
       "    </tr>\n",
       "  </thead>\n",
       "  <tbody>\n",
       "    <tr>\n",
       "      <th>CACCACTAGCCCTAAT-0</th>\n",
       "      <td>healthy_skin</td>\n",
       "      <td>S1</td>\n",
       "      <td>4820STDY7388991</td>\n",
       "      <td>Dermis</td>\n",
       "      <td>non_lesion</td>\n",
       "      <td>Female</td>\n",
       "      <td>0</td>\n",
       "      <td>46398</td>\n",
       "      <td>False</td>\n",
       "      <td>0.284768</td>\n",
       "      <td>0.098634</td>\n",
       "      <td>0.060705</td>\n",
       "      <td>0.341455</td>\n",
       "    </tr>\n",
       "    <tr>\n",
       "      <th>TGCTACCAGCGCCTCA-0</th>\n",
       "      <td>healthy_skin</td>\n",
       "      <td>S1</td>\n",
       "      <td>4820STDY7388991</td>\n",
       "      <td>Dermis</td>\n",
       "      <td>non_lesion</td>\n",
       "      <td>Female</td>\n",
       "      <td>0</td>\n",
       "      <td>45420</td>\n",
       "      <td>False</td>\n",
       "      <td>0.094675</td>\n",
       "      <td>0.098634</td>\n",
       "      <td>0.060705</td>\n",
       "      <td>0.341455</td>\n",
       "    </tr>\n",
       "    <tr>\n",
       "      <th>AATCCAGAGGTGATAT-0</th>\n",
       "      <td>healthy_skin</td>\n",
       "      <td>S1</td>\n",
       "      <td>4820STDY7388991</td>\n",
       "      <td>Dermis</td>\n",
       "      <td>non_lesion</td>\n",
       "      <td>Female</td>\n",
       "      <td>0</td>\n",
       "      <td>44099</td>\n",
       "      <td>False</td>\n",
       "      <td>0.087324</td>\n",
       "      <td>0.098634</td>\n",
       "      <td>0.060705</td>\n",
       "      <td>0.341455</td>\n",
       "    </tr>\n",
       "    <tr>\n",
       "      <th>CAACCAAGTGCAGACA-0</th>\n",
       "      <td>healthy_skin</td>\n",
       "      <td>S1</td>\n",
       "      <td>4820STDY7388991</td>\n",
       "      <td>Dermis</td>\n",
       "      <td>non_lesion</td>\n",
       "      <td>Female</td>\n",
       "      <td>0</td>\n",
       "      <td>39982</td>\n",
       "      <td>False</td>\n",
       "      <td>0.098634</td>\n",
       "      <td>0.098634</td>\n",
       "      <td>0.060705</td>\n",
       "      <td>0.341455</td>\n",
       "    </tr>\n",
       "    <tr>\n",
       "      <th>GGGCATCCAGATGGCA-0</th>\n",
       "      <td>healthy_skin</td>\n",
       "      <td>S1</td>\n",
       "      <td>4820STDY7388991</td>\n",
       "      <td>Dermis</td>\n",
       "      <td>non_lesion</td>\n",
       "      <td>Female</td>\n",
       "      <td>0</td>\n",
       "      <td>39492</td>\n",
       "      <td>False</td>\n",
       "      <td>0.153374</td>\n",
       "      <td>0.098634</td>\n",
       "      <td>0.060705</td>\n",
       "      <td>0.341455</td>\n",
       "    </tr>\n",
       "    <tr>\n",
       "      <th>...</th>\n",
       "      <td>...</td>\n",
       "      <td>...</td>\n",
       "      <td>...</td>\n",
       "      <td>...</td>\n",
       "      <td>...</td>\n",
       "      <td>...</td>\n",
       "      <td>...</td>\n",
       "      <td>...</td>\n",
       "      <td>...</td>\n",
       "      <td>...</td>\n",
       "      <td>...</td>\n",
       "      <td>...</td>\n",
       "      <td>...</td>\n",
       "    </tr>\n",
       "    <tr>\n",
       "      <th>CTGATCCTCCGATATG-92</th>\n",
       "      <td>healthy_skin</td>\n",
       "      <td>S5</td>\n",
       "      <td>SKN8105200</td>\n",
       "      <td>Dermis</td>\n",
       "      <td>non_lesion</td>\n",
       "      <td>Female</td>\n",
       "      <td>92</td>\n",
       "      <td>114</td>\n",
       "      <td>NaN</td>\n",
       "      <td>NaN</td>\n",
       "      <td>NaN</td>\n",
       "      <td>NaN</td>\n",
       "      <td>NaN</td>\n",
       "    </tr>\n",
       "    <tr>\n",
       "      <th>TGCTACCCATCTATGG-92</th>\n",
       "      <td>healthy_skin</td>\n",
       "      <td>S5</td>\n",
       "      <td>SKN8105200</td>\n",
       "      <td>Dermis</td>\n",
       "      <td>non_lesion</td>\n",
       "      <td>Female</td>\n",
       "      <td>92</td>\n",
       "      <td>104</td>\n",
       "      <td>NaN</td>\n",
       "      <td>NaN</td>\n",
       "      <td>NaN</td>\n",
       "      <td>NaN</td>\n",
       "      <td>NaN</td>\n",
       "    </tr>\n",
       "    <tr>\n",
       "      <th>AGCCTAAGTTTGTTTC-92</th>\n",
       "      <td>healthy_skin</td>\n",
       "      <td>S5</td>\n",
       "      <td>SKN8105200</td>\n",
       "      <td>Dermis</td>\n",
       "      <td>non_lesion</td>\n",
       "      <td>Female</td>\n",
       "      <td>92</td>\n",
       "      <td>37</td>\n",
       "      <td>NaN</td>\n",
       "      <td>NaN</td>\n",
       "      <td>NaN</td>\n",
       "      <td>NaN</td>\n",
       "      <td>NaN</td>\n",
       "    </tr>\n",
       "    <tr>\n",
       "      <th>TAAGAGAGTATAATGG-92</th>\n",
       "      <td>healthy_skin</td>\n",
       "      <td>S5</td>\n",
       "      <td>SKN8105200</td>\n",
       "      <td>Dermis</td>\n",
       "      <td>non_lesion</td>\n",
       "      <td>Female</td>\n",
       "      <td>92</td>\n",
       "      <td>106</td>\n",
       "      <td>NaN</td>\n",
       "      <td>NaN</td>\n",
       "      <td>NaN</td>\n",
       "      <td>NaN</td>\n",
       "      <td>NaN</td>\n",
       "    </tr>\n",
       "    <tr>\n",
       "      <th>AGCTCCTTCCCTCTTT-92</th>\n",
       "      <td>healthy_skin</td>\n",
       "      <td>S5</td>\n",
       "      <td>SKN8105200</td>\n",
       "      <td>Dermis</td>\n",
       "      <td>non_lesion</td>\n",
       "      <td>Female</td>\n",
       "      <td>92</td>\n",
       "      <td>108</td>\n",
       "      <td>NaN</td>\n",
       "      <td>NaN</td>\n",
       "      <td>NaN</td>\n",
       "      <td>NaN</td>\n",
       "      <td>NaN</td>\n",
       "    </tr>\n",
       "  </tbody>\n",
       "</table>\n",
       "<p>646559 rows × 13 columns</p>\n",
       "</div>"
      ],
      "text/plain": [
       "                      sample_type Donor        Sanger_ID  tissue        site  \\\n",
       "CACCACTAGCCCTAAT-0   healthy_skin    S1  4820STDY7388991  Dermis  non_lesion   \n",
       "TGCTACCAGCGCCTCA-0   healthy_skin    S1  4820STDY7388991  Dermis  non_lesion   \n",
       "AATCCAGAGGTGATAT-0   healthy_skin    S1  4820STDY7388991  Dermis  non_lesion   \n",
       "CAACCAAGTGCAGACA-0   healthy_skin    S1  4820STDY7388991  Dermis  non_lesion   \n",
       "GGGCATCCAGATGGCA-0   healthy_skin    S1  4820STDY7388991  Dermis  non_lesion   \n",
       "...                           ...   ...              ...     ...         ...   \n",
       "CTGATCCTCCGATATG-92  healthy_skin    S5       SKN8105200  Dermis  non_lesion   \n",
       "TGCTACCCATCTATGG-92  healthy_skin    S5       SKN8105200  Dermis  non_lesion   \n",
       "AGCCTAAGTTTGTTTC-92  healthy_skin    S5       SKN8105200  Dermis  non_lesion   \n",
       "TAAGAGAGTATAATGG-92  healthy_skin    S5       SKN8105200  Dermis  non_lesion   \n",
       "AGCTCCTTCCCTCTTT-92  healthy_skin    S5       SKN8105200  Dermis  non_lesion   \n",
       "\n",
       "                        Sex batch  n_counts mad_prd        ds   mad_MED  \\\n",
       "CACCACTAGCCCTAAT-0   Female     0     46398   False  0.284768  0.098634   \n",
       "TGCTACCAGCGCCTCA-0   Female     0     45420   False  0.094675  0.098634   \n",
       "AATCCAGAGGTGATAT-0   Female     0     44099   False  0.087324  0.098634   \n",
       "CAACCAAGTGCAGACA-0   Female     0     39982   False  0.098634  0.098634   \n",
       "GGGCATCCAGATGGCA-0   Female     0     39492   False  0.153374  0.098634   \n",
       "...                     ...   ...       ...     ...       ...       ...   \n",
       "CTGATCCTCCGATATG-92  Female    92       114     NaN       NaN       NaN   \n",
       "TGCTACCCATCTATGG-92  Female    92       104     NaN       NaN       NaN   \n",
       "AGCCTAAGTTTGTTTC-92  Female    92        37     NaN       NaN       NaN   \n",
       "TAAGAGAGTATAATGG-92  Female    92       106     NaN       NaN       NaN   \n",
       "AGCTCCTTCCCTCTTT-92  Female    92       108     NaN       NaN       NaN   \n",
       "\n",
       "                      mad_MAD   mad_thr  \n",
       "CACCACTAGCCCTAAT-0   0.060705  0.341455  \n",
       "TGCTACCAGCGCCTCA-0   0.060705  0.341455  \n",
       "AATCCAGAGGTGATAT-0   0.060705  0.341455  \n",
       "CAACCAAGTGCAGACA-0   0.060705  0.341455  \n",
       "GGGCATCCAGATGGCA-0   0.060705  0.341455  \n",
       "...                       ...       ...  \n",
       "CTGATCCTCCGATATG-92       NaN       NaN  \n",
       "TGCTACCCATCTATGG-92       NaN       NaN  \n",
       "AGCCTAAGTTTGTTTC-92       NaN       NaN  \n",
       "TAAGAGAGTATAATGG-92       NaN       NaN  \n",
       "AGCTCCTTCCCTCTTT-92       NaN       NaN  \n",
       "\n",
       "[646559 rows x 13 columns]"
      ]
     },
     "execution_count": 81,
     "metadata": {},
     "output_type": "execute_result"
    }
   ],
   "source": [
    "adata.obs"
   ]
  },
  {
   "cell_type": "code",
   "execution_count": 82,
   "id": "5a658145-7c54-42ba-9cb5-8c2291a8aa63",
   "metadata": {
    "tags": []
   },
   "outputs": [],
   "source": [
    "adata = adata[adata.obs['mad_prd'] != True].copy()"
   ]
  },
  {
   "cell_type": "code",
   "execution_count": 83,
   "id": "7bd1f36f-fde1-45c7-b175-3bacd009cda0",
   "metadata": {
    "tags": []
   },
   "outputs": [
    {
     "data": {
      "text/plain": [
       "AnnData object with n_obs × n_vars = 645064 × 36601\n",
       "    obs: 'sample_type', 'Donor', 'Sanger_ID', 'tissue', 'site', 'Sex', 'batch', 'n_counts', 'mad_prd', 'ds', 'mad_MED', 'mad_MAD', 'mad_thr'\n",
       "    var: 'gene_ids'"
      ]
     },
     "execution_count": 83,
     "metadata": {},
     "output_type": "execute_result"
    }
   ],
   "source": [
    "adata"
   ]
  },
  {
   "cell_type": "code",
   "execution_count": 85,
   "id": "31b6fcb1-71d3-4efd-a1fe-18dfec107554",
   "metadata": {
    "tags": []
   },
   "outputs": [
    {
     "data": {
      "text/html": [
       "<div>\n",
       "<style scoped>\n",
       "    .dataframe tbody tr th:only-of-type {\n",
       "        vertical-align: middle;\n",
       "    }\n",
       "\n",
       "    .dataframe tbody tr th {\n",
       "        vertical-align: top;\n",
       "    }\n",
       "\n",
       "    .dataframe thead th {\n",
       "        text-align: right;\n",
       "    }\n",
       "</style>\n",
       "<table border=\"1\" class=\"dataframe\">\n",
       "  <thead>\n",
       "    <tr style=\"text-align: right;\">\n",
       "      <th></th>\n",
       "      <th>sample_type</th>\n",
       "      <th>Donor</th>\n",
       "      <th>Sanger_ID</th>\n",
       "      <th>tissue</th>\n",
       "      <th>site</th>\n",
       "      <th>Sex</th>\n",
       "      <th>batch</th>\n",
       "      <th>n_counts</th>\n",
       "      <th>mad_prd</th>\n",
       "      <th>ds</th>\n",
       "      <th>mad_MED</th>\n",
       "      <th>mad_MAD</th>\n",
       "      <th>mad_thr</th>\n",
       "    </tr>\n",
       "  </thead>\n",
       "  <tbody>\n",
       "    <tr>\n",
       "      <th>CACCACTAGCCCTAAT-0</th>\n",
       "      <td>healthy_skin</td>\n",
       "      <td>S1</td>\n",
       "      <td>4820STDY7388991</td>\n",
       "      <td>Dermis</td>\n",
       "      <td>non_lesion</td>\n",
       "      <td>Female</td>\n",
       "      <td>0</td>\n",
       "      <td>46398</td>\n",
       "      <td>False</td>\n",
       "      <td>0.284768</td>\n",
       "      <td>0.098634</td>\n",
       "      <td>0.060705</td>\n",
       "      <td>0.341455</td>\n",
       "    </tr>\n",
       "    <tr>\n",
       "      <th>TGCTACCAGCGCCTCA-0</th>\n",
       "      <td>healthy_skin</td>\n",
       "      <td>S1</td>\n",
       "      <td>4820STDY7388991</td>\n",
       "      <td>Dermis</td>\n",
       "      <td>non_lesion</td>\n",
       "      <td>Female</td>\n",
       "      <td>0</td>\n",
       "      <td>45420</td>\n",
       "      <td>False</td>\n",
       "      <td>0.094675</td>\n",
       "      <td>0.098634</td>\n",
       "      <td>0.060705</td>\n",
       "      <td>0.341455</td>\n",
       "    </tr>\n",
       "    <tr>\n",
       "      <th>AATCCAGAGGTGATAT-0</th>\n",
       "      <td>healthy_skin</td>\n",
       "      <td>S1</td>\n",
       "      <td>4820STDY7388991</td>\n",
       "      <td>Dermis</td>\n",
       "      <td>non_lesion</td>\n",
       "      <td>Female</td>\n",
       "      <td>0</td>\n",
       "      <td>44099</td>\n",
       "      <td>False</td>\n",
       "      <td>0.087324</td>\n",
       "      <td>0.098634</td>\n",
       "      <td>0.060705</td>\n",
       "      <td>0.341455</td>\n",
       "    </tr>\n",
       "    <tr>\n",
       "      <th>CAACCAAGTGCAGACA-0</th>\n",
       "      <td>healthy_skin</td>\n",
       "      <td>S1</td>\n",
       "      <td>4820STDY7388991</td>\n",
       "      <td>Dermis</td>\n",
       "      <td>non_lesion</td>\n",
       "      <td>Female</td>\n",
       "      <td>0</td>\n",
       "      <td>39982</td>\n",
       "      <td>False</td>\n",
       "      <td>0.098634</td>\n",
       "      <td>0.098634</td>\n",
       "      <td>0.060705</td>\n",
       "      <td>0.341455</td>\n",
       "    </tr>\n",
       "    <tr>\n",
       "      <th>GGGCATCCAGATGGCA-0</th>\n",
       "      <td>healthy_skin</td>\n",
       "      <td>S1</td>\n",
       "      <td>4820STDY7388991</td>\n",
       "      <td>Dermis</td>\n",
       "      <td>non_lesion</td>\n",
       "      <td>Female</td>\n",
       "      <td>0</td>\n",
       "      <td>39492</td>\n",
       "      <td>False</td>\n",
       "      <td>0.153374</td>\n",
       "      <td>0.098634</td>\n",
       "      <td>0.060705</td>\n",
       "      <td>0.341455</td>\n",
       "    </tr>\n",
       "    <tr>\n",
       "      <th>...</th>\n",
       "      <td>...</td>\n",
       "      <td>...</td>\n",
       "      <td>...</td>\n",
       "      <td>...</td>\n",
       "      <td>...</td>\n",
       "      <td>...</td>\n",
       "      <td>...</td>\n",
       "      <td>...</td>\n",
       "      <td>...</td>\n",
       "      <td>...</td>\n",
       "      <td>...</td>\n",
       "      <td>...</td>\n",
       "      <td>...</td>\n",
       "    </tr>\n",
       "    <tr>\n",
       "      <th>CTGATCCTCCGATATG-92</th>\n",
       "      <td>healthy_skin</td>\n",
       "      <td>S5</td>\n",
       "      <td>SKN8105200</td>\n",
       "      <td>Dermis</td>\n",
       "      <td>non_lesion</td>\n",
       "      <td>Female</td>\n",
       "      <td>92</td>\n",
       "      <td>114</td>\n",
       "      <td>NaN</td>\n",
       "      <td>NaN</td>\n",
       "      <td>NaN</td>\n",
       "      <td>NaN</td>\n",
       "      <td>NaN</td>\n",
       "    </tr>\n",
       "    <tr>\n",
       "      <th>TGCTACCCATCTATGG-92</th>\n",
       "      <td>healthy_skin</td>\n",
       "      <td>S5</td>\n",
       "      <td>SKN8105200</td>\n",
       "      <td>Dermis</td>\n",
       "      <td>non_lesion</td>\n",
       "      <td>Female</td>\n",
       "      <td>92</td>\n",
       "      <td>104</td>\n",
       "      <td>NaN</td>\n",
       "      <td>NaN</td>\n",
       "      <td>NaN</td>\n",
       "      <td>NaN</td>\n",
       "      <td>NaN</td>\n",
       "    </tr>\n",
       "    <tr>\n",
       "      <th>AGCCTAAGTTTGTTTC-92</th>\n",
       "      <td>healthy_skin</td>\n",
       "      <td>S5</td>\n",
       "      <td>SKN8105200</td>\n",
       "      <td>Dermis</td>\n",
       "      <td>non_lesion</td>\n",
       "      <td>Female</td>\n",
       "      <td>92</td>\n",
       "      <td>37</td>\n",
       "      <td>NaN</td>\n",
       "      <td>NaN</td>\n",
       "      <td>NaN</td>\n",
       "      <td>NaN</td>\n",
       "      <td>NaN</td>\n",
       "    </tr>\n",
       "    <tr>\n",
       "      <th>TAAGAGAGTATAATGG-92</th>\n",
       "      <td>healthy_skin</td>\n",
       "      <td>S5</td>\n",
       "      <td>SKN8105200</td>\n",
       "      <td>Dermis</td>\n",
       "      <td>non_lesion</td>\n",
       "      <td>Female</td>\n",
       "      <td>92</td>\n",
       "      <td>106</td>\n",
       "      <td>NaN</td>\n",
       "      <td>NaN</td>\n",
       "      <td>NaN</td>\n",
       "      <td>NaN</td>\n",
       "      <td>NaN</td>\n",
       "    </tr>\n",
       "    <tr>\n",
       "      <th>AGCTCCTTCCCTCTTT-92</th>\n",
       "      <td>healthy_skin</td>\n",
       "      <td>S5</td>\n",
       "      <td>SKN8105200</td>\n",
       "      <td>Dermis</td>\n",
       "      <td>non_lesion</td>\n",
       "      <td>Female</td>\n",
       "      <td>92</td>\n",
       "      <td>108</td>\n",
       "      <td>NaN</td>\n",
       "      <td>NaN</td>\n",
       "      <td>NaN</td>\n",
       "      <td>NaN</td>\n",
       "      <td>NaN</td>\n",
       "    </tr>\n",
       "  </tbody>\n",
       "</table>\n",
       "<p>645064 rows × 13 columns</p>\n",
       "</div>"
      ],
      "text/plain": [
       "                      sample_type Donor        Sanger_ID  tissue        site  \\\n",
       "CACCACTAGCCCTAAT-0   healthy_skin    S1  4820STDY7388991  Dermis  non_lesion   \n",
       "TGCTACCAGCGCCTCA-0   healthy_skin    S1  4820STDY7388991  Dermis  non_lesion   \n",
       "AATCCAGAGGTGATAT-0   healthy_skin    S1  4820STDY7388991  Dermis  non_lesion   \n",
       "CAACCAAGTGCAGACA-0   healthy_skin    S1  4820STDY7388991  Dermis  non_lesion   \n",
       "GGGCATCCAGATGGCA-0   healthy_skin    S1  4820STDY7388991  Dermis  non_lesion   \n",
       "...                           ...   ...              ...     ...         ...   \n",
       "CTGATCCTCCGATATG-92  healthy_skin    S5       SKN8105200  Dermis  non_lesion   \n",
       "TGCTACCCATCTATGG-92  healthy_skin    S5       SKN8105200  Dermis  non_lesion   \n",
       "AGCCTAAGTTTGTTTC-92  healthy_skin    S5       SKN8105200  Dermis  non_lesion   \n",
       "TAAGAGAGTATAATGG-92  healthy_skin    S5       SKN8105200  Dermis  non_lesion   \n",
       "AGCTCCTTCCCTCTTT-92  healthy_skin    S5       SKN8105200  Dermis  non_lesion   \n",
       "\n",
       "                        Sex batch  n_counts mad_prd        ds   mad_MED  \\\n",
       "CACCACTAGCCCTAAT-0   Female     0     46398   False  0.284768  0.098634   \n",
       "TGCTACCAGCGCCTCA-0   Female     0     45420   False  0.094675  0.098634   \n",
       "AATCCAGAGGTGATAT-0   Female     0     44099   False  0.087324  0.098634   \n",
       "CAACCAAGTGCAGACA-0   Female     0     39982   False  0.098634  0.098634   \n",
       "GGGCATCCAGATGGCA-0   Female     0     39492   False  0.153374  0.098634   \n",
       "...                     ...   ...       ...     ...       ...       ...   \n",
       "CTGATCCTCCGATATG-92  Female    92       114     NaN       NaN       NaN   \n",
       "TGCTACCCATCTATGG-92  Female    92       104     NaN       NaN       NaN   \n",
       "AGCCTAAGTTTGTTTC-92  Female    92        37     NaN       NaN       NaN   \n",
       "TAAGAGAGTATAATGG-92  Female    92       106     NaN       NaN       NaN   \n",
       "AGCTCCTTCCCTCTTT-92  Female    92       108     NaN       NaN       NaN   \n",
       "\n",
       "                      mad_MAD   mad_thr  \n",
       "CACCACTAGCCCTAAT-0   0.060705  0.341455  \n",
       "TGCTACCAGCGCCTCA-0   0.060705  0.341455  \n",
       "AATCCAGAGGTGATAT-0   0.060705  0.341455  \n",
       "CAACCAAGTGCAGACA-0   0.060705  0.341455  \n",
       "GGGCATCCAGATGGCA-0   0.060705  0.341455  \n",
       "...                       ...       ...  \n",
       "CTGATCCTCCGATATG-92       NaN       NaN  \n",
       "TGCTACCCATCTATGG-92       NaN       NaN  \n",
       "AGCCTAAGTTTGTTTC-92       NaN       NaN  \n",
       "TAAGAGAGTATAATGG-92       NaN       NaN  \n",
       "AGCTCCTTCCCTCTTT-92       NaN       NaN  \n",
       "\n",
       "[645064 rows x 13 columns]"
      ]
     },
     "execution_count": 85,
     "metadata": {},
     "output_type": "execute_result"
    }
   ],
   "source": [
    "adata.obs"
   ]
  },
  {
   "cell_type": "code",
   "execution_count": 86,
   "id": "225712b0-80f8-4baa-9f88-b763c79407fd",
   "metadata": {
    "tags": []
   },
   "outputs": [],
   "source": [
    "for column in adata.obs.select_dtypes(include=['object']).columns:\n",
    "    adata.obs[column] = adata.obs[column].astype(str)"
   ]
  },
  {
   "cell_type": "code",
   "execution_count": 87,
   "id": "35ac5bf2-78d7-4312-af33-c27c41976e81",
   "metadata": {
    "tags": []
   },
   "outputs": [],
   "source": [
    "adata.write_h5ad('/lustre/scratch126/cellgen/team298/ab72/CTCL/skinatlas_cellbender_raw_by_pasha_17_5_db_removed.h5ad')"
   ]
  },
  {
   "cell_type": "code",
   "execution_count": 88,
   "id": "e49a3c41-8fe3-424e-8f43-bb65684e76c3",
   "metadata": {
    "tags": []
   },
   "outputs": [
    {
     "name": "stdout",
     "output_type": "stream",
     "text": [
      "filtered out 93389 cells that have less than 200 genes expressed\n",
      "filtered out 5576 genes that are detected in less than 3 cells\n"
     ]
    }
   ],
   "source": [
    "sc.pp.filter_cells(adata, min_genes=200)\n",
    "sc.pp.filter_genes(adata, min_cells=3)\n",
    "mito_genes = adata.var_names.str.startswith('MT-')\n",
    "adata.obs['percent_mito'] = np.sum(adata[:, mito_genes].X, axis=1).A1 / np.sum(adata.X, axis=1).A1\n",
    "adata.obs['n_counts'] = adata.X.sum(axis=1).A1"
   ]
  },
  {
   "cell_type": "code",
   "execution_count": 89,
   "id": "5735d697-b416-49d7-8ac4-94c0a2b83bdd",
   "metadata": {
    "tags": []
   },
   "outputs": [
    {
     "data": {
      "image/png": "[encoded data removed]",
      "text/plain": [
       "<Figure size 1511.11x500 with 3 Axes>"
      ]
     },
     "metadata": {},
     "output_type": "display_data"
    }
   ],
   "source": [
    "sc.pl.violin(adata, ['n_genes', 'n_counts', 'percent_mito'],\n",
    "             jitter=0.4, multi_panel=True)"
   ]
  },
  {
   "cell_type": "code",
   "execution_count": 47,
   "id": "ffefcd20-9061-40f1-908e-be9ce5c41702",
   "metadata": {
    "tags": []
   },
   "outputs": [
    {
     "data": {
      "text/plain": [
       "<Axes: title={'center': 'n genes'}, xlabel='n_counts', ylabel='n_genes'>"
      ]
     },
     "execution_count": 47,
     "metadata": {},
     "output_type": "execute_result"
    },
    {
     "data": {
      "image/png": "[encoded data removed]",
      "text/plain": [
       "<Figure size 1500x500 with 4 Axes>"
      ]
     },
     "metadata": {},
     "output_type": "display_data"
    }
   ],
   "source": [
    "fig, (ax1, ax2) = plt.subplots(1, 2, figsize=(15, 5))\n",
    "sc.pl.scatter(adata, x='n_counts', y='n_genes', color='n_genes', show=False, ax=ax1)\n",
    "sc.pl.scatter(adata[adata.obs['n_counts'] < 10000], x='n_counts', y='n_genes', color='n_genes', show=False, ax=ax2)"
   ]
  },
  {
   "cell_type": "code",
   "execution_count": 48,
   "id": "1ff56610-3feb-41a3-a4e7-d9d2df7915f1",
   "metadata": {
    "tags": []
   },
   "outputs": [
    {
     "data": {
      "text/plain": [
       "<Axes: title={'center': 'percent mito'}, xlabel='n_counts', ylabel='percent_mito'>"
      ]
     },
     "execution_count": 48,
     "metadata": {},
     "output_type": "execute_result"
    },
    {
     "data": {
      "image/png": "[encoded data removed]",
      "text/plain": [
       "<Figure size 1500x500 with 4 Axes>"
      ]
     },
     "metadata": {},
     "output_type": "display_data"
    }
   ],
   "source": [
    "fig, (ax1, ax2) = plt.subplots(1, 2, figsize=(15, 5))\n",
    "sc.pl.scatter(adata, x='n_counts', y='percent_mito', color='percent_mito', show=False, ax=ax1)\n",
    "sc.pl.scatter(adata[adata.obs['n_counts'] < 10000], x='n_counts', y='percent_mito', color='percent_mito', show=False, ax=ax2)"
   ]
  },
  {
   "cell_type": "code",
   "execution_count": 90,
   "id": "adaf6323-46e7-4666-8352-82c4bb30cb2d",
   "metadata": {
    "tags": []
   },
   "outputs": [],
   "source": [
    "adata = adata[adata.obs['n_genes'] < 6000, :]\n",
    "adata = adata[adata.obs['n_genes'] > 400, :]\n",
    "adata = adata[adata.obs['n_counts'] > 1000, :]\n",
    "adata = adata[adata.obs['percent_mito'] < 0.2, :]"
   ]
  },
  {
   "cell_type": "code",
   "execution_count": 91,
   "id": "20b6f709-e70f-4908-9a5f-23083f1ce44d",
   "metadata": {
    "tags": []
   },
   "outputs": [
    {
     "data": {
      "text/plain": [
       "View of AnnData object with n_obs × n_vars = 466380 × 31025\n",
       "    obs: 'sample_type', 'Donor', 'Sanger_ID', 'tissue', 'site', 'Sex', 'batch', 'n_counts', 'mad_prd', 'ds', 'mad_MED', 'mad_MAD', 'mad_thr', 'n_genes', 'percent_mito'\n",
       "    var: 'gene_ids', 'n_cells'"
      ]
     },
     "execution_count": 91,
     "metadata": {},
     "output_type": "execute_result"
    }
   ],
   "source": [
    "adata"
   ]
  },
  {
   "cell_type": "code",
   "execution_count": 92,
   "id": "bc81ae14-7bed-4605-b4bf-d04e7910d4ca",
   "metadata": {
    "tags": []
   },
   "outputs": [],
   "source": [
    "adata.write_h5ad('/lustre/scratch126/cellgen/team298/ab72/CTCL/skinatlas_cellbender_raw_by_pasha_17_5_db_QC_removed.h5ad')"
   ]
  },
  {
   "cell_type": "code",
   "execution_count": 2,
   "id": "d1eaaefb-85a5-4db3-b589-a2454d9a29af",
   "metadata": {
    "tags": []
   },
   "outputs": [],
   "source": [
    "import scanpy as sc\n",
    "adata=sc.read('/lustre/scratch126/cellgen/team298/ab72/CTCL/ctcl_cellbender_raw_by_pasha_15_5_QC_filtered.h5ad')"
   ]
  },
  {
   "cell_type": "code",
   "execution_count": 3,
   "id": "58f5aa18-26ee-4acd-b4a0-620e5d78714d",
   "metadata": {
    "tags": []
   },
   "outputs": [
    {
     "data": {
      "text/plain": [
       "AnnData object with n_obs × n_vars = 183672 × 29631\n",
       "    obs: 'sample_type', 'Donor', 'Sanger_ID', 'batch', 'donor_lane', 'mad_prd', 'ds', 'mad_MED', 'mad_MAD', 'mad_thr', 'n_genes', 'percent_mito', 'n_counts', 'tech'\n",
       "    var: 'gene_ids', 'feature_types', 'n_cells'"
      ]
     },
     "execution_count": 3,
     "metadata": {},
     "output_type": "execute_result"
    }
   ],
   "source": [
    "adata"
   ]
  },
  {
   "cell_type": "code",
   "execution_count": null,
   "id": "48c47f52-295b-4c97-8b28-c57a41cf9e3e",
   "metadata": {},
   "outputs": [],
   "source": []
  }
 ],
 "metadata": {
  "kernelspec": {
   "display_name": "“multiome”",
   "language": "python",
   "name": "multiome"
  },
  "language_info": {
   "codemirror_mode": {
    "name": "ipython",
    "version": 3
   },
   "file_extension": ".py",
   "mimetype": "text/x-python",
   "name": "python",
   "nbconvert_exporter": "python",
   "pygments_lexer": "ipython3",
   "version": "3.10.4"
  }
 },
 "nbformat": 4,
 "nbformat_minor": 5
}
